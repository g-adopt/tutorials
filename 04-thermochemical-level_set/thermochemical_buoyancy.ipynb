{
 "cells": [
  {
   "cell_type": "markdown",
   "id": "5ef0e081",
   "metadata": {},
   "source": [
    "Thermochemical convection\n",
    "===========================\n",
    "\n",
    "Rationale\n",
    "---------\n",
    "\n",
    "Our previous tutorial introduced multi-material simulations in G-ADOPT by\n",
    "investigating compositional effects on buoyancy. We extend that tutorial to include\n",
    "thermal effects, thereby simulating thermochemical convection, which is, for example,\n",
    "essential to modelling Earth's mantle evolution.\n",
    "\n",
    "This example\n",
    "------------\n",
    "\n",
    "Here, we consider the entrainment of a thin, compositionally dense layer by thermal\n",
    "convection presented in [van Keken et al. (1997)]\n",
    "(https://agupubs.onlinelibrary.wiley.com/doi/abs/10.1029/97JB01353). Inside a 2-D\n",
    "domain heated from below, a denser material sits at the bottom boundary beneath a\n",
    "lighter material. Whilst the compositional stratification is stable, heat transfer\n",
    "from the boundary generates positive buoyancy in the denser material, allowing thin\n",
    "tendrils to be entrained in the convective circulation. To resolve these tendrils\n",
    "using the level-set approach, significant mesh refinement is needed, making the\n",
    "simulation computationally expensive. This tutorial will be updated once the\n",
    "development of adaptive mesh refinement in Firedrake is complete. We describe below\n",
    "the current implementation of this problem in G-ADOPT."
   ]
  },
  {
   "cell_type": "markdown",
   "id": "c2c60e28",
   "metadata": {},
   "source": [
    "As with all examples, the first step is to import the `gadopt` module, which\n",
    "provides access to Firedrake and associated functionality."
   ]
  },
  {
   "cell_type": "code",
   "execution_count": null,
   "id": "a2b127d5",
   "metadata": {},
   "outputs": [],
   "source": [
    "try:\n",
    "    from gadopt import *\n",
    "except ImportError:\n",
    "    !wget \"https://fem-on-colab.github.io/releases/firedrake-install-real.sh\" -O \"/tmp/firedrake-install.sh\" && bash \"/tmp/firedrake-install.sh\"\n",
    "    !pip install gadopt[demos]\n",
    "    !apt install -y gmsh\n",
    "    from gadopt import *"
   ]
  },
  {
   "cell_type": "markdown",
   "id": "cbf26d03",
   "metadata": {},
   "source": [
    "For this problem, it is useful to define a mesh with non-uniform refinement. To this\n",
    "end, we use the GMSH library to generate a mesh file in a format compatible with\n",
    "Firedrake. We specifically increase vertical resolution at the top and bottom\n",
    "boundaries of the domain."
   ]
  },
  {
   "cell_type": "code",
   "execution_count": null,
   "id": "0e669828",
   "metadata": {},
   "outputs": [],
   "source": [
    "import gmsh\n",
    "\n",
    "lx, ly = 2, 1  # Domain dimensions in x and y directions\n",
    "mesh_hor_res = lx / 100  # Uniform horizontal mesh resolution\n",
    "mesh_file = \"mesh.msh\"  # Output mesh file\n",
    "\n",
    "gmsh.initialize()\n",
    "gmsh.model.add(\"mesh\")\n",
    "\n",
    "point_1 = gmsh.model.geo.addPoint(0, 0, 0, mesh_hor_res)\n",
    "point_2 = gmsh.model.geo.addPoint(lx, 0, 0, mesh_hor_res)\n",
    "\n",
    "line_1 = gmsh.model.geo.addLine(point_1, point_2)\n",
    "\n",
    "gmsh.model.geo.extrude(\n",
    "    [(1, line_1)], 0, ly / 5, 0, numElements=[40], recombine=True\n",
    ")  # Vertical resolution: 5e-3\n",
    "\n",
    "gmsh.model.geo.extrude(\n",
    "    [(1, line_1 + 1)], 0, ly - ly / 5 - ly / 20, 0, numElements=[15], recombine=True\n",
    ")  # Vertical resolution: 5e-2\n",
    "\n",
    "gmsh.model.geo.extrude(\n",
    "    [(1, line_1 + 5)], 0, ly / 20, 0, numElements=[10], recombine=True\n",
    ")  # Vertical resolution: 5e-3\n",
    "\n",
    "gmsh.model.geo.synchronize()\n",
    "\n",
    "gmsh.model.addPhysicalGroup(1, [line_1 + 2, line_1 + 6, line_1 + 10], tag=1)\n",
    "gmsh.model.addPhysicalGroup(1, [line_1 + 3, line_1 + 7, line_1 + 11], tag=2)\n",
    "gmsh.model.addPhysicalGroup(1, [line_1], tag=3)\n",
    "gmsh.model.addPhysicalGroup(1, [line_1 + 9], tag=4)\n",
    "\n",
    "gmsh.model.addPhysicalGroup(2, [line_1 + 4, line_1 + 8, line_1 + 12], tag=1)\n",
    "\n",
    "gmsh.model.mesh.generate(2)\n",
    "\n",
    "gmsh.write(mesh_file)\n",
    "gmsh.finalize()"
   ]
  },
  {
   "cell_type": "markdown",
   "id": "9e919334",
   "metadata": {},
   "source": [
    "We next set up the mesh and function spaces and specify functions to hold our\n",
    "solutions, as in our previous tutorials."
   ]
  },
  {
   "cell_type": "code",
   "execution_count": null,
   "id": "658cd0ff",
   "metadata": {},
   "outputs": [],
   "source": [
    "mesh = Mesh(mesh_file)  # Load the GMSH mesh using Firedrake\n",
    "mesh.cartesian = True\n",
    "\n",
    "left_id, right_id, bottom_id, top_id = 1, 2, 3, 4  # Boundary IDs\n",
    "\n",
    "V = VectorFunctionSpace(mesh, \"CG\", 2)  # Velocity function space (vector)\n",
    "W = FunctionSpace(mesh, \"CG\", 1)  # Pressure function space (scalar)\n",
    "Z = MixedFunctionSpace([V, W])  # Stokes function space (mixed)\n",
    "Q = FunctionSpace(mesh, \"CG\", 2)  # Temperature function space (scalar)\n",
    "K = FunctionSpace(mesh, \"DQ\", 2)  # Level-set function space (scalar, discontinuous)\n",
    "R = FunctionSpace(mesh, \"R\", 0)  # Real space for time step\n",
    "\n",
    "z = Function(Z)  # A field over the mixed function space Z\n",
    "u, p = split(z)  # Symbolic UFL expressions for velocity and pressure\n",
    "z.subfunctions[0].rename(\"Velocity\")  # Associated Firedrake velocity function\n",
    "z.subfunctions[1].rename(\"Pressure\")  # Associated Firedrake pressure function\n",
    "T = Function(Q, name=\"Temperature\")  # Firedrake function for temperature\n",
    "psi = Function(K, name=\"Level set\")  # Firedrake function for level set"
   ]
  },
  {
   "cell_type": "markdown",
   "id": "729aee35",
   "metadata": {},
   "source": [
    "We now provide initial conditions for the level-set field. To this end, we use the\n",
    "`shapely` library to represent the initial location of the material interface and\n",
    "derive the signed-distance function. Finally, we apply the transformation to obtain a\n",
    "smooth step function profile."
   ]
  },
  {
   "cell_type": "code",
   "execution_count": null,
   "id": "cec33f9a",
   "metadata": {},
   "outputs": [],
   "source": [
    "import numpy as np  # noqa: E402\n",
    "import shapely as sl  # noqa: E402\n",
    "\n",
    "\n",
    "def straight_line(x, slope, intercept):\n",
    "    \"\"\"Straight line equation\"\"\"\n",
    "    return slope * x + intercept\n",
    "\n",
    "\n",
    "interface_slope = 0  # Slope of the interface\n",
    "material_interface_y = 0.025  # Vertical shift of the interface along the y axis\n",
    "# Group parameters defining the straight-line profile\n",
    "isd_params = (interface_slope, material_interface_y)\n",
    "\n",
    "# Shapely LineString representation of the material interface\n",
    "interface_x = np.linspace(0, lx, 1000)  # Enough points to capture the interface shape\n",
    "interface_y = straight_line(interface_x, *isd_params)\n",
    "line_string = sl.LineString([*np.column_stack((interface_x, interface_y))])\n",
    "sl.prepare(line_string)\n",
    "\n",
    "# Extract node coordinates\n",
    "node_coords_x, node_coords_y = node_coordinates(psi)\n",
    "# Determine to which material nodes belong and calculate distance to interface\n",
    "node_relation_to_curve = [\n",
    "    (\n",
    "        node_coord_y > straight_line(node_coord_x, *isd_params),\n",
    "        line_string.distance(sl.Point(node_coord_x, node_coord_y)),\n",
    "    )\n",
    "    for node_coord_x, node_coord_y in zip(node_coords_x, node_coords_y)\n",
    "]\n",
    "\n",
    "# Define the signed-distance function and overwrite its value array\n",
    "signed_dist_to_interface = Function(K)\n",
    "signed_dist_to_interface.dat.data[:] = [\n",
    "    dist if is_above else -dist for is_above, dist in node_relation_to_curve\n",
    "]\n",
    "\n",
    "# Define thickness of the hyperbolic tangent profile\n",
    "min_mesh_edge_length = 5e-3\n",
    "epsilon = Constant(min_mesh_edge_length / 4)\n",
    "\n",
    "# Initialise level set as a smooth step function\n",
    "psi.interpolate((1 + tanh(signed_dist_to_interface / 2 / epsilon)) / 2)"
   ]
  },
  {
   "cell_type": "markdown",
   "id": "cfb6e4ec",
   "metadata": {},
   "source": [
    "We next define materials present in the simulation using the `Material` class. Here,\n",
    "the problem is non-dimensionalised and can be described by the product of the\n",
    "expressions for the Rayleigh and buoyancy numbers, RaB, which is also referred to as\n",
    "compositional Rayleigh number. Therefore, we provide a value for thermal and\n",
    "compositional Rayleigh numbers to define our approximation. Material fields, such as\n",
    "RaB, are created using the `field_interface` function, which generates a unique field\n",
    "over the numerical domain based on the level-set field(s) and values or expressions\n",
    "associated with each material. At the interface between two materials, the transition\n",
    "between values or expressions can be represented as sharp or diffuse, with the latter\n",
    "using averaging schemes, such as arithmetic, geometric, and harmonic means."
   ]
  },
  {
   "cell_type": "code",
   "execution_count": null,
   "id": "c431fbcc",
   "metadata": {},
   "outputs": [],
   "source": [
    "dense_material = Material(RaB=4.5e5)\n",
    "reference_material = Material(RaB=0)\n",
    "materials = [dense_material, reference_material]\n",
    "\n",
    "Ra = 3e5  # Thermal Rayleigh number\n",
    "\n",
    "RaB = field_interface(\n",
    "    [psi], [material.RaB for material in materials], method=\"arithmetic\"\n",
    ")  # Compositional Rayleigh number, defined based on each material value and location\n",
    "\n",
    "approximation = BoussinesqApproximation(Ra, RaB=RaB)"
   ]
  },
  {
   "cell_type": "markdown",
   "id": "fa75b2a2",
   "metadata": {},
   "source": [
    "As with the previous examples, we set up an instance of the `TimestepAdaptor` class\n",
    "for controlling the time-step length (via a CFL criterion) whilst the simulation\n",
    "advances in time. We specify the initial time, initial time step $\\Delta t$, and\n",
    "output frequency (in time units)."
   ]
  },
  {
   "cell_type": "code",
   "execution_count": null,
   "id": "87ff431e",
   "metadata": {},
   "outputs": [],
   "source": [
    "time_now = 0  # Initial time\n",
    "delta_t = Function(R).assign(1e-6)  # Initial time step\n",
    "output_frequency = 1e-4  # Frequency (based on simulation time) at which to output\n",
    "t_adapt = TimestepAdaptor(\n",
    "    delta_t, u, V, target_cfl=0.6, maximum_timestep=output_frequency\n",
    ")  # Current level-set advection requires a CFL condition that should not exceed 0.6."
   ]
  },
  {
   "cell_type": "markdown",
   "id": "adfe592a",
   "metadata": {},
   "source": [
    "This problem setup has a constant pressure nullspace, which corresponds to the\n",
    "default case handled in G-ADOPT."
   ]
  },
  {
   "cell_type": "code",
   "execution_count": null,
   "id": "afa37a3c",
   "metadata": {},
   "outputs": [],
   "source": [
    "Z_nullspace = create_stokes_nullspace(Z)"
   ]
  },
  {
   "cell_type": "markdown",
   "id": "ffc19555",
   "metadata": {},
   "source": [
    "Boundary conditions are specified next: free slip on all sides, heating from below,\n",
    "and cooling from above. No boundary conditions are required for level set, as the\n",
    "numerical domain is closed."
   ]
  },
  {
   "cell_type": "code",
   "execution_count": null,
   "id": "c3eba9f2",
   "metadata": {},
   "outputs": [],
   "source": [
    "stokes_bcs = {\n",
    "    bottom_id: {\"uy\": 0},\n",
    "    top_id: {\"uy\": 0},\n",
    "    left_id: {\"ux\": 0},\n",
    "    right_id: {\"ux\": 0},\n",
    "}\n",
    "temp_bcs = {bottom_id: {\"T\": 1}, top_id: {\"T\": 0}}"
   ]
  },
  {
   "cell_type": "markdown",
   "id": "0f6abf7a",
   "metadata": {},
   "source": [
    "We move on to initialising the temperature field."
   ]
  },
  {
   "cell_type": "code",
   "execution_count": null,
   "id": "05080301",
   "metadata": {},
   "outputs": [],
   "source": [
    "X = SpatialCoordinate(mesh)  # Extract UFL representation of spatial coordinates\n",
    "\n",
    "# Calculate quantities linked to the temperature initial condition using UFL\n",
    "u0 = lx ** (7 / 3) / (1 + lx**4) ** (2 / 3) * (Ra / 2 / sqrt(pi)) ** (2 / 3)\n",
    "v0 = u0\n",
    "Q_ic = 2 * sqrt(lx / pi / u0)\n",
    "Tu = erf((1 - X[1]) / 2 * sqrt(u0 / X[0])) / 2\n",
    "Tl = 1 - 1 / 2 * erf(X[1] / 2 * sqrt(u0 / (lx - X[0])))\n",
    "Tr = 1 / 2 + Q_ic / 2 / sqrt(pi) * sqrt(v0 / (X[1] + 1)) * exp(\n",
    "    -(X[0] ** 2) * v0 / (4 * X[1] + 4)\n",
    ")\n",
    "Ts = 1 / 2 - Q_ic / 2 / sqrt(pi) * sqrt(v0 / (2 - X[1])) * exp(\n",
    "    -((lx - X[0]) ** 2) * v0 / (8 - 4 * X[1])\n",
    ")\n",
    "\n",
    "# Interpolate temperature initial condition and ensure boundary condition values\n",
    "T.interpolate(max_value(min_value(Tu + Tl + Tr + Ts - 3 / 2, 1), 0))\n",
    "DirichletBC(Q, 1, bottom_id).apply(T)\n",
    "DirichletBC(Q, 0, top_id).apply(T)"
   ]
  },
  {
   "cell_type": "markdown",
   "id": "7dc078ca",
   "metadata": {},
   "source": [
    "We now set up our output. To do so, we create the output file as a ParaView Data file\n",
    "that uses the XML-based VTK file format. We also open a file for logging, instantiate\n",
    "G-ADOPT geodynamical diagnostic utility, and define some parameters specific to this\n",
    "problem."
   ]
  },
  {
   "cell_type": "code",
   "execution_count": null,
   "id": "e68c5b72",
   "metadata": {},
   "outputs": [],
   "source": [
    "output_file = VTKFile(\"output.pvd\")\n",
    "\n",
    "plog = ParameterLog(\"params.log\", mesh)\n",
    "plog.log_str(\"step time dt u_rms entrainment\")\n",
    "\n",
    "gd = GeodynamicalDiagnostics(z, T, bottom_id, top_id)\n",
    "\n",
    "material_area = material_interface_y * lx  # Area of tracked material in the domain\n",
    "entrainment_height = 0.2  # Height above which entrainment diagnostic is calculated"
   ]
  },
  {
   "cell_type": "markdown",
   "id": "5781a0a1",
   "metadata": {},
   "source": [
    "Here, we set up the variational problem for the energy, Stokes, and level-set\n",
    "systems. The Stokes and energy systems depend on the approximation defined above,\n",
    "and the level-set system includes both advection and reinitialisation components.\n",
    "Subcycling is available for level-set advection and is mainly useful when the\n",
    "problem at hand involves multiple CFL conditions, with the CFL for level-set\n",
    "advection being the most restrictive."
   ]
  },
  {
   "cell_type": "code",
   "execution_count": null,
   "id": "43575d96",
   "metadata": {},
   "outputs": [],
   "source": [
    "energy_solver = EnergySolver(\n",
    "    T, u, approximation, delta_t, ImplicitMidpoint, bcs=temp_bcs\n",
    ")\n",
    "\n",
    "stokes_solver = StokesSolver(\n",
    "    z,\n",
    "    T,\n",
    "    approximation,\n",
    "    bcs=stokes_bcs,\n",
    "    nullspace=Z_nullspace,\n",
    "    transpose_nullspace=Z_nullspace,\n",
    ")\n",
    "\n",
    "subcycles = 1  # Number of advection solves to perform within one time step\n",
    "level_set_solver = LevelSetSolver(psi, u, delta_t, eSSPRKs10p3, subcycles, epsilon)\n",
    "# Increase the reinitialisation time step to make up for the coarseness of the mesh\n",
    "level_set_solver.reini_params[\"tstep\"] *= 20"
   ]
  },
  {
   "cell_type": "markdown",
   "id": "40253840",
   "metadata": {},
   "source": [
    "Finally, we initiate the time loop, which runs until the simulation end time is\n",
    "attained."
   ]
  },
  {
   "cell_type": "code",
   "execution_count": null,
   "id": "9d493d35",
   "metadata": {},
   "outputs": [],
   "source": [
    "step = 0  # A counter to keep track of looping\n",
    "output_counter = 0  # A counter to keep track of outputting\n",
    "time_end = 0.02  # Will be changed to 0.05 once mesh adaptivity is available\n",
    "while True:\n",
    "    # Write output\n",
    "    if time_now >= output_counter * output_frequency:\n",
    "        output_file.write(*z.subfunctions, T, psi)\n",
    "        output_counter += 1\n",
    "\n",
    "    # Update timestep\n",
    "    if time_end is not None:\n",
    "        t_adapt.maximum_timestep = min(output_frequency, time_end - time_now)\n",
    "    t_adapt.update_timestep()\n",
    "    time_now += float(delta_t)\n",
    "    step += 1\n",
    "\n",
    "    # Solve Stokes sytem\n",
    "    stokes_solver.solve()\n",
    "\n",
    "    # Temperature system\n",
    "    energy_solver.solve()\n",
    "\n",
    "    # Advect level set\n",
    "    level_set_solver.solve(step)\n",
    "\n",
    "    # Calculate proportion of material entrained above a given height\n",
    "    buoy_entr = entrainment(psi, material_area, entrainment_height)\n",
    "\n",
    "    # Log diagnostics\n",
    "    plog.log_str(f\"{step} {time_now} {float(delta_t)} {gd.u_rms()} {buoy_entr}\")\n",
    "\n",
    "    # Check if simulation has completed\n",
    "    if time_now >= time_end:\n",
    "        log(\"Reached end of simulation -- exiting time-step loop\")\n",
    "        break"
   ]
  },
  {
   "cell_type": "markdown",
   "id": "d687a7a1",
   "metadata": {},
   "source": [
    "At the end of the simulation, once a steady-state has been achieved, we close our\n",
    "logging file and checkpoint solution fields to disk. These can later be used to\n",
    "restart the simulation, if required."
   ]
  },
  {
   "cell_type": "code",
   "execution_count": null,
   "id": "90ed2c25",
   "metadata": {},
   "outputs": [],
   "source": [
    "plog.close()\n",
    "\n",
    "with CheckpointFile(\"Final_State.h5\", \"w\") as final_checkpoint:\n",
    "    final_checkpoint.save_mesh(mesh)\n",
    "    final_checkpoint.save_function(T, name=\"Temperature\")\n",
    "    final_checkpoint.save_function(z, name=\"Stokes\")\n",
    "    final_checkpoint.save_function(psi, name=\"Level set\")"
   ]
  },
  {
   "cell_type": "markdown",
   "id": "7c083a5d",
   "metadata": {},
   "source": [
    "We can visualise the final temperature and level set fields using Firedrake's\n",
    "built-in plotting functionality."
   ]
  },
  {
   "cell_type": "code",
   "execution_count": null,
   "id": "c8fd52f7",
   "metadata": {
    "tags": [
     "active-ipynb"
    ]
   },
   "outputs": [],
   "source": [
    "import matplotlib.pyplot as plt\n",
    "fig, axes = plt.subplots()\n",
    "axes.set_aspect(\"equal\")\n",
    "collection = tripcolor(T, axes=axes, cmap=\"coolwarm\")\n",
    "tricontour(psi, axes=axes, levels=[0.5])\n",
    "fig.colorbar(collection, label=\"Temperature\");"
   ]
  }
 ],
 "metadata": {
  "jupytext": {
   "cell_metadata_filter": "tags,-all",
   "main_language": "python",
   "notebook_metadata_filter": "-all"
  }
 },
 "nbformat": 4,
 "nbformat_minor": 5
}

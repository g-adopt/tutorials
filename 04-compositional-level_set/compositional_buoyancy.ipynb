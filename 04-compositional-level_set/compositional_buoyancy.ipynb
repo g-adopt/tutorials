{
 "cells": [
  {
   "cell_type": "markdown",
   "id": "017f7aa6",
   "metadata": {},
   "source": [
    "Rayleigh-Taylor instability\n",
    "===========================\n",
    "\n",
    "Rationale\n",
    "---------\n",
    "\n",
    "One may wish to simulate a geodynamical flow involving multiple physical phases. A\n",
    "possible approach is to approximate phases as immiscible and forming a single fluid\n",
    "whose dynamics can still be described as a single-phase Stokes flow. Under this\n",
    "approximation, it is common to refer to immiscible phases as materials and to the\n",
    "resulting simulations as multi-material. In such simulations, each material occupies\n",
    "part of the numerical domain and is characterised by its own physical properties,\n",
    "such as density and viscosity. Along material boundaries, physical properties are\n",
    "averaged according to a chosen mathematical scheme.\n",
    "\n",
    "Numerical approach\n",
    "------------------\n",
    "\n",
    "To model the coexistence of multiple materials in the numerical domain, we employ an\n",
    "interface-capturing approach called the conservative level-set method. Level-set\n",
    "methods associate each material interface to a mathematical field representing a\n",
    "measure of distance from that interface. In the conservative level-set approach, the\n",
    "classic signed-distance function, $\\phi$, employed in the level-set method is\n",
    "transformed into a smooth step function, $\\psi$, according to\n",
    "\n",
    "$$\\psi(\\mathbf{x}, t) = \\frac{1}{2} \\left[\n",
    "\\mathrm{tanh} \\left( \\frac{\\phi(\\mathbf{x}, t)}{2\\epsilon} \\right) + 1\n",
    "\\right]$$\n",
    "\n",
    "Throughout the simulation, the level-set field is advected with the flow:\n",
    "\n",
    "$$\\frac{\\partial \\psi}{\\partial t} + \\nabla \\cdot \\left( \\mathbf{u}\\psi \\right) = 0$$\n",
    "\n",
    "Advection of the level set modifies the shape of the initial profile. In other words,\n",
    "the signed-distance property underpinning the smooth step function is lost. To\n",
    "maintain the original profile as the simulation proceeds, a reinitialisation\n",
    "procedure is employed. We choose the equation proposed in [Parameswaran and Mandal\n",
    "(2023)](https://www.sciencedirect.com/science/article/pii/S0997754622001364):\n",
    "\n",
    "$$\\frac{\\partial \\psi}{\\partial \\tau_{n}} = \\theta \\left[\n",
    "-\\psi \\left( 1 - \\psi \\right) \\left( 1 - 2\\psi \\right)\n",
    "+ \\epsilon \\left( 1 - 2\\psi \\right) \\lvert\\nabla\\psi\\rvert\n",
    "\\right]$$\n",
    "\n",
    "This example\n",
    "------------\n",
    "\n",
    "Here, we consider the isoviscous Rayleigh-Taylor instability presented in [van Keken\n",
    "et al. (1997)](https://agupubs.onlinelibrary.wiley.com/doi/abs/10.1029/97JB01353).\n",
    "Inside a 2-D domain, a buoyant, lighter material sits beneath a denser material. The\n",
    "initial material interface promotes the development of a rising instability on the\n",
    "domain's left-hand side, and further smaller-scale convective dynamics take place\n",
    "throughout the remainder of the simulation. We describe below how to implement this\n",
    "problem using G-ADOPT."
   ]
  },
  {
   "cell_type": "markdown",
   "id": "c932405d",
   "metadata": {},
   "source": [
    "As with all examples, the first step is to import the `gadopt` package, which\n",
    "provides access to Firedrake and associated functionality."
   ]
  },
  {
   "cell_type": "code",
   "execution_count": null,
   "id": "19afef0c",
   "metadata": {},
   "outputs": [],
   "source": [
    "try:\n",
    "    from gadopt import *\n",
    "except ImportError:\n",
    "    !wget \"https://fem-on-colab.github.io/releases/firedrake-install-real.sh\" -O \"/tmp/firedrake-install.sh\" && bash \"/tmp/firedrake-install.sh\"\n",
    "    !pip install gadopt[demos]\n",
    "    from gadopt import *"
   ]
  },
  {
   "cell_type": "markdown",
   "id": "c1712621",
   "metadata": {},
   "source": [
    "We next set up the mesh and function spaces and specify functions to hold our\n",
    "solutions, as in our previous tutorials."
   ]
  },
  {
   "cell_type": "code",
   "execution_count": null,
   "id": "55a873c1",
   "metadata": {},
   "outputs": [],
   "source": [
    "nx, ny = 40, 40  # Number of cells in x and y directions\n",
    "lx, ly = 0.9142, 1  # Domain dimensions in x and y directions\n",
    "# Rectangle mesh generated via Firedrake\n",
    "mesh = RectangleMesh(nx, ny, lx, ly, quadrilateral=True)\n",
    "mesh.cartesian = True\n",
    "left_id, right_id, bottom_id, top_id = 1, 2, 3, 4  # Boundary IDs\n",
    "\n",
    "V = VectorFunctionSpace(mesh, \"CG\", 2)  # Velocity function space (vector)\n",
    "W = FunctionSpace(mesh, \"CG\", 1)  # Pressure function space (scalar)\n",
    "Z = MixedFunctionSpace([V, W])  # Stokes function space (mixed)\n",
    "Q = FunctionSpace(mesh, \"CG\", 2)  # Temperature function space (scalar)\n",
    "K = FunctionSpace(mesh, \"DQ\", 2)  # Level-set function space (scalar, discontinuous)\n",
    "R = FunctionSpace(mesh, \"R\", 0)  # Real space for time step\n",
    "\n",
    "z = Function(Z)  # A field over the mixed function space Z\n",
    "u, p = split(z)  # Symbolic UFL expressions for velocity and pressure\n",
    "z.subfunctions[0].rename(\"Velocity\")  # Associated Firedrake velocity function\n",
    "z.subfunctions[1].rename(\"Pressure\")  # Associated Firedrake pressure function\n",
    "T = Function(Q, name=\"Temperature\")  # Firedrake function for temperature\n",
    "psi = Function(K, name=\"Level set\")  # Firedrake function for level set"
   ]
  },
  {
   "cell_type": "markdown",
   "id": "f45be018",
   "metadata": {},
   "source": [
    "We now provide initial conditions for the level-set field. To this end, we use the\n",
    "`shapely` library to represent the initial location of the material interface and\n",
    "derive the signed-distance function. Finally, we apply the transformation to obtain a\n",
    "smooth step function profile."
   ]
  },
  {
   "cell_type": "code",
   "execution_count": null,
   "id": "ce1b538c",
   "metadata": {},
   "outputs": [],
   "source": [
    "import numpy as np  # noqa: E402\n",
    "import shapely as sl  # noqa: E402\n",
    "\n",
    "\n",
    "def cosine_curve(x, amplitude, wavelength, vertical_shift):\n",
    "    \"\"\"Cosine curve equation with an amplitude and a vertical shift\"\"\"\n",
    "    return amplitude * np.cos(2 * np.pi / wavelength * x) + vertical_shift\n",
    "\n",
    "\n",
    "interface_deflection = 0.02  # Amplitude of the cosine function marking the interface\n",
    "interface_wavelength = 2 * lx  # Wavelength of the cosine function\n",
    "material_interface_y = 0.2  # Vertical shift of the interface along the y axis\n",
    "# Group parameters defining the cosine profile\n",
    "isd_params = (interface_deflection, interface_wavelength, material_interface_y)\n",
    "\n",
    "# Shapely LineString representation of the material interface\n",
    "interface_x = np.linspace(0, lx, 1000)  # Enough points to capture the interface shape\n",
    "interface_y = cosine_curve(interface_x, *isd_params)\n",
    "line_string = sl.LineString([*np.column_stack((interface_x, interface_y))])\n",
    "sl.prepare(line_string)\n",
    "\n",
    "# Extract node coordinates\n",
    "node_coords_x, node_coords_y = node_coordinates(psi)\n",
    "# Determine to which material nodes belong and calculate distance to interface\n",
    "node_relation_to_curve = [\n",
    "    (\n",
    "        node_coord_y > cosine_curve(node_coord_x, *isd_params),\n",
    "        line_string.distance(sl.Point(node_coord_x, node_coord_y)),\n",
    "    )\n",
    "    for node_coord_x, node_coord_y in zip(node_coords_x, node_coords_y)\n",
    "]\n",
    "\n",
    "# Define the signed-distance function and overwrite its value array\n",
    "signed_dist_to_interface = Function(K)\n",
    "signed_dist_to_interface.dat.data[:] = [\n",
    "    dist if is_above else -dist for is_above, dist in node_relation_to_curve\n",
    "]\n",
    "\n",
    "# Define thickness of the hyperbolic tangent profile\n",
    "min_mesh_edge_length = min(lx / nx, ly / ny)\n",
    "epsilon = Constant(min_mesh_edge_length / 4)\n",
    "\n",
    "# Initialise level set as a smooth step function\n",
    "psi.interpolate((1 + tanh(signed_dist_to_interface / 2 / epsilon)) / 2)"
   ]
  },
  {
   "cell_type": "markdown",
   "id": "ec40cb69",
   "metadata": {
    "lines_to_next_cell": 2
   },
   "source": [
    "We next define materials present in the simulation using the `Material` class. Here,\n",
    "the problem is non-dimensionalised and can be described by the product of the\n",
    "expressions for the Rayleigh and buoyancy numbers, RaB, which is also referred to as\n",
    "compositional Rayleigh number. Therefore, we provide a value for thermal and\n",
    "compositional Rayleigh numbers to define our approximation. Material fields, such as\n",
    "RaB, are created using the `field_interface` function, which generates a unique field\n",
    "over the numerical domain based on the level-set field(s) and values or expressions\n",
    "associated with each material. At the interface between two materials, the transition\n",
    "between values or expressions can be represented as sharp or diffuse, with the latter\n",
    "using averaging schemes, such as arithmetic, geometric, and harmonic means."
   ]
  },
  {
   "cell_type": "code",
   "execution_count": null,
   "id": "70e21c78",
   "metadata": {},
   "outputs": [],
   "source": [
    "buoyant_material = Material(RaB=-1)  # Vertical direction is flipped in the benchmark\n",
    "dense_material = Material(RaB=0)\n",
    "materials = [buoyant_material, dense_material]\n",
    "\n",
    "Ra = 0  # Thermal Rayleigh number\n",
    "\n",
    "RaB = field_interface(\n",
    "    [psi], [material.RaB for material in materials], method=\"arithmetic\"\n",
    ")  # Compositional Rayleigh number, defined based on each material value and location\n",
    "\n",
    "approximation = BoussinesqApproximation(Ra, RaB=RaB)"
   ]
  },
  {
   "cell_type": "markdown",
   "id": "3ee3cf32",
   "metadata": {},
   "source": [
    "As with the previous examples, we set up an instance of the `TimestepAdaptor` class\n",
    "for controlling the time-step length (via a CFL criterion) whilst the simulation\n",
    "advances in time. We specify the initial time, initial time step $\\Delta t$, and\n",
    "output frequency (in time units)."
   ]
  },
  {
   "cell_type": "code",
   "execution_count": null,
   "id": "77e78c86",
   "metadata": {},
   "outputs": [],
   "source": [
    "time_now = 0  # Initial time\n",
    "delta_t = Function(R).assign(1)  # Initial time step\n",
    "output_frequency = 10  # Frequency (based on simulation time) at which to output\n",
    "t_adapt = TimestepAdaptor(\n",
    "    delta_t, u, V, target_cfl=0.6, maximum_timestep=output_frequency\n",
    ")  # Current level-set advection requires a CFL condition that should not exceed 0.6."
   ]
  },
  {
   "cell_type": "markdown",
   "id": "cea02f98",
   "metadata": {},
   "source": [
    "This problem setup has a constant pressure nullspace, which corresponds to the\n",
    "default case handled in G-ADOPT."
   ]
  },
  {
   "cell_type": "code",
   "execution_count": null,
   "id": "84c1e31f",
   "metadata": {},
   "outputs": [],
   "source": [
    "Z_nullspace = create_stokes_nullspace(Z)"
   ]
  },
  {
   "cell_type": "markdown",
   "id": "776cc08d",
   "metadata": {},
   "source": [
    "Boundary conditions are specified next: no slip at the top and bottom and free slip\n",
    "on the left and ride sides. No boundary conditions are required for level set, as the\n",
    "numerical domain is closed."
   ]
  },
  {
   "cell_type": "code",
   "execution_count": null,
   "id": "3d365270",
   "metadata": {},
   "outputs": [],
   "source": [
    "stokes_bcs = {\n",
    "    bottom_id: {\"u\": 0},\n",
    "    top_id: {\"u\": 0},\n",
    "    left_id: {\"ux\": 0},\n",
    "    right_id: {\"ux\": 0},\n",
    "}"
   ]
  },
  {
   "cell_type": "markdown",
   "id": "5b984e70",
   "metadata": {},
   "source": [
    "We now set up our output. To do so, we create the output file as a ParaView Data file\n",
    "that uses the XML-based VTK file format. We also open a file for logging, instantiate\n",
    "G-ADOPT geodynamical diagnostic utility, and define some parameters specific to this\n",
    "problem."
   ]
  },
  {
   "cell_type": "code",
   "execution_count": null,
   "id": "190cad24",
   "metadata": {},
   "outputs": [],
   "source": [
    "output_file = VTKFile(\"output.pvd\")\n",
    "\n",
    "plog = ParameterLog(\"params.log\", mesh)\n",
    "plog.log_str(\"step time dt u_rms entrainment\")\n",
    "\n",
    "gd = GeodynamicalDiagnostics(z, T, bottom_id, top_id)\n",
    "\n",
    "material_area = material_interface_y * lx  # Area of tracked material in the domain\n",
    "entrainment_height = 0.2  # Height above which entrainment diagnostic is calculated"
   ]
  },
  {
   "cell_type": "markdown",
   "id": "5218de14",
   "metadata": {},
   "source": [
    "Here, we set up the variational problem for the Stokes and level-set systems. The\n",
    "former depends on the approximation defined above, and the latter includes both\n",
    "advection and reinitialisation components. Subcycling is available for level-set\n",
    "advection and is mainly useful when the problem at hand involves multiple CFL\n",
    "conditions, with the CFL for level-set advection being the most restrictive."
   ]
  },
  {
   "cell_type": "code",
   "execution_count": null,
   "id": "74f4e1dc",
   "metadata": {},
   "outputs": [],
   "source": [
    "stokes_solver = StokesSolver(\n",
    "    z,\n",
    "    T,\n",
    "    approximation,\n",
    "    bcs=stokes_bcs,\n",
    "    nullspace=Z_nullspace,\n",
    "    transpose_nullspace=Z_nullspace,\n",
    ")\n",
    "\n",
    "subcycles = 1  # Number of advection solves to perform within one time step\n",
    "level_set_solver = LevelSetSolver(psi, u, delta_t, eSSPRKs10p3, subcycles, epsilon)\n",
    "# Increase the reinitialisation time step to make up for the coarseness of the mesh\n",
    "level_set_solver.reini_params[\"tstep\"] *= 20"
   ]
  },
  {
   "cell_type": "markdown",
   "id": "2aef2ff9",
   "metadata": {},
   "source": [
    "Finally, we initiate the time loop, which runs until the simulation end time is\n",
    "attained."
   ]
  },
  {
   "cell_type": "code",
   "execution_count": null,
   "id": "2d5211b7",
   "metadata": {},
   "outputs": [],
   "source": [
    "step = 0  # A counter to keep track of looping\n",
    "output_counter = 0  # A counter to keep track of outputting\n",
    "time_end = 2000\n",
    "while True:\n",
    "    # Write output\n",
    "    if time_now >= output_counter * output_frequency:\n",
    "        output_file.write(*z.subfunctions, T, psi)\n",
    "        output_counter += 1\n",
    "\n",
    "    # Update timestep\n",
    "    if time_end is not None:\n",
    "        t_adapt.maximum_timestep = min(output_frequency, time_end - time_now)\n",
    "    t_adapt.update_timestep()\n",
    "    time_now += float(delta_t)\n",
    "    step += 1\n",
    "\n",
    "    # Solve Stokes sytem\n",
    "    stokes_solver.solve()\n",
    "\n",
    "    # Advect level set\n",
    "    level_set_solver.solve(step)\n",
    "\n",
    "    # Calculate proportion of material entrained above a given height\n",
    "    buoy_entr = entrainment(psi, material_area, entrainment_height)\n",
    "\n",
    "    # Log diagnostics\n",
    "    plog.log_str(f\"{step} {time_now} {float(delta_t)} {gd.u_rms()} {buoy_entr}\")\n",
    "\n",
    "    # Check if simulation has completed\n",
    "    if time_now >= time_end:\n",
    "        log(\"Reached end of simulation -- exiting time-step loop\")\n",
    "        break"
   ]
  },
  {
   "cell_type": "markdown",
   "id": "e44e071c",
   "metadata": {},
   "source": [
    "At the end of the simulation, once a steady-state has been achieved, we close our\n",
    "logging file and checkpoint solution fields to disk. These can later be used to\n",
    "restart the simulation, if required."
   ]
  },
  {
   "cell_type": "code",
   "execution_count": null,
   "id": "d3b79852",
   "metadata": {},
   "outputs": [],
   "source": [
    "plog.close()\n",
    "\n",
    "with CheckpointFile(\"Final_State.h5\", \"w\") as final_checkpoint:\n",
    "    final_checkpoint.save_mesh(mesh)\n",
    "    final_checkpoint.save_function(T, name=\"Temperature\")\n",
    "    final_checkpoint.save_function(z, name=\"Stokes\")\n",
    "    final_checkpoint.save_function(psi, name=\"Level set\")"
   ]
  },
  {
   "cell_type": "markdown",
   "id": "80179f39",
   "metadata": {},
   "source": [
    "We can visualise the final level-set field using Firedrake's built-in plotting\n",
    "functionality."
   ]
  },
  {
   "cell_type": "code",
   "execution_count": null,
   "id": "94e562c0",
   "metadata": {
    "tags": [
     "active-ipynb"
    ]
   },
   "outputs": [],
   "source": [
    "import matplotlib.pyplot as plt\n",
    "fig, axes = plt.subplots()\n",
    "axes.set_aspect(\"equal\")\n",
    "tricontour(psi, axes=axes, levels=[0.5])"
   ]
  }
 ],
 "metadata": {
  "jupytext": {
   "cell_metadata_filter": "tags,-all",
   "main_language": "python",
   "notebook_metadata_filter": "-all"
  }
 },
 "nbformat": 4,
 "nbformat_minor": 5
}

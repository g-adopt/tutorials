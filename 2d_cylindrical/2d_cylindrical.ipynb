{
 "cells": [
  {
   "cell_type": "markdown",
   "id": "4077517e",
   "metadata": {},
   "source": [
    "Idealised 2-D mantle convection problem inside an annulus\n",
    "=====================================================================\n",
    "\n",
    "In this tutorial, we analyse mantle flow in a 2-D annulus domain. We define our domain by the radii\n",
    "of the inner ($r_{\\text{min}}$) and outer ($r_{\\text{max}}$) boundaries. These are chosen such that\n",
    "the non-dimensional depth of the mantle, $z = r_{\\text{max}} - r_{\\text{min}} = 1$, and the ratio of\n",
    "the inner and outer radii, $f=r_{\\text{min}} / r_{\\text{max}} = 0.55$, thus approximating the ratio\n",
    "between the radii of Earth's surface and core-mantle-boundary (CMB). Specifically, we set\n",
    "$r_{\\text{min}} = 1.22$ and $r_{\\text{max}} = 2.22$.\n",
    "\n",
    "This example focusses on differences between running simulations in a 2-D annulus and 2-D Cartesian domain. These can be summarised as follows:\n",
    "1. The geometry of the problem - i.e. the computational mesh.\n",
    "2. The radial direction of gravity (as opposed to the vertical direction in a Cartesian domain).\n",
    "3. Initialisation of the temperature field in a different domain.\n",
    "4. With free-slip boundary conditions on both boundaries, this case incorporates a (rotational) velocity nullspace, as well as a pressure nullspace.\n",
    "\n",
    "The example is configured at $Ra = 1e5$. Boundary conditions are free-slip at the surface and base of the domain."
   ]
  },
  {
   "cell_type": "markdown",
   "id": "a6835172",
   "metadata": {},
   "source": [
    "\n",
    "The first step is to import the gadopt module, which\n",
    "provides access to Firedrake and associated functionality.\n",
    "We also import pyvista, which is used for plotting vtk output."
   ]
  },
  {
   "cell_type": "code",
   "execution_count": null,
   "id": "5e666227",
   "metadata": {
    "lines_to_next_cell": 0
   },
   "outputs": [],
   "source": [
    "try:\n",
    "    from gadopt import *\n",
    "except ImportError:\n",
    "    !wget \"https://fem-on-colab.github.io/releases/firedrake-install-real.sh\" -O \"/tmp/firedrake-install.sh\" && bash \"/tmp/firedrake-install.sh\"\n",
    "    !pip install gadopt[demos]\n",
    "    from gadopt import *"
   ]
  },
  {
   "cell_type": "code",
   "execution_count": null,
   "id": "d074ad10",
   "metadata": {
    "tags": [
     "active-ipynb"
    ]
   },
   "outputs": [],
   "source": [
    "import pyvista as pv"
   ]
  },
  {
   "cell_type": "markdown",
   "id": "49451445",
   "metadata": {},
   "source": [
    "We next set up the mesh, function spaces, and specify functions to hold our solutions,\n",
    "as with our previous tutorials.\n",
    "\n",
    "We generate a circular manifold mesh (with 128 elements) and extrude in the radial direction,\n",
    "using the optional keyword argument `extrusion_type`, forming 32 layers. To better represent the\n",
    "curvature of the domain and ensure accuracy of our quadratic representation of velocity, we\n",
    "approximate the curved cylindrical shell domain quadratically, using the optional keyword argument `degree`$=2$.\n",
    "Because this problem is not formulated in a Cartesian geometry, we set the `mesh.cartesian`\n",
    "attribute to False. This ensures the correct configuration of a radially inward vertical direction."
   ]
  },
  {
   "cell_type": "code",
   "execution_count": null,
   "id": "23699330",
   "metadata": {},
   "outputs": [],
   "source": [
    "rmin, rmax, ncells, nlayers = 1.22, 2.22, 128, 32\n",
    "mesh1d = CircleManifoldMesh(ncells, radius=rmin, degree=2)  # construct a circle mesh\n",
    "mesh = ExtrudedMesh(mesh1d, layers=nlayers, extrusion_type='radial')  # extrude into a cylinder\n",
    "mesh.cartesian = False\n",
    "bottom_id, top_id = \"bottom\", \"top\"\n",
    "\n",
    "V = VectorFunctionSpace(mesh, \"CG\", 2)  # Velocity function space (vector)\n",
    "W = FunctionSpace(mesh, \"CG\", 1)  # Pressure function space (scalar)\n",
    "Q = FunctionSpace(mesh, \"CG\", 2)  # Temperature function space (scalar)\n",
    "Z = MixedFunctionSpace([V, W])  # Mixed function space.\n",
    "\n",
    "z = Function(Z)  # A field over the mixed function space Z.\n",
    "u, p = split(z)  # Returns symbolic UFL expression for u and p\n",
    "z.subfunctions[0].rename(\"Velocity\")\n",
    "z.subfunctions[1].rename(\"Pressure\")"
   ]
  },
  {
   "cell_type": "markdown",
   "id": "70e3b7d5",
   "metadata": {},
   "source": [
    "We can now visualise the resulting mesh."
   ]
  },
  {
   "cell_type": "code",
   "execution_count": null,
   "id": "5387a2c2",
   "metadata": {
    "tags": [
     "active-ipynb"
    ]
   },
   "outputs": [],
   "source": [
    "VTKFile(\"mesh.pvd\").write(Function(V))\n",
    "mesh_data = pv.read(\"mesh/mesh_0.vtu\")\n",
    "edges = mesh_data.extract_all_edges()\n",
    "plotter = pv.Plotter(notebook=True)\n",
    "plotter.add_mesh(edges, color=\"black\")\n",
    "plotter.camera_position = \"xy\"\n",
    "plotter.show(jupyter_backend=\"static\", interactive=False)"
   ]
  },
  {
   "cell_type": "markdown",
   "id": "8a5879e0",
   "metadata": {},
   "source": [
    "We next specify the important constants for this problem, and set up the approximation."
   ]
  },
  {
   "cell_type": "code",
   "execution_count": null,
   "id": "e8471424",
   "metadata": {},
   "outputs": [],
   "source": [
    "Ra = Constant(1e5)  # Rayleigh number\n",
    "approximation = BoussinesqApproximation(Ra)"
   ]
  },
  {
   "cell_type": "markdown",
   "id": "9d1a4507",
   "metadata": {},
   "source": [
    "As with the previous examples, we set up a *Timestep Adaptor*,\n",
    "for controlling the time-step length (via a CFL\n",
    "criterion) as the simulation advances in time. For the latter,\n",
    "we specify the initial time, initial timestep $\\Delta t$, and number of\n",
    "timesteps. Given the low Rayleigh number, a steady-state tolerance is also specified,\n",
    "allowing the simulation to exit when a steady-state has been achieved."
   ]
  },
  {
   "cell_type": "code",
   "execution_count": null,
   "id": "3de1440b",
   "metadata": {},
   "outputs": [],
   "source": [
    "time = 0.0  # Initial time\n",
    "delta_t = Constant(1e-7)  # Initial time-step\n",
    "timesteps = 20000  # Maximum number of timesteps\n",
    "t_adapt = TimestepAdaptor(delta_t, u, V, maximum_timestep=0.1, increase_tolerance=1.5)\n",
    "steady_state_tolerance = 1e-7  # Used to determine if solution has reached a steady state."
   ]
  },
  {
   "cell_type": "markdown",
   "id": "240aa0c5",
   "metadata": {},
   "source": [
    "We next set up and initialise our Temperature field.\n",
    "We choose the initial temperature distribution to trigger upwelling of 4 equidistant plumes.\n",
    "This initial temperature field is prescribed as:\n",
    "\n",
    "$$T(x,y) = (r_{\\text{max}} - r) + A\\cos(4 \\; atan2\\ (y,x))  \\sin(r-r_{\\text{min}}) \\pi)$$\n",
    "\n",
    "where $A=0.02$ is the amplitude of the initial perturbation."
   ]
  },
  {
   "cell_type": "code",
   "execution_count": null,
   "id": "5c23b5e3",
   "metadata": {},
   "outputs": [],
   "source": [
    "X = SpatialCoordinate(mesh)\n",
    "T = Function(Q, name=\"Temperature\")\n",
    "r = sqrt(X[0]**2 + X[1]**2)\n",
    "T.interpolate(rmax - r + 0.02*cos(4*atan2(X[1], X[0])) * sin((r - rmin) * pi))"
   ]
  },
  {
   "cell_type": "markdown",
   "id": "feed96a1",
   "metadata": {},
   "source": [
    "We can plot this initial temperature field:"
   ]
  },
  {
   "cell_type": "code",
   "execution_count": null,
   "id": "033032a5",
   "metadata": {
    "tags": [
     "active-ipynb"
    ]
   },
   "outputs": [],
   "source": [
    "VTKFile(\"temp.pvd\").write(T)\n",
    "temp_data = pv.read(\"temp/temp_0.vtu\")\n",
    "plotter = pv.Plotter(notebook=True)\n",
    "plotter.add_mesh(temp_data)\n",
    "plotter.camera_position = \"xy\"\n",
    "plotter.show(jupyter_backend=\"static\", interactive=False)"
   ]
  },
  {
   "cell_type": "markdown",
   "id": "a00c929d",
   "metadata": {},
   "source": [
    "As noted above, with a free-slip boundary condition on both boundaries, one can add an arbitrary rotation\n",
    "of the form $(-y, x)=r\\hat{\\mathbf{\\theta}}$ to the velocity solution (i.e. this case incorporates a velocity nullspace,\n",
    "as well as a pressure nullspace). These lead to null-modes (eigenvectors) for the linear system, rendering the resulting matrix singular.\n",
    "In preconditioned Krylov methods these null-modes must be subtracted from the approximate solution at every iteration. We do that below,\n",
    "setting up a nullspace object as we did in the previous tutorial, albeit speciying the `rotational` keyword argument to be True.\n",
    "This removes the requirement for a user to configure these options, further simplifying the task of setting up a (valid) geodynamical simulation."
   ]
  },
  {
   "cell_type": "code",
   "execution_count": null,
   "id": "e7ca652f",
   "metadata": {},
   "outputs": [],
   "source": [
    "Z_nullspace = create_stokes_nullspace(Z, closed=True, rotational=True)"
   ]
  },
  {
   "cell_type": "markdown",
   "id": "87eed05a",
   "metadata": {},
   "source": [
    "Given the increased computational expense (typically requiring more degrees of freedom) in a 2-D annulus domain, G-ADOPT defaults to iterative\n",
    "solver parameters. As noted in our previous 3-D Cartesian tutorial, G-ADOPT's iterative solver setup is configured to use the GAMG preconditioner\n",
    "for the velocity block of the Stokes system, to which we must provide near-nullspace information, which, in 2-D, consists of two rotational and two\n",
    "translational modes."
   ]
  },
  {
   "cell_type": "code",
   "execution_count": null,
   "id": "f65a8fa4",
   "metadata": {},
   "outputs": [],
   "source": [
    "Z_near_nullspace = create_stokes_nullspace(Z, closed=False, rotational=True, translations=[0, 1])"
   ]
  },
  {
   "cell_type": "markdown",
   "id": "ec63b085",
   "metadata": {},
   "source": [
    "Boundary conditions are next specified. Boundary conditions for temperature are set to $T = 0$ at the surface ($r_{\\text{max}}$) and $T = 1$\n",
    "at the base ($r_{\\text{min}}$). For velocity, we specify free‐slip conditions on both boundaries. We incorporate these <b>weakly</b> through\n",
    "the <i>Nitsche</i> approximation. This illustrates a key advantage of the G-ADOPT framework: the user only specifies that the normal component\n",
    "of velocity is zero and all required changes are handled under the hood."
   ]
  },
  {
   "cell_type": "code",
   "execution_count": null,
   "id": "c3d11ff0",
   "metadata": {},
   "outputs": [],
   "source": [
    "stokes_bcs = {\n",
    "    bottom_id: {'un': 0},\n",
    "    top_id: {'un': 0},\n",
    "}\n",
    "\n",
    "temp_bcs = {\n",
    "    bottom_id: {'T': 1.0},\n",
    "    top_id: {'T': 0.0},\n",
    "}"
   ]
  },
  {
   "cell_type": "markdown",
   "id": "f398e851",
   "metadata": {},
   "source": [
    "We next setup our output, in VTK format.\n",
    "We also open a file for logging and calculate our diagnostic outputs."
   ]
  },
  {
   "cell_type": "code",
   "execution_count": null,
   "id": "cb7fd20b",
   "metadata": {},
   "outputs": [],
   "source": [
    "output_file = VTKFile(\"output.pvd\")\n",
    "ref_file = VTKFile('reference_state.pvd')\n",
    "output_frequency = 50\n",
    "\n",
    "plog = ParameterLog('params.log', mesh)\n",
    "plog.log_str(\"timestep time dt maxchange u_rms nu_base nu_top energy avg_t T_min T_max\")\n",
    "\n",
    "gd = GeodynamicalDiagnostics(z, T, bottom_id, top_id, quad_degree=6)"
   ]
  },
  {
   "cell_type": "markdown",
   "id": "411f11fa",
   "metadata": {},
   "source": [
    "We can now setup and solve the variational problem, for both the energy and Stokes equations,\n",
    "passing in the approximation, nullspace and near-nullspace information configured above."
   ]
  },
  {
   "cell_type": "code",
   "execution_count": null,
   "id": "345acda4",
   "metadata": {},
   "outputs": [],
   "source": [
    "energy_solver = EnergySolver(T, u, approximation, delta_t, ImplicitMidpoint, bcs=temp_bcs)\n",
    "\n",
    "stokes_solver = StokesSolver(z, T, approximation, bcs=stokes_bcs,\n",
    "                             constant_jacobian=True,\n",
    "                             nullspace=Z_nullspace, transpose_nullspace=Z_nullspace,\n",
    "                             near_nullspace=Z_near_nullspace)"
   ]
  },
  {
   "cell_type": "markdown",
   "id": "23267592",
   "metadata": {},
   "source": [
    "We now initiate the time loop, which runs until a steady-state solution has been attained."
   ]
  },
  {
   "cell_type": "code",
   "execution_count": null,
   "id": "9b625fb5",
   "metadata": {},
   "outputs": [],
   "source": [
    "for timestep in range(0, timesteps):\n",
    "\n",
    "    # Write output:\n",
    "    if timestep % output_frequency == 0:\n",
    "        output_file.write(*z.subfunctions, T)\n",
    "\n",
    "    if timestep != 0:\n",
    "        dt = t_adapt.update_timestep()\n",
    "    else:\n",
    "        dt = float(delta_t)\n",
    "    time += dt\n",
    "\n",
    "    # Solve Stokes sytem:\n",
    "    stokes_solver.solve()\n",
    "\n",
    "    # Temperature system:\n",
    "    energy_solver.solve()\n",
    "\n",
    "    # Compute diagnostics:\n",
    "    f_ratio = rmin/rmax\n",
    "    top_scaling = 1.3290170684486309  # log(f_ratio) / (1.- f_ratio)\n",
    "    bot_scaling = 0.7303607313096079  # (f_ratio * log(f_ratio)) / (1.- f_ratio)\n",
    "    nusselt_number_top = gd.Nu_top() * top_scaling\n",
    "    nusselt_number_base = gd.Nu_bottom() * bot_scaling\n",
    "    energy_conservation = abs(abs(nusselt_number_top) - abs(nusselt_number_base))\n",
    "\n",
    "    # Calculate L2-norm of change in temperature:\n",
    "    maxchange = sqrt(assemble((T - energy_solver.T_old)**2 * dx))\n",
    "\n",
    "    # Log diagnostics:\n",
    "    plog.log_str(f\"{timestep} {time} {float(delta_t)} {maxchange} {gd.u_rms()} \"\n",
    "                 f\"{nusselt_number_base} {nusselt_number_top} \"\n",
    "                 f\"{energy_conservation} {gd.T_avg()} {gd.T_min()} {gd.T_max()} \")\n",
    "\n",
    "    # Leave if steady-state has been achieved:\n",
    "    if maxchange < steady_state_tolerance:\n",
    "        log(\"Steady-state achieved -- exiting time-step loop\")\n",
    "        break"
   ]
  },
  {
   "cell_type": "markdown",
   "id": "5734d5ee",
   "metadata": {},
   "source": [
    "At the end of the simulation, once a steady-state has been achieved, we close our logging file\n",
    "and checkpoint steady state temperature and Stokes solution fields to disk. These can later be\n",
    "used to restart a simulation, if required."
   ]
  },
  {
   "cell_type": "code",
   "execution_count": null,
   "id": "f20efece",
   "metadata": {},
   "outputs": [],
   "source": [
    "plog.close()\n",
    "\n",
    "with CheckpointFile(\"Final_State.h5\", \"w\") as final_checkpoint:\n",
    "    final_checkpoint.save_mesh(mesh)\n",
    "    final_checkpoint.save_function(T, name=\"Temperature\")\n",
    "    final_checkpoint.save_function(z, name=\"Stokes\")"
   ]
  },
  {
   "cell_type": "markdown",
   "id": "a7297505",
   "metadata": {},
   "source": [
    "We can plot the final steady state temperature field:"
   ]
  },
  {
   "cell_type": "code",
   "execution_count": null,
   "id": "20033e96",
   "metadata": {
    "tags": [
     "active-ipynb"
    ]
   },
   "outputs": [],
   "source": [
    "VTKFile(\"temp.pvd\").write(T)\n",
    "temp_data = pv.read(\"temp/temp_0.vtu\")\n",
    "plotter = pv.Plotter(notebook=True)\n",
    "plotter.add_mesh(temp_data)\n",
    "plotter.camera_position = \"xy\"\n",
    "plotter.show(jupyter_backend=\"static\", interactive=False)"
   ]
  }
 ],
 "metadata": {
  "jupytext": {
   "cell_metadata_filter": "tags,-all",
   "main_language": "python",
   "notebook_metadata_filter": "-all"
  }
 },
 "nbformat": 4,
 "nbformat_minor": 5
}

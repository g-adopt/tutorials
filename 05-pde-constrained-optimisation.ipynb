{
 "cells": [
  {
   "cell_type": "markdown",
   "metadata": {},
   "source": [
    "# Optimisation with `firedrake-adjoint`\n",
    "\n",
    "*This example is modified from the equivalent [`dolfin-adjoint` demo](http://www.dolfin-adjoint.org/en/latest/documentation/stokes-bc-control/stokes-bc-control.html)*\n",
    "\n",
    "\n",
    "In this example, we will look at how to use `firedrake-adjoint` to optimise for strong (Dirichlet) conditions in a steady problem.  `firedrake-adjoint` is a thin compatibility layer for the [`dolfin-adjoint` package](http://www.dolfin-adjoint.org/en/latest/), a python package to **automatically derive the discrete adjoint and tangent linear models** of forward problems written using Firedrake.\n",
    "\n",
    "## Installing necessary dependencies\n",
    "\n",
    "For the minimisation, we will need `scipy`, which is installed with\n",
    "\n",
    "```sh\n",
    "pip install scipy\n",
    "```\n",
    "\n",
    "In the activated firedrake virtualenv."
   ]
  },
  {
   "cell_type": "markdown",
   "metadata": {},
   "source": [
    "As usual, we begin with some notebook magic (so that plots appear nicely) and importing Firedrake."
   ]
  },
  {
   "cell_type": "code",
   "execution_count": null,
   "metadata": {},
   "outputs": [],
   "source": [
    "%matplotlib notebook\n",
    "import matplotlib.pyplot as plt\n",
    "# Load Firedrake on Colab\n",
    "try:\n",
    "    import firedrake\n",
    "except ImportError:\n",
    "    !wget \"https://fem-on-colab.github.io/releases/firedrake-install-real.sh\" -O \"/tmp/firedrake-install.sh\" && bash \"/tmp/firedrake-install.sh\"\n",
    "    import firedrake\n",
    "from firedrake import *"
   ]
  },
  {
   "cell_type": "markdown",
   "metadata": {},
   "source": [
    "The next step is new, we now import the `firedrake_adjoint` package, which *overrides* much of the Firedrake interface so that an *annotated tape* for adjoint calculations can be built automatically."
   ]
  },
  {
   "cell_type": "code",
   "execution_count": null,
   "metadata": {},
   "outputs": [],
   "source": [
    "from firedrake_adjoint import *"
   ]
  },
  {
   "cell_type": "markdown",
   "metadata": {},
   "source": [
    "## Problem setup\n",
    "Now we will set up the problem.  We consider minimising the compliance:\n",
    "\n",
    "$$\n",
    "\\min_{g, u, p} \\ \\frac{1}{2}\\int_{\\Omega} \\nabla u \\cdot \\nabla u\\,\\text{d}x +  \\frac{\\alpha}{2} \\int_{\\Gamma_{\\textrm{in}}} g^2\\,\\text{d}s\n",
    "$$\n",
    "\n",
    "subject to the Stokes equations\n",
    "$$\n",
    "\\begin{split}-\\nu \\Delta u + \\nabla p &= 0  \\quad \\text{in $\\Omega$}, \\\\\n",
    "                  \\nabla \\cdot u &= 0  \\quad \\text{in $\\Omega$},  \n",
    "                  \\end{split}\n",
    "$$\n",
    "\n",
    "and Dirichlet conditions\n",
    "\n",
    "$$\n",
    "\\begin{split}\n",
    "u &= g  \\quad \\text{on $\\Gamma_\\text{circ}$}, \\\\\n",
    "u &= f  \\quad \\text{on $\\Gamma_\\text{in}$}, \\\\\n",
    "u &= 0  \\quad \\text{on $\\Gamma_\\text{top} \\cup \\Gamma_\\text{bottom}$}, \\\\\n",
    "p &= 0  \\quad \\text{on $\\Gamma_\\text{out}$}. \\\\\n",
    "\\end{split}\n",
    "$$\n",
    "\n",
    "Here, $u$ and $p$ are unknown velocity and pressure, $f$ is a prescribed inflow, $g$ is the control variable that we will optimise for and $\\alpha$ is a regularisation parameter.  This corresponds physically to minimising the loss of energy as heat by controlling the in/outflow on $\\Gamma_\\text{circ}$.  The regularisation parameter penalises too many non-zero control values."
   ]
  },
  {
   "cell_type": "markdown",
   "metadata": {},
   "source": [
    "This problem setup requires a mesh that is more complex than the built in ones Firedrake provides.  Instead, it was created with [Gmsh](http://gmsh.info).  It is loaded by using the `Mesh` constructor, passing the filename of the mesh in question."
   ]
  },
  {
   "cell_type": "code",
   "execution_count": null,
   "metadata": {},
   "outputs": [],
   "source": [
    "mesh = Mesh(\"stokes-control.msh\")"
   ]
  },
  {
   "cell_type": "markdown",
   "metadata": {},
   "source": [
    "Now we'll take a look at the mesh.  Since we will need to know which mesh markers correspond to which parts of the boundary, we've added a legend to the plot.  Normally you will know this because you told your mesh generator how to mark the boundaries."
   ]
  },
  {
   "cell_type": "code",
   "execution_count": null,
   "metadata": {},
   "outputs": [],
   "source": [
    "# NBVAL_IGNORE_OUTPUT\n",
    "fig, axes = plt.subplots()\n",
    "triplot(mesh, axes=axes)\n",
    "axes.axis(\"off\")\n",
    "axes.set_aspect(\"equal\")\n",
    "axes.legend(loc=\"upper right\");"
   ]
  },
  {
   "cell_type": "markdown",
   "metadata": {},
   "source": [
    "## The forward problem\n",
    "\n",
    "The forward problem should be familiar by now, we create a mixed function space for $u$ and $p$ and set up trial and test functions.  We specify a parabolic velocity at the inflow, and no-slip (zero velocity) conditions on the side walls.  The zero-pressure outflow condition is enforced weakly.\n",
    "\n",
    "Our variational formulation for Stokes reads as follows.  Find $(u, p) \\in V\\times Q$ such that:\n",
    "\n",
    "$$\n",
    "\\begin{align}\n",
    "\\int_\\Omega \\nu \\nabla u : \\nabla v\\,\\text{d}x\n",
    "- \\int_\\Omega p \\nabla \\cdot v\\,\\text{d}x \n",
    "- \\int_{\\Gamma_{\\text{circ}}} \\nu (\\nabla u \\cdot n) \\cdot v\\,\\text{d}s  &= 0 \\quad \\forall v \\in V,\\\\\n",
    "- \\int_\\Omega q \\nabla \\cdot u\\,\\text{d}x &= 0 \\quad \\forall q \\in Q.\\\\\n",
    "u &= 0 \\quad \\text{on $\\Gamma_{\\text{top}} \\cup \\Gamma_{\\text{bottom}}$},\\\\\n",
    "u &= \\left[\\frac{y(10 - y)}{25}, 0\\right]^T \\quad \\text{on $\\Gamma_{\\text{in}}$},\\\\\n",
    "u &= g \\quad \\text{on $\\Gamma_{\\text{circ}}$},\\\\\n",
    "\\frac{\\text{d}p}{\\text{d}n} &= 0 \\quad \\text{on $\\Gamma_{\\text{out}}$}.\n",
    "\\end{align}\n",
    "$$"
   ]
  },
  {
   "cell_type": "code",
   "execution_count": null,
   "metadata": {},
   "outputs": [],
   "source": [
    "V = VectorFunctionSpace(mesh, \"Lagrange\", 2)\n",
    "Q = FunctionSpace(mesh, \"Lagrange\", 1)\n",
    "W = V*Q\n",
    "\n",
    "v, q = TestFunctions(W)\n",
    "u, p = TrialFunctions(W)\n",
    "\n",
    "nu = Constant(1)     # Viscosity coefficient\n",
    "\n",
    "x, y = SpatialCoordinate(mesh)\n",
    "u_inflow = as_vector([y*(10-y)/25.0, 0])\n",
    "\n",
    "noslip = DirichletBC(W.sub(0), (0, 0), (3, 5))\n",
    "inflow = DirichletBC(W.sub(0), interpolate(u_inflow, V), 1)\n",
    "static_bcs = [inflow, noslip]"
   ]
  },
  {
   "cell_type": "markdown",
   "metadata": {},
   "source": [
    "The boundary value, $g$, on the circle will be our control variable.  To do this, we define a `Function` which will hold the boundary values, we then build a `DirichletBC` object as normal."
   ]
  },
  {
   "cell_type": "code",
   "execution_count": null,
   "metadata": {},
   "outputs": [],
   "source": [
    "g = Function(V, name=\"Control\")\n",
    "controlled_bcs = [DirichletBC(W.sub(0), g, 4)]\n",
    "bcs = static_bcs + controlled_bcs"
   ]
  },
  {
   "cell_type": "markdown",
   "metadata": {},
   "source": [
    "Now we define the bilinear and linear forms."
   ]
  },
  {
   "cell_type": "code",
   "execution_count": null,
   "metadata": {},
   "outputs": [],
   "source": [
    "a = nu*inner(grad(u), grad(v))*dx - inner(p, div(v))*dx - inner(q, div(u))*dx\n",
    "L = Constant(0)*q*dx"
   ]
  },
  {
   "cell_type": "markdown",
   "metadata": {},
   "source": [
    "Now let's solve the forward problem so that `firedrake-adjoint` annotates it.  We'll also take a look at the solution."
   ]
  },
  {
   "cell_type": "code",
   "execution_count": null,
   "metadata": {},
   "outputs": [],
   "source": [
    "w = Function(W)\n",
    "solve(a == L, w, bcs=bcs, solver_parameters={\"mat_type\": \"aij\",\n",
    "                                             \"ksp_type\": \"preonly\",\n",
    "                                             \"pc_type\": \"lu\",\n",
    "                                             \"pc_factor_shift_type\": \"inblocks\"})"
   ]
  },
  {
   "cell_type": "code",
   "execution_count": null,
   "metadata": {},
   "outputs": [],
   "source": [
    "# NBVAL_IGNORE_OUTPUT\n",
    "u_init, p_init = w.split()\n",
    "\n",
    "fig, axes = plt.subplots(nrows=2, sharex=True, sharey=True)\n",
    "streamlines = streamplot(u_init, resolution=1/3, seed=0, axes=axes[0])\n",
    "fig.colorbar(streamlines, ax=axes[0], fraction=0.046)\n",
    "axes[0].set_aspect(\"equal\")\n",
    "axes[0].set_title(\"Velocity\")\n",
    "\n",
    "contours = tricontourf(p_init, 30, axes=axes[1])\n",
    "fig.colorbar(contours, ax=axes[1], fraction=0.046)\n",
    "axes[1].set_aspect(\"equal\")\n",
    "axes[1].set_title(\"Pressure\");"
   ]
  },
  {
   "cell_type": "markdown",
   "metadata": {},
   "source": [
    "## The optimisation problem\n",
    "\n",
    "Now we come to the optimisation problem.  We first define the functional we wish to minimise, this is done by assembling a form that produces a number.  Then we specify a control variable, and produce a \"reduced\" functional (the evaluation of the functional at a given control value).  We then minimise the functional, producing an optimised control value.  See [the dolfin-adjoint documentation](http://www.dolfin-adjoint.org/en/latest/documentation/) for more details on reduced functionals."
   ]
  },
  {
   "cell_type": "code",
   "execution_count": null,
   "metadata": {},
   "outputs": [],
   "source": [
    "u, p = split(w)\n",
    "alpha = Constant(10)\n",
    "\n",
    "J = assemble(1./2*inner(grad(u), grad(u))*dx + alpha/2*inner(g, g)*ds(4))\n",
    "m = Control(g)\n",
    "Jhat = ReducedFunctional(J, m)"
   ]
  },
  {
   "cell_type": "code",
   "execution_count": null,
   "metadata": {},
   "outputs": [],
   "source": [
    "g_opt = minimize(Jhat)"
   ]
  },
  {
   "cell_type": "markdown",
   "metadata": {},
   "source": [
    "Now let's take a look at the optimised control.  The initial boundary condition on the circle was no slip.  We see now that the optimised boundary condition has a significant outflow in the hole."
   ]
  },
  {
   "cell_type": "code",
   "execution_count": null,
   "metadata": {},
   "outputs": [],
   "source": [
    "# NBVAL_IGNORE_OUTPUT\n",
    "fig, axes = plt.subplots()\n",
    "arrows = quiver(g_opt, axes=axes, scale=3)\n",
    "axes.set_aspect(\"equal\")\n",
    "axes.set_title(\"Optimised boundary value\");"
   ]
  },
  {
   "cell_type": "markdown",
   "metadata": {},
   "source": [
    "Let's compare the difference in the initial and final values of the functional.  This is done by calling the `ReducedFunctional` object with the control at the requested value."
   ]
  },
  {
   "cell_type": "code",
   "execution_count": null,
   "metadata": {},
   "outputs": [],
   "source": [
    "print(\"Jhat(g) = %.8g\\nJhat(g_opt) = %.8g\" % (Jhat(g), Jhat(g_opt)))"
   ]
  },
  {
   "cell_type": "markdown",
   "metadata": {},
   "source": [
    "To see the optimised flow field, we solve the same problem again, only with the new (optimised) value for the boundary data on $\\Gamma_\\text{circ}$.  This time we're not interested in annotating the solve, so we tell `firedrake-adjoint` to ignore it by passing `annotate=False`."
   ]
  },
  {
   "cell_type": "code",
   "execution_count": null,
   "metadata": {},
   "outputs": [],
   "source": [
    "g.assign(g_opt)\n",
    "w_opt = Function(W)\n",
    "solve(a == L, w_opt, bcs=bcs, solver_parameters={\"mat_type\": \"aij\",\n",
    "                                                 \"ksp_type\": \"preonly\",\n",
    "                                                 \"pc_type\": \"lu\",\n",
    "                                                 \"pc_factor_shift_type\": \"inblocks\"},\n",
    "      annotate=False)"
   ]
  },
  {
   "cell_type": "code",
   "execution_count": null,
   "metadata": {},
   "outputs": [],
   "source": [
    "# NBVAL_IGNORE_OUTPUT\n",
    "u_opt, p_opt = w_opt.split()\n",
    "\n",
    "fig, axes = plt.subplots(nrows=2, sharex=True, sharey=True)\n",
    "streamlines = streamplot(u_opt, resolution=1/3, seed=0, axes=axes[0])\n",
    "fig.colorbar(streamlines, ax=axes[0], fraction=0.046)\n",
    "axes[0].set_aspect(\"equal\")\n",
    "axes[0].set_title(\"Optimized velocity\")\n",
    "\n",
    "contours = tricontourf(p_opt, 30, axes=axes[1])\n",
    "fig.colorbar(contours, ax=axes[1], fraction=0.046)\n",
    "axes[1].set_aspect(\"equal\")\n",
    "axes[1].set_title(\"Optimized pressure\");"
   ]
  },
  {
   "cell_type": "markdown",
   "metadata": {},
   "source": [
    "Now that we are done optimising this problem, and so that the recorded annotations do not leak into the exercise, we tell `firedrake-adjoint` to *forget* all of the entries on its tape."
   ]
  },
  {
   "cell_type": "code",
   "execution_count": null,
   "metadata": {},
   "outputs": [],
   "source": [
    "tape = get_working_tape()\n",
    "tape.clear_tape()"
   ]
  },
  {
   "cell_type": "markdown",
   "metadata": {},
   "source": [
    "## Exercise:\n",
    "\n",
    "Go back to the start of the notebook and consider a different inflow velocity. For example, try\n",
    "$$u = \\left[\\frac{y^2(10 - y)}{125}, 0\\right]^T \\quad \\text{on} \\quad \\Gamma_{\\text{in}}.$$\n",
    "\n",
    "How does it affect the solution before and after optimisation? "
   ]
  }
 ],
 "metadata": {
  "kernelspec": {
   "display_name": "Python 3",
   "language": "python",
   "name": "python3"
  },
  "language_info": {
   "codemirror_mode": {
    "name": "ipython",
    "version": 3
   },
   "file_extension": ".py",
   "mimetype": "text/x-python",
   "name": "python",
   "nbconvert_exporter": "python",
   "pygments_lexer": "ipython3",
   "version": "3.7.4"
  }
 },
 "nbformat": 4,
 "nbformat_minor": 2
}

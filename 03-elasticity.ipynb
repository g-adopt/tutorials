{
 "cells": [
  {
   "cell_type": "markdown",
   "metadata": {},
   "source": [
    "# Linear elasticity\n",
    "\n",
    "*This work is adapted from the FEniCS tutorial: https://fenicsproject.org/pub/tutorial/html/._ftut1008.html#ftut:elast*\n",
    "\n",
    "Having studied a few scalar-valued problems, we now move on to a vector-valued problem.  The equations of linear elasticity.  Here, we'll treat the isotropic case.\n",
    "\n",
    "For small deformations, the governing equation is:\n",
    "\n",
    "$$ -\\nabla \\cdot \\sigma = f \\text{ in } \\Omega, $$\n",
    "with\n",
    "$$ \\DeclareMathOperator{\\Tr}{Tr}\n",
    "\\text{the stress tensor}\\quad \\sigma := \\lambda \\Tr(\\epsilon)\\mathbb{I} + 2\\mu\\epsilon\\\\\n",
    "\\text{and the symmetric strain tensor}\\quad   \\epsilon := \\frac{1}{2}\\left(\\nabla u + (\\nabla u)^T\\right), $$\n",
    "where $u$ is the unknown vector displacement field, and $\\mu$ and $\\lambda$ are the Lamè parameters.\n",
    "\n",
    "As before, the variational formulation consists of multiplying by a test function in some suitable finite element space, $v \\in V$, and integrating.  Note that this time, the solution $u$, and hence the test space $V$ are *vector*-valued (so multiplication actually means taking the inner product).\n",
    "\n",
    "We obtain\n",
    "\n",
    "$$ -\\int_\\Omega (\\nabla \\cdot \\sigma)\\cdot v\\,\\mathrm{d}x = \\int_\\Omega f \\cdot v\\,\\mathrm{d}x. $$\n",
    "\n",
    "Since $\\sigma$ is actually a function of derivatives of $u$, we must integrate this term by parts, resulting in\n",
    "\n",
    "$$ \\int_\\Omega \\sigma : \\nabla v\\,\\mathrm{d} x - \\int_\\Gamma (\\sigma \\cdot n)\\cdot v\\,\\mathrm{d} s. = \\int_\\Omega f \\cdot v\\,\\mathrm{d}x.$$\n",
    "\n",
    "We also need to specify boundary conditions.  We can do so either by prescribing the displacement $u$ on the boundary, or the *traction* $\\sigma \\cdot n$.  The former is a *strong* or *Dirichlet* condition, the latter a *weak* or *Neumann* condition.\n",
    "\n",
    "Let us decide on a concrete setting.  We will solve for the displacement of a beam under its own weight clamped at one end.  That is, we will take $\\Omega = [0, L] \\times [0, W]$, we set $u = (0, 0)$ on $\\Gamma_D$, the plane $x = 0$.  On all other boundaries, we have traction-free conditions."
   ]
  },
  {
   "cell_type": "markdown",
   "metadata": {},
   "source": [
    "We start, as usual, by import Firedrake and defining a mesh"
   ]
  },
  {
   "cell_type": "code",
   "execution_count": null,
   "metadata": {},
   "outputs": [],
   "source": [
    "%matplotlib notebook\n",
    "import matplotlib.pyplot as plt\n",
    "# Load Firedrake on Colab\n",
    "try:\n",
    "    import firedrake\n",
    "except ImportError:\n",
    "    !wget \"https://fem-on-colab.github.io/releases/firedrake-install-real.sh\" -O \"/tmp/firedrake-install.sh\" && bash \"/tmp/firedrake-install.sh\"\n",
    "    import firedrake\n",
    "from firedrake import *\n",
    "length = 1\n",
    "width = 0.2\n",
    "mesh = RectangleMesh(40, 20, length, width)"
   ]
  },
  {
   "cell_type": "markdown",
   "metadata": {},
   "source": [
    "We need a function space for the solution variable $u$, this space is vector valued, so we use a `VectorFunctionSpace`.  By default, this constructs a space where the vectors have as many components as the *geometric* dimension of the mesh (two in this case)."
   ]
  },
  {
   "cell_type": "code",
   "execution_count": null,
   "metadata": {},
   "outputs": [],
   "source": [
    "V = VectorFunctionSpace(mesh, \"Lagrange\", 1)"
   ]
  },
  {
   "cell_type": "markdown",
   "metadata": {},
   "source": [
    "We need a boundary condition object for $\\Gamma_D$."
   ]
  },
  {
   "cell_type": "code",
   "execution_count": null,
   "metadata": {},
   "outputs": [],
   "source": [
    "bc = DirichletBC(V, Constant([0, 0]), 1)"
   ]
  },
  {
   "cell_type": "markdown",
   "metadata": {},
   "source": [
    "Now let's define the material parameters.  The deformation due to gravity can be obtained by setting the load vector $f = (0, -\\rho g)$ where $\\rho$ is the material density and $g$ the acceleration due to gravity.  We'll choose $\\rho = 0.01$, and $g = 1$."
   ]
  },
  {
   "cell_type": "code",
   "execution_count": null,
   "metadata": {},
   "outputs": [],
   "source": [
    "rho = Constant(0.01)\n",
    "g = Constant(1)\n",
    "f = as_vector([0, -rho*g])\n",
    "mu = Constant(1)\n",
    "lambda_ = Constant(0.25)\n",
    "Id = Identity(mesh.geometric_dimension()) # 2x2 Identity tensor"
   ]
  },
  {
   "cell_type": "markdown",
   "metadata": {},
   "source": [
    "Now we'll define functions that construct the symbolic expressions for the stress and strain."
   ]
  },
  {
   "cell_type": "code",
   "execution_count": null,
   "metadata": {},
   "outputs": [],
   "source": [
    "def epsilon(u):\n",
    "    return 0.5*(grad(u) + grad(u).T)\n",
    "\n",
    "def sigma(u):\n",
    "    return lambda_*div(u)*Id + 2*mu*epsilon(u)"
   ]
  },
  {
   "cell_type": "markdown",
   "metadata": {},
   "source": [
    "The variational problem can now be solved. Passing the solver parameter `\"ksp_monitor\": None` tells PETSc to print the progress of the linear solver to screen. Firedrake uses a direct solver by default, so it should converge in one iteration."
   ]
  },
  {
   "cell_type": "code",
   "execution_count": null,
   "metadata": {},
   "outputs": [],
   "source": [
    "u = TrialFunction(V)\n",
    "v = TestFunction(V)\n",
    "a = inner(sigma(u), epsilon(v))*dx\n",
    "L = dot(f, v)*dx\n",
    "\n",
    "uh = Function(V)\n",
    "solve(a == L, uh, bcs=bc, solver_parameters={\"ksp_monitor\": None})"
   ]
  },
  {
   "cell_type": "markdown",
   "metadata": {},
   "source": [
    "## Visualising the solution\n",
    "We solved the equations in *displacement* formulation.  That is, the $u_h$ we obtain is a perturbation to the original coordinate field of the mesh.  If we want to view the output, we can either use the original mesh, or we can create a new mesh with the displaced coordinates: $\\hat{X} = X + u_h$."
   ]
  },
  {
   "cell_type": "code",
   "execution_count": null,
   "metadata": {},
   "outputs": [],
   "source": [
    "displaced_coordinates = interpolate(SpatialCoordinate(mesh) + uh, V)\n",
    "displaced_mesh = Mesh(displaced_coordinates)"
   ]
  },
  {
   "cell_type": "markdown",
   "metadata": {},
   "source": [
    "This created a new mesh with a coordinate field provided by `displaced_coordinates` that nevertheless shares a *topology* with the original, regular, mesh.  We could, if we wanted to, go ahead and solve variational problems on this new mesh, however, we've only done this so we can see the elastic deformation.\n",
    "Here we're using the matplotlib API for [Axes](https://matplotlib.org/api/axes_api.html) objects to make the horizontal and vertical axes equally spaced."
   ]
  },
  {
   "cell_type": "code",
   "execution_count": null,
   "metadata": {},
   "outputs": [],
   "source": [
    "# NBVAL_IGNORE_OUTPUT\n",
    "fig, axes = plt.subplots()\n",
    "triplot(displaced_mesh, axes=axes)\n",
    "axes.set_aspect(\"equal\");"
   ]
  },
  {
   "cell_type": "markdown",
   "metadata": {},
   "source": [
    "# Exercises\n",
    "\n",
    "Modify the problem so that the material density $\\rho$ is not constant, but rather varies in space.  For example, you could try setting $\\rho(x, y) = 0.01 + xy$.  That is, the material gets denser the futher away from the clamped end you get.\n",
    "\n",
    "- Hint 1: The values for the components of `as_vector` can be arbitrary UFL expressions.\n",
    "- Hint 2: You can get symbolic expressions for the coordinates with `x, y = SpatialCoordinate(mesh)`."
   ]
  },
  {
   "cell_type": "code",
   "execution_count": null,
   "metadata": {},
   "outputs": [],
   "source": []
  },
  {
   "cell_type": "markdown",
   "metadata": {},
   "source": [
    "# Solving bigger problems\n",
    "\n",
    "Up to now, we've only really solved quite small problems, and therefore haven't really had to worry about tuning the solver. As we increase the size of the problem we're solving, the direct solver approach will no longer be good enough.  Firedrake uses [PETSc](http://www.mcs.anl.gov/petsc) to provide solvers, and uses PETSc solver parameters to control them.\n",
    "\n",
    "Let's dive straight in.  We'll write a function that solves the same elasticity problem, but takes parameters for the number of cells in the mesh, as well as a dictionary of solver options."
   ]
  },
  {
   "cell_type": "code",
   "execution_count": null,
   "metadata": {},
   "outputs": [],
   "source": [
    "def solve_elasticity(nx, ny, options=None, **kwargs):\n",
    "    length = 1\n",
    "    width = 0.2\n",
    "    mesh = RectangleMesh(nx, ny, length, width)\n",
    "    V = VectorFunctionSpace(mesh, \"Lagrange\", 1)\n",
    "    rho = Constant(0.01)\n",
    "    g = Constant(1)\n",
    "    f = as_vector([0, -rho*g])\n",
    "    mu = Constant(1)\n",
    "    lambda_ = Constant(0.25)\n",
    "    Id = Identity(mesh.geometric_dimension()) # 2x2 Identity tensor\n",
    "    def epsilon(u):\n",
    "        return 0.5*(grad(u) + grad(u).T)\n",
    "\n",
    "    def sigma(u):\n",
    "        return lambda_*div(u)*Id + 2*mu*epsilon(u)    \n",
    "    \n",
    "    bc = DirichletBC(V, Constant([0, 0]), 1)\n",
    "    u = TrialFunction(V)\n",
    "    v = TestFunction(V)\n",
    "    a = inner(sigma(u), epsilon(v))*dx\n",
    "    L = dot(f, v)*dx\n",
    "\n",
    "    uh = Function(V)\n",
    "    solve(a == L, uh, bcs=bc, solver_parameters=options, **kwargs)\n",
    "    return uh"
   ]
  },
  {
   "cell_type": "markdown",
   "metadata": {},
   "source": [
    "The problem is solved with a Krylov method, so let's limit ourselves to just 100 iterations.  Moreover, it is symmetric positive definite, so let's use the conjugate gradient method.\n",
    "Let's not worry about preconditioning for now and set `\"pc_type\": \"none\"`."
   ]
  },
  {
   "cell_type": "code",
   "execution_count": null,
   "metadata": {},
   "outputs": [],
   "source": [
    "# NBVAL_RAISES_EXCEPTION\n",
    "uh = solve_elasticity(100, 100, options={\"ksp_max_it\": 100, \"ksp_type\": \"cg\", \"pc_type\": \"none\"})"
   ]
  },
  {
   "cell_type": "markdown",
   "metadata": {},
   "source": [
    "Oh no!  We didn't get a solution.  This is because the linear system is ill conditioned.  Fortunately, good preconditioning strategies exist for elasticity problems.  For example, smoothed aggregation multigrid.  We can access PETSc's implementation of this scheme, GAMG, by specifying the appropriate preconditioner. In order to reduce the verbosity of the linear solver progress monitoring, we use `\"ksp_converged_reason\": None`, instead of `\"ksp_monitor\": None`."
   ]
  },
  {
   "cell_type": "code",
   "execution_count": null,
   "metadata": {},
   "outputs": [],
   "source": [
    "uh = solve_elasticity(200, 200, options={\"ksp_type\": \"cg\", \n",
    "                                         \"ksp_max_it\": 100, \n",
    "                                         \"pc_type\": \"gamg\",\n",
    "                                         \"mg_levels_pc_type\": \"sor\",\n",
    "                                         \"ksp_converged_reason\": None})"
   ]
  },
  {
   "cell_type": "markdown",
   "metadata": {},
   "source": [
    "This is still not ideal, taking quite a few iterations.  It turns out that for smoothed aggregation to work well, the preconditioner needs access to the near nullspace of the operator.  That is, the null modes of the operator if no Dirichlet conditions were applied.  For elasticity, these are the rigid body modes of translation and rotation.  We must build these and supply them to the solver.  To do so, we must create a `VectorSpaceBasis`:"
   ]
  },
  {
   "cell_type": "code",
   "execution_count": null,
   "metadata": {},
   "outputs": [],
   "source": [
    "def solve_elasticity(nx, ny, options=None, **kwargs):\n",
    "    length = 1\n",
    "    width = 0.2\n",
    "    mesh = RectangleMesh(nx, ny, length, width)\n",
    "    V = VectorFunctionSpace(mesh, \"CG\", 1)\n",
    "    rho = Constant(0.01)\n",
    "    g = Constant(1)\n",
    "    f = as_vector([0, -rho*g])\n",
    "    mu = Constant(1)\n",
    "    lambda_ = Constant(0.25)\n",
    "    Id = Identity(mesh.geometric_dimension()) # 2x2 Identity tensor\n",
    "    def epsilon(u):\n",
    "        return 0.5*(grad(u) + grad(u).T)\n",
    "\n",
    "    def sigma(u):\n",
    "        return lambda_*div(u)*Id + 2*mu*epsilon(u)    \n",
    "    bc = DirichletBC(V, Constant([0, 0]), 1)\n",
    "    u = TrialFunction(V)\n",
    "    v = TestFunction(V)\n",
    "    a = inner(sigma(u), epsilon(v))*dx\n",
    "    L = dot(f, v)*dx\n",
    "\n",
    "    # create rigid body modes\n",
    "    x, y = SpatialCoordinate(mesh)\n",
    "    b0 = Function(V)\n",
    "    b1 = Function(V)\n",
    "    b2 = Function(V)\n",
    "    b0.interpolate(Constant([1, 0]))\n",
    "    b1.interpolate(Constant([0, 1]))\n",
    "    b2.interpolate(as_vector([-y, x]))\n",
    "    nullmodes = VectorSpaceBasis([b0, b1, b2])\n",
    "    # Make sure they're orthonormal.\n",
    "    nullmodes.orthonormalize()\n",
    "    uh = Function(V)\n",
    "    solve(a == L, uh, bcs=bc, solver_parameters=options, near_nullspace=nullmodes)\n",
    "    return uh"
   ]
  },
  {
   "cell_type": "markdown",
   "metadata": {},
   "source": [
    "With this done, the problem is solved in a reasonably small number of Krylov iterations."
   ]
  },
  {
   "cell_type": "code",
   "execution_count": null,
   "metadata": {},
   "outputs": [],
   "source": [
    "uh = solve_elasticity(200, 200, options={\"ksp_type\": \"cg\", \n",
    "                                         \"ksp_max_it\": 100, \n",
    "                                         \"pc_type\": \"gamg\",\n",
    "                                         \"mg_levels_pc_type\": \"sor\",\n",
    "                                         \"ksp_converged_reason\": None})"
   ]
  },
  {
   "cell_type": "markdown",
   "metadata": {},
   "source": [
    "## Exercise\n",
    "\n",
    "Study what happens to the number of iterations for this last setup as you change the mesh resolution.  Try, perhaps, 10, 50, 100, and 200."
   ]
  },
  {
   "cell_type": "code",
   "execution_count": null,
   "metadata": {},
   "outputs": [],
   "source": []
  }
 ],
 "metadata": {
  "kernelspec": {
   "display_name": "Python 3",
   "language": "python",
   "name": "python3"
  },
  "language_info": {
   "codemirror_mode": {
    "name": "ipython",
    "version": 3
   },
   "file_extension": ".py",
   "mimetype": "text/x-python",
   "name": "python",
   "nbconvert_exporter": "python",
   "pygments_lexer": "ipython3",
   "version": "3.7.4"
  }
 },
 "nbformat": 4,
 "nbformat_minor": 1
}

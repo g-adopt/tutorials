{
 "cells": [
  {
   "cell_type": "markdown",
   "id": "f2b9037c",
   "metadata": {},
   "source": [
    "Compressible (ALA) 2-D mantle convection problem in a square box\n",
    "================================================================\n",
    "\n",
    "We next highlight the ease at which simulations can be updated to\n",
    "incorporate more realistic physical approximations. We first account\n",
    "for compressibility, under the Anelastic Liquid Approximation (ALA),\n",
    "simulating a well-established 2-D benchmark case from King et al. (2010).\n",
    "Boundary conditions and material properties are otherwise identical to the\n",
    "previous tutorial.\n",
    "\n",
    "Governing equations\n",
    "-------------------\n",
    "\n",
    "Density changes across Earth's mantle result primarily from hydrostatic compression,\n",
    "with density increasing by $\\approx 65\\%$ from surface to core-mantle-boundary (CMB).\n",
    "Variations in density associated with local temperature and pressure perturbations are\n",
    "small in comparison to the spherically averaged density. For a chemically homogeneous\n",
    "mantle, it is therefore appropriate to assume a linearised equation of state, of the form:\n",
    "\n",
    "$$ \\rho = \\bar \\rho(\\bar T, \\bar p) + \\rho', $$\n",
    "\n",
    "which can be further expanded as follows:\n",
    "\n",
    "$$ \\rho = \\bar \\rho(\\bar T, \\bar p) + \\bar \\rho (\\bar \\chi_{_T} p' - \\bar \\alpha  T'). $$\n",
    "\n",
    "Here $\\rho$, $p$, $T$, $\\chi_{_T}$ and $\\alpha$ denote density, pressure, temperature,\n",
    "isothermal compressibility and the coefficient of thermal expansion, respectively,\n",
    "whilst overbars refer to a reference state and primes to departures from it:\n",
    "\n",
    "$$ T = \\bar T + T', \\quad \\quad p = \\bar p + p'. $$\n",
    "\n",
    "It is convenient to take the reference state as motionless and steady. Accordingly, for\n",
    "the purposes of the compressible case examined here, we will assume that the reference\n",
    "state varies as a function of depth, $z$, only. The reference state pressure thus satisfies\n",
    "the hydrostatic approximation:\n",
    "\n",
    "$$ \\frac{\\partial \\bar p}{\\partial z} = \\bar \\rho \\bar \\bf{g} \\cdot \\hat{\\vec{k}}, $$\n",
    "\n",
    "where $\\mathbf{g}$ is the acceleration of gravity and $\\hat{\\vec{k}}$ is the unit vector in\n",
    "the direction opposite to gravity. On Earth, $\\mathbf{g}$ is a function of position, however,\n",
    "for simplicity, it will be assumed constant here. Following\n",
    "King et al. (2010), the reference density and reference temperature are described through an\n",
    "adiabatic Adams-Williamson equation of state, where:\n",
    "\n",
    "$$ \\bar \\rho(z) = \\rho_{0}  \\;  \\mbox{exp} \\Bigl (\\frac{\\alpha_{0} g_{0}}{\\gamma_{0}c_{p_{0}}} z \\Bigr ) $$\n",
    "\n",
    "and:\n",
    "\n",
    "$$ \\bar T(z) = T_{s}  \\;  \\mbox{exp} \\Bigl (\\frac{\\alpha_{0} g_{0}}{c_{p_{0}}} z \\Bigr ). $$\n",
    "\n",
    "Here, $c_p$ and $T_{s}$ represent the specific heat capacity at constant pressure and surface temperature,\n",
    "respectively, whilst $\\gamma_{0}$ denotes the Gruneisen parameter, given by:\n",
    "$$ \\gamma_{0} = \\frac{\\alpha_{0}}{\\rho_{0} c_{v_{0}} \\chi_{_{T_0}} }, $$\n",
    "\n",
    "where $c_{v}$ denotes the specific heat capacity at constant volume. Variables with a sub-script $0$ are constants,\n",
    "used in defining the reference state. Here, they are defined at the domain's upper surface.\n",
    "\n",
    "Assuming a linearised equation of state, the dimensionless form of the conservation of mass equation under the\n",
    "Anelastic Liquid Approximation (ALA) can be expressed as:\n",
    "\n",
    "$$ \\nabla \\cdot (\\bar \\rho \\mathbf{u}) = 0,$$\n",
    "\n",
    "where $\\mathbf{u}$ is the velocity. Neglecting inertial terms, the force balance equation becomes:\n",
    "\n",
    "$$ \\mathbf{\\nabla} \\cdot \\left[ \\mu \\left(\\nabla \\mathbf{u} + \\nabla \\mathbf{u}^{T} - \\frac{2}{3} \\nabla \\cdot \\mathbf{u} \\, \\mathbf I \\right) \\right] -  \\nabla p' - Ra \\bar \\rho \\hat{\\vec{k}} \\bar \\alpha T' - \\frac{Di}{\\gamma_0} \\frac{c_{p_{0}}}{c_{v_{0}}} \\bar \\rho \\hat{\\vec{k}} \\bar \\chi_{_T} p' = 0, $$\n",
    "\n",
    "where $\\mu$ denotes the dynamic viscosity, $\\mathbf I$ the identity tensor, $Ra$ the Rayleigh number, and $Di$ the dissipation number given by, respectively:\n",
    "\n",
    "$$ Ra = \\frac{\\rho_{0} \\alpha_{0} \\Delta T g_{0} d^{3}}{\\mu_{0} \\kappa_{0}}; \\;  \\quad Di = \\frac{\\alpha_{0} g_{0}d}{c_{p_{0}}}, $$\n",
    "\n",
    "with $\\kappa$ denoting the thermal diffusivity, $d$ the length scale and $\\Delta T$ the temperature scale. Note that the last\n",
    "but one term in the force-balance equation above is expressed in terms of the temperature perturbation, $T'$.\n",
    "Finally, in the absence of internal heating, conservation of energy is expressed as:\n",
    "\n",
    "$$ \\bar \\rho \\bar c_{p} \\biggl( \\frac{\\partial T'}{\\partial t} + \\vec{u}\\cdot \\nabla T' \\biggr) - \\nabla \\cdot \\Bigl [\\bar k \\nabla (\\bar T + T') \\Bigr ] + Di \\bar \\alpha \\bar \\rho \\bar \\bf{g} \\cdot \\mathbf{u} T' - \\frac{Di}{Ra}  \\Phi = 0, $$\n",
    "\n",
    "where $k$ is the thermal conductivity and $\\Phi$ denotes viscous dissipation. The final two terms represent adiabatic heating and viscous dissipation, respectively.\n",
    "\n",
    "As can be seen, these equations differ appreciably from the incompressible\n",
    "approximations utilised in our previous tutorial, with important updates to all\n",
    "three governing equations. Despite this, the changes required to incorporate these\n",
    "equations, within UFL and G-ADOPT, are minimal.\n",
    "\n",
    "This example\n",
    "------------\n",
    "\n",
    "In this example, we simulate compressible convection, for an isoviscous material,\n",
    "under ALA. We specify $Ra=10^5$ and a dissipation number $Di=0.5$.\n",
    "The model is heated from below $ T = 1.0 - (T0*\\mbox{exp}(Di) - T0)$, cooled from the top (T=0)\n",
    "in an enclosed 2-D Cartesian box (i.e. free-slip mechanical boundary\n",
    "conditions on all boundaries).\n",
    "\n",
    "As with all examples, the first step is to import the gadopt module, which\n",
    "provides access to Firedrake and associated functionality."
   ]
  },
  {
   "cell_type": "code",
   "execution_count": null,
   "id": "5efd4b57",
   "metadata": {},
   "outputs": [],
   "source": [
    "try:\n",
    "    from gadopt import *\n",
    "except ImportError:\n",
    "    !wget \"https://fem-on-colab.github.io/releases/firedrake-install-real.sh\" -O \"/tmp/firedrake-install.sh\" && bash \"/tmp/firedrake-install.sh\"\n",
    "    !pip install gadopt[demos]\n",
    "    from gadopt import *"
   ]
  },
  {
   "cell_type": "markdown",
   "id": "d77835b3",
   "metadata": {},
   "source": [
    "We next set up the mesh, function spaces, and specify functions to hold our solutions,\n",
    "identically to our previous tutorials."
   ]
  },
  {
   "cell_type": "code",
   "execution_count": null,
   "id": "137de52a",
   "metadata": {},
   "outputs": [],
   "source": [
    "nx, ny = 40, 40  # Number of cells in x and y directions.\n",
    "mesh = UnitSquareMesh(nx, ny, quadrilateral=True)  # Square mesh generated via firedrake\n",
    "mesh.cartesian = True\n",
    "left_id, right_id, bottom_id, top_id = 1, 2, 3, 4  # Boundary IDs\n",
    "\n",
    "V = VectorFunctionSpace(mesh, \"CG\", 2)  # Velocity function space (vector)\n",
    "W = FunctionSpace(mesh, \"CG\", 1)  # Pressure function space (scalar)\n",
    "Q = FunctionSpace(mesh, \"CG\", 2)  # Temperature function space (scalar)\n",
    "Z = MixedFunctionSpace([V, W])  # Mixed function space.\n",
    "\n",
    "z = Function(Z)  # A field over the mixed function space Z.\n",
    "u, p = split(z)  # Returns symbolic UFL expression for u and p\n",
    "z.subfunctions[0].rename(\"Velocity\")\n",
    "z.subfunctions[1].rename(\"Pressure\")"
   ]
  },
  {
   "cell_type": "markdown",
   "id": "a06754b8",
   "metadata": {},
   "source": [
    "We next specify the important constants for this problem, including those associated with the\n",
    "compressible reference state. Note that for ease of extension, we specify these as functions,\n",
    "allowing for spatial variability."
   ]
  },
  {
   "cell_type": "code",
   "execution_count": null,
   "id": "69449c88",
   "metadata": {},
   "outputs": [],
   "source": [
    "X = SpatialCoordinate(mesh)\n",
    "Ra = Constant(1e5)  # Rayleigh number\n",
    "Di = Constant(0.5)  # Dissipation number\n",
    "T0 = Constant(0.091)  # Non-dimensional surface temperature\n",
    "rhobar = Function(Q, name=\"CompRefDensity\").interpolate(exp((1.0 - X[1]) * Di))  # Reference density\n",
    "Tbar = Function(Q, name=\"CompRefTemperature\").interpolate(T0 * exp((1.0 - X[1]) * Di) - T0)  # Reference temperature\n",
    "alphabar = Function(Q, name=\"IsobaricThermalExpansivity\").assign(1.0)  # Thermal expansivity\n",
    "cpbar = Function(Q, name=\"IsobaricSpecificHeatCapacity\").assign(1.0)  # Specific heat capacity\n",
    "chibar = Function(Q, name=\"IsothermalBulkModulus\").assign(1.0)  # Bulk modulus\n",
    "gbar = Function(Q, name=\"GravitationalAcceleration\").assign(1.0)  # radial gravity"
   ]
  },
  {
   "cell_type": "markdown",
   "id": "915291f9",
   "metadata": {},
   "source": [
    "These fields are used to set up our Truncated Anelastic Liquid Approximation. Alongside dropping the\n",
    "requirement for specifying the bulk modulus, this is the key change relative to our tutorial under the ALA approximation."
   ]
  },
  {
   "cell_type": "code",
   "execution_count": null,
   "id": "43dcfc41",
   "metadata": {},
   "outputs": [],
   "source": [
    "approximation = AnelasticLiquidApproximation(Ra, Di, rho=rhobar, Tbar=Tbar, alpha=alphabar, cp=cpbar, chi=chibar, g=gbar)"
   ]
  },
  {
   "cell_type": "markdown",
   "id": "feda00cf",
   "metadata": {},
   "source": [
    "As with the previous example, we next set up a *Timestep Adaptor*,\n",
    "for controlling the time-step length (via a CFL\n",
    "criterion) as the simulation advances in time. For the latter,\n",
    "we specify the initial time, initial timestep $\\Delta t$, and number of\n",
    "timesteps. Given the low Ra, a steady-state tolerance is also specified,\n",
    "allowing the simulation to exit when a steady-state has been achieved.\n",
    "The steady-state tolerance specified here is tight, and can be increased\n",
    "to speed up the simulation, as required."
   ]
  },
  {
   "cell_type": "code",
   "execution_count": null,
   "id": "7cfbffe9",
   "metadata": {},
   "outputs": [],
   "source": [
    "time = 0.0  # Initial time\n",
    "delta_t = Constant(1e-6)  # Initial time-step\n",
    "timesteps = 20000  # Maximum number of timesteps\n",
    "t_adapt = TimestepAdaptor(delta_t, u, V, maximum_timestep=0.1, increase_tolerance=1.5)\n",
    "steady_state_tolerance = 1e-9  # Used to determine if solution has reached a steady state."
   ]
  },
  {
   "cell_type": "markdown",
   "id": "128ff9e9",
   "metadata": {},
   "source": [
    "We next set up and initialise our Temperature field. Note that here, we take into consideration\n",
    "the non-dimensional surface temperature, T0. The full temperature field is also initialised."
   ]
  },
  {
   "cell_type": "code",
   "execution_count": null,
   "id": "b38ebda0",
   "metadata": {},
   "outputs": [],
   "source": [
    "T = Function(Q, name=\"Temperature\")\n",
    "T.interpolate((1.0 - (T0*exp(Di) - T0)) * ((1.0-X[1]) + (0.05*cos(pi*X[0])*sin(pi*X[1]))))\n",
    "FullT = Function(Q, name=\"FullTemperature\").assign(T+Tbar)"
   ]
  },
  {
   "cell_type": "markdown",
   "id": "94638a29",
   "metadata": {},
   "source": [
    "This problem has a constant pressure nullspace, handled identically to our\n",
    "previous tutorial."
   ]
  },
  {
   "cell_type": "code",
   "execution_count": null,
   "id": "2f3d9c03",
   "metadata": {},
   "outputs": [],
   "source": [
    "Z_nullspace = create_stokes_nullspace(Z, closed=True, rotational=False)"
   ]
  },
  {
   "cell_type": "markdown",
   "id": "20f42f58",
   "metadata": {},
   "source": [
    "Boundary conditions are next specified."
   ]
  },
  {
   "cell_type": "code",
   "execution_count": null,
   "id": "8c30db87",
   "metadata": {},
   "outputs": [],
   "source": [
    "stokes_bcs = {\n",
    "    bottom_id: {'uy': 0},\n",
    "    top_id: {'uy': 0},\n",
    "    left_id: {'ux': 0},\n",
    "    right_id: {'ux': 0},\n",
    "}\n",
    "\n",
    "temp_bcs = {\n",
    "    bottom_id: {'T': 1.0 - (T0*exp(Di) - T0)},\n",
    "    top_id: {'T': 0.0},\n",
    "}"
   ]
  },
  {
   "cell_type": "markdown",
   "id": "2688adee",
   "metadata": {},
   "source": [
    "We next set up our output, in VTK format, including a file\n",
    "that allows us to visualise the reference state.\n",
    "We also open a file for logging and calculate our diagnostic outputs."
   ]
  },
  {
   "cell_type": "code",
   "execution_count": null,
   "id": "a86688a5",
   "metadata": {},
   "outputs": [],
   "source": [
    "output_file = VTKFile(\"output.pvd\")\n",
    "ref_file = VTKFile('reference_state.pvd')\n",
    "output_frequency = 50\n",
    "\n",
    "plog = ParameterLog('params.log', mesh)\n",
    "plog.log_str(\n",
    "    \"timestep time dt maxchange u_rms u_rms_surf ux_max nu_base \"\n",
    "    \"nu_top energy avg_t rate_work_g rate_viscous energy_2\")\n",
    "\n",
    "gd = GeodynamicalDiagnostics(z, FullT, bottom_id, top_id)\n"
   ]
  },
  {
   "cell_type": "markdown",
   "id": "14357d6b",
   "metadata": {},
   "source": [
    "We can now setup and solve the variational problem, for both the energy and Stokes equations,\n",
    "passing in the approximation configured above."
   ]
  },
  {
   "cell_type": "code",
   "execution_count": null,
   "id": "d7cb3e03",
   "metadata": {},
   "outputs": [],
   "source": [
    "energy_solver = EnergySolver(T, u, approximation, delta_t, ImplicitMidpoint, bcs=temp_bcs)\n",
    "\n",
    "stokes_solver = StokesSolver(z, T, approximation, bcs=stokes_bcs,\n",
    "                             transpose_nullspace=Z_nullspace,\n",
    "                             constant_jacobian=True)"
   ]
  },
  {
   "cell_type": "markdown",
   "id": "74033703",
   "metadata": {},
   "source": [
    "Next initiate the time loop, which runs until a steady-state solution has been attained:"
   ]
  },
  {
   "cell_type": "code",
   "execution_count": null,
   "id": "d4d630a1",
   "metadata": {},
   "outputs": [],
   "source": [
    "for timestep in range(0, timesteps):\n",
    "\n",
    "    # Write output:\n",
    "    if timestep % output_frequency == 0:\n",
    "        output_file.write(*z.subfunctions, T, FullT)\n",
    "        ref_file.write(rhobar, Tbar, alphabar, cpbar, chibar)\n",
    "\n",
    "    dt = t_adapt.update_timestep()\n",
    "    time += dt\n",
    "\n",
    "    # Solve Stokes sytem:\n",
    "    stokes_solver.solve()\n",
    "\n",
    "    # Temperature system:\n",
    "    energy_solver.solve()\n",
    "\n",
    "    # Compute diagnostics:\n",
    "    energy_conservation = abs(abs(gd.Nu_top()) - abs(gd.Nu_bottom()))\n",
    "    rate_work_against_gravity = assemble(approximation.work_against_gravity(u, T)*dx)\n",
    "    rate_viscous_dissipation = assemble(approximation.viscous_dissipation(u)*dx)\n",
    "    energy_conservation_2 = abs(rate_work_against_gravity - rate_viscous_dissipation)\n",
    "\n",
    "    # Calculate L2-norm of change in temperature:\n",
    "    maxchange = sqrt(assemble((T - energy_solver.T_old)**2 * dx))\n",
    "\n",
    "    # Log diagnostics:\n",
    "    plog.log_str(f\"{timestep} {time} {float(delta_t)} {maxchange} \"\n",
    "                 f\"{gd.u_rms()} {gd.u_rms_top()} {gd.ux_max(top_id)} {gd.Nu_bottom()} \"\n",
    "                 f\"{gd.Nu_top()} {energy_conservation} {gd.T_avg()} \"\n",
    "                 f\"{rate_work_against_gravity} {rate_viscous_dissipation} \"\n",
    "                 f\"{energy_conservation_2}\")\n",
    "\n",
    "    # Calculate Full T\n",
    "    FullT.assign(T+Tbar)\n",
    "\n",
    "    # Leave if steady-state has been achieved:\n",
    "    if maxchange < steady_state_tolerance:\n",
    "        log(\"Steady-state achieved -- exiting time-step loop\")\n",
    "        break"
   ]
  },
  {
   "cell_type": "markdown",
   "id": "f987253b",
   "metadata": {},
   "source": [
    "At the end of the simulation, once a steady-state has been achieved, we close our logging file\n",
    "and checkpoint steady state temperature and Stokes solution fields to disk. These can later be\n",
    "used to restart a simulation, if required."
   ]
  },
  {
   "cell_type": "code",
   "execution_count": null,
   "id": "c675c108",
   "metadata": {},
   "outputs": [],
   "source": [
    "plog.close()\n",
    "\n",
    "with CheckpointFile(\"Final_State.h5\", \"w\") as final_checkpoint:\n",
    "    final_checkpoint.save_mesh(mesh)\n",
    "    final_checkpoint.save_function(T, name=\"Temperature\")\n",
    "    final_checkpoint.save_function(z, name=\"Stokes\")"
   ]
  },
  {
   "cell_type": "markdown",
   "id": "a226a38d",
   "metadata": {},
   "source": [
    "We can visualise the final temperature field using Firedrake's\n",
    "built-in plotting functionality."
   ]
  },
  {
   "cell_type": "code",
   "execution_count": null,
   "id": "90964c8c",
   "metadata": {
    "tags": [
     "active-ipynb"
    ]
   },
   "outputs": [],
   "source": [
    "import matplotlib.pyplot as plt\n",
    "fig, axes = plt.subplots()\n",
    "collection = tripcolor(T, axes=axes, cmap='coolwarm')\n",
    "fig.colorbar(collection);"
   ]
  },
  {
   "cell_type": "markdown",
   "id": "187c8353",
   "metadata": {},
   "source": [
    "The same can be done for the final Full temperature field."
   ]
  },
  {
   "cell_type": "code",
   "execution_count": null,
   "id": "cd7a0218",
   "metadata": {
    "tags": [
     "active-ipynb"
    ]
   },
   "outputs": [],
   "source": [
    "fig, axes = plt.subplots()\n",
    "collection = tripcolor(FullT, axes=axes, cmap='coolwarm')\n",
    "fig.colorbar(collection);"
   ]
  }
 ],
 "metadata": {
  "jupytext": {
   "cell_metadata_filter": "tags,-all",
   "main_language": "python",
   "notebook_metadata_filter": "-all"
  }
 },
 "nbformat": 4,
 "nbformat_minor": 5
}

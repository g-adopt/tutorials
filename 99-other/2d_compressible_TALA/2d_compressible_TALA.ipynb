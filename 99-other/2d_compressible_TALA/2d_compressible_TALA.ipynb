{
 "cells": [
  {
   "cell_type": "markdown",
   "id": "791f24c6",
   "metadata": {},
   "source": [
    "Compressible (TALA) 2-D mantle convection problem in a square box\n",
    "=======================================================\n",
    "\n",
    "It is common practice within the geodynamical modelling community to\n",
    "neglect dynamic pressure's effect on buoyancy terms in the force-balance equation, under the\n",
    "so-called Truncated Anelastic Liquid Approximation (TALA). Our previous tutorial,\n",
    "which examined convection under the Anelastic Liquid Approximation (ALA),\n",
    "can be easily modified to take this change into account, as we demonstrate here.\n",
    "\n",
    "This example\n",
    "------------\n",
    "\n",
    "In this example, we simulate compressible convection, for an isoviscous material,\n",
    "under TALA. We specify $Ra=10^5$ and a dissipation number $Di=0.5$.\n",
    "The model is heated from below $ T = 1.0 - (T0*\\mbox{exp}(Di) - T0)$, cooled from the top (T=0)\n",
    "in an enclosed 2-D Cartesian box (i.e. free-slip mechanical boundary\n",
    "conditions on all boundaries).\n",
    "\n",
    "As with all examples, the first step is to import the gadopt module, which\n",
    "provides access to Firedrake and associated functionality."
   ]
  },
  {
   "cell_type": "code",
   "execution_count": null,
   "id": "94c8f1d0",
   "metadata": {},
   "outputs": [],
   "source": [
    "try:\n",
    "    from gadopt import *\n",
    "except ImportError:\n",
    "    !wget \"https://fem-on-colab.github.io/releases/firedrake-install-real.sh\" -O \"/tmp/firedrake-install.sh\" && bash \"/tmp/firedrake-install.sh\"\n",
    "    !pip install gadopt[demos]\n",
    "    from gadopt import *"
   ]
  },
  {
   "cell_type": "markdown",
   "id": "5c9c7206",
   "metadata": {},
   "source": [
    "We next set up the mesh, function spaces, and specify functions to hold our solutions,\n",
    "identically to our previous tutorials."
   ]
  },
  {
   "cell_type": "code",
   "execution_count": null,
   "id": "22a48737",
   "metadata": {},
   "outputs": [],
   "source": [
    "nx, ny = 40, 40  # Number of cells in x and y directions.\n",
    "mesh = UnitSquareMesh(nx, ny, quadrilateral=True)  # Square mesh generated via firedrake\n",
    "mesh.cartesian = True\n",
    "left_id, right_id, bottom_id, top_id = 1, 2, 3, 4  # Boundary IDs\n",
    "\n",
    "V = VectorFunctionSpace(mesh, \"CG\", 2)  # Velocity function space (vector)\n",
    "W = FunctionSpace(mesh, \"CG\", 1)  # Pressure function space (scalar)\n",
    "Q = FunctionSpace(mesh, \"CG\", 2)  # Temperature function space (scalar)\n",
    "Z = MixedFunctionSpace([V, W])  # Mixed function space.\n",
    "\n",
    "z = Function(Z)  # A field over the mixed function space Z.\n",
    "u, p = split(z)  # Returns symbolic UFL expression for u and p\n",
    "z.subfunctions[0].rename(\"Velocity\")\n",
    "z.subfunctions[1].rename(\"Pressure\")"
   ]
  },
  {
   "cell_type": "markdown",
   "id": "2dae9283",
   "metadata": {},
   "source": [
    "We next specify the important constants for this problem, including those associated with the\n",
    "compressible reference state. Note that for ease of extension, we specify these as functions,\n",
    "allowing for spatial variability. Given that we neglect the effect of dynamic pressure on\n",
    "buoyancy in this example, we do not need to specify the bulk modulus (chibar)."
   ]
  },
  {
   "cell_type": "code",
   "execution_count": null,
   "id": "b227e84d",
   "metadata": {},
   "outputs": [],
   "source": [
    "X = SpatialCoordinate(mesh)\n",
    "Ra = Constant(1e5)  # Rayleigh number\n",
    "Di = Constant(0.5)  # Dissipation number\n",
    "T0 = Constant(0.091)  # Non-dimensional surface temperature\n",
    "rhobar = Function(Q, name=\"CompRefDensity\").interpolate(exp((1.0 - X[1]) * Di))  # Reference density\n",
    "Tbar = Function(Q, name=\"CompRefTemperature\").interpolate(T0 * exp((1.0 - X[1]) * Di) - T0)  # Reference temperature\n",
    "alphabar = Function(Q, name=\"IsobaricThermalExpansivity\").assign(1.0)  # Thermal expansivity\n",
    "cpbar = Function(Q, name=\"IsobaricSpecificHeatCapacity\").assign(1.0)  # Specific heat capacity\n",
    "gbar = Function(Q, name=\"GravitationalAcceleration\").assign(1.0)  # radial gravity"
   ]
  },
  {
   "cell_type": "markdown",
   "id": "9e14eed6",
   "metadata": {},
   "source": [
    "These fields are used to set up our Truncated Anelastic Liquid Approximation. Alongside dropping the\n",
    "requirement for specifying the bulk modulus, this is the key change relative to our tutorial under the ALA approximation."
   ]
  },
  {
   "cell_type": "code",
   "execution_count": null,
   "id": "8d9ebfde",
   "metadata": {},
   "outputs": [],
   "source": [
    "approximation = TruncatedAnelasticLiquidApproximation(Ra, Di, rho=rhobar, Tbar=Tbar, alpha=alphabar, cp=cpbar, g=gbar)"
   ]
  },
  {
   "cell_type": "markdown",
   "id": "136bb33a",
   "metadata": {},
   "source": [
    "As with the previous examples, we next set up a *Timestep Adaptor*,\n",
    "for controlling the time-step length (via a CFL\n",
    "criterion) as the simulation advances in time. For the latter,\n",
    "we specify the initial time, initial timestep $\\Delta t$, and number of\n",
    "timesteps. Given the low Ra, a steady-state tolerance is also specified,\n",
    "allowing the simulation to exit when a steady-state has been achieved.\n",
    "The steady-state tolerance specified here is tight, and can be increased\n",
    "to speed up the simulation, as required."
   ]
  },
  {
   "cell_type": "code",
   "execution_count": null,
   "id": "74a19eb9",
   "metadata": {},
   "outputs": [],
   "source": [
    "time = 0.0  # Initial time\n",
    "delta_t = Constant(1e-6)  # Initial time-step\n",
    "timesteps = 20000  # Maximum number of timesteps\n",
    "t_adapt = TimestepAdaptor(delta_t, u, V, maximum_timestep=0.1, increase_tolerance=1.5)\n",
    "steady_state_tolerance = 1e-9  # Used to determine if solution has reached a steady state."
   ]
  },
  {
   "cell_type": "markdown",
   "id": "a0214445",
   "metadata": {},
   "source": [
    "We next set up and initialise our Temperature field. Note that here, we take into consideration\n",
    "the non-dimensional surface temperature, T0. The full temperature field is also initialised."
   ]
  },
  {
   "cell_type": "code",
   "execution_count": null,
   "id": "262f5324",
   "metadata": {},
   "outputs": [],
   "source": [
    "T = Function(Q, name=\"Temperature\")\n",
    "T.interpolate((1.0 - (T0*exp(Di) - T0)) * ((1.0-X[1]) + (0.05*cos(pi*X[0])*sin(pi*X[1]))))\n",
    "FullT = Function(Q, name=\"FullTemperature\").assign(T+Tbar)"
   ]
  },
  {
   "cell_type": "markdown",
   "id": "0f517c31",
   "metadata": {},
   "source": [
    "This problem has a constant pressure nullspace, handled identically to our\n",
    "previous tutorials."
   ]
  },
  {
   "cell_type": "code",
   "execution_count": null,
   "id": "b6e4d45c",
   "metadata": {},
   "outputs": [],
   "source": [
    "Z_nullspace = create_stokes_nullspace(Z, closed=True, rotational=False)"
   ]
  },
  {
   "cell_type": "markdown",
   "id": "a581f4c4",
   "metadata": {},
   "source": [
    "Boundary conditions are next specified."
   ]
  },
  {
   "cell_type": "code",
   "execution_count": null,
   "id": "abcc1251",
   "metadata": {},
   "outputs": [],
   "source": [
    "stokes_bcs = {\n",
    "    bottom_id: {'uy': 0},\n",
    "    top_id: {'uy': 0},\n",
    "    left_id: {'ux': 0},\n",
    "    right_id: {'ux': 0},\n",
    "}\n",
    "\n",
    "temp_bcs = {\n",
    "    bottom_id: {'T': 1.0 - (T0*exp(Di) - T0)},\n",
    "    top_id: {'T': 0.0},\n",
    "}"
   ]
  },
  {
   "cell_type": "markdown",
   "id": "944afac3",
   "metadata": {},
   "source": [
    "We next set up our output, in VTK format, including a file\n",
    "that allows us to visualise the reference state.\n",
    "We also open a file for logging and calculate our diagnostic outputs."
   ]
  },
  {
   "cell_type": "code",
   "execution_count": null,
   "id": "8c0b94bc",
   "metadata": {},
   "outputs": [],
   "source": [
    "output_file = VTKFile(\"output.pvd\")\n",
    "ref_file = VTKFile('reference_state.pvd')\n",
    "output_frequency = 50\n",
    "\n",
    "plog = ParameterLog('params.log', mesh)\n",
    "plog.log_str(\n",
    "    \"timestep time dt maxchange u_rms u_rms_surf ux_max nu_base \"\n",
    "    \"nu_top energy avg_t rate_work_g rate_viscous energy_2\")\n",
    "\n",
    "gd = GeodynamicalDiagnostics(z, FullT, bottom_id, top_id)\n"
   ]
  },
  {
   "cell_type": "markdown",
   "id": "5405dcff",
   "metadata": {},
   "source": [
    "We can now setup and solve the variational problem, for both the energy and Stokes equations,\n",
    "passing in the approximation configured above."
   ]
  },
  {
   "cell_type": "code",
   "execution_count": null,
   "id": "c955500b",
   "metadata": {},
   "outputs": [],
   "source": [
    "energy_solver = EnergySolver(T, u, approximation, delta_t, ImplicitMidpoint, bcs=temp_bcs)\n",
    "\n",
    "stokes_solver = StokesSolver(z, T, approximation, bcs=stokes_bcs,\n",
    "                             nullspace=Z_nullspace, transpose_nullspace=Z_nullspace,\n",
    "                             constant_jacobian=True)"
   ]
  },
  {
   "cell_type": "markdown",
   "id": "319010f3",
   "metadata": {},
   "source": [
    "Next initiate the time loop, which runs until a steady-state solution has been attained:"
   ]
  },
  {
   "cell_type": "code",
   "execution_count": null,
   "id": "8b71e31e",
   "metadata": {},
   "outputs": [],
   "source": [
    "for timestep in range(0, timesteps):\n",
    "\n",
    "    # Write output:\n",
    "    if timestep % output_frequency == 0:\n",
    "        output_file.write(*z.subfunctions, T, FullT)\n",
    "        ref_file.write(rhobar, Tbar, alphabar, cpbar)\n",
    "\n",
    "    dt = t_adapt.update_timestep()\n",
    "    time += dt\n",
    "\n",
    "    # Solve Stokes sytem:\n",
    "    stokes_solver.solve()\n",
    "\n",
    "    # Temperature system:\n",
    "    energy_solver.solve()\n",
    "\n",
    "    # Compute diagnostics:\n",
    "    energy_conservation = abs(abs(gd.Nu_top()) - abs(gd.Nu_bottom()))\n",
    "    rate_work_against_gravity = assemble(approximation.work_against_gravity(u, T)*dx)\n",
    "    rate_viscous_dissipation = assemble(approximation.viscous_dissipation(u)*dx)\n",
    "    energy_conservation_2 = abs(rate_work_against_gravity - rate_viscous_dissipation)\n",
    "\n",
    "    # Calculate L2-norm of change in temperature:\n",
    "    maxchange = sqrt(assemble((T - energy_solver.T_old)**2 * dx))\n",
    "\n",
    "    # Log diagnostics:\n",
    "    plog.log_str(f\"{timestep} {time} {float(delta_t)} {maxchange} \"\n",
    "                 f\"{gd.u_rms()} {gd.u_rms_top()} {gd.ux_max(top_id)} {gd.Nu_bottom()} \"\n",
    "                 f\"{gd.Nu_top()} {energy_conservation} {gd.T_avg()} \"\n",
    "                 f\"{rate_work_against_gravity} {rate_viscous_dissipation} \"\n",
    "                 f\"{energy_conservation_2}\")\n",
    "\n",
    "    # Calculate Full T\n",
    "    FullT.assign(T+Tbar)\n",
    "\n",
    "    # Leave if steady-state has been achieved:\n",
    "    if maxchange < steady_state_tolerance:\n",
    "        log(\"Steady-state achieved -- exiting time-step loop\")\n",
    "        break"
   ]
  },
  {
   "cell_type": "markdown",
   "id": "c919deff",
   "metadata": {},
   "source": [
    "At the end of the simulation, once a steady-state has been achieved, we close our logging file\n",
    "and checkpoint steady state temperature and Stokes solution fields to disk. These can later be\n",
    "used to restart a simulation, if required."
   ]
  },
  {
   "cell_type": "code",
   "execution_count": null,
   "id": "1cc1b637",
   "metadata": {},
   "outputs": [],
   "source": [
    "plog.close()\n",
    "\n",
    "with CheckpointFile(\"Final_State.h5\", \"w\") as final_checkpoint:\n",
    "    final_checkpoint.save_mesh(mesh)\n",
    "    final_checkpoint.save_function(T, name=\"Temperature\")\n",
    "    final_checkpoint.save_function(z, name=\"Stokes\")"
   ]
  },
  {
   "cell_type": "markdown",
   "id": "2c8370b9",
   "metadata": {},
   "source": [
    "We can visualise the final temperature field using Firedrake's\n",
    "built-in plotting functionality."
   ]
  },
  {
   "cell_type": "code",
   "execution_count": null,
   "id": "e183cdd3",
   "metadata": {
    "tags": [
     "active-ipynb"
    ]
   },
   "outputs": [],
   "source": [
    "import matplotlib.pyplot as plt\n",
    "fig, axes = plt.subplots()\n",
    "collection = tripcolor(T, axes=axes, cmap='coolwarm')\n",
    "fig.colorbar(collection);"
   ]
  },
  {
   "cell_type": "markdown",
   "id": "071de1d3",
   "metadata": {},
   "source": [
    "The same can be done for the final Full temperature field."
   ]
  },
  {
   "cell_type": "code",
   "execution_count": null,
   "id": "304a17b8",
   "metadata": {
    "tags": [
     "active-ipynb"
    ]
   },
   "outputs": [],
   "source": [
    "fig, axes = plt.subplots()\n",
    "collection = tripcolor(FullT, axes=axes, cmap='coolwarm')\n",
    "fig.colorbar(collection);"
   ]
  }
 ],
 "metadata": {
  "jupytext": {
   "cell_metadata_filter": "tags,-all",
   "main_language": "python",
   "notebook_metadata_filter": "-all"
  }
 },
 "nbformat": 4,
 "nbformat_minor": 5
}

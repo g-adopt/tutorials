{
 "cells": [
  {
   "cell_type": "markdown",
   "id": "d4e49bd1",
   "metadata": {},
   "source": [
    "Idealised 3-D mantle convection problem\n",
    "=======================================================\n",
    "\n",
    "In this tutorial we highlight the ease at which simulations can be examined in different\n",
    "dimensions by modifying the 2-D case presented in our first tutorial. We simulate\n",
    "a benchmark case that is well-known within the geodynamical community.\n",
    "\n",
    "This example\n",
    "------------\n",
    "\n",
    "We examine a low Rayleigh number isoviscous case: specifically Case 1a from Busse et al. (1994).\n",
    "The domain is a box of dimensions $1.0079 \\times 0.6283 \\times 1$. The initial temperature distribution,\n",
    "chosen to produce a single ascending and descending flow, at $x = y = 0$ and $(x = 1.0079, y = 0.6283)$,\n",
    "respectively, is prescribed as:\n",
    "\n",
    "$$    T(x,y,z) = \\Bigl[ \\frac{\\mbox{erf}(4(1-z)) + \\mbox{erf}(-4z)+1}{2} \\Bigr] + A [\\cos(\\pi x/1.0079) + \\cos(\\pi y/0.6283)]\\sin(\\pi z) $$\n",
    "\n",
    "where $A=0.2$ is the amplitude of the initial perturbation. We note that this initial condition differs to that\n",
    "specified in Busse et al. (1994), through the addition of boundary layers at the bottom and top of the domain (through the $\\mbox{erf}$ terms),\n",
    "although it more consistently drives solutions towards the final published steady-state results. Boundary conditions for\n",
    "temperature are T = 0 at the surface (z = 1) and T = 1 at the base (z = 0), with insulating (homogeneous Neumann) sidewalls.\n",
    "No‐slip velocity boundary conditions are specified at the top surface and base of the domain, with free‐slip boundary conditions on all\n",
    "sidewalls. The Rayleigh number $Ra = 3 \\times 10^{4}$.\n",
    "\n",
    "The first step is to import the gadopt module, which\n",
    "provides access to Firedrake and associated functionality."
   ]
  },
  {
   "cell_type": "code",
   "execution_count": null,
   "id": "8b6050c3",
   "metadata": {},
   "outputs": [],
   "source": [
    "try:\n",
    "    from gadopt import *\n",
    "except ImportError:\n",
    "    !wget \"https://fem-on-colab.github.io/releases/firedrake-install-real.sh\" -O \"/tmp/firedrake-install.sh\" && bash \"/tmp/firedrake-install.sh\"\n",
    "    !pip install gadopt[demos]\n",
    "    from gadopt import *"
   ]
  },
  {
   "cell_type": "markdown",
   "id": "b27b00b4",
   "metadata": {},
   "source": [
    "We next set up the mesh, function spaces, and specify functions to hold our solutions,\n",
    "as with our previous tutorials.\n",
    "\n",
    "We generate our 3-D mesh by extruding a 2-D quadrilateral\n",
    "mesh in the $z$-direction to a layered 3-D hexahedral mesh. Our final mesh has $10 \\times 6 \\times 10$\n",
    "elements, in $x$-, $y$- and $z$-directions, respectively (noting that the default value for layer height is 1 / $nz$).\n",
    "For extruded meshes, top and bottom boundaries are tagged by *top* and *bottom*, respectively, whilst boundary\n",
    "markers from the base mesh can be used to set boundary conditions on the relevant side of the extruded mesh.\n",
    "We note that Firedrake exploits the regularity of extruded meshes to enhance performance."
   ]
  },
  {
   "cell_type": "code",
   "execution_count": null,
   "id": "907950f6",
   "metadata": {},
   "outputs": [],
   "source": [
    "a, b, c = 1.0079, 0.6283, 1.0\n",
    "nx, ny, nz = 10, int(b/c * 10), 10\n",
    "mesh2d = RectangleMesh(nx, ny, a, b, quadrilateral=True)  # Rectangular 2D mesh\n",
    "mesh = ExtrudedMesh(mesh2d, nz)\n",
    "mesh.cartesian = True\n",
    "bottom_id, top_id, left_id, right_id, front_id, back_id = \"bottom\", \"top\", 1, 2, 3, 4\n",
    "\n",
    "V = VectorFunctionSpace(mesh, \"CG\", 2)  # Velocity function space (vector)\n",
    "W = FunctionSpace(mesh, \"CG\", 1)  # Pressure function space (scalar)\n",
    "Q = FunctionSpace(mesh, \"CG\", 2)  # Temperature function space (scalar)\n",
    "Z = MixedFunctionSpace([V, W])  # Mixed function space.\n",
    "\n",
    "z = Function(Z)  # A field over the mixed function space Z.\n",
    "u, p = split(z)  # Returns symbolic UFL expression for u and p\n",
    "z.subfunctions[0].rename(\"Velocity\")\n",
    "z.subfunctions[1].rename(\"Pressure\")"
   ]
  },
  {
   "cell_type": "markdown",
   "id": "80e14311",
   "metadata": {},
   "source": [
    "We can output function space information, for example the number of degrees\n",
    "of freedom (DOF) using log, a utility provided by G-ADOPT."
   ]
  },
  {
   "cell_type": "code",
   "execution_count": null,
   "id": "ef88b5b0",
   "metadata": {
    "tags": [
     "active-ipynb"
    ]
   },
   "outputs": [],
   "source": [
    "log(\"Number of Velocity DOF:\", V.dim())\n",
    "log(\"Number of Pressure DOF:\", W.dim())\n",
    "log(\"Number of Velocity and Pressure DOF:\", V.dim()+W.dim())\n",
    "log(\"Number of Temperature DOF:\", Q.dim())"
   ]
  },
  {
   "cell_type": "markdown",
   "id": "6ac931f0",
   "metadata": {},
   "source": [
    "We next specify the important constants for this problem, and set up the approximation."
   ]
  },
  {
   "cell_type": "code",
   "execution_count": null,
   "id": "80d2e4a2",
   "metadata": {},
   "outputs": [],
   "source": [
    "Ra = Constant(3e4)  # Rayleigh number\n",
    "approximation = BoussinesqApproximation(Ra)"
   ]
  },
  {
   "cell_type": "markdown",
   "id": "098f0c9e",
   "metadata": {},
   "source": [
    "As with the previous example, we set up a *Timestep Adaptor*,\n",
    "for controlling the time-step length (via a CFL\n",
    "criterion) as the simulation advances in time. For the latter,\n",
    "we specify the initial time, initial timestep $\\Delta t$, and number of\n",
    "timesteps. Given the low Rayleigh number, a steady-state tolerance is also specified,\n",
    "allowing the simulation to exit when a steady-state has been achieved."
   ]
  },
  {
   "cell_type": "code",
   "execution_count": null,
   "id": "109784ff",
   "metadata": {},
   "outputs": [],
   "source": [
    "time = 0.0  # Initial time\n",
    "delta_t = Constant(1e-6)  # Initial time-step\n",
    "timesteps = 20000  # Maximum number of timesteps\n",
    "t_adapt = TimestepAdaptor(delta_t, u, V, maximum_timestep=0.1, increase_tolerance=1.5)\n",
    "steady_state_tolerance = 1e-7  # Used to determine if solution has reached a steady state."
   ]
  },
  {
   "cell_type": "markdown",
   "id": "1193f7b0",
   "metadata": {},
   "source": [
    "We next set up and initialise our Temperature field (in 3-D)."
   ]
  },
  {
   "cell_type": "code",
   "execution_count": null,
   "id": "a3966df9",
   "metadata": {},
   "outputs": [],
   "source": [
    "X = SpatialCoordinate(mesh)\n",
    "T = Function(Q, name=\"Temperature\")\n",
    "T.interpolate(0.5*(erf((1-X[2])*4)+erf(-X[2]*4)+1) + 0.2*(cos(pi*X[0]/a)+cos(pi*X[1]/b))*sin(pi*X[2]))"
   ]
  },
  {
   "cell_type": "markdown",
   "id": "3e33cb87",
   "metadata": {},
   "source": [
    "With closed boundaries on all domain boundaries, this problem has a constant pressure nullspace, which is\n",
    "handled identically to our 2-D tutorials."
   ]
  },
  {
   "cell_type": "code",
   "execution_count": null,
   "id": "6d051990",
   "metadata": {},
   "outputs": [],
   "source": [
    "Z_nullspace = create_stokes_nullspace(Z, closed=True, rotational=False)"
   ]
  },
  {
   "cell_type": "markdown",
   "id": "f93c6e3a",
   "metadata": {},
   "source": [
    "Aside from differences in the computational geometry and temperature initial condition, the first major change between\n",
    "our initial 2-D tutorial and this example occurs in our solution strategy, although most of this is taken care of under the hood by G-ADOPT.\n",
    "By default, G-ADOPT uses direct solvers in 2-D. However, in 3-D, we default to iterative solvers. Although the user need not\n",
    "alter these, some key information is provided here, for context. Later in the tutorial, we also expose some of these solver\n",
    "options to the user, to showcase how our default parameters can be modified.\n",
    "\n",
    "For the Stokes system, we configure the Schur complement approach as described in Section of 4.3 of Davies et al. (2022),\n",
    "using PETSc's fieldsplit preconditioner type, which provides a class of preconditioners for mixed problems that allows a user\n",
    "to apply different preconditioners to different blocks of the system. The *fieldsplit\\_0* entries configure solver options for the velocity block.\n",
    "The linear systems associated with this matrix are solved using a combination of the Conjugate Gradient method and an algebraic multigrid preconditioner (GAMG).\n",
    "The *fieldsplit\\_1* entries contain solver options for the Schur complement solve itself. For preconditioning, we approximate the Schur complement matrix with\n",
    "a mass matrix scaled by viscosity, with the viscosity provided through the optional *mu* keyword argument to Stokes solver (note since viscosity is constant,\n",
    "we do not do so for this tutorial). Since this preconditioner step involves an iterative solve, the Krylov method used for the Schur\n",
    "complement needs to be of flexible type, and we use FGMRES by default. Finally, the energy solve is performed through a combination of the\n",
    "GMRES Krylov method and SSOR preconditioning.\n",
    "\n",
    "The GAMG preconditioner can make use of so-called *near-nullspace* modes, to improve performance, ensuring that these are accurately represented at the coarser\n",
    "multigrid levels. We therefore create a near-nullspace object consisting of three rotational and three translational modes."
   ]
  },
  {
   "cell_type": "code",
   "execution_count": null,
   "id": "dbc8fe63",
   "metadata": {},
   "outputs": [],
   "source": [
    "Z_near_nullspace = create_stokes_nullspace(Z, closed=False, rotational=True, translations=[0, 1, 2])"
   ]
  },
  {
   "cell_type": "markdown",
   "id": "39392a04",
   "metadata": {},
   "source": [
    "Boundary conditions are next specified, with zero slip conditions specified for top and bottom boundaries, and free-slip\n",
    "on all other boundaries. A temperature of 1 is specified at the base and 0 at the domain's surface."
   ]
  },
  {
   "cell_type": "code",
   "execution_count": null,
   "id": "6592ec87",
   "metadata": {},
   "outputs": [],
   "source": [
    "stokes_bcs = {\n",
    "    bottom_id: {'u': 0},\n",
    "    top_id: {'u': 0},\n",
    "    left_id: {'ux': 0},\n",
    "    right_id: {'ux': 0},\n",
    "    front_id: {'uy': 0},\n",
    "    back_id: {'uy': 0},\n",
    "}\n",
    "\n",
    "temp_bcs = {\n",
    "    bottom_id: {'T': 1.0},\n",
    "    top_id: {'T': 0.0},\n",
    "}"
   ]
  },
  {
   "cell_type": "markdown",
   "id": "ca398ab8",
   "metadata": {},
   "source": [
    "We next set up our output, in VTK format, including a file\n",
    "that allows us to visualise the reference state.\n",
    "We also open a file for logging and calculate our diagnostic outputs."
   ]
  },
  {
   "cell_type": "code",
   "execution_count": null,
   "id": "13bd180a",
   "metadata": {},
   "outputs": [],
   "source": [
    "output_file = VTKFile(\"output.pvd\")\n",
    "ref_file = VTKFile('reference_state.pvd')\n",
    "output_frequency = 50\n",
    "\n",
    "plog = ParameterLog('params.log', mesh)\n",
    "plog.log_str(\"timestep time dt maxchange u_rms u_rms_surf ux_max nu_top nu_base energy avg_t\")\n",
    "\n",
    "gd = GeodynamicalDiagnostics(z, T, bottom_id, top_id)"
   ]
  },
  {
   "cell_type": "markdown",
   "id": "49bd9492",
   "metadata": {},
   "source": [
    "We can now setup and solve the variational problem, for both the energy and Stokes equations,\n",
    "passing in the approximation, nullspace and near-nullspace information configured above."
   ]
  },
  {
   "cell_type": "code",
   "execution_count": null,
   "id": "4a6fe4aa",
   "metadata": {},
   "outputs": [],
   "source": [
    "energy_solver = EnergySolver(T, u, approximation, delta_t, ImplicitMidpoint, bcs=temp_bcs)\n",
    "\n",
    "stokes_solver = StokesSolver(z, T, approximation, bcs=stokes_bcs,\n",
    "                             constant_jacobian=True,\n",
    "                             nullspace=Z_nullspace, transpose_nullspace=Z_nullspace,\n",
    "                             near_nullspace=Z_near_nullspace)"
   ]
  },
  {
   "cell_type": "markdown",
   "id": "ce4f9247",
   "metadata": {},
   "source": [
    "For all iterative solves, G-ADOPT utilises convergence criterion based on the relative reduction of the\n",
    "preconditioned residual, *ksp\\_rtol*. These are set to 1e-5 for the *fieldslip\\_0* and 1e-4 for *fieldsplit\\_1*.\n",
    "We can change these default values, by accessing the solver_parameters dictionary, as follows."
   ]
  },
  {
   "cell_type": "code",
   "execution_count": null,
   "id": "458119c4",
   "metadata": {},
   "outputs": [],
   "source": [
    "stokes_solver.solver_parameters['fieldsplit_0']['ksp_rtol'] = 1e-4\n",
    "stokes_solver.solver_parameters['fieldsplit_1']['ksp_rtol'] = 1e-3"
   ]
  },
  {
   "cell_type": "markdown",
   "id": "a3ae68a9",
   "metadata": {},
   "source": [
    "We now initiate the time loop, which runs until a steady-state solution has been attained."
   ]
  },
  {
   "cell_type": "code",
   "execution_count": null,
   "id": "62c1bcac",
   "metadata": {},
   "outputs": [],
   "source": [
    "for timestep in range(0, timesteps):\n",
    "\n",
    "    # Write output:\n",
    "    if timestep % output_frequency == 0:\n",
    "        output_file.write(*z.subfunctions, T)\n",
    "\n",
    "    dt = t_adapt.update_timestep()\n",
    "    time += dt\n",
    "\n",
    "    # Solve Stokes sytem:\n",
    "    stokes_solver.solve()\n",
    "\n",
    "    # Temperature system:\n",
    "    energy_solver.solve()\n",
    "\n",
    "    # Compute diagnostics:\n",
    "    energy_conservation = abs(abs(gd.Nu_top()) - abs(gd.Nu_bottom()))\n",
    "\n",
    "    # Calculate L2-norm of change in temperature:\n",
    "    maxchange = sqrt(assemble((T - energy_solver.T_old)**2 * dx))\n",
    "\n",
    "    # Log diagnostics:\n",
    "    plog.log_str(f\"{timestep} {time} {float(delta_t)} {maxchange} \"\n",
    "                 f\"{gd.u_rms()} {gd.u_rms_top()} {gd.ux_max(top_id)} {gd.Nu_top()} \"\n",
    "                 f\"{gd.Nu_bottom()} {energy_conservation} {gd.T_avg()} \")\n",
    "\n",
    "    # Leave if steady-state has been achieved:\n",
    "    if maxchange < steady_state_tolerance:\n",
    "        log(\"Steady-state achieved -- exiting time-step loop\")\n",
    "        break"
   ]
  },
  {
   "cell_type": "markdown",
   "id": "fa645b5f",
   "metadata": {},
   "source": [
    "At the end of the simulation, once a steady-state has been achieved, we close our logging file\n",
    "and checkpoint steady state temperature and Stokes solution fields to disk. These can later be\n",
    "used to restart a simulation, if required."
   ]
  },
  {
   "cell_type": "code",
   "execution_count": null,
   "id": "e055d9ad",
   "metadata": {},
   "outputs": [],
   "source": [
    "plog.close()\n",
    "\n",
    "with CheckpointFile(\"Final_State.h5\", \"w\") as final_checkpoint:\n",
    "    final_checkpoint.save_mesh(mesh)\n",
    "    final_checkpoint.save_function(T, name=\"Temperature\")\n",
    "    final_checkpoint.save_function(z, name=\"Stokes\")"
   ]
  }
 ],
 "metadata": {
  "jupytext": {
   "cell_metadata_filter": "tags,-all",
   "main_language": "python",
   "notebook_metadata_filter": "-all"
  }
 },
 "nbformat": 4,
 "nbformat_minor": 5
}

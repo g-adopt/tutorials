{
 "cells": [
  {
   "attachments": {},
   "cell_type": "markdown",
   "id": "a3f3a67c",
   "metadata": {},
   "source": [
    "# Inverse Schemes for Geodynamic Applications"
   ]
  },
  {
   "attachments": {},
   "cell_type": "markdown",
   "id": "d402ec41",
   "metadata": {},
   "source": [
    "## Introduction\n",
    "\n",
    "In this tutorial, we will explore the use of adjoint schemes in geodynamics. Adjoint schemes provide the means for solving inverse problems, allowing us to retrieve unknown parameters or initial conditions in physical systems. If you have not already, go and have a look at `08-GD-2D-pde-constrained1.ipynb` that goes through the foundation of PDE optimisations. \n",
    "\n",
    "The exercise involves reconstructing the initial temperature field of a single upwelling plume in an enclosed square computational domain. The problem assumes isoviscous, incompressible flow under the Boussinesq approximation, with a Rayleigh number of $Ra=10^6$. This problem is already discussed in `06-GD-2D-convection.ipynb`.\n",
    "\n",
    "The main observations that motivate this exercise are coming from seismic tomography:\n",
    "\n",
    "<img src=\"https://www.earth.ox.ac.uk/~smachine/cgi/images/welcome_fig_tomo_depth.jpg\" width=\"400\" height=\"300\">\n",
    "\n",
    "And plate tectonics reconstruction models:\n",
    "\n",
    "<iframe width=\"560\" height=\"315\" src=\"https://www.youtube.com/embed/1RPtvYT3JXE\" frameborder=\"0\" allowfullscreen></iframe>"
   ]
  },
  {
   "attachments": {},
   "cell_type": "markdown",
   "id": "320bcff6",
   "metadata": {},
   "source": [
    "## Setting Up Dependencies\n",
    "\n",
    "Firstly, let's make sure we have all the dependencies installed. This will set up Firedrake and other required libraries on this Google Colab environment. After doing so, we load `gadopt` and the necessary `gadopt.inverse` which loads the inverse functionalities in gadopt. "
   ]
  },
  {
   "cell_type": "code",
   "execution_count": null,
   "id": "60888470",
   "metadata": {},
   "outputs": [],
   "source": [
    "# This magic makes plots appear \n",
    "%matplotlib inline\n",
    "import matplotlib.pyplot as plt\n",
    "\n",
    "import os\n",
    "os.environ[\"GADOPT_LOGLEVEL\"] = \"WARNING\"\n",
    "\n",
    "# Load Firedrake on Colab\n",
    "try:\n",
    "    import firedrake\n",
    "except ImportError:\n",
    "    !wget \"https://github.com/g-adopt/tutorials/releases/latest/download/firedrake-install-real.sh\" -O \"/tmp/firedrake-install.sh\" && bash \"/tmp/firedrake-install.sh\"\n",
    "    import firedrake\n",
    "\n",
    "from gadopt import *\n",
    "from gadopt.inverse import *"
   ]
  },
  {
   "attachments": {},
   "cell_type": "markdown",
   "id": "ab264712",
   "metadata": {},
   "source": [
    "### Concept of taping:\n",
    "In <emp> automatic differentiation (AD)</emp>, \"taping\" is a technique used to record the operations performed during a forward pass through a computational graph, so that these operations can later be revisited in reverse order during the backward pass to compute gradients.\n",
    "\n",
    "In essence, a \"tape\" is a data structure that keeps track of the sequence of operations (addition, multiplication, etc.) and the intermediate variables (often called \"tensors\" in machine learning contexts) that are created during the forward pass of an algorithm.\n",
    "\n",
    "#### Why Taping?\n",
    "Automatic differentiation relies on the chain rule of calculus to compute derivatives. In a forward pass, you compute the function value $f(x)$ as well as intermediate values needed to evaluate $f$. During the backward pass, you use these recorded operations and intermediate values to efficiently compute the gradient $\\nabla f$.\n",
    "\n",
    "#### How Does Taping Work in Automatic Differentiation?\n",
    "\n",
    "#### 1. Initialization\n",
    "\n",
    "Initialise an empty \"tape\" data structure.\n",
    "\n",
    "#### 2. Forward Pass\n",
    "\n",
    "- For each operation $\\text{op}$ in the computational graph:\n",
    "  - Record the input variables to $\\text{op}$ and the output variable from $\\text{op}$.\n",
    "  - Append this information to the tape.\n",
    "- Calculate and store the function value $f(x)$.\n",
    "\n",
    "The tape might look something like this for a simple function $f(x, y) = x \\times y + \\sin(x)$:\n",
    "\n",
    "$$\n",
    "[(\\text{op: '*'}, \\text{inputs: [x, y]}, \\text{output: z1}), \\\\\n",
    " (\\text{op: 'sin'}, \\text{inputs: [x]}, \\text{output: z2}), \\\\\n",
    " (\\text{op: '+'}, \\text{inputs: [z1, z2]}, \\text{output: f})]\n",
    "$$\n",
    "\n",
    "### 3. Backward Pass\n",
    "\n",
    "- Initialize gradients for the output as $\\nabla f = 1$ (since $\\frac{df}{df} = 1$).\n",
    "- Traverse the tape in reverse order to:\n",
    "  - Retrieve the recorded operation $\\text{op}$ and involved variables.\n",
    "  - Use the chain rule to compute the local gradient contribution from the output variable to the input variables.\n",
    "  - Accumulate these local gradients into the global gradients of the involved variables.\n",
    "\n",
    "Through taping, AD libraries like TensorFlow and PyTorch enable the efficient computation of gradients, which is essential for optimization tasks such as training neural networks.\n",
    "\n",
    "\n",
    "### Computing $\\frac{df}{dx}$ Through Backward Pass\n",
    "\n",
    "In the backward pass, we initialize the gradient of the function $ f $ as $ \\nabla f = 1 $ (since $ \\frac{df}{df} = 1 $) and then perform the following steps:\n",
    "\n",
    "1. **Compute Local Gradients**\n",
    "    - $ \\frac{\\partial f}{\\partial z_1} = 1$ \n",
    "    - $ \\frac{\\partial f}{\\partial z_2} = 1$ \n",
    "    - $ \\frac{\\partial z_1}{\\partial x} = y$ \n",
    "    - $ \\frac{\\partial z_2}{\\partial x} = \\cos(x) $\n",
    "\n",
    "2. **Use Chain Rule to Compute Global Gradients**\n",
    "    - $ \\frac{\\partial f}{\\partial x} = \\frac{\\partial f}{\\partial z_1} \\times \\frac{\\partial z_1}{\\partial x} + \\frac{\\partial f}{\\partial z_2} \\times \\frac{\\partial z_2}{\\partial x} $\n",
    "    - $ \\frac{\\partial f}{\\partial x} = 1 \\times y + 1 \\times \\cos(x) $\n",
    "    - $ \\frac{\\partial f}{\\partial x} = y + \\cos(x) $\n",
    "\n",
    "And there you have it—$ \\frac{df}{dx} $ is calculated to be $ y + \\cos(x) $ using the backward pass in automatic differentiation.\n",
    "\n"
   ]
  },
  {
   "attachments": {},
   "cell_type": "markdown",
   "id": "69c7220e",
   "metadata": {},
   "source": [
    "### Setting up the Adjoint Tape and Loading the Mesh\n",
    "\n",
    "1. **Adjoint Tape Setup**: We use `get_working_tape()` to fetch the current working tape and `clear_tape()` to ensure that it is empty. This is crucial for avoiding any conflicts with previous adjoint calculations.\n",
    "\n",
    "\n"
   ]
  },
  {
   "cell_type": "code",
   "execution_count": null,
   "id": "dec1649f",
   "metadata": {},
   "outputs": [],
   "source": [
    "tape = get_working_tape()\n",
    "tape.clear_tape()"
   ]
  },
  {
   "attachments": {},
   "cell_type": "markdown",
   "id": "a610967f",
   "metadata": {},
   "source": [
    "2. **Loading the Mesh**: We load a previously saved mesh from a checkpoint file. The mesh is extruded and contains all the necessary geometric information for our simulation."
   ]
  },
  {
   "cell_type": "code",
   "execution_count": null,
   "id": "eee9beed",
   "metadata": {},
   "outputs": [],
   "source": [
    "# Download the mesh\n",
    "!gdown --id \"1HyIgccibrbQgJ1lr3SzogXNArQjE6Z7X\""
   ]
  },
  {
   "cell_type": "code",
   "execution_count": null,
   "id": "d020520c",
   "metadata": {},
   "outputs": [],
   "source": [
    "with CheckpointFile(\"mesh.h5\", \"r\") as f:\n",
    "    mesh = f.load_mesh(\"firedrake_default_extruded\")"
   ]
  },
  {
   "attachments": {},
   "cell_type": "markdown",
   "id": "91426b29",
   "metadata": {},
   "source": [
    "\n",
    "3. **Enable Disk Checkpointing**: To manage memory usage efficiently, we enable disk checkpointing. This way, intermediate adjoint fields are written to disk rather than being stored in memory."
   ]
  },
  {
   "cell_type": "code",
   "execution_count": null,
   "id": "2006c496",
   "metadata": {},
   "outputs": [],
   "source": [
    "# enable_disk_checkpointing()"
   ]
  },
  {
   "attachments": {},
   "cell_type": "markdown",
   "id": "a54bc263",
   "metadata": {},
   "source": [
    "#### Defining Function Spaces and Fields\n",
    "\n",
    "1. **Function Spaces**: We define various function spaces to hold our solutions. We use Continuous Galerkin (CG) elements for all our function spaces. Specifically, we use second-order elements for the velocity and temperature and first-order elements for the pressure and control.\n"
   ]
  },
  {
   "cell_type": "code",
   "execution_count": null,
   "id": "91bf008e",
   "metadata": {},
   "outputs": [],
   "source": [
    "V = VectorFunctionSpace(mesh, \"CG\", 2)\n",
    "W = FunctionSpace(mesh, \"CG\", 1)\n",
    "Q = FunctionSpace(mesh, \"CG\", 2)\n",
    "Q1 = FunctionSpace(mesh, \"CG\", 1)\n",
    "Z = MixedFunctionSpace([V, W])"
   ]
  },
  {
   "attachments": {},
   "cell_type": "markdown",
   "id": "f412b015",
   "metadata": {},
   "source": [
    "2. **Fields and Test Functions**: We create a field over the mixed function space `Z` and then split this field into velocity (`u`) and pressure (`p`) subfields. We name them for better identification later on.\n"
   ]
  },
  {
   "cell_type": "code",
   "execution_count": null,
   "id": "ea0c72b3",
   "metadata": {},
   "outputs": [],
   "source": [
    "z = Function(Z)\n",
    "u, p = z.subfunctions\n",
    "u.rename(\"Velocity\")\n",
    "p.rename(\"Pressure\")"
   ]
  },
  {
   "attachments": {},
   "cell_type": "markdown",
   "id": "9ca1070c",
   "metadata": {},
   "source": [
    "#### Rayleigh Number and Boussinesq Approximation\n",
    "\n",
    "1. **Rayleigh Number**: We set the Rayleigh number (`Ra`) to $1 \\times 10^6$. The Rayleigh number is a dimensionless number that quantifies the driving force for flow due to buoyancy.\n",
    "\n",
    "2. **Boussinesq Approximation**: We use the Boussinesq approximation for our problem setup. This approximation simplifies the governing equations by neglecting variations in fluid properties, except for density in the buoyancy term.\n"
   ]
  },
  {
   "cell_type": "code",
   "execution_count": null,
   "id": "68d0158c",
   "metadata": {},
   "outputs": [],
   "source": [
    "Ra = Constant(1e6)  # Rayleigh number\n",
    "approximation = BoussinesqApproximation(Ra)"
   ]
  },
  {
   "attachments": {},
   "cell_type": "markdown",
   "id": "f2345753",
   "metadata": {},
   "source": [
    "### Defining the Function Spaces\n",
    "\n",
    "In this section, we define the function spaces that will host our fields. For the velocity field, we use a vector function space `V` with *Continuous Galerkin* (CG) elements of order 2. For the pressure field, we use a scalar function space W with CG elements of order 1. The temperature field resides in another scalar function space `Q` with CG elements of order 2. We also define `Q1`, which is another scalar function space with CG elements of order 1 and will serve as our control space. Finally, `Z` is a mixed function space that combines `V` and `W`.  We also create test functions and function holders for the solutions of our forward problem."
   ]
  },
  {
   "attachments": {},
   "cell_type": "markdown",
   "id": "c2c3373d",
   "metadata": {},
   "source": [
    "#### Setting up Physical and Numerical Parameters\n",
    "In this section, we specify the Rayleigh number, $Ra$, which is a critical physical parameter in our simulation. It quantifies the driving buoyancy forces and is set to $10^{6}$. We also initialise the `BoussinesqApproximation` which encapsulates the assumptions we are making about the flow. Furthermore, time-stepping parameters are defined here. We se a constant time step `delta_t` that is set to $4\\times10^{-6}$. "
   ]
  },
  {
   "cell_type": "code",
   "execution_count": null,
   "id": "60795e15",
   "metadata": {},
   "outputs": [],
   "source": [
    "max_timesteps = 80\n",
    "delta_t = Constant(4e-6)"
   ]
  },
  {
   "attachments": {},
   "cell_type": "markdown",
   "id": "e5392d37",
   "metadata": {},
   "source": [
    "### Initializing Control and Average Temperature Fields\n",
    "In the absence of a restart file, our initial guess for the temperature field is the final state of a forward run. To set this up, we project this state from a $Q2$ function space into a $Q1$ function space. This is stored in `Tic`, which is our control variable for the optimization problem. We also project the average temperature profile `Taverage` from the checkpoint file."
   ]
  },
  {
   "cell_type": "code",
   "execution_count": null,
   "id": "a4ea7e62",
   "metadata": {},
   "outputs": [],
   "source": [
    "# Download the reference velocities\n",
    "!gdown --id \"1Nstr1XcGmceL9arItBR5nFde-nXXAyFG\""
   ]
  },
  {
   "cell_type": "code",
   "execution_count": null,
   "id": "5e06829e",
   "metadata": {},
   "outputs": [],
   "source": [
    "Tic = Function(Q1, name=\"Initial Temperature\")\n",
    "Taverage = Function(Q1, name=\"Average Temperature\")\n",
    "\n",
    "checkpoint_file = CheckpointFile(\"Checkpoint_State.h5\", \"r\")\n",
    "# Tic.project(\n",
    "#     checkpoint_file.load_function(mesh, \"Temperature\", idx=max_timesteps-1)\n",
    "# )\n",
    "Tic.project(checkpoint_file.load_function(mesh, \"Average Temperature\", idx=0))\n",
    "Taverage.project(checkpoint_file.load_function(mesh, \"Average Temperature\", idx=0))"
   ]
  },
  {
   "attachments": {},
   "cell_type": "markdown",
   "id": "798ce6a6",
   "metadata": {},
   "source": [
    "### <u>Exercise 10.1</u>\n",
    "Visualise the initial condition, using the function provided bellow:"
   ]
  },
  {
   "cell_type": "code",
   "execution_count": null,
   "metadata": {},
   "outputs": [],
   "source": [
    "def visualise_function(my_function, clim=None, cmap=None):\n",
    "    File(\"temp.pvd\").write(my_function)\n",
    "    import pyvista as pv\n",
    "    temp_data = pv.read(\"temp_0.vtu\")\n",
    "    plotter = pv.Plotter(notebook=True)\n",
    "    plotter.add_mesh(temp_data, cmap='bwr' if cmap==None else cmap, clim=clim, scalar_bar_args={'title': 'Initial Guess', 'position_x': 0.2, 'position_y': 0.85})\n",
    "    plotter.camera_position = \"xy\"\n",
    "\n",
    "    plotter.show(jupyter_backend=\"static\", interactive=False)"
   ]
  },
  {
   "cell_type": "code",
   "execution_count": null,
   "id": "3adffcbb",
   "metadata": {},
   "outputs": [],
   "source": [
    "visualise_function(Tic, clim=[0.0, 1.0])"
   ]
  },
  {
   "attachments": {},
   "cell_type": "markdown",
   "id": "1e30181e",
   "metadata": {},
   "source": [
    "\n",
    "Now that we have initialized our control variable and average temperature profile, we need to define a temperature function `T` in `Q2` space where we'll actually solve the equations. Next, we define the `nullspace` for the Stokes equations using the function `create_stokes_nullspace`. The null-space for the Stokes system consists of a along the z axis, and constant pressure. And finally we define the boundary conditions. "
   ]
  },
  {
   "cell_type": "code",
   "execution_count": null,
   "id": "a0e7ec95",
   "metadata": {},
   "outputs": [],
   "source": [
    "bottom_id, top_id, left_id, right_id = \"bottom\", \"top\", 1, 2\n",
    "T = Function(Q, name=\"Temperature\")\n",
    "Z_nullspace = create_stokes_nullspace(Z, closed=True, rotational=False)\n",
    "stokes_bcs = {\n",
    "    bottom_id: {\"uy\": 0},\n",
    "    top_id: {\"uy\": 0},\n",
    "    left_id: {\"ux\": 0},\n",
    "    right_id: {\"ux\": 0},\n",
    "}\n",
    "\n",
    "temp_bcs = {\n",
    "    bottom_id: {\"T\": 1.0},\n",
    "    top_id: {\"T\": 0.0},\n",
    "}"
   ]
  },
  {
   "attachments": {},
   "cell_type": "markdown",
   "id": "3da2996c",
   "metadata": {},
   "source": [
    "### Initializing the Solvers for Stokes and Energy Equations\n",
    "In this section, we initialize the solvers for both the Stokes and energy equations. We use the boundary conditions and nullspaces defined earlier. The `StokesSolver` and `EnergySolver` classes take care of the respective equations' discretization and solution."
   ]
  },
  {
   "cell_type": "code",
   "execution_count": null,
   "id": "650bada0",
   "metadata": {},
   "outputs": [],
   "source": [
    "# Initialize the solver for the Stokes equations\n",
    "stokes_solver = StokesSolver(\n",
    "    z,\n",
    "    T,\n",
    "    approximation,\n",
    "    bcs=stokes_bcs,\n",
    "    nullspace=Z_nullspace,\n",
    "    transpose_nullspace=Z_nullspace,\n",
    ")\n",
    "\n",
    "# Initialize the solver for the energy equation\n",
    "energy_solver = EnergySolver(\n",
    "    T,\n",
    "    u,\n",
    "    approximation,\n",
    "    delta_t,\n",
    "    ImplicitMidpoint,\n",
    "    bcs=temp_bcs,\n",
    ")\n"
   ]
  },
  {
   "attachments": {},
   "cell_type": "markdown",
   "id": "640aa115",
   "metadata": {},
   "source": [
    "### Reduced Functional and Control in PDE-Constrained Optimisation\n",
    "\n",
    "In PDE (Partial Differential Equation) constrained optimization problems, two crucial concepts are the \"reduced functional\" and \"control\".\n",
    "\n",
    "### Reduced Functional\n",
    "\n",
    "A functional is a mapping from a function space to the real numbers. It often represents a quantity of interest that we aim to optimize. In PDE-constrained optimization, the functional typically depends on both the state variable $ u $ (which satisfies the PDE) and the control variable $ m $. It can be symbolized as $ J(u, m) $.\n",
    "\n",
    "However, for a given control $ m $, the state variable $ u $ can be determined by solving the PDE. Therefore, $ J(u, m) $ can be expressed solely in terms of $ m $ by solving the PDE for $ u $ and substituting this solution into $ J $. This newly formed functional, $\\tilde{J}(m)$, is known as the \"reduced functional\". It encapsulates the optimization problem, eliminating the need to explicitly consider the state variable. Formally,\n",
    "\n",
    "$$\\tilde{J}(m) = J(u(m), m)$$\n",
    "\n",
    "\n",
    "where $u(m)$ is the solution to the PDE for a particular $m$.\n",
    "\n",
    "### Control\n",
    "\n",
    "In the context of PDE-constrained optimisation, the \"control\" refers to the parameters or variables that we can adjust to optimise the functional $J(u, m)$. Controls can manifest in various forms:\n",
    "\n",
    "1. **Boundary Conditions**: For instance, the temperature at the boundary in a heat transfer problem.\n",
    "2. **Source Terms**: Such as a heat source in a thermal challenge.\n",
    "3. **Material Properties**: Like permeability in groundwater flow scenarios.\n",
    "4. **Initial Conditions**: In problems dependent on time, the initial state can often be a control.\n",
    "\n",
    "Essentially, the control is what we tweak to achieve an optimal solution. The objective is to identify the control \\( m \\) that either minimises or maximises the reduced functional $ \\tilde{J}(m)$."
   ]
  },
  {
   "attachments": {},
   "cell_type": "markdown",
   "id": "b425aa2d",
   "metadata": {},
   "source": [
    "### Setting up the Control Variable for Optimization\n",
    "In this segment, we define the control variable for our optimisation problem. The control variable `Tic` represents the initial temperature and is crucial for the adjoint-based optimization process. The control variable is registered with Pyadjoint using the `Control` class.\n",
    "\n",
    "We also initialize a variable `u_misfit` to zero. This variable will be used to accumulate the misfit between the observed and simulated velocity fields as the forward model runs."
   ]
  },
  {
   "cell_type": "code",
   "execution_count": null,
   "id": "f857a3d6",
   "metadata": {},
   "outputs": [],
   "source": [
    "# Define the control variable for optimization\n",
    "control = Control(Tic)\n",
    "\n",
    "# Initialize the variable to accumulate velocity misfit\n",
    "u_misfit = 0.0"
   ]
  },
  {
   "attachments": {},
   "cell_type": "markdown",
   "id": "9c09ddfe",
   "metadata": {},
   "source": [
    "### Projecting the Initial Condition and Running the Forward Simulation\n",
    "Next, we project the initial condition from the $Q1$ function space to the $Q2$ function space using the project method. We also specify the boundary conditions through `energy_solver.strong_bcs`.\n",
    "\n",
    "After setting up the initial condition, we run the forward simulation to populate the computational tape for the adjoint calculation. We solve the Stokes and energy equations in each timestep. Additionally, we update the accumulated surface velocity misfit (`u_misfit`) using the checkpointed values from the forward run.\n"
   ]
  },
  {
   "cell_type": "code",
   "execution_count": null,
   "id": "09eb5a13",
   "metadata": {},
   "outputs": [],
   "source": [
    "# Project the initial condition and apply boundary conditions\n",
    "T.project(Tic, bcs=energy_solver.strong_bcs)\n",
    "\n",
    "# Run the forward simulation\n",
    "for timestep in range(max_timesteps-40, max_timesteps):\n",
    "    stokes_solver.solve()\n",
    "    energy_solver.solve()\n",
    "\n",
    "    # Update the accumulated surface velocity misfit\n",
    "    uobs = checkpoint_file.load_function(mesh, name=\"Velocity\", idx=timestep)\n",
    "    u_misfit += assemble(dot(u - uobs, u - uobs) * ds_t)"
   ]
  },
  {
   "attachments": {},
   "cell_type": "markdown",
   "id": "0dea7fd4",
   "metadata": {},
   "source": [
    "#### Loading Observed and Reference States\n",
    "In this part, we load the observed final temperature state, the reference initial temperature, and the average temperature profile for the simulation domain. These will be used in the objective function.\n",
    "\n",
    "An exercise at this point would be to look at the functions."
   ]
  },
  {
   "cell_type": "code",
   "execution_count": null,
   "id": "10a7f39c",
   "metadata": {},
   "outputs": [],
   "source": [
    "# Load the observed final state\n",
    "Tobs = checkpoint_file.load_function(mesh, \"Temperature\", idx=max_timesteps - 1)\n",
    "Tobs.rename(\"Observed Temperature\")\n",
    "\n",
    "# Load the reference initial state\n",
    "Tic_ref = checkpoint_file.load_function(mesh, \"Temperature\", idx=0)\n",
    "Tic_ref.rename(\"Reference Initial Temperature\")\n",
    "\n",
    "# Load the average temperature profile\n",
    "Taverage = checkpoint_file.load_function(mesh, \"Average Temperature\", idx=0)\n",
    "\n",
    "checkpoint_file.close()"
   ]
  },
  {
   "attachments": {},
   "cell_type": "markdown",
   "id": "5bf6e40a",
   "metadata": {},
   "source": [
    "### Defining the Objective Function\n",
    "\n",
    "Now that we have loaded all the necessary states, we can define the objective function. The objective function consists of multiple terms:\n",
    "\n",
    "- `t_misfit`: The temperature misfit between the observed and calculated final states.\n",
    "- `u_misfit`: The velocity misfit term, weighted by $ \\alpha_u $.\n",
    "- `damping`: A damping term for the initial condition, weighted by $ \\alpha_d $.\n",
    "- `smoothing`: A smoothing term, weighted by $ \\alpha_s $.\n",
    "\n",
    "Each of these terms is normalized by various norms calculated earlier. The complete objective function is then given by\n",
    "\n",
    "\n",
    "$$\n",
    "\\text{objective} = t\\_misfit + \\alpha_u \\left( \\frac{{\\text{norm\\_obs} \\times u\\_misfit}}{{\\text{max\\_timesteps} \\times \\text{norm\\_u\\_surface}}} \\right) + \\alpha_d \\left( \\frac{{\\text{norm\\_obs} \\times \\text{damping}}}{{\\text{norm\\_damping}}} \\right) + \\alpha_s \\left( \\frac{{\\text{norm\\_obs} \\times \\text{smoothing}}}{{\\text{norm\\_smoothing}}} \\right)$$\n",
    "\n"
   ]
  },
  {
   "attachments": {},
   "cell_type": "markdown",
   "id": "ec970c69",
   "metadata": {},
   "source": [
    "## Setting Coefficients for Objective Function Terms\n",
    "\n",
    "In the first section of the script, we define the coefficients for various terms that contribute to the objective function we aim to optimize. These coefficients are:\n",
    "\n",
    "- $ \\alpha_u $: The coefficient for the velocity misfit term, set to $ 1 \\times 10^{-1} $.\n",
    "- $ \\alpha_d $: The coefficient for the initial condition damping term, set to $ 1 \\times 10^{-2} $.\n",
    "- $ \\alpha_s $: The coefficient for the smoothing term, set to $ 1 \\times 10^{-1} $.\n",
    "\n",
    "These coefficients weight the contributions of each term in the overall objective function, allowing us to fine-tune the optimization problem based on our specific requirements.\n"
   ]
  },
  {
   "cell_type": "code",
   "execution_count": null,
   "id": "015b49c7",
   "metadata": {},
   "outputs": [],
   "source": [
    "alpha_u = 0.1\n",
    "alpha_d = 0.01\n",
    "alpha_s = 0.1 "
   ]
  },
  {
   "cell_type": "code",
   "execution_count": null,
   "id": "3fdf9731",
   "metadata": {},
   "outputs": [],
   "source": [
    "# Define the component terms of the overall objective functional\n",
    "damping = assemble((Tic - Taverage) ** 2 * dx)\n",
    "norm_damping = assemble(Taverage**2 * dx)\n",
    "smoothing = assemble(dot(grad(Tic - Taverage), grad(Tic - Taverage)) * dx)\n",
    "norm_smoothing = assemble(dot(grad(Tobs), grad(Tobs)) * dx)\n",
    "norm_obs = assemble(Tobs**2 * dx)\n",
    "norm_u_surface = assemble(dot(uobs, uobs) * ds_t)\n",
    "\n",
    "# Temperature misfit between solution and observation\n",
    "t_misfit = assemble((T - Tobs) ** 2 * dx)\n",
    "\n",
    "objective = (\n",
    "    t_misfit +\n",
    "    alpha_u * (norm_obs * u_misfit / max_timesteps / norm_u_surface) +\n",
    "    alpha_d * (norm_obs * damping / norm_damping) +\n",
    "    alpha_s * (norm_obs * smoothing / norm_smoothing)\n",
    ")"
   ]
  },
  {
   "attachments": {},
   "cell_type": "markdown",
   "id": "e7271bcb",
   "metadata": {},
   "source": [
    "### Pausing Annotation and Defining Reduced Functional\n",
    "\n",
    "In this section, we pause the annotation of operations to the tape. This ensures that only the operations relevant to our problem are included. We then define the reduced functional using the `ReducedFunctional` class provided by pyadjoint. This functional will be minimized in the optimization problem.\n"
   ]
  },
  {
   "cell_type": "code",
   "execution_count": null,
   "id": "d5a5fdcb",
   "metadata": {},
   "outputs": [],
   "source": [
    "# All done with the forward run, stop annotating anything else to the tape\n",
    "pause_annotation()\n",
    "\n",
    "# Defining the object for pyadjoint\n",
    "reduced_functional = ReducedFunctional(objective, control)\n"
   ]
  },
  {
   "attachments": {},
   "cell_type": "markdown",
   "id": "501a29f4",
   "metadata": {},
   "source": [
    "### <u>Exercise 10.2</u>\n",
    "In the following we can visualise the derivative, that we eventually pass on to optimisation routines. Compute the derivative associated to each term:\n",
    "1. For `objective = t_misfit`. The derivative should show the sensitivity with respect to the <em>observed</em> final temperature field.\n",
    "2. For `objective = alpha_u * (norm_obs * u_misfit / max_timesteps / norm_u_surface)`, showing the sensitivity with resect to surface velocities.\n",
    "3. For `alpha_d * (norm_obs * damping / norm_damping)` showing how smoothing will act. \n",
    "4. For `alpha_s * (norm_obs * smoothing / norm_smoothing)` showing how smoothing will act.\n",
    "5. Repeat steps 1 and 2 for longer duration.  "
   ]
  },
  {
   "cell_type": "code",
   "execution_count": null,
   "id": "ebdd16da",
   "metadata": {},
   "outputs": [],
   "source": [
    "derivative = reduced_functional.derivative(options={\"riesz_representation\":\"L2\"})\n",
    "visualise_function(derivative, clim=None, cmap='seismic')"
   ]
  },
  {
   "attachments": {},
   "cell_type": "markdown",
   "id": "02c3fa51",
   "metadata": {},
   "source": [
    "### Verification of Gradients: Taylor Remainder Convergence Test\n",
    "\n",
    "A fundamental tool used in verification of gradients is the Taylor remainder convergence test. For the reduced functional, \\( J(T_{IC}) \\) and its derivative \\(\\frac{d J}{d T_{IC}}\\), it can be proven that,\n",
    "\n",
    "$$| J(T_{IC} + h \\,\\delta T_{IC}) - J(T_{IC}) - h\\,\\frac{d J}{d T_{IC}} \\cdot \\delta T_{IC} | \\longrightarrow 0 \\text{ at } O(h^2).$$\n",
    "\n",
    "The expression on the left-hand side is termed the second-order Taylor remainder. This term's convergence rate of $O(h^2)$ serves as a strong foundation for verifying any computational implementation meant for determining $\\frac{d J}{d T_{IC}}$ (the adjoint code) with respect to a specific functional that computes $J(T_{IC})$ (the forward code). Given any arbitrary selection of $h$ and $\\delta T_{IC}$, halving the value of $h$ should decrease the magnitude of the second-order Taylor remainder by a factor of 4. Grounded in this theoretical prediction, we employ these so-called *Taylor tests* to confirm the accuracy of the determined gradients.\n",
    "\n",
    "To perform a second-order Taylor remainder test, the gradient should be calculated for random perturbations of the initial temperature field $T_{IC}$ and subsequent halving of the amplitude of the perturbations $1/2, 1/4, 1/8 $."
   ]
  },
  {
   "attachments": {},
   "cell_type": "markdown",
   "id": "51f05957",
   "metadata": {},
   "source": [
    "### <u>Exercise 10.3</u>\n",
    "1. Perform a Taylor test to make sure the derivatives you are calculating are correct. Plot the results against theoretical convergence rate. \n",
    "2. Is there anything you can do to stop the Taylor test yielding $O(2.0)$ results?\n",
    "3. Using a misfit functional that captures <emp> surface velocity</emp>, calculate the gradient plot it and add to these slides:\n",
    "https://docs.google.com/presentation/d/1FQ0cc7Jm46xz6dLde0Db_fnKH7E-IcaVeiWIJJVReUw/edit?usp=sharing"
   ]
  },
  {
   "cell_type": "code",
   "execution_count": null,
   "id": "f4016f9a",
   "metadata": {},
   "outputs": [],
   "source": [
    "import numpy as np\n",
    "Delta_temp = Function(Tic.function_space(), name=\"Delta_Temperature\")\n",
    "Delta_temp.dat.data[:] = np.random.random(Delta_temp.dat.data.shape)\n",
    "minconv = taylor_test(reduced_functional, Tic, Delta_temp)\n"
   ]
  },
  {
   "cell_type": "code",
   "execution_count": null,
   "id": "6dfcfcbf",
   "metadata": {},
   "outputs": [],
   "source": [
    "computed_residuals = [0.0011112257233898614, 0.00027780641843553076, 6.94516030575688e-05, 1.736290057043835e-05]\n",
    "fig = plt.figure()\n",
    "ax = fig.add_subplot(111)\n",
    "ax.scatter([i for i in range(len(computed_residuals))], computed_residuals, label='Residual')\n",
    "ax.plot([i for i in range(len(computed_residuals))], [computed_residuals[0]*1/4**(i) for i in range(len(computed_residuals))], color='red', linestyle='--', label='O(2.0)')\n",
    "ax.set_yscale(\"log\")\n",
    "ax.set_xticks([i for i in range(len(computed_residuals))])\n",
    "ax.set_xticklabels([f\"1/{2**i}\" for i in range(len(computed_residuals))])\n",
    "ax.legend()\n",
    "ax.grid()\n",
    "plt.show()"
   ]
  },
  {
   "attachments": {},
   "cell_type": "markdown",
   "id": "ebe069f8",
   "metadata": {},
   "source": [
    "### Callback Function and Bounded Nonlinear Optimization\n",
    "\n",
    "In this final section, we define a callback function. This function calculates the initial and final misfits between the optimized and reference initial temperatures, and logs these values. \n",
    "\n",
    "We then set up bounds for the temperature control variable, ensuring that it remains in the range $[0, 1]$. \n",
    "\n",
    "Lastly, we use the `LinMoreOptimiser` class to perform bounded nonlinear optimization. The callback function is added to the optimizer to be executed at each iteration. \n",
    "\n"
   ]
  },
  {
   "cell_type": "code",
   "execution_count": null,
   "id": "b9b7c118",
   "metadata": {},
   "outputs": [],
   "source": [
    "class callback_class():\n",
    "    def __init__(self):\n",
    "        self.fi = File(\"Solution.pvd\")\n",
    "    def __call__(self):\n",
    "        self.fi.write(Tic.block_variable.checkpoint)\n",
    "\n",
    "        initial_misfit = assemble(\n",
    "            (Tic.block_variable.checkpoint - Tic_ref) ** 2 * dx\n",
    "        )\n",
    "        final_misfit = assemble(\n",
    "            (T.block_variable.checkpoint - Tobs) ** 2 * dx\n",
    "        )\n",
    "\n",
    "        log(f\"Initial misfit; {initial_misfit}; final misfit: {final_misfit}\")\n",
    "# initialising callback\n",
    "callback = callback_class()\n",
    "\n",
    "# Perform a bounded nonlinear optimisation where temperature\n",
    "# is only permitted to lie in the range [0, 1]\n",
    "T_lb = Function(Tic.function_space(), name=\"Lower bound temperature\")\n",
    "T_ub = Function(Tic.function_space(), name=\"Upper bound temperature\")\n",
    "T_lb.assign(0.0)\n",
    "T_ub.assign(1.0)\n",
    "\n",
    "minimisation_problem = MinimizationProblem(reduced_functional, bounds=(T_lb, T_ub))\n"
   ]
  },
  {
   "attachments": {},
   "cell_type": "markdown",
   "id": "c92f5fb4",
   "metadata": {},
   "source": [
    "And finally we run the optimisation for 10 iterations. "
   ]
  },
  {
   "cell_type": "code",
   "execution_count": null,
   "id": "2eb9c68c",
   "metadata": {},
   "outputs": [],
   "source": [
    "minimisation_parameters['Step']['Trust Region']['Lin-More']['Cauchy Point']['Normalize Initial Step Size'] = True\n",
    "minimisation_parameters['Step']['Trust Region']['Lin-More']['Cauchy Point']['Initial Step Size'] = 1.63e-1\n",
    "minimisation_parameters['Status Test']['Iteration Limit'] = 10\n",
    "optimiser = LinMoreOptimiser(\n",
    "    minimisation_problem,\n",
    "    minimisation_parameters,\n",
    "    auto_checkpoint=False,\n",
    ")\n",
    "optimiser.add_callback(callback)\n",
    "optimiser.run()"
   ]
  },
  {
   "cell_type": "code",
   "execution_count": null,
   "id": "0e9ca3c5",
   "metadata": {},
   "outputs": [],
   "source": [
    "solution = optimiser.rol_solver.rolvector.dat[0]\n",
    "solution.rename(\"solution\")\n",
    "\n",
    "visualise_function(solution, clim=[0.0, 1.0], cmap='bwr')"
   ]
  }
 ],
 "metadata": {
  "kernelspec": {
   "display_name": "firedrake-2023-09-11",
   "language": "python",
   "name": "python3"
  },
  "language_info": {
   "codemirror_mode": {
    "name": "ipython",
    "version": 3
   },
   "file_extension": ".py",
   "mimetype": "text/x-python",
   "name": "python",
   "nbconvert_exporter": "python",
   "pygments_lexer": "ipython3",
   "version": "3.11.4"
  },
  "vscode": {
   "interpreter": {
    "hash": "8a9755ef1665ed168a5e8b7be8eb49a8ebd5a09785821f5e34057f49b0958a00"
   }
  }
 },
 "nbformat": 4,
 "nbformat_minor": 5
}

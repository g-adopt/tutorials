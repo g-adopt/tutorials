{
 "cells": [
  {
   "cell_type": "markdown",
   "id": "034c26ef",
   "metadata": {},
   "source": [
    "PDE Constrained Optimisation with G-ADOPT - Boundary Values\n",
    "===========================================================\n",
    "\n",
    "In this tutorial, we undertake an inversion for an (unknown) initial condition, to match given\n",
    "time-dependent boundary values. This differs to our previous tutorial, where our goal was to\n",
    "match a given final state.\n",
    "\n",
    "We start with our usual imports:"
   ]
  },
  {
   "cell_type": "code",
   "execution_count": null,
   "id": "cd160029",
   "metadata": {},
   "outputs": [],
   "source": [
    "try:\n",
    "    from gadopt import *\n",
    "    from gadopt.inverse import *\n",
    "except ImportError:\n",
    "    !wget \"https://fem-on-colab.github.io/releases/firedrake-install-real.sh\" -O \"/tmp/firedrake-install.sh\" && bash \"/tmp/firedrake-install.sh\"\n",
    "    !pip install gadopt[demos,optimisation]\n",
    "    from gadopt import *\n",
    "    from gadopt.inverse import *"
   ]
  },
  {
   "cell_type": "markdown",
   "id": "310ad59b",
   "metadata": {},
   "source": [
    "Create synthetic twin experiment and record solution at all timesteps\n",
    "---------------------------------------------------------------------\n",
    "\n",
    "Note that the setup is similar to our previous example, except that the velocity is now counter\n",
    "clockwise around the origin $(0,0)$ in the corner of the unit square domain. This implies an inflow\n",
    "at the bottom boundary and an outflow boundary on the left of the domain."
   ]
  },
  {
   "cell_type": "code",
   "execution_count": null,
   "id": "762acba5",
   "metadata": {},
   "outputs": [],
   "source": [
    "mesh = UnitSquareMesh(40, 40)\n",
    "mesh.cartesian = True\n",
    "left, right, bottom, top = 1, 2, 3, 4  # Boundary IDs\n",
    "\n",
    "V = VectorFunctionSpace(mesh, \"CG\", 2)\n",
    "Q = FunctionSpace(mesh, \"CG\", 1)\n",
    "T = Function(Q, name='Temperature')\n",
    "T0 = Function(Q, name=\"Initial_Temperature\")  # T Initial condition which we will invert for.\n",
    "T0_ref = Function(Q, name=\"Reference_Initial_Temperature\")\n",
    "\n",
    "x, y = SpatialCoordinate(mesh)\n",
    "u = Function(V, name=\"Velocity\").interpolate(as_vector((-y, x)))\n",
    "\n",
    "approximation = BoussinesqApproximation(Ra=1, kappa=5e-2)\n",
    "\n",
    "delta_t = 0.1\n",
    "energy_solver = EnergySolver(T, u, approximation, delta_t, ImplicitMidpoint)"
   ]
  },
  {
   "cell_type": "markdown",
   "id": "e85f60f0",
   "metadata": {},
   "source": [
    "The initial condition that we, again, later will invert for, is now centered in the domain."
   ]
  },
  {
   "cell_type": "code",
   "execution_count": null,
   "id": "362ae1a3",
   "metadata": {},
   "outputs": [],
   "source": [
    "x0, y0 = 0.5, 0.5\n",
    "w = .2\n",
    "r2 = (x-x0)**2 + (y-y0)**2\n",
    "T0_ref.interpolate(exp(-r2/w**2))"
   ]
  },
  {
   "cell_type": "code",
   "execution_count": null,
   "id": "803269fe",
   "metadata": {
    "tags": [
     "active-ipynb"
    ]
   },
   "outputs": [],
   "source": [
    "import matplotlib.pyplot as plt\n",
    "fig, axes = plt.subplots()\n",
    "collection = tripcolor(T0_ref, axes=axes, cmap='magma', vmax=0.5)\n",
    "fig.colorbar(collection);"
   ]
  },
  {
   "cell_type": "markdown",
   "id": "041f4871",
   "metadata": {},
   "source": [
    "After setting the initial condition for T, we run this simulation for 20 timesteps to ensure\n",
    "the entire Gaussian has left the domain. For this example, we checkpoint the solution at every\n",
    "timestep, so that we can later use it as the target boundary values."
   ]
  },
  {
   "cell_type": "code",
   "execution_count": null,
   "id": "b32e1b1e",
   "metadata": {},
   "outputs": [],
   "source": [
    "num_timesteps = 20\n",
    "T.project(T0_ref)\n",
    "with CheckpointFile(\"Model_State.h5\", \"w\") as model_checkpoint:\n",
    "    model_checkpoint.save_mesh(mesh)\n",
    "    for timestep in range(num_timesteps):\n",
    "        model_checkpoint.save_function(T, idx=timestep)\n",
    "        energy_solver.solve()\n",
    "    # After saving idx=0, 19 at beginning of each timestep, we include idx=20 for the solution at\n",
    "    # the end of the final timestep:\n",
    "    model_checkpoint.save_function(T, idx=timestep)"
   ]
  },
  {
   "cell_type": "markdown",
   "id": "3dde3e35",
   "metadata": {},
   "source": [
    "The solution has almost completely disappeared (note the different scalebar):"
   ]
  },
  {
   "cell_type": "code",
   "execution_count": null,
   "id": "c7837e80",
   "metadata": {
    "tags": [
     "active-ipynb"
    ]
   },
   "outputs": [],
   "source": [
    "fig, axes = plt.subplots()\n",
    "collection = tripcolor(T, axes=axes, cmap='magma', vmax=0.1)\n",
    "fig.colorbar(collection);"
   ]
  },
  {
   "cell_type": "markdown",
   "id": "f02e579e",
   "metadata": {},
   "source": [
    "Advection diffusion model with unknown initial condition\n",
    "--------------------------------------------------------\n",
    "\n",
    "As with our previous example, we again set up the model with the same configuration, albeit where we\n",
    "do not know the initial condition. We will try to find the optimal initial condition such that we closely\n",
    "match the recorded outflow boundary values."
   ]
  },
  {
   "cell_type": "code",
   "execution_count": null,
   "id": "99c4c1df",
   "metadata": {},
   "outputs": [],
   "source": [
    "with CheckpointFile(\"Model_State.h5\", \"r\") as model_checkpoint:\n",
    "    mesh = model_checkpoint.load_mesh()\n",
    "    mesh.cartesian = True"
   ]
  },
  {
   "cell_type": "markdown",
   "id": "9ea2486e",
   "metadata": {},
   "source": [
    "We now set up the model exactly as before:"
   ]
  },
  {
   "cell_type": "code",
   "execution_count": null,
   "id": "4cbe030e",
   "metadata": {},
   "outputs": [],
   "source": [
    "V = VectorFunctionSpace(mesh, \"CG\", 2)\n",
    "Q = FunctionSpace(mesh, \"CG\", 1)\n",
    "T = Function(Q, name='Temperature')\n",
    "T0 = Function(Q, name=\"Initial_Temperature\")\n",
    "T0_ref = Function(Q, name=\"Reference_Initial_Temperature\")\n",
    "T_wrong = Function(Q, name=\"Wrong_Initial_Temperature\")\n",
    "\n",
    "x, y = SpatialCoordinate(mesh)\n",
    "u = Function(V, name=\"Velocity\").interpolate(as_vector((-y, x)))\n",
    "\n",
    "approximation = BoussinesqApproximation(Ra=1, kappa=5e-2)\n",
    "delta_t = 0.1\n",
    "energy_solver = EnergySolver(T, u, approximation, delta_t, ImplicitMidpoint)\n",
    "\n",
    "# Make our solver output a little less verbose:\n",
    "if \"ksp_converged_reason\" in energy_solver.solver_parameters:\n",
    "    del energy_solver.solver_parameters[\"ksp_converged_reason\"]"
   ]
  },
  {
   "cell_type": "markdown",
   "id": "fb8fc589",
   "metadata": {},
   "source": [
    "As a first guess we use a Gaussian that is in the wrong place: centred around $(0.7, 0.7)$\n",
    "instead of $(0.5, 0.5)$:"
   ]
  },
  {
   "cell_type": "code",
   "execution_count": null,
   "id": "ed568a6c",
   "metadata": {},
   "outputs": [],
   "source": [
    "x0, y0 = 0.7, 0.7\n",
    "w = .2\n",
    "r2 = (x-x0)**2 + (y-y0)**2\n",
    "T_wrong.interpolate(exp(-r2/w**2))"
   ]
  },
  {
   "cell_type": "markdown",
   "id": "36b2584b",
   "metadata": {},
   "source": [
    "As in our first example, we make sure to clear the tape before our actual model starts and\n",
    "specify the control at the right stage. During the model we load back in the solutions from the synthetic twin,\n",
    "but only use its values at the boundary to compute a mismatch with the current model as an integral over the left\n",
    "boundary. Note that we start calculating the functional already in the first timestep, and we keep on adding terms to it,\n",
    "all of which will still be automatically recorded by the pyadjoint tape."
   ]
  },
  {
   "cell_type": "code",
   "execution_count": null,
   "id": "910b824f",
   "metadata": {},
   "outputs": [],
   "source": [
    "tape = get_working_tape()\n",
    "tape.clear_tape()\n",
    "\n",
    "T0.project(T_wrong)\n",
    "\n",
    "m = Control(T0)\n",
    "\n",
    "J = AdjFloat(0.0)  # Initialise functional\n",
    "factor = AdjFloat(0.5)  # First & final boundary integral weighted by 0.5 to implement mid-point rule time-integration.\n",
    "\n",
    "T.project(T0)\n",
    "with CheckpointFile(\"Model_State.h5\", \"r\") as model_checkpoint:\n",
    "    for timestep in range(num_timesteps):\n",
    "        T_target = model_checkpoint.load_function(mesh, 'Temperature', idx=timestep)\n",
    "        J = J + factor * assemble((T-T_target)**2*ds(left))\n",
    "        factor = 1.0  # Remaining timesteps weighted by 1\n",
    "        energy_solver.solve()\n",
    "\n",
    "    T_target = model_checkpoint.load_function(mesh, 'Temperature', idx=timestep)\n",
    "    # Add final contribution weighted again by 0.5\n",
    "    J = J + factor * assemble((T-T_target)**2*ds(left))\n",
    "\n",
    "print(J)"
   ]
  },
  {
   "cell_type": "markdown",
   "id": "14a161a1",
   "metadata": {},
   "source": [
    "We define the reduced functional using the final value of `J` and the specified control. This allows us to rerun\n",
    "the model with an arbitrary initial condition. As with our previous example, we first try to simply rerun the\n",
    "model with the same \"wrong\" initial condition, and print the functional."
   ]
  },
  {
   "cell_type": "code",
   "execution_count": null,
   "id": "7f51bfd4",
   "metadata": {
    "lines_to_next_cell": 2
   },
   "outputs": [],
   "source": [
    "reduced_functional = ReducedFunctional(J, m)\n",
    "print(reduced_functional(T_wrong))"
   ]
  },
  {
   "cell_type": "markdown",
   "id": "de9bc89b",
   "metadata": {},
   "source": [
    "Now we re run the model with the \"correct\" initial condition from the twin experiment, ending up with\n",
    "a near-zero misfit."
   ]
  },
  {
   "cell_type": "code",
   "execution_count": null,
   "id": "bf72c862",
   "metadata": {},
   "outputs": [],
   "source": [
    "x0, y0 = 0.5, 0.5\n",
    "w = .2\n",
    "r2 = (x-x0)**2 + (y-y0)**2\n",
    "T0_ref.interpolate(exp(-r2/w**2))"
   ]
  },
  {
   "cell_type": "code",
   "execution_count": null,
   "id": "44e6ba83",
   "metadata": {
    "lines_to_next_cell": 2
   },
   "outputs": [],
   "source": [
    "print(reduced_functional(T0_ref))"
   ]
  },
  {
   "cell_type": "markdown",
   "id": "5f1cf52d",
   "metadata": {},
   "source": [
    "We can again look at the gradient. We evaluate the gradient\n",
    "around an initial guess of T=0 as the initial condition, noting\n",
    "that when a Function is created its associated data values are zero."
   ]
  },
  {
   "cell_type": "code",
   "execution_count": null,
   "id": "66dc6716",
   "metadata": {},
   "outputs": [],
   "source": [
    "T_wrong.assign(0.0)\n",
    "reduced_functional(T_wrong)"
   ]
  },
  {
   "cell_type": "markdown",
   "id": "dc683609",
   "metadata": {},
   "source": [
    "In unstructured mesh optimisation problems, it is important to work in the L2 Riesz representation\n",
    "to ensure a grid-independent result:"
   ]
  },
  {
   "cell_type": "code",
   "execution_count": null,
   "id": "52a941ad",
   "metadata": {},
   "outputs": [],
   "source": [
    "gradJ = reduced_functional.derivative(options={\"riesz_representation\": \"L2\"})"
   ]
  },
  {
   "cell_type": "code",
   "execution_count": null,
   "id": "74a5dd60",
   "metadata": {
    "tags": [
     "active-ipynb"
    ]
   },
   "outputs": [],
   "source": [
    "fig, axes = plt.subplots()\n",
    "collection = tripcolor(gradJ, axes=axes, cmap='viridis', vmin=-5, vmax=5)\n",
    "fig.colorbar(collection);"
   ]
  },
  {
   "cell_type": "markdown",
   "id": "f56c943d",
   "metadata": {},
   "source": [
    "Invert for optimal initial condition using gradient-based optimisation algorithm\n",
    "--------------------------------------------------------------------------------\n",
    "\n",
    "As in the previous example, we can now use ROL to invert for the inital condition.\n",
    "We last evaluated the reduced functional with a zero initial condition as the control value,\n",
    "so this will be our initial guess."
   ]
  },
  {
   "cell_type": "markdown",
   "id": "e575bbd0",
   "metadata": {},
   "source": [
    "We first set lower and upper bound values for the control, which we can\n",
    "provide as functions in the same function space as the control:"
   ]
  },
  {
   "cell_type": "code",
   "execution_count": null,
   "id": "65861416",
   "metadata": {},
   "outputs": [],
   "source": [
    "T_lb = Function(Q).assign(0.0)\n",
    "T_ub = Function(Q).assign(1.0)"
   ]
  },
  {
   "cell_type": "markdown",
   "id": "7f8d806f",
   "metadata": {},
   "source": [
    "We next specify our minimisation problem using the LinMore algorithm. As this case is a\n",
    "little more challenging than our previous tutorial, we specify 50 iterations as the limit."
   ]
  },
  {
   "cell_type": "code",
   "execution_count": null,
   "id": "5039df81",
   "metadata": {},
   "outputs": [],
   "source": [
    "minimisation_problem = MinimizationProblem(reduced_functional, bounds=(T_lb, T_ub))\n",
    "minimisation_parameters[\"Status Test\"][\"Iteration Limit\"] = 50\n",
    "\n",
    "# Define the LinMore Optimiser class:\n",
    "optimiser = LinMoreOptimiser(\n",
    "    minimisation_problem,\n",
    "    minimisation_parameters,\n",
    ")"
   ]
  },
  {
   "cell_type": "markdown",
   "id": "3f6c61a9",
   "metadata": {},
   "source": [
    "And again use our callback function to record convergence:"
   ]
  },
  {
   "cell_type": "code",
   "execution_count": null,
   "id": "672b63be",
   "metadata": {},
   "outputs": [],
   "source": [
    "functional_values = []\n",
    "\n",
    "\n",
    "def record_value(value, *args):\n",
    "    if functional_values:\n",
    "        functional_values.append(min(value, min(functional_values)))\n",
    "    else:\n",
    "        functional_values.append(value)\n",
    "\n",
    "\n",
    "reduced_functional.eval_cb_post = record_value"
   ]
  },
  {
   "cell_type": "markdown",
   "id": "f3f009bb",
   "metadata": {},
   "source": [
    "We next run the optimisation:"
   ]
  },
  {
   "cell_type": "code",
   "execution_count": null,
   "id": "ba6bd84c",
   "metadata": {},
   "outputs": [],
   "source": [
    "optimiser.run()"
   ]
  },
  {
   "cell_type": "markdown",
   "id": "e05aaf7e",
   "metadata": {},
   "source": [
    "And we'll write the functional values to a file so that we can test them."
   ]
  },
  {
   "cell_type": "code",
   "execution_count": null,
   "id": "8d195301",
   "metadata": {},
   "outputs": [],
   "source": [
    "with open(\"functional_boundary.txt\", \"w\") as f:\n",
    "    f.write(\"\\n\".join(str(x) for x in functional_values))"
   ]
  },
  {
   "cell_type": "markdown",
   "id": "a1500080",
   "metadata": {},
   "source": [
    "Let's see how well we have done. At this point a total number of 50 iterations\n",
    "have been performed so let's plot convergence:"
   ]
  },
  {
   "cell_type": "code",
   "execution_count": null,
   "id": "51cf163d",
   "metadata": {
    "tags": [
     "active-ipynb"
    ]
   },
   "outputs": [],
   "source": [
    "plt.semilogy(functional_values)\n",
    "plt.xlabel(\"Iteration #\")\n",
    "plt.ylabel(\"Functional value\")\n",
    "plt.title(\"Convergence\")"
   ]
  },
  {
   "cell_type": "markdown",
   "id": "52f3763d",
   "metadata": {},
   "source": [
    "This demonstrates that the functional value decreases by roughly three orders of\n",
    "magnitude over the 50 iterations considered. As with the previous tutorial, the\n",
    "functional value can be reduced further if more iterations are specified, or if\n",
    "the optimisation procedure is configured to continue until a specified tolerance\n",
    "is achieved. We can also visualise the optimised initial condition and compare to\n",
    "the true initial condition:"
   ]
  },
  {
   "cell_type": "code",
   "execution_count": null,
   "id": "9bcd731a",
   "metadata": {
    "lines_to_next_cell": 2,
    "tags": [
     "active-ipynb"
    ]
   },
   "outputs": [],
   "source": [
    "fig, axes = plt.subplots(1,2,figsize=[8,4],subplot_kw={'aspect':1.0})\n",
    "ax1 = tripcolor(T0.block_variable.checkpoint, axes=axes[0], cmap='magma', vmax=0.5)\n",
    "ax2 = tripcolor(T0_ref, axes=axes[1], cmap='magma', vmax=0.5)\n",
    "fig.subplots_adjust(right=0.82)\n",
    "cbar_ax = fig.add_axes([0.85, 0.15, 0.02, 0.68])\n",
    "fig.colorbar(ax2,cax=cbar_ax);"
   ]
  },
  {
   "cell_type": "markdown",
   "id": "7478c142",
   "metadata": {},
   "source": [
    "Not bad. Not bad at all! Thank you for listening! Crowd. Goes. Wild."
   ]
  }
 ],
 "metadata": {
  "jupytext": {
   "cell_metadata_filter": "tags,-all",
   "main_language": "python",
   "notebook_metadata_filter": "-all"
  }
 },
 "nbformat": 4,
 "nbformat_minor": 5
}

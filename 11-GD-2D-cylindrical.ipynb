{
 "cells": [
  {
   "attachments": {},
   "cell_type": "markdown",
   "metadata": {},
   "source": [
    "# Adjoint-based Optimization for an Annulus Domain with Viscoplastic Rheology\n",
    "\n",
    "In this exercise, we extend our understanding of adjoint-based optimization to a more complex geophysical scenario. Unlike the previous exercise that focused on a simple square domain, here we explore an annulus domain, mimicking Earth's mantle. We also introduce a more sophisticated viscoplastic rheology model. \n",
    "\n",
    "Key differences from the previous exercise:\n",
    "1. **Geometry**: We are working with an annulus domain.\n",
    "2. **Rheology**: We introduce a viscoplastic model.\n",
    "\n",
    "Let's dive in! But before that, let's make sure we have all the dependencies. \n"
   ]
  },
  {
   "attachments": {},
   "cell_type": "markdown",
   "metadata": {},
   "source": [
    "Here, we first import the required libraries. We then get the tape from `pyadjoint` using `get_working_tape()` and clear it using `tape.clear_tape()`. This ensures that the tape is clean before we start, which is particularly important when running multiple instances of adjoint simulations.\n"
   ]
  },
  {
   "attachments": {},
   "cell_type": "markdown",
   "metadata": {},
   "source": [
    "In this section, we set up the geometry of our annulus domain. We define $r_{max}=2.2$, $r_{min}=1.2$. This ensures a unit length for the thickness of the domain, while mainating the same ratio between surface and CMB as it is for the Earth. We also obtain the non-dimensional radius of 410 and 660 discontinuities in this email, which will be used to implement the depth dependence of  km depths, which represent viscosity jumps.\n",
    "\n"
   ]
  },
  {
   "cell_type": "code",
   "execution_count": null,
   "metadata": {},
   "outputs": [],
   "source": [
    "# Set up geometry:\n",
    " rmax = 2.22\n",
    " rmax_earth = 6370  # Radius of Earth [km]\n",
    " rmin_earth = rmax_earth - 2900  # Radius of CMB [km]\n",
    " r_410_earth = rmax_earth - 410  # 410 radius [km]\n",
    " r_660_earth = rmax_earth - 660  # 660 raidus [km]\n",
    " r_410 = rmax - (rmax_earth - r_410_earth) / (rmax_earth - rmin_earth)\n",
    " r_660 = rmax - (rmax_earth - r_660_earth) / (rmax_earth - rmin_earth)\n"
   ]
  },
  {
   "attachments": {},
   "cell_type": "markdown",
   "metadata": {},
   "source": [
    "We load the mesh from our reference simulation stored in `Checkpoint230.h5`. After that, we enable disk checkpointing for adjoint intermediary fields. This is crucial for managing memory efficiently, especially for large problems.\n"
   ]
  },
  {
   "cell_type": "code",
   "execution_count": null,
   "metadata": {},
   "outputs": [],
   "source": [
    "with CheckpointFile(\"Checkpoint230.h5\", \"r\") as f:\n",
    "        mesh = f.load_mesh(\"firedrake_default_extruded\")\n",
    "\n",
    "    enable_disk_checkpointing()"
   ]
  },
  {
   "attachments": {},
   "cell_type": "markdown",
   "metadata": {},
   "source": [
    "We define various function spaces for our problem. Importantly, we use \\( Q2 \\) elements for temperature but \\( Q1 \\) elements for our control variable. \n"
   ]
  },
  {
   "cell_type": "markdown",
   "metadata": {},
   "source": []
  },
  {
   "cell_type": "code",
   "execution_count": null,
   "metadata": {},
   "outputs": [],
   "source": [
    "# Set up function spaces for the Q2Q1 pair\n",
    "V = VectorFunctionSpace(mesh, \"CG\", 2)  # Velocity function space (vector)\n",
    "W = FunctionSpace(mesh, \"CG\", 1)  # Pressure function space (scalar)\n",
    "Q = FunctionSpace(mesh, \"CG\", 2)  # Temperature function space (scalar)\n",
    "Q1 = FunctionSpace(mesh, \"CG\", 1)  # Control function space\n",
    "Z = MixedFunctionSpace([V, W])  # Mixed function space\n",
    "\n",
    "# Test functions and functions to hold solutions:\n",
    "z = Function(Z)  # A field over the mixed function space Z\n",
    "u, p = split(z)  # Symbolic UFL expressions for u and p\n",
    "\n",
    "X = SpatialCoordinate(mesh)\n",
    "r = sqrt(X[0] ** 2 + X[1] ** 2)"
   ]
  },
  {
   "attachments": {},
   "cell_type": "markdown",
   "metadata": {},
   "source": [
    "We set up the Rayleigh number and the Boussinesq Approximation here. We also define the time-stepping parameters and load our control variable $\\text{Tic}$ and $\\text{Taverage}$ for regularisation.\n",
    "\n"
   ]
  },
  {
   "cell_type": "code",
   "execution_count": null,
   "metadata": {},
   "outputs": [
    {
     "ename": "",
     "evalue": "",
     "output_type": "error",
     "traceback": [
      "\u001b[1;31mJupyter cannot be started. Error attempting to locate Jupyter: Running cells requires notebook package.\n",
      "\u001b[1;31mRun the following command to install 'jupyter and notebook' into the Python environment. \n",
      "\u001b[1;31mCommand: 'python -m pip install jupyter notebook -U\n",
      "\u001b[1;31mor\n",
      "\u001b[1;31mconda install jupyter notebook -U'\n",
      "\u001b[1;31mClick <a href='https://aka.ms/installJupyterForVSCode'>here</a> for more info."
     ]
    }
   ],
   "source": [
    "Ra = Constant(1e7)  # Rayleigh number\n",
    "approximation = BoussinesqApproximation(Ra)\n",
    "\n",
    "# Define time stepping parameters:\n",
    "max_timesteps = 200\n",
    "delta_t = Constant(5e-6)  # Constant time step\n",
    "\n",
    "# Without a restart to continue from, our initial guess is the final state of the forward run\n",
    "# We need to project the state from Q2 into Q1\n",
    "Tic = Function(Q1, name=\"Initial Temperature\")\n",
    "Taverage = Function(Q1, name=\"Average Temperature\")\n",
    "\n",
    "checkpoint_file = CheckpointFile(\"Checkpoint_State.h5\", \"r\")\n",
    "# Initialise the control\n",
    "Tic.project(\n",
    "    checkpoint_file.load_function(mesh, \"Temperature\", idx=max_timesteps - 1)\n",
    ")\n",
    "Taverage.project(checkpoint_file.load_function(mesh, \"Average Temperature\", idx=0))\n",
    "\n",
    "# Temperature function in Q2, where we solve the equations\n",
    "T = Function(Q, name=\"Temperature\")"
   ]
  },
  {
   "attachments": {},
   "cell_type": "markdown",
   "metadata": {},
   "source": [
    "In this section, we build a complex viscoplastic rheology model. We use a step function to represent the viscosity jumps at 410 and 660 km depths. The rheology has two components: a linear part that is temperature-dependent and a plastic part that is rheology-dependent.\n",
    "\n",
    "\\[\n",
    "\\text{Equations for viscosity here}\n",
    "\\]\n"
   ]
  },
  {
   "attachments": {},
   "cell_type": "markdown",
   "metadata": {},
   "source": [
    "Finally, we set up the solvers for the Stokes and energy equations. Doing that we also set up nullspaces and near-nullspaces for efficient solving of the system."
   ]
  },
  {
   "cell_type": "markdown",
   "metadata": {},
   "source": []
  },
  {
   "cell_type": "code",
   "execution_count": null,
   "metadata": {},
   "outputs": [],
   "source": [
    "# Nullspaces and near-nullspaces:\n",
    "Z_nullspace = create_stokes_nullspace(Z, closed=True, rotational=True)\n",
    "Z_near_nullspace = create_stokes_nullspace(\n",
    "    Z, closed=False, rotational=True, translations=[0, 1]\n",
    ")\n",
    "\n",
    "stokes_bcs = {\n",
    "    \"top\": {\"un\": 0},\n",
    "    \"bottom\": {\"un\": 0},\n",
    "}\n",
    "temp_bcs = {\n",
    "    \"top\": {\"T\": 0.0},\n",
    "    \"bottom\": {\"T\": 1.0},\n",
    "}\n",
    "\n",
    "energy_solver = EnergySolver(\n",
    "    T,\n",
    "    u,\n",
    "    approximation,\n",
    "    delta_t,\n",
    "    ImplicitMidpoint,\n",
    "    bcs=temp_bcs,\n",
    ")\n",
    "\n",
    "stokes_solver = StokesSolver(\n",
    "    z,\n",
    "    T,\n",
    "    approximation,\n",
    "    mu=mu,\n",
    "    bcs=stokes_bcs,\n",
    "    cartesian=False,\n",
    "    nullspace=Z_nullspace,\n",
    "    transpose_nullspace=Z_nullspace,\n",
    "    near_nullspace=Z_near_nullspace,\n",
    "    solver_parameters=newton_stokes_solver_parameters,\n",
    ")"
   ]
  },
  {
   "attachments": {},
   "cell_type": "markdown",
   "metadata": {},
   "source": [
    "The control variable for our optimisation problem is set to be `Tic`, which represents the initial condition for temperature. This is the parameter we aim to optimise in our inverse problem.\n",
    "\n"
   ]
  },
  {
   "cell_type": "code",
   "execution_count": null,
   "metadata": {},
   "outputs": [],
   "source": [
    "# Control variable for optimisation\n",
    "control = Control(Tic)"
   ]
  },
  {
   "attachments": {},
   "cell_type": "markdown",
   "metadata": {},
   "source": [
    "We initialize `u_misfit` to zero. This variable will be used to accumulate the misfit between the observed and simulated surface velocity as we proceed through the time steps.\n"
   ]
  },
  {
   "cell_type": "code",
   "execution_count": null,
   "metadata": {},
   "outputs": [],
   "source": [
    "u_misfit = 0.0"
   ]
  },
  {
   "attachments": {},
   "cell_type": "markdown",
   "metadata": {},
   "source": [
    "Next, we need to project the initial condition `Tic` from the $Q1$ space to $Q2$ space. This is necessary because the temperature is solved in $Q2$ space. We also impose boundary conditions while doing this projection.\n",
    "After the projection, we are ready to run the forward simulation to populate the tape, which will be used for adjoint computations later. For each time step, we solve both the Stokes and energy equations. We then update the variable `u_misfit` to accumulate the surface velocity misfit using the observed values. While running the forward problem, we also load reference velocity fields information that will be used in the objective function:\n",
    "\n",
    "\n"
   ]
  },
  {
   "cell_type": "code",
   "execution_count": null,
   "metadata": {},
   "outputs": [],
   "source": [
    "T.project(Tic, bcs=energy_solver.strong_bcs)\n",
    "for timestep in range(0, max_timesteps):\n",
    "    stokes_solver.solve()\n",
    "    energy_solver.solve()\n",
    "    uobs = checkpoint_file.load_function(mesh, name=\"Velocity\", idx=timestep)\n",
    "    u_misfit += assemble(dot(u - uobs, u - uobs) * ds_t)"
   ]
  },
  {
   "attachments": {},
   "cell_type": "markdown",
   "metadata": {},
   "source": [
    "We also load various fields\n",
    "- `Tobs`: The observed final state of temperature.\n",
    "- `Tic_ref`: The reference initial state of temperature, used to measure the performance of an inverse scheme.\n",
    "- `Taverage`: The average temperature profile, used for regularization.\n",
    "\n",
    "We then close the checkpoint file."
   ]
  },
  {
   "cell_type": "code",
   "execution_count": null,
   "metadata": {},
   "outputs": [],
   "source": [
    "# Load the observed final state\n",
    "Tobs = checkpoint_file.load_function(mesh, \"Temperature\", idx=max_timesteps - 1)\n",
    "Tobs.rename(\"Observed Temperature\")\n",
    "\n",
    "# Load the reference initial state\n",
    "# Needed to measure performance of weightings\n",
    "Tic_ref = checkpoint_file.load_function(mesh, \"Temperature\", idx=0)\n",
    "Tic_ref.rename(\"Reference Initial Temperature\")\n",
    "\n",
    "# Load the average temperature profile\n",
    "Taverage = checkpoint_file.load_function(mesh, \"Average Temperature\", idx=0)\n",
    "\n",
    "checkpoint_file.close()"
   ]
  },
  {
   "attachments": {},
   "cell_type": "markdown",
   "metadata": {},
   "source": [
    "We define the components of the objective functional, which include terms for damping, smoothing, and the misfits for temperature and surface velocity. These are combined to form the overall objective function that we aim to minimize."
   ]
  },
  {
   "cell_type": "code",
   "execution_count": null,
   "metadata": {},
   "outputs": [],
   "source": [
    "# Define the component terms of the overall objective functional\n",
    "damping = assemble((Tic - Taverage) ** 2 * dx)\n",
    "norm_damping = assemble(Taverage**2 * dx)\n",
    "smoothing = assemble(dot(grad(Tic - Taverage), grad(Tic - Taverage)) * dx)\n",
    "norm_smoothing = assemble(dot(grad(Tobs), grad(Tobs)) * dx)\n",
    "norm_obs = assemble(Tobs**2 * dx)\n",
    "norm_u_surface = assemble(dot(uobs, uobs) * ds_t)\n",
    "\n",
    "# Temperature misfit between solution and observation\n",
    "t_misfit = assemble((T - Tobs) ** 2 * dx)\n",
    "\n",
    "objective = (\n",
    "    t_misfit +\n",
    "    alpha_u * (norm_obs * u_misfit / max_timesteps / norm_u_surface) +\n",
    "    alpha_d * (norm_obs * damping / norm_damping) +\n",
    "    alpha_s * (norm_obs * smoothing / norm_smoothing)\n",
    ")"
   ]
  },
  {
   "attachments": {},
   "cell_type": "markdown",
   "metadata": {},
   "source": [
    "We pause the annotation to the tape as we are done with the forward run. This ensures that no further operations are added to the tape, which will be used for adjoint calculations.\n",
    "We define the reduced functional, which represents the objective function with respect to the control variable. This will be used for optimization.\n",
    "We define a callback function to log the initial and final misfits as the optimization progresses. This is useful for monitoring the optimization process.\n",
    "We set up a bounded nonlinear optimization problem. The temperature is restricted to be within the range [0, 1]. We then define the minimization problem with these bounds.\n"
   ]
  },
  {
   "cell_type": "code",
   "execution_count": null,
   "metadata": {},
   "outputs": [],
   "source": [
    "# All done with the forward run, stop annotating anything else to the tape\n",
    "pause_annotation()\n",
    "# Defining the object for pyadjoint\n",
    "reduced_functional = ReducedFunctional(objective, control)\n",
    "def callback():\n",
    "    initial_misfit = assemble(\n",
    "        (Tic.block_variable.checkpoint.restore() - Tic_ref) ** 2 * dx\n",
    "    )\n",
    "    final_misfit = assemble(\n",
    "        (T.block_variable.checkpoint.restore() - Tobs) ** 2 * dx\n",
    "    )\n",
    "\n",
    "    log(f\"Initial misfit; {initial_misfit}; final misfit: {final_misfit}\")\n",
    "# Perform a bounded nonlinear optimisation where temperature\n",
    "# is only permitted to lie in the range [0, 1]\n",
    "T_lb = Function(Tic.function_space(), name=\"Lower bound temperature\")\n",
    "T_ub = Function(Tic.function_space(), name=\"Upper bound temperature\")\n",
    "T_lb.assign(0.0)\n",
    "T_ub.assign(1.0)\n",
    "\n",
    "minimisation_problem = MinimizationProblem(reduced_functional, bounds=(T_lb, T_ub))\n"
   ]
  },
  {
   "attachments": {},
   "cell_type": "markdown",
   "metadata": {},
   "source": [
    "Finally, we set up and run the optimizer. We also add the callback function to log the misfits during the optimization.\n",
    "If multiple successive optimizations are being performed, it's important to resume annotation to the tape for the next run.\n"
   ]
  },
  {
   "cell_type": "code",
   "execution_count": null,
   "metadata": {},
   "outputs": [],
   "source": [
    "optimiser = LinMoreOptimiser(\n",
    "    minimisation_problem,\n",
    "    minimisation_parameters,\n",
    "    checkpoint_dir=\"optimisation_checkpoint\",\n",
    ")\n",
    "optimiser.add_callback(callback)\n",
    "optimiser.run()"
   ]
  },
  {
   "attachments": {},
   "cell_type": "markdown",
   "metadata": {},
   "source": [
    "## Conclusion\n",
    "\n",
    "In this exercise, we have delved into a more complex geophysical scenario with a focus on an annulus domain and viscoplastic rheology. This adds layers of realism to our inversion problem and gives us a deeper understanding of the complexities involved in geodynamics simulations.\n",
    "\n",
    "Key Takeaways:\n",
    "1. The geometry and rheology significantly impact the inversion process.\n",
    "2. Sophisticated rheology models can be implemented efficiently using Firedrake and pyadjoint.\n",
    "\n"
   ]
  }
 ],
 "metadata": {
  "kernelspec": {
   "display_name": "firedrake-2023-09-11",
   "language": "python",
   "name": "python3"
  },
  "language_info": {
   "name": "python",
   "version": "3.11.4 (main, Jun 20 2023, 17:23:00) [Clang 14.0.3 (clang-1403.0.22.14.1)]"
  },
  "orig_nbformat": 4,
  "vscode": {
   "interpreter": {
    "hash": "8a9755ef1665ed168a5e8b7be8eb49a8ebd5a09785821f5e34057f49b0958a00"
   }
  }
 },
 "nbformat": 4,
 "nbformat_minor": 2
}

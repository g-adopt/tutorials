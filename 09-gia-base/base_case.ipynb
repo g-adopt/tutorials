{
 "cells": [
  {
   "cell_type": "markdown",
   "id": "9b00bf97",
   "metadata": {},
   "source": [
    "Idealised 2-D viscoelastic loading problem in a square box\n",
    "=======================================================\n",
    "\n",
    "In this tutorial, we examine an idealised 2-D loading problem in a square box. Here we will focus purely on viscoelastic deformation by a surface load, i.e. a synthetic ice sheet!\n",
    "\n",
    "You may already have seen how G-ADOPT can be applied to mantle convection problems in our other tutorials. Generally the setup of the G-ADOPT model should be familiar but the equations we are solving and the necessary input fields will be slightly different.\n",
    "\n",
    "Governing equations\n",
    "-------------------\n",
    "Let's start by reviewing some equations! Similar to mantle convection, the governing equations for viscoelastic loading are derived from the\n",
    "conservation laws of mass and momentum.\n",
    "\n",
    "The conservation of momentum is\n",
    "\\begin{equation}\n",
    "    \\nabla \\cdot \\boldsymbol{\\sigma} - \\rho \\nabla \\Phi = 0,\n",
    "\\end{equation}\n",
    "where $\\boldsymbol{\\sigma}$ is the full stress tensor, $\\rho$ is the density and $\\Phi$ is the gravitational potential field. As with mantle convection, we have neglected inertial terms.\n",
    "\n",
    "For incompressible materials conservation of mass is\n",
    "\\begin{equation}\n",
    "    \\frac{\\partial \\rho}{\\partial t} + \\textbf{v} \\cdot \\nabla \\rho = 0,\n",
    "\\end{equation}\n",
    "where $\\textbf{v}$ is the velocity. For the moment we are focusing on incompressible materials where\n",
    "\\begin{equation}\n",
    "    \\nabla \\cdot \\textbf{v} = 0.\n",
    "\\end{equation}\n",
    "\n"
   ]
  },
  {
   "cell_type": "markdown",
   "id": "d0557af8",
   "metadata": {},
   "source": [
    "Linearisation\n",
    "-------------\n",
    "The conservation of momentum is usually linearised due to the small displacements relative to the depth of the mantle, i.e.\n",
    "\\begin{equation}\n",
    "    \\rho = \\rho_0 + \\rho_1,\n",
    "\\end{equation}\n",
    "\\begin{equation}\n",
    "    \\boldsymbol{\\sigma} = \\boldsymbol{\\sigma}_0 + \\boldsymbol{\\sigma}_1,\n",
    "\\end{equation}\n",
    "\\begin{equation}\n",
    "    \\nabla \\Phi = \\nabla \\Phi_0 + \\nabla \\Phi_1 = \\textbf{g} + \\nabla \\Phi_1.\n",
    "\\end{equation}\n",
    "Subbing this into the momentum equation and neglecting higher order terms gives\n",
    "\\begin{equation}\n",
    "    \\nabla \\cdot \\boldsymbol{\\sigma}_0 + \\nabla \\cdot \\boldsymbol{\\sigma}_1  - \\rho_0 \\textbf{g}  - \\rho_1 \\textbf{g} - \\rho_0 \\nabla \\Phi_1 = 0.\n",
    "\\end{equation}\n",
    "The background state is assumed to be in hydrostatic equilibrium so\n",
    "\\begin{equation}\n",
    "    \\nabla \\cdot \\boldsymbol{\\sigma}_0 = \\rho_0 \\textbf{g}.\n",
    "\\end{equation}\n",
    "Therefore we can simplify the momentum balance to\n",
    "\\begin{equation}\n",
    "    \\nabla \\cdot \\boldsymbol{\\sigma}_1   - \\rho_1 \\textbf{g} - \\rho_0 \\nabla \\Phi_1 = 0.\n",
    "\\end{equation}\n",
    "For this tutorial we are going to ignore changes in the gravitational field, so the last term drops out, giving\n",
    "\\begin{equation}\n",
    "    \\nabla \\cdot \\boldsymbol{\\sigma}_1   - \\rho_1 \\textbf{g}  = 0.\n",
    "\\end{equation}\n",
    "\n",
    "Linearising the conservation of mass gives\n",
    "\\begin{equation}\n",
    "    \\frac{\\partial (\\rho_0+\\rho_1)}{\\partial t} + \\textbf{v} \\cdot \\nabla (\\rho_0 + \\rho_1) = 0.\n",
    "\\end{equation}\n",
    "After neglecting higher order terms and assuming the background density field, $\\rho_0$, does not vary in time, the conservation of mass becomes\n",
    "\\begin{equation}\n",
    "    \\frac{\\partial \\rho_1}{\\partial t} + \\textbf{v} \\cdot \\nabla \\rho_0  = 0.\n",
    "\\end{equation}\n",
    "Integrating this equation with respect to time gives\n",
    "\\begin{equation}\n",
    "    \\rho_1 = - \\textbf{u} \\cdot \\nabla \\rho_0 ,\n",
    "\\end{equation}\n",
    "assuming $\\rho_1 = 0$ at initial times. Note that $\\textbf{u}$ is now the displacement vector. The density perturbation $\\rho_1$ is referred to as the *Eulerian density pertubation* by the GIA community.\n"
   ]
  },
  {
   "cell_type": "markdown",
   "id": "eaf3e4f1",
   "metadata": {},
   "source": [
    "Incremental Lagrangian Stress Tensor\n",
    "-------------------------------------\n",
    "The GIA community usually reformulates the linearised momentum equation in terms of the *Incremental lagrangian stress tensor*. This can be traced back to the early roots of GIA modellers adopting Laplace transform methods. The idea behind this is to convert the time dependent *viscoelastic* problem to a time independent *elastic* problem by the correspondence principle.\n",
    "\n",
    "From an elastic wave theory point of view, Dahlen and Tromp (1998) make the point that it is the Lagrangian perturbation in stress not the Eulerian perturbation that is related to the displacement gradient by the elastic parameters. Transforming between the Lagrangian perturbation in stress and the Eulerian description is given by\n",
    "\\begin{equation}\n",
    "     \\boldsymbol{\\sigma}_{L1} =  \\boldsymbol{\\sigma}_1 + \\textbf{u} \\cdot \\nabla \\boldsymbol{\\sigma}_0 ,\n",
    "\\end{equation}\n",
    "where $\\boldsymbol{\\sigma}_{L1}$ is the Incremental lagrangian stress tensor.\n",
    "\n",
    "This is effectively accounting for an advection of a background quantity when translating between the Eulerian and Lagrangian frames of reference through a first order Taylor series expansion.\n",
    "\n",
    "This advection of prestress can be important for very long wavelength loads. Cathles (1975) estimates that the term becomes leading order when the wavelength is greater than 30000 km for typical Earth parameters, i.e. only when the wavelength is the same order of magnitude as the circumference of the Earth.\n",
    "\n",
    "For the viscoelastic problem, however, this term is crucial because it acts as a restoring force to isostatic equilibrium. If the Laplace transform methods do not include this term a load placed on the surface of the Earth will keep sinking (Wu and Peltier, 1982)!\n",
    "\n",
    "Subbing into the stress balance gives\n",
    "\n",
    "\\begin{equation}\n",
    "    \\nabla \\cdot \\boldsymbol{\\sigma}_1 = \\nabla \\cdot (\\boldsymbol{\\sigma}_{L1}  - \\textbf{u} \\cdot \\nabla \\boldsymbol{\\sigma}_0 ) = \\nabla \\cdot \\boldsymbol{\\sigma}_{L1} - \\nabla (\\rho_0 g u_r)\n",
    "\\end{equation}\n",
    "where $u_r$ is the radial displacement vector.\n"
   ]
  },
  {
   "cell_type": "markdown",
   "id": "82db98f2",
   "metadata": {},
   "source": [
    "Maxwell Rheology\n",
    "----------------\n",
    "\n",
    "The GIA community generally model the mantle as an incompressible Maxwell solid. The conceptual picture is a spring and a dashpot connected together in series (Ranalli, 1995). For this viscoelastic model the elastic and viscous stresses are the same but the total displacements combine.\n",
    "\n",
    "The viscous constitutive relationship is\n",
    "\\begin{equation}\n",
    "    \\overset{\\cdot}{\\boldsymbol{\\epsilon}}^v = \\dfrac{1}{2 \\eta} (\\boldsymbol{\\sigma}_{L1} + p \\textbf{I}).\n",
    "\\end{equation}\n",
    "The corresponding elastic constitutive equation is\n",
    "\\begin{equation}\n",
    "    \\boldsymbol{\\epsilon}^e  = \\dfrac{1}{2 \\mu} (\\boldsymbol{\\sigma}_{L1} + p \\textbf{I})\n",
    "\\end{equation}\n",
    "where $\\overset{\\cdot}{\\boldsymbol{\\epsilon}}^v $ is the viscous strain rate tensor, $\\boldsymbol{\\epsilon}^e$ is the elastic strain tensor, $\\eta$  is the viscosity, $\\mu$ is the shear modulus, $\\textbf{I}$ is the Identity matrix, $p$ is the perturbation pressure, and $\\boldsymbol{\\sigma}_{L1} $ is the incremental lagrangian stress tensor. Note $p$ is a perturbation pressure as we have already removed the hydostatic background state earlier. An overhead dot notes the time derivative i.e the viscous strain rate is proportional to stress, while the elastic strain  is proportional to stress. The total strain is\n",
    "\\begin{equation}\n",
    "    \\boldsymbol{\\epsilon} = \\boldsymbol{\\epsilon}^v + \\boldsymbol{\\epsilon}^e = \\dfrac{1}{2} ( \\nabla \\textbf{u} + (\\nabla \\textbf{u})^T),\n",
    "\\end{equation}\n",
    "where $\\textbf{u}$ is the displacement vector.\n",
    "Taking the time derivative of the total strain and substituting this into the consitutive equations gives\n",
    "\\begin{equation}\n",
    "    \\boldsymbol{\\sigma}_{L1}+ \\dfrac{\\eta}{ \\mu} \\overset{\\cdot}{\\boldsymbol{\\sigma}}_{L1} = - \\left(p + \\dfrac{\\eta}{ \\mu}\\overset{\\cdot}{p}\\right) \\textbf{I} + 2 \\eta \\overset{\\cdot}{\\boldsymbol{\\epsilon}}.\n",
    "\\end{equation}\n"
   ]
  },
  {
   "cell_type": "markdown",
   "id": "250f8b16",
   "metadata": {},
   "source": [
    "Summary\n",
    "--------\n",
    "The linearised governing equations for an incompressible Maxwell body used by the GIA community, and adopted herein, are\n",
    "\\begin{equation}\n",
    "    \\nabla \\cdot \\boldsymbol{\\sigma}_{L1} - \\nabla (\\rho_0 g u_r)   - \\rho_1 \\textbf{g}  = 0,\n",
    "\\end{equation}\n",
    "\\begin{equation}\n",
    "    \\nabla \\cdot \\textbf{v} = 0,\n",
    "\\end{equation}\n",
    "\\begin{equation}\n",
    "    \\rho_1 = - \\textbf{u} \\cdot \\nabla \\rho_0,\n",
    "\\end{equation}\n",
    "\\begin{equation}\n",
    "    \\boldsymbol{\\sigma}_{L1}+ \\dfrac{\\eta}{ \\mu} \\overset{\\cdot}{\\boldsymbol{\\sigma}}_{L1} = - \\left(p + \\dfrac{\\eta}{ \\mu}\\overset{\\cdot}{p}\\right) \\textbf{I} + 2 \\eta \\overset{\\cdot}{\\boldsymbol{\\epsilon}} .\n",
    "\\end{equation}\n",
    "Note as stated above, this still neglects perturbations in the gravitational field and we will leave solving the associated Poisson equation to a later demo.\n"
   ]
  },
  {
   "cell_type": "markdown",
   "id": "4b07abea",
   "metadata": {},
   "source": [
    "Time discretisation\n",
    "-------------------\n",
    "\n",
    "One of the key differences with the mantle convection demos is that the constitutive equation now depends on time. G-ADOPT implements the method of Zhong et al. (2003) where deviatoric stress is accounted for via an 'incremental displacement', thus recasting the problem in terms of $\\textbf{u}_{inc}^n = \\textbf{u}^n - \\textbf{u}^{n-1}$, where  subscripts refer to time levels $t$ and $t - \\Delta t$ respectively. The incremental strain $\\Delta \\boldsymbol{\\epsilon}$ is\n",
    "\\begin{equation}\n",
    "    \\Delta \\boldsymbol{\\epsilon} =   \\dfrac{1}{2} ( \\nabla \\textbf{u}_{inc} + (\\nabla \\textbf{u}_{inc})^T).\n",
    "\\end{equation}\n",
    "\n",
    "\n",
    "The constitutive equation is discretised by integrating from $t - \\Delta t$ to $t$ using the trapezoid rule\n",
    "\\begin{equation}\n",
    "    \\int_{t-\\Delta t}^t \\boldsymbol{\\sigma}_{L1} + \\dfrac{\\eta}{ \\mu} \\overset{\\cdot}{\\boldsymbol{\\sigma}_{L1}} \\, dt = \\int_{t-\\Delta t}^t - \\left(p + \\dfrac{\\eta}{ \\mu}\\overset{\\cdot}{p}\\right) \\textbf{I} + 2 \\eta \\overset{\\cdot}{\\boldsymbol{\\epsilon}} \\, dt.\n",
    "\\end{equation}\n",
    "The trapezoid rule is\n",
    "\\begin{equation}\n",
    "    \\int_{a}^b f(x) \\approx \\dfrac{1}{2}(b - a)(f(a) + f(b).\n",
    "\\end{equation}\n",
    "Using this gives\n",
    "\\begin{equation}\n",
    "    \\dfrac{\\Delta t}{2} (\\boldsymbol{\\sigma}_{L1}^n + \\boldsymbol{\\sigma}_{L1}^{n-1}) + \\dfrac{\\eta}{ \\mu} (\\boldsymbol{\\sigma}_{L1}^n - \\boldsymbol{\\sigma}_{L1}^{n-1}) = -\\dfrac{\\Delta t}{2} (p^n + p^{n-1}) \\textbf{I} - \\dfrac{\\eta}{ \\mu}(p^n - p^{n-1})  \\textbf{I} + 2 \\eta (\\boldsymbol{\\epsilon}^n - \\boldsymbol{\\epsilon}^{n-1}).\n",
    "\\end{equation}\n",
    "Using Maxwell time, $\\alpha = \\eta / \\mu$, this simplifies to\n",
    "\\begin{equation}\n",
    "    \\boldsymbol{\\sigma}_{L1}^n  = - p^n \\textbf{I} + \\dfrac{2 \\eta}{\\alpha + \\Delta t / 2}  \\Delta \\boldsymbol{\\epsilon}^n + \\dfrac{\\alpha - \\Delta t / 2}{\\alpha + \\Delta t / 2}(\\boldsymbol{\\sigma}_{L1}^{n-1} + p^{n-1} \\textbf{I}).\n",
    "\\end{equation}\n",
    "\n",
    "This expression for the stress is similar to that relevant for mantle convection. We are solving for incremental displacement instead of velocity, but the only difference between these two functions is the timestep multiplication factor. We also have a modified viscosity based on the timestep and the Maxwell time. Finally, the stress history is included as the last term is the deviatoric stress from the previous timestep multiplied by a prefactor involving the timestep and the Maxwell time. Note that in the small dt limit (i.e. $dt$ << $\\alpha$) the effective viscosity tends towards the shear modulus. i.e. we are solving the elastic equations."
   ]
  },
  {
   "cell_type": "markdown",
   "id": "696b4017",
   "metadata": {},
   "source": [
    "This example\n",
    "-------------\n",
    "We will simulate a viscoelastic loading and unloading problem based on a 2D version of the test case presented in Weerdesteijn et al. (2023).\n",
    "\n",
    "Let's get started! The first step is to import the `gadopt` module, which\n",
    "provides access to Firedrake and associated functionality."
   ]
  },
  {
   "cell_type": "code",
   "execution_count": null,
   "id": "abe2f209",
   "metadata": {},
   "outputs": [],
   "source": [
    "try:\n",
    "    from gadopt import *\n",
    "    from gadopt.utility import step_func\n",
    "except ImportError:\n",
    "    !wget \"https://fem-on-colab.github.io/releases/firedrake-install-real.sh\" -O \"/tmp/firedrake-install.sh\" && bash \"/tmp/firedrake-install.sh\"\n",
    "    !pip install gadopt[demos]\n",
    "    from gadopt import *\n",
    "    from gadopt.utility import step_func"
   ]
  },
  {
   "cell_type": "markdown",
   "id": "1000e139",
   "metadata": {},
   "source": [
    "Next we need to create a mesh of the mantle region we want to simulate. The Weerdesteijn test case is a 3D box 1500 km wide horizontally and 2891 km deep. To speed up things for this first demo, we consider a 2D domain, i.e. taking a vertical cross section through the 3D box.\n",
    "\n",
    "For starters let's use one of the default meshes provided by Firedrake, `RectangleMesh`. We have chosen 40 quadrilateral elements in the $x$ direction and 40 quadrilateral elements in the $y$ direction. It is worth emphasising that the setup has coarse grid resolution so that the demo is quick to run! For real simulations we can use fully unstructured meshes to accurately resolve important features in the model, for instance near coastlines or sharp discontinuities in mantle properties.  We can print out the grid resolution using `log`, a utility provided by G-ADOPT. (N.b. `log` is equivalent to python's `print` function, except that it simplifies outputs when running simulations in parallel.)\n",
    "\n",
    "On the mesh, we also denote that our geometry is Cartesian, i.e. gravity points\n",
    "in the negative z-direction. This attribute is used by G-ADOPT specifically, not\n",
    "Firedrake. By contrast, a non-Cartesian geometry is assumed to have gravity\n",
    "pointing in the radially inward direction.\n",
    "\n",
    "Boundaries are automatically tagged by the built-in meshes supported by Firedrake. For the `RectangleMesh` being used here, tag 1 corresponds to the plane $x=0$; 2 to the $x=L$ plane; 3 to the $y=0$ plane; and 4 to the $y=D$ plane. For convenience, we can rename these to `left_id`, `right_id`, `bottom_id` and `top_id`."
   ]
  },
  {
   "cell_type": "code",
   "execution_count": null,
   "id": "7bb4abcd",
   "metadata": {
    "lines_to_next_cell": 0
   },
   "outputs": [],
   "source": [
    "# Set up geometry:\n",
    "L = 1500e3  # Length of the domain in m\n",
    "D = 2891e3  # Depth of domain in m\n",
    "nx = 40  # Number of horizontal cells\n",
    "nz = 40  # Number of vertical cells\n",
    "\n",
    "# Let's print out the grid resolution in km\n",
    "log(f\"Horizontal resolution {L/nx/1000} km\")\n",
    "log(f\"Vertical resolution {D/nz/1000} km\")\n",
    "\n",
    "mesh = RectangleMesh(nx, nz, L, D, name=\"mesh\", quadrilateral=True)\n",
    "mesh.cartesian = True\n",
    "\n",
    "left_id, right_id, bottom_id, top_id = 1, 2, 3, 4  # Boundary IDs"
   ]
  },
  {
   "cell_type": "markdown",
   "id": "c1b88c35",
   "metadata": {},
   "source": [
    "We now need to choose finite element function spaces. `V` , `W`, `S` and `R` are symbolic\n",
    "variables representing function spaces. They also contain the\n",
    "function space's computational implementation, recording the\n",
    "association of degrees of freedom with the mesh and pointing to the\n",
    "finite element basis. We will choose Q2-Q1 for the mixed incremental displacement-pressure similar to our mantle convection demos. This is a Taylor-Hood element pair which has good properties for Stokes modelling. We also initilaise a discontinuous tensor function space that wil store our previous values of the deviatoric stress, as the gradient of the continous incremental displacement field will be discontinuous."
   ]
  },
  {
   "cell_type": "code",
   "execution_count": null,
   "id": "9fca77f4",
   "metadata": {},
   "outputs": [],
   "source": [
    "# Set up function spaces - currently using the bilinear Q2Q1 element pair:\n",
    "V = VectorFunctionSpace(mesh, \"Q\", 2)  # (Incremental) Displacement function space (vector)\n",
    "W = FunctionSpace(mesh, \"Q\", 1)  # Pressure function space (scalar)\n",
    "S = TensorFunctionSpace(mesh, \"DQ\", 2)  # (Discontinuous) Stress tensor function space (tensor)\n",
    "R = FunctionSpace(mesh, \"R\", 0)  # Real function space (for constants)"
   ]
  },
  {
   "cell_type": "markdown",
   "id": "170c47a1",
   "metadata": {},
   "source": [
    "Function spaces can be combined in the natural way to create mixed\n",
    "function spaces, combining the incremental displacement and pressure spaces to form\n",
    "a function space for the mixed Stokes problem, `Z`."
   ]
  },
  {
   "cell_type": "code",
   "execution_count": null,
   "id": "16ecb655",
   "metadata": {},
   "outputs": [],
   "source": [
    "Z = MixedFunctionSpace([V, W])  # Mixed function space."
   ]
  },
  {
   "cell_type": "markdown",
   "id": "0c35f3df",
   "metadata": {},
   "source": [
    "We also specify functions to hold our solutions: `z` in the mixed\n",
    "function space, noting that a symbolic representation of the two\n",
    "parts – incremental displacement and pressure – is obtained with `split`. For later\n",
    "visualisation, we rename the subfunctions of `z` to *Incremental Displacement* and *Pressure*.\n",
    "\n",
    "We also need to initialise two functions `displacement` and `stress_old` that are used when timestepping the constitutive equation."
   ]
  },
  {
   "cell_type": "code",
   "execution_count": null,
   "id": "2511eb75",
   "metadata": {},
   "outputs": [],
   "source": [
    "z = Function(Z)  # A field over the mixed function space Z.\n",
    "u, p = split(z)  # Returns symbolic UFL expression for u and p\n",
    "# Next rename for output:\n",
    "z.subfunctions[0].rename(\"Incremental Displacement\")\n",
    "z.subfunctions[1].rename(\"Pressure\")\n",
    "\n",
    "displacement = Function(V, name=\"displacement\").assign(0)\n",
    "stress_old = Function(S, name=\"stress_old\").assign(0)"
   ]
  },
  {
   "cell_type": "markdown",
   "id": "66007e8b",
   "metadata": {},
   "source": [
    "We can output function space information, for example the number of degrees\n",
    "of freedom (DOF)."
   ]
  },
  {
   "cell_type": "code",
   "execution_count": null,
   "id": "984d7ad9",
   "metadata": {},
   "outputs": [],
   "source": [
    "# Output function space information:\n",
    "log(\"Number of Incremental Displacement DOF:\", V.dim())\n",
    "log(\"Number of Pressure DOF:\", W.dim())\n",
    "log(\"Number of Velocity and Pressure DOF:\", V.dim()+W.dim())"
   ]
  },
  {
   "cell_type": "markdown",
   "id": "eb319ea3",
   "metadata": {},
   "source": [
    "Let's start initialising some parameters. First of all Firedrake has a helpful function to give a symbolic representation of the mesh coordinates."
   ]
  },
  {
   "cell_type": "code",
   "execution_count": null,
   "id": "4f4d4e2c",
   "metadata": {},
   "outputs": [],
   "source": [
    "X = SpatialCoordinate(mesh)"
   ]
  },
  {
   "cell_type": "markdown",
   "id": "406af17d",
   "metadata": {
    "lines_to_next_cell": 2
   },
   "source": [
    "Now we can set up the background profiles for the material properties. In this case the density, shear modulus and viscosity only vary in the vertical direction. We will approximate the series of layers using a smooth tanh function with a width of 20 km."
   ]
  },
  {
   "cell_type": "code",
   "execution_count": null,
   "id": "a8219952",
   "metadata": {},
   "outputs": [],
   "source": [
    "# layer properties from spada et al 2011\n",
    "radius_values = [6371e3, 6301e3, 5951e3, 5701e3]\n",
    "density_values = [3037, 3438, 3871, 4978]\n",
    "shear_modulus_values = [0.50605e11, 0.70363e11, 1.05490e11, 2.28340e11]\n",
    "viscosity_values = [1e25, 1e21, 1e21, 2e21]\n",
    "# N.b. that we have modified the viscosity of the Lithosphere from\n",
    "# Spada et al 2011 because we are using coarse grid resolution\n",
    "\n",
    "\n",
    "def initialise_background_field(field, background_values, vertical_tanh_width=20e3):\n",
    "    profile = background_values[0]\n",
    "    sharpness = 1 / vertical_tanh_width\n",
    "    depth = X[1] - D\n",
    "    for i in range(1, len(background_values)):\n",
    "        centre = radius_values[i] - radius_values[0]\n",
    "        mag = background_values[i] - background_values[i-1]\n",
    "        profile += step_func(depth, centre, mag, increasing=False, sharpness=sharpness)\n",
    "\n",
    "    field.interpolate(profile)\n",
    "\n",
    "\n",
    "density = Function(W, name=\"density\")\n",
    "initialise_background_field(density, density_values)\n",
    "\n",
    "shear_modulus = Function(W, name=\"shear modulus\")\n",
    "initialise_background_field(shear_modulus, shear_modulus_values)\n",
    "\n",
    "viscosity = Function(W, name=\"viscosity\")\n",
    "initialise_background_field(viscosity, viscosity_values)"
   ]
  },
  {
   "cell_type": "markdown",
   "id": "0d6ab573",
   "metadata": {},
   "source": [
    "Next let's define the length of our time step. If we want to accurately resolve the elastic response we should choose a timestep lower than the Maxwell time, $\\alpha = \\eta / \\mu$. The Maxwell time is the time taken for the viscous deformation to 'catch up' with the initial, instantaneous elastic deformation.\n",
    "\n",
    "Let's print out the Maxwell time for each layer"
   ]
  },
  {
   "cell_type": "code",
   "execution_count": null,
   "id": "0e8a4784",
   "metadata": {},
   "outputs": [],
   "source": [
    "year_in_seconds = 8.64e4 * 365.25\n",
    "for layer_visc, layer_mu in zip(viscosity_values, shear_modulus_values):\n",
    "    log(f\"Maxwell time: {float(layer_visc/layer_mu/year_in_seconds):.0f} years\")"
   ]
  },
  {
   "cell_type": "markdown",
   "id": "ab007f66",
   "metadata": {},
   "source": [
    "As we can see the shortest Maxwell time is given by the lower mantle and is about 280 years, i.e. it will take about 280 years for the viscous deformation in that layer to catch up any instantaneous elastic deformation. Conversely the top layer, our lithosphere, has a Maxwell time of 6 million years. Given that our simulations only run for 110000 years the viscous deformation over the course of the simulation will always be negligible compared with the elastic deformation. For now let's choose a timestep of 250 years and an output frequency of 2000 years."
   ]
  },
  {
   "cell_type": "code",
   "execution_count": null,
   "id": "7c11aff2",
   "metadata": {},
   "outputs": [],
   "source": [
    "# Timestepping parameters\n",
    "Tstart = 0\n",
    "time = Function(R).assign(Tstart * year_in_seconds)\n",
    "\n",
    "dt_years = 250\n",
    "dt = Constant(dt_years * year_in_seconds)\n",
    "Tend_years = 110e3\n",
    "Tend = Constant(Tend_years * year_in_seconds)\n",
    "dt_out_years = 2e3\n",
    "dt_out = Constant(dt_out_years * year_in_seconds)\n",
    "\n",
    "max_timesteps = round((Tend - Tstart * year_in_seconds) / dt)\n",
    "log(\"max timesteps: \", max_timesteps)\n",
    "\n",
    "output_frequency = round(dt_out / dt)\n",
    "log(\"output_frequency:\", output_frequency)\n",
    "log(f\"dt: {float(dt / year_in_seconds)} years\")\n",
    "log(f\"Simulation start time: {Tstart} years\")"
   ]
  },
  {
   "cell_type": "markdown",
   "id": "2dae81be",
   "metadata": {},
   "source": [
    "Next let'ssetup our ice load. Following the long test from Weeredesteijn et al 2023, during the first 90 thousand years of the simulation the ice sheet will grow to a thickness of 1 km. The ice thickness will rapidly shrink to ice free conditions in the next 10 thousand years. Finally, the simulation will run for a further 10 thousand years to allow the system to relax towards isostatic equilibrium. This is approximately the length of an interglacial-glacial cycle. The width of the ice sheet is 100 km and we have used a tanh function again to smooth out the transition from ice to ice-free regions.\n",
    "\n",
    "As the loading and unloading cycle only varies linearly in time, let's write the ice load as a symbolic expression."
   ]
  },
  {
   "cell_type": "code",
   "execution_count": null,
   "id": "c138dce7",
   "metadata": {},
   "outputs": [],
   "source": [
    "# Initialise ice loading\n",
    "rho_ice = 931\n",
    "g = 9.8125\n",
    "Hice = 1000\n",
    "t1_load = 90e3 * year_in_seconds\n",
    "t2_load = 100e3 * year_in_seconds\n",
    "ramp_after_t1 = conditional(\n",
    "    time < t2_load, 1 - (time - t1_load) / (t2_load - t1_load), 0\n",
    ")\n",
    "ramp = conditional(time < t1_load, time / t1_load, ramp_after_t1)\n",
    "# Disc ice load but with a smooth transition given by a tanh profile\n",
    "disc_radius = 100e3\n",
    "disc_dx = 5e3\n",
    "k_disc = 2*pi/(8*disc_dx)  # wavenumber for disk 2pi / lambda\n",
    "r = X[0]\n",
    "disc = 0.5*(1-tanh(k_disc * (r - disc_radius)))\n",
    "ice_load = ramp * rho_ice * g * Hice * disc"
   ]
  },
  {
   "cell_type": "markdown",
   "id": "1390c3d1",
   "metadata": {},
   "source": [
    "We can now define the boundary conditions to be used in this simulation.  Let's set the bottom and side boundaries to be free slip with no normal flow $\\textbf{u} \\cdot \\textbf{n} =0$. By passing the string `ux` and `uy`, G-ADOPT knows to specify these as Strong Dirichlet boundary conditions.\n",
    "\n",
    "For the top surface we need to specify a normal stress, i.e. the weight of the ice load, as well as indicating this is a free surface.\n",
    "\n",
    "The `delta_rho_fs` option accounts for the density contrast across the free surface whether there is ice or air above a particular region of the mantle."
   ]
  },
  {
   "cell_type": "code",
   "execution_count": null,
   "id": "071de7c5",
   "metadata": {
    "lines_to_next_cell": 2
   },
   "outputs": [],
   "source": [
    "# Setup boundary conditions\n",
    "exterior_density = conditional(time < t2_load, rho_ice*disc, 0)\n",
    "stokes_bcs = {\n",
    "    bottom_id: {'uy': 0},\n",
    "    top_id: {'normal_stress': ice_load, 'free_surface': {'delta_rho_fs': density - exterior_density}},\n",
    "    1: {'ux': 0},\n",
    "    2: {'ux': 0},\n",
    "}\n",
    "\n",
    "gd = GeodynamicalDiagnostics(z, density, bottom_id, top_id)"
   ]
  },
  {
   "cell_type": "markdown",
   "id": "d2b08ee4",
   "metadata": {
    "lines_to_next_cell": 2
   },
   "source": [
    "We also need to specify a G-ADOPT approximation which sets up the various parameters and fields needed for the viscoelastic loading problem."
   ]
  },
  {
   "cell_type": "code",
   "execution_count": null,
   "id": "b53e055f",
   "metadata": {},
   "outputs": [],
   "source": [
    "approximation = SmallDisplacementViscoelasticApproximation(density, shear_modulus, viscosity, g=g)"
   ]
  },
  {
   "cell_type": "markdown",
   "id": "b96fdc90",
   "metadata": {},
   "source": [
    "We finally come to solving the variational problem, with solver\n",
    "objects for the Stokes system created. We pass in the solution fields `z` and various fields needed for the solve along with the approximation, timestep and boundary conditions.\n"
   ]
  },
  {
   "cell_type": "code",
   "execution_count": null,
   "id": "c8b47f21",
   "metadata": {},
   "outputs": [],
   "source": [
    "stokes_solver = ViscoelasticStokesSolver(z, stress_old, displacement, approximation,\n",
    "                                         dt, bcs=stokes_bcs)"
   ]
  },
  {
   "cell_type": "markdown",
   "id": "7ec7541e",
   "metadata": {},
   "source": [
    "We next set up our output, in VTK format. This format can be read by programs like pyvista and Paraview."
   ]
  },
  {
   "cell_type": "code",
   "execution_count": null,
   "id": "f5114443",
   "metadata": {},
   "outputs": [],
   "source": [
    "# Create output file\n",
    "output_file = VTKFile(\"output.pvd\")\n",
    "output_file.write(*z.subfunctions, displacement)\n",
    "\n",
    "plog = ParameterLog(\"params.log\", mesh)\n",
    "plog.log_str(\n",
    "    \"timestep time dt u_rms u_rms_surf ux_max disp_min disp_max\"\n",
    ")\n",
    "\n",
    "checkpoint_filename = \"viscoelastic_loading-chk.h5\""
   ]
  },
  {
   "cell_type": "markdown",
   "id": "e25b532f",
   "metadata": {},
   "source": [
    "Now let's run the simulation! We are going to control the ice thickness using the `ramp` parameter. At each step we call `solve` to calculate the incremental displacement and pressure fields. This will update the displacement at the surface and stress values accounting for the time dependent Maxwell consitutive equation."
   ]
  },
  {
   "cell_type": "code",
   "execution_count": null,
   "id": "90113da4",
   "metadata": {},
   "outputs": [],
   "source": [
    "for timestep in range(max_timesteps):\n",
    "    stokes_solver.solve()\n",
    "\n",
    "    time.assign(time+dt)\n",
    "\n",
    "    if timestep % output_frequency == 0:\n",
    "        log(\"timestep\", timestep)\n",
    "\n",
    "        output_file.write(*z.subfunctions, displacement)\n",
    "\n",
    "        with CheckpointFile(checkpoint_filename, \"w\") as checkpoint:\n",
    "            checkpoint.save_function(z, name=\"Stokes\")\n",
    "            checkpoint.save_function(displacement, name=\"Displacement\")\n",
    "            checkpoint.save_function(stress_old, name=\"Deviatoric stress\")\n",
    "\n",
    "    # Log diagnostics:\n",
    "    plog.log_str(\n",
    "        f\"{timestep} {float(time)} {float(dt)} \"\n",
    "        f\"{gd.u_rms()} {gd.u_rms_top()} {gd.ux_max(top_id)} \"\n",
    "        f\"{displacement.dat.data[:, 1].min()} {displacement.dat.data[:, 1].max()}\"\n",
    "    )"
   ]
  },
  {
   "cell_type": "markdown",
   "id": "748b9e9e",
   "metadata": {},
   "source": [
    "Let's use the python package *PyVista* to plot the magnitude of the displacement field through time. We will use the calculated displacement to artifically scale the mesh. We have exaggerated the stretching by a factor of 1500, **BUT...** it is important to remember this is just for ease of visualisation - the mesh is not moving in reality!"
   ]
  },
  {
   "cell_type": "code",
   "execution_count": null,
   "id": "181cfdde",
   "metadata": {
    "lines_to_next_cell": 0,
    "tags": [
     "active-ipynb"
    ]
   },
   "outputs": [],
   "source": [
    "import matplotlib.pyplot as plt\n",
    "import pyvista as pv\n",
    "pv.set_jupyter_backend(\"static\")\n",
    "pv.global_theme.notebook = True\n",
    "pv.start_xvfb()\n",
    "\n",
    "# Read the PVD file\n",
    "reader = pv.get_reader(\"output.pvd\")\n",
    "data = reader.read()[0]  # MultiBlock mesh with only 1 block\n",
    "\n",
    "# Create a plotter object\n",
    "plotter = pv.Plotter(shape=(1, 1), border=False, notebook=True, off_screen=False)\n",
    "\n",
    "# Open a gif\n",
    "plotter.open_gif(\"displacement_warp.gif\")\n",
    "\n",
    "# Make a colour map\n",
    "boring_cmap = plt.get_cmap(\"viridis\", 25)\n",
    "\n",
    "for i in range(len(reader.time_values)):\n",
    "    reader.set_active_time_point(i)\n",
    "    data = reader.read()[0]\n",
    "\n",
    "    # Artificially warp the output data in the vertical direction by the free surface height\n",
    "    # Note the mesh is not really moving!\n",
    "    warped = data.warp_by_vector(vectors=\"displacement\", factor=1500)\n",
    "    arrows = data.glyph(orient=\"Incremental Displacement\", scale=\"Incremental Displacement\", factor=400000, tolerance=0.05)\n",
    "    plotter.add_mesh(arrows, color=\"white\", lighting=False)\n",
    "\n",
    "    # Add the warped displacement field to the frame\n",
    "    plotter.add_mesh(\n",
    "        warped,\n",
    "        scalars=\"displacement\",\n",
    "        component=None,\n",
    "        lighting=False,\n",
    "        show_edges=False,\n",
    "        clim=[0, 70],\n",
    "        cmap=boring_cmap,\n",
    "        scalar_bar_args={\n",
    "            \"title\": 'Displacement (m)',\n",
    "            \"position_x\": 0.8,\n",
    "            \"position_y\": 0.2,\n",
    "            \"vertical\": True,\n",
    "            \"title_font_size\": 20,\n",
    "            \"label_font_size\": 16,\n",
    "            \"fmt\": \"%.0f\",\n",
    "            \"font_family\": \"arial\",\n",
    "        }\n",
    "    )\n",
    "\n",
    "    # Fix camera in default position otherwise mesh appears to jumpy around!\n",
    "    plotter.camera_position = [(750000.0, 1445500.0, 6291991.008627122),\n",
    "                        (750000.0, 1445500.0, 0.0),\n",
    "                        (0.0, 1.0, 0.0)]\n",
    "    plotter.add_text(f\"Time: {i*2000:6} years\", name='time-label')\n",
    "    plotter.write_frame()\n",
    "\n",
    "    if i == len(reader.time_values)-1:\n",
    "        # Write end frame multiple times to give a pause before gif starts again!\n",
    "        for j in range(20):\n",
    "            plotter.write_frame()\n",
    "\n",
    "    plotter.clear()\n",
    "\n",
    "# Closes and finalizes movie\n",
    "plotter.close()"
   ]
  },
  {
   "cell_type": "markdown",
   "id": "3bb5bcfd",
   "metadata": {},
   "source": [
    "Looking at the animation, we can see that as the weight of the ice load builds up the mantle deforms, pushing up material away from the ice load. If we kept the ice load fixed this forebulge will eventually grow enough that it balances the weight of the ice, i.e the mantle is in isostatic isostatic equilbrium and the deformation due to the ice load stops. At 100 thousand years when the ice is removed the topographic highs associated with forebulges are now out of equilibrium so the flow of material in the mantle reverses back towards the previously glaciated region."
   ]
  },
  {
   "cell_type": "markdown",
   "id": "9e820592",
   "metadata": {},
   "source": [
    "![SegmentLocal](displacement_warp.gif \"segment\")"
   ]
  },
  {
   "cell_type": "markdown",
   "id": "4c5f7552",
   "metadata": {},
   "source": [
    "References\n",
    "----------\n",
    "Cathles L.M. (1975). *Viscosity of the Earth's Mantle*, Princeton University Press.\n",
    "\n",
    "Dahlen F. A. and Tromp J. (1998). *Theoretical Global Seismology*, Princeton University Press.\n",
    "\n",
    "Ranalli, G. (1995). Rheology of the Earth. Springer Science & Business Media.\n",
    "\n",
    "Weerdesteijn, M. F., Naliboff, J. B., Conrad, C. P., Reusen, J. M., Steffen, R., Heister, T., & Zhang, J. (2023). *Modeling viscoelastic solid earth deformation due to ice age and contemporary glacial mass changes in ASPECT*. Geochemistry, Geophysics, Geosystems.\n",
    "\n",
    "Wu P., Peltier W. R. (1982). *Viscous gravitational relaxation*, Geophysical Journal International.\n",
    "\n",
    "Zhong, S., Paulson, A., & Wahr, J. (2003). Three-dimensional finite-element modelling of Earth’s viscoelastic deformation: effects of lateral variations in lithospheric thickness. Geophysical Journal International."
   ]
  }
 ],
 "metadata": {
  "jupytext": {
   "cell_metadata_filter": "tags,-all",
   "main_language": "python",
   "notebook_metadata_filter": "-all"
  }
 },
 "nbformat": 4,
 "nbformat_minor": 5
}

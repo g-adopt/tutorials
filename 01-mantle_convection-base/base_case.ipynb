{
 "cells": [
  {
   "cell_type": "markdown",
   "id": "71608661",
   "metadata": {},
   "source": [
    "Idealised 2-D mantle convection problem in a square box\n",
    "=======================================================\n",
    "\n",
    "In this tutorial, we examine an idealised 2-D problem in square box.\n",
    "\n",
    "Governing equations\n",
    "-------------------\n",
    "\n",
    "The equations governing mantle convection are derived from the\n",
    "conservation laws of mass, momentum and energy.  The simplest\n",
    "mathematical formulation assumes incompressibility and the\n",
    "Boussinesq approximation, under which the non–dimensional\n",
    "momentum and continuity equations are given by:\n",
    "\n",
    "$$\\nabla \\cdot \\mathbb{\\sigma} + Ra_0 \\ T \\ \\hat{k} = 0,$$\n",
    "$$\\nabla \\cdot \\vec{u} = 0$$\n",
    "\n",
    "where $\\sigma$ is the stress tensor, $\\vec{u}$ is the velocity and T\n",
    "temperature. $\\hat{k}$ is the unit vector in the direction opposite\n",
    "to gravity and $Ra_0$ denotes the Rayleigh number, a dimensionless\n",
    "number that quantifies the vigor of convection:\n",
    "\n",
    "$$Ra0 = \\frac{\\rho_0 \\alpha \\Delta T g d^3}{\\mu_0 \\kappa}$$\n",
    "\n",
    "Here, $\\rho_0$ denotes reference density, $\\alpha$ the thermal\n",
    "expansion coefficient, $\\Delta T$ the characteristic temperature\n",
    "change across the domain, $g$ the gravitational acceleration, $d$\n",
    "the characteristic length, $\\mu_0$ the reference dynamic viscosity\n",
    "and $\\kappa$ the thermal diffusivity. The mantle's Rayleigh number\n",
    "is estimated to be between $10^7$ and $10^9$, but we will focus on\n",
    "cases at a lower convective vigor in this notebook.\n",
    "\n",
    "When simulating incompressible flow, the full stress tensor,\n",
    "$\\sigma$, is decomposed into deviatoric and volumetric components:\n",
    "$$ \\sigma = \\tau - p I,$$\n",
    "where $\\tau$ is the deviatoric stress tensor, $p$ is dynamic\n",
    "pressure and $I$ is the identity matrix. Substituting this into the\n",
    "first equation presented above and utilizing the constitutive\n",
    "relation,\n",
    "\n",
    "$$\\tau = 2\\mu \\dot\\epsilon =\n",
    "  2\\mu \\operatorname{sym}(\\nabla \\vec{u}) =\n",
    "  \\mu\\left[ \\nabla \\vec{u} + \\left(\\nabla \\vec{u}\\right)^T\\right] $$\n",
    "\n",
    "which relates the deviatoric stress tensor, $\\tau$, to the\n",
    "strain-rate tensor, $\\dot\\epsilon=\\operatorname{sym}(\\nabla\n",
    "\\vec{u})$, yields:\n",
    "\n",
    "$$ \\nabla \\cdot \\mu \\left[{\\nabla\\vec{u}} + \\left(\\nabla\\vec{u}\\right)^T\\right]\n",
    "  - \\nabla p + Ra_{0} T\\hat{\\vec{k}} = 0. $$\n",
    "\n",
    "The viscous flow problem can thus be posed in terms of pressure,\n",
    "$p$, velocity, $\\vec{u}$, and temperature, $T$.\n",
    "\n",
    "The evolution of the thermal field is controlled by an\n",
    "advection-diffusion equation, where, for simplicity, we ignore\n",
    "internal heating:\n",
    "$$ \\frac{\\partial T}{\\partial t} + \\vec{u}\\cdot \\nabla T - \\nabla \\cdot \\left(\\kappa \\nabla T\\right) = 0 $$\n",
    "These governing equations are sufficient to solve for the three\n",
    "unknowns, together with adequate boundary and initial conditions.\n",
    "\n",
    "Weak formulation\n",
    "----------------\n",
    "\n",
    "For the finite element discretisation of these equations, we start\n",
    "by writing them in their weak form.  We select appropriate function\n",
    "spaces V, W, and Q that contain, respectively, the solution fields\n",
    "for velocity u, pressure p, and temperature T , and also contain the\n",
    "test functions v, w and q. The weak form is then obtained by\n",
    "multiplying these equations with the test functions and integrating\n",
    "over the domain $\\Omega$,\n",
    "\n",
    "$$\\int_\\Omega (\\nabla \\vec{v})\\colon \\mu \\left[ \\nabla \\vec{u} + \\left( \\nabla \\vec{u} \\right)^T\\right] \\ dx\n",
    " - \\int_{\\Omega} \\left( \\nabla \\cdot \\vec{v}\\right)\\ p \\ dx\n",
    " - \\int_{\\Omega} Ra_0\\ T\\ \\vec{v}\\cdot\\hat{k} \\ dx = 0 \\ \\text{ for all } v\\in V,$$\n",
    "\n",
    "$$ \\int_\\Omega w \\nabla \\cdot \\vec{u} \\ dx\\ \\text{ for all } v\\in V,$$\n",
    "\n",
    "$$  \\int_\\Omega q\\frac{\\partial T}{\\partial t} \\ dx\n",
    "  + \\int_\\Omega q \\vec{u}\\cdot \\nabla T \\ dx\n",
    "  + \\int_\\Omega \\left(\\nabla q\\right) \\cdot \\left(\\kappa \\nabla T\\right) \\ dx = 0   \\text{ for all } q\\in Q.$$\n",
    "\n",
    "Note that we have integrated by parts the viscosity and pressure\n",
    "gradient terms in the Stokes equations, and the diffusion term in\n",
    "the energy equation, but have omitted the corresponding boundary\n",
    "terms.\n",
    "\n",
    "Solution procedure\n",
    "------------------\n",
    "\n",
    "For temporal integration, we apply a simple $\\theta$ scheme to the\n",
    "energy equation:\n",
    "\n",
    "$$\n",
    "  F_{\\text{energy}}(q; T^{n+1}) :=\n",
    "    \\int_\\Omega q \\frac{T^{n+1} - T^n}{\\Delta t} dx\n",
    "  + \\int_\\Omega q\\vec{u}\\cdot\\nabla T^{n+\\theta} dx\n",
    "  + \\int_\\Omega \\left(\\nabla q\\right)\\cdot \\left(\\kappa \\nabla\n",
    "  T^{n+\\theta}\\right) dx = 0\n",
    "  \\text{ for all } q\\in Q,\n",
    "$$\n",
    "\n",
    "where\n",
    "$$\n",
    "  T^{n+\\theta} = \\theta T^{n+1} + (1-\\theta) T^n\n",
    "$$\n",
    "\n",
    "is interpolated between the temperature solutions $T^n$ and\n",
    "$T^{n+1}$ at the beginning and end of the $n+1$-th time step using a\n",
    "parameter $0\\leq\\theta\\leq 1$.  In this example we use an\n",
    "implicit mid-point scheme, where $\\theta = 0.5$.\n",
    "\n",
    "To simplify we will solve for velocity and pressure, $\\vec{u}$ and\n",
    "$p$, in a separate step before solving for temperature\n",
    "$T$. Since these weak equations need to hold for all test\n",
    "functions $\\vec{v}\\in V$ and $w\\in W$ we can equivalently write,\n",
    "using a single residual functional $F_{\\text{Stokes}}$:\n",
    "\n",
    "$$\n",
    "  F_{\\text{Stokes}}(\\vec{v},w; \\vec{u}, p) =\n",
    "    \\int_\\Omega \\left(\\nabla \\vec{v}\\right) \\colon \\mu \\left[{\\nabla\\vec{u}}\n",
    "    + \\left(\\nabla\\vec{u}\\right)^T\\right] dx\n",
    "  - \\int_\\Omega \\left(\\nabla\\cdot \\vec{v}\\right) p dx \\\\\n",
    "  - \\int_\\Omega Ra_{0} T\\vec{v}\\cdot\\hat{\\vec{k}} dx\n",
    "  - \\int_\\Omega w \\nabla \\cdot \\vec{u} dx = 0\n",
    "  \\text{ for all } \\vec{v}\\in V,\n",
    "  w\\in W,\n",
    "$$\n",
    "\n",
    "where we have multiplied the continuity equation with $-1$ to ensure\n",
    "symmetry between the $\\nabla p$ and $\\nabla\\cdot u$ terms. This\n",
    "combined weak form that we simultaneously solve for a velocity $u\\in\n",
    "V$ and pressure $p\\in W$ is referred to as a mixed problem, and the\n",
    "combined solution $(\\vec{u}, p)$ is said to be found in the mixed function\n",
    "space $V\\oplus W$.\n",
    "\n",
    "This example\n",
    "------------\n",
    "\n",
    "Firedrake provides a complete framework for solving finite element\n",
    "problems, highlighted herein with the most\n",
    "basic mantle dynamics problem - isoviscous, incompressible\n",
    "convection, heated from below (T=1), cooled from the top (T=0) in an\n",
    "enclosed 2-D Cartesian box (i.e. free-slip mechanical boundary\n",
    "conditions on all boundaries), from Blankenbach et al. (1989).\n",
    "\n",
    "Let's get started! The first step is to import the gadopt module, which\n",
    "provides access to Firedrake and associated functionality."
   ]
  },
  {
   "cell_type": "code",
   "execution_count": null,
   "id": "1491282c",
   "metadata": {},
   "outputs": [],
   "source": [
    "try:\n",
    "    from gadopt import *\n",
    "except ImportError:\n",
    "    !wget \"https://fem-on-colab.github.io/releases/firedrake-install-release-real.sh\" -O \"/tmp/firedrake-install.sh\" && bash \"/tmp/firedrake-install.sh\"\n",
    "    !pip install gadopt[demos]\n",
    "    from gadopt import *"
   ]
  },
  {
   "cell_type": "markdown",
   "id": "7b3b5aa9",
   "metadata": {},
   "source": [
    "We will set up the problem using a bilinear quadrilateral element\n",
    "pair (Q2-Q1) for velocity and pressure, with Q2 elements for\n",
    "temperature.\n",
    "\n",
    "We first need a mesh: for simple domains such as the unit square,\n",
    "Firedrake provides built-in meshing functions. As such, the\n",
    "following code defines the mesh, with 40 quadrilateral elements in x\n",
    "and y directions. We also tag boundary IDs.  Boundaries are\n",
    "automatically tagged by the built-in meshes supported by\n",
    "Firedrake. For the `UnitSquareMesh` being used here, tag 1\n",
    "corresponds to the plane $x=0$; 2 to the $x=1$ plane; 3 to the $y=0$ plane;\n",
    "and 4 to the $y=1$ plane. We name these `left`, `right`, `bottom` and `top`,\n",
    "respectively.\n",
    "\n",
    "On the mesh, we also denote that our geometry is Cartesian, i.e. gravity points\n",
    "in the negative z-direction. This attribute is used by gadopt specifically, not\n",
    "Firedrake. By contrast, a non-Cartesian geometry is assumed to have gravity\n",
    "pointing in the radially inward direction."
   ]
  },
  {
   "cell_type": "code",
   "execution_count": null,
   "id": "b7d5a52f",
   "metadata": {},
   "outputs": [],
   "source": [
    "nx, ny = 40, 40  # Number of cells in x and y directions.\n",
    "mesh = UnitSquareMesh(nx, ny, quadrilateral=True)  # Square mesh generated via firedrake\n",
    "mesh.cartesian = True\n",
    "left_id, right_id, bottom_id, top_id = 1, 2, 3, 4  # Boundary IDs"
   ]
  },
  {
   "cell_type": "markdown",
   "id": "ecaba9b0",
   "metadata": {},
   "source": [
    "We also need function spaces, which is achieved by associating the\n",
    "mesh with the relevant finite element: V , W and Q are symbolic\n",
    "variables representing function spaces. They also contain the\n",
    "function space’s computational implementation, recording the\n",
    "association of degrees of freedom with the mesh and pointing to the\n",
    "finite element basis."
   ]
  },
  {
   "cell_type": "code",
   "execution_count": null,
   "id": "baa2154c",
   "metadata": {},
   "outputs": [],
   "source": [
    "V = VectorFunctionSpace(mesh, \"CG\", 2)  # Velocity function space (vector)\n",
    "W = FunctionSpace(mesh, \"CG\", 1)  # Pressure function space (scalar)\n",
    "Q = FunctionSpace(mesh, \"CG\", 2)  # Temperature function space (scalar)"
   ]
  },
  {
   "cell_type": "markdown",
   "id": "f1e0548d",
   "metadata": {},
   "source": [
    "Function spaces can be combined in the natural way to create mixed\n",
    "function spaces, combining the velocity and pressure spaces to form\n",
    "a function space for the mixed Stokes problem, Z."
   ]
  },
  {
   "cell_type": "code",
   "execution_count": null,
   "id": "8e791310",
   "metadata": {},
   "outputs": [],
   "source": [
    "Z = MixedFunctionSpace([V, W])  # Mixed function space."
   ]
  },
  {
   "cell_type": "markdown",
   "id": "f6cb226a",
   "metadata": {},
   "source": [
    "We also specify functions to hold our solutions: z in the mixed\n",
    "function space, noting that a symbolic representation of the two\n",
    "parts – velocity and pressure – is obtained with `split`. For later\n",
    "visualisation, we rename the subfunctions of z Velocity and Pressure."
   ]
  },
  {
   "cell_type": "code",
   "execution_count": null,
   "id": "f6795e3a",
   "metadata": {},
   "outputs": [],
   "source": [
    "z = Function(Z)  # A field over the mixed function space Z.\n",
    "u, p = split(z)  # Returns symbolic UFL expression for u and p\n",
    "z.subfunctions[0].rename(\"Velocity\")\n",
    "z.subfunctions[1].rename(\"Pressure\")"
   ]
  },
  {
   "cell_type": "markdown",
   "id": "be232133",
   "metadata": {},
   "source": [
    "We can output function space information, for example the number of degrees\n",
    "of freedom (DOF) using log, a utility provided by gadopt."
   ]
  },
  {
   "cell_type": "code",
   "execution_count": null,
   "id": "d0aa4c2a",
   "metadata": {
    "tags": [
     "active-ipynb"
    ]
   },
   "outputs": [],
   "source": [
    "log(\"Number of Velocity DOF:\", V.dim())\n",
    "log(\"Number of Pressure DOF:\", W.dim())\n",
    "log(\"Number of Velocity and Pressure DOF:\", V.dim()+W.dim())\n",
    "log(\"Number of Temperature DOF:\", Q.dim())"
   ]
  },
  {
   "cell_type": "markdown",
   "id": "1f8357f6",
   "metadata": {},
   "source": [
    "The Rayleigh number for this problem is defined. The viscosity and thermal\n",
    "diffusivity are left at their default values (both = 1). We note that viscosity\n",
    "could also be a Function, if we wanted spatial variation, and will\n",
    "return to this in a subsequent notebook.  These Ra is required to\n",
    "create an *Approximation* representing the physical\n",
    "setup of the problem (options include Boussinesq, Extended\n",
    "Boussinesq, Truncated Anelastic Liquid and Anelastic Liquid), and a\n",
    "*Timestep Adaptor*, for controlling the time-step length (via a CFL\n",
    "criterion) as the simulation advances in time. For the latter,\n",
    "we specify the initial time, initial timestep $\\Delta t$, and number of\n",
    "timesteps. Given the low Ra, a steady-state tolerance is also specified,\n",
    "allowing the simulation to exit when a steady-state has been achieved."
   ]
  },
  {
   "cell_type": "code",
   "execution_count": null,
   "id": "f66b526a",
   "metadata": {},
   "outputs": [],
   "source": [
    "Ra = Constant(1e4)  # Rayleigh number\n",
    "approximation = BoussinesqApproximation(Ra)\n",
    "\n",
    "time = 0.0  # Initial time\n",
    "delta_t = Constant(1e-6)  # Initial time-step\n",
    "timesteps = 20000  # Maximum number of timesteps\n",
    "t_adapt = TimestepAdaptor(delta_t, u, V, maximum_timestep=0.1, increase_tolerance=1.5)\n",
    "\n",
    "steady_state_tolerance = 1e-9  # Used to determine if solution has reached a steady state."
   ]
  },
  {
   "cell_type": "markdown",
   "id": "3fca93c1",
   "metadata": {},
   "source": [
    "Mantle convection is an initial and boundary-value problem. We\n",
    "assume the initial temperature distribution to be prescribed by\n",
    "\n",
    "$T(x,y) = (1-y) + 0.05\\ cos(\\pi x)\\ sin(\\pi y)$\n",
    "\n",
    "In the following code, we first obtain symbolic expressions for\n",
    "coordinates in the physical mesh and subsequently use these to\n",
    "initialize the temperature field.  This is where Firedrake\n",
    "transforms a symbolic operation into a numerical computation for the\n",
    "first time: the `interpolate` method generates C code that evaluates\n",
    "this expression at the nodes of $T$."
   ]
  },
  {
   "cell_type": "code",
   "execution_count": null,
   "id": "c6092338",
   "metadata": {},
   "outputs": [],
   "source": [
    "X = SpatialCoordinate(mesh)\n",
    "T = Function(Q, name=\"Temperature\")\n",
    "T.interpolate((1.0-X[1]) + (0.05*cos(pi*X[0])*sin(pi*X[1])))"
   ]
  },
  {
   "cell_type": "markdown",
   "id": "b2f18caa",
   "metadata": {},
   "source": [
    "We can visualise the initial temperature field using Firedrake's\n",
    "built-in plotting functionality."
   ]
  },
  {
   "cell_type": "code",
   "execution_count": null,
   "id": "ad2cf62b",
   "metadata": {
    "tags": [
     "active-ipynb"
    ]
   },
   "outputs": [],
   "source": [
    "import matplotlib.pyplot as plt\n",
    "fig, axes = plt.subplots()\n",
    "collection = tripcolor(T, axes=axes, cmap='coolwarm')\n",
    "fig.colorbar(collection);"
   ]
  },
  {
   "cell_type": "markdown",
   "id": "99346836",
   "metadata": {},
   "source": [
    "With closed boundaries, and no constraint on pressure anywhere in\n",
    "the domain, this problem has a constant pressure nullspace and we\n",
    "must ensure that our solver removes this space. To do so, we build a\n",
    "nullspace object, which will subsequently be passed to the solver,\n",
    "and PETSc will seek a solution in the space orthogonal to the\n",
    "provided nullspace.  When building the nullspace object, the\n",
    "'closed' keyword handles the constant pressure nullspace, whilst the\n",
    "'rotational' keyword deals with rotational modes, which, for\n",
    "example, manifest in an a annulus domain with free slip top and\n",
    "bottom boundaries (as we will see in a later tutorial)."
   ]
  },
  {
   "cell_type": "code",
   "execution_count": null,
   "id": "c16554b0",
   "metadata": {},
   "outputs": [],
   "source": [
    "Z_nullspace = create_stokes_nullspace(Z, closed=True, rotational=False)"
   ]
  },
  {
   "cell_type": "markdown",
   "id": "9a134776",
   "metadata": {},
   "source": [
    "We next specify strong Dirichlet boundary conditions for velocity and\n",
    "temperature. The user must provide the part of the mesh at which\n",
    "each boundary condition applies.  Note how boundary conditions have\n",
    "the granularity to be applied to the $x$ and $y$ components of the\n",
    "velocity field only, if desired."
   ]
  },
  {
   "cell_type": "code",
   "execution_count": null,
   "id": "a881c41f",
   "metadata": {},
   "outputs": [],
   "source": [
    "stokes_bcs = {\n",
    "    bottom_id: {'uy': 0},\n",
    "    top_id: {'uy': 0},\n",
    "    left_id: {'ux': 0},\n",
    "    right_id: {'ux': 0},\n",
    "}\n",
    "\n",
    "temp_bcs = {\n",
    "    bottom_id: {'T': 1.0},\n",
    "    top_id: {'T': 0.0},\n",
    "}"
   ]
  },
  {
   "cell_type": "markdown",
   "id": "421a6022",
   "metadata": {},
   "source": [
    "We next set up our output, in VTK format. To do so, we create the output file\n",
    "and specify the output_frequency in timesteps."
   ]
  },
  {
   "cell_type": "code",
   "execution_count": null,
   "id": "ae488022",
   "metadata": {},
   "outputs": [],
   "source": [
    "output_file = VTKFile(\"output.pvd\")\n",
    "output_frequency = 50"
   ]
  },
  {
   "cell_type": "markdown",
   "id": "fd1b4aaa",
   "metadata": {},
   "source": [
    "Next, we open a file for logging diagnostic output and provide the header. We will be outputting\n",
    "the timestep number, the time, the timestep size, the L2 norm of the change in temperature between\n",
    "consequtive timesteps, the RMS velocity, the RMS velocity at the surface of the domain, the maximum\n",
    "x-component of velocity at the domains surface, the surface Nusselt number, the basal Nusselt number,\n",
    "the difference between surface and bottom Nusselt numbers (energy_conservation) and the average temperature\n",
    "across the domain. These are computed using the GeodynamicalDiagnostics class, which takes in the Stokes (z)\n",
    "and temperature functions, alongside bottom and top boundary IDs."
   ]
  },
  {
   "cell_type": "code",
   "execution_count": null,
   "id": "de5501b8",
   "metadata": {},
   "outputs": [],
   "source": [
    "plog = ParameterLog('params.log', mesh)\n",
    "plog.log_str(\"timestep time dt maxchange u_rms u_rms_surf ux_max nu_top nu_base energy avg_t\")\n",
    "\n",
    "gd = GeodynamicalDiagnostics(z, T, bottom_id, top_id)"
   ]
  },
  {
   "cell_type": "markdown",
   "id": "b9c0ed10",
   "metadata": {},
   "source": [
    "We finally come to solving the variational problem, with solver\n",
    "objects for the energy and Stokes systems created. For the energy\n",
    "system we pass in the solution field T, velocity u, the physical\n",
    "approximation, time step, temporal discretisation approach\n",
    "(i.e. implicit middle point), and temperature boundary conditions. For the Stokes\n",
    "system, we pass in the solution fields z, Temperature, the physical\n",
    "approximation, boundary conditions and the nullspace object.\n",
    "\n",
    "Given that this model is isoviscous, we can speed up the simulation by specifying a\n",
    "constant Jacobian (preventing uneccesary matrix re-assembly).\n",
    "We note that solution of the two variational problems is undertaken by PETSc."
   ]
  },
  {
   "cell_type": "code",
   "execution_count": null,
   "id": "01f082f0",
   "metadata": {},
   "outputs": [],
   "source": [
    "energy_solver = EnergySolver(T, u, approximation, delta_t, ImplicitMidpoint, bcs=temp_bcs)\n",
    "\n",
    "stokes_solver = StokesSolver(z, T, approximation, bcs=stokes_bcs,\n",
    "                             nullspace=Z_nullspace, transpose_nullspace=Z_nullspace,\n",
    "                             constant_jacobian=True)"
   ]
  },
  {
   "cell_type": "markdown",
   "id": "fee46f5d",
   "metadata": {},
   "source": [
    "We can now initiate the time-loop, with the Stokes and energy\n",
    "systems solved seperately. These `solve` calls once again convert\n",
    "symbolic mathematics into computation. In the time loop, set here to\n",
    "run for a maximum of 20000 time-steps, we output in VTK format every 50 timesteps.\n",
    "The timestep itself is updated, using the update_timestep function, with diagnostics logged via the log utility\n",
    "at every timestep. At the end of each time step, we calculate the L2-norm of\n",
    "the change in temperature and, once this drops below the steady_state_tolerance specified above,\n",
    "we exit the timeloop."
   ]
  },
  {
   "cell_type": "code",
   "execution_count": null,
   "id": "6218b581",
   "metadata": {},
   "outputs": [],
   "source": [
    "for timestep in range(0, timesteps):\n",
    "\n",
    "    # Write output:\n",
    "    if timestep % output_frequency == 0:\n",
    "        output_file.write(*z.subfunctions, T)\n",
    "\n",
    "    dt = t_adapt.update_timestep()\n",
    "    time += dt\n",
    "\n",
    "    # Solve Stokes sytem:\n",
    "    stokes_solver.solve()\n",
    "\n",
    "    # Temperature system:\n",
    "    energy_solver.solve()\n",
    "\n",
    "    # Compute diagnostics:\n",
    "    energy_conservation = abs(abs(gd.Nu_top()) - abs(gd.Nu_bottom()))\n",
    "\n",
    "    # Calculate L2-norm of change in temperature:\n",
    "    maxchange = sqrt(assemble((T - energy_solver.T_old)**2 * dx))\n",
    "\n",
    "    # Log diagnostics:\n",
    "    plog.log_str(f\"{timestep} {time} {float(delta_t)} {maxchange} \"\n",
    "                 f\"{gd.u_rms()} {gd.u_rms_top()} {gd.ux_max(top_id)} {gd.Nu_top()} \"\n",
    "                 f\"{gd.Nu_bottom()} {energy_conservation} {gd.T_avg()} \")\n",
    "\n",
    "    # Leave if steady-state has been achieved:\n",
    "    if maxchange < steady_state_tolerance:\n",
    "        log(\"Steady-state achieved -- exiting time-step loop\")\n",
    "        break"
   ]
  },
  {
   "cell_type": "markdown",
   "id": "9e9eb62c",
   "metadata": {},
   "source": [
    "At the end of the simulation, once a steady-state has been achieved, we close our logging file\n",
    "and checkpoint steady state temperature and Stokes solution fields to disk. These can later be\n",
    "used to restart a simulation, if required."
   ]
  },
  {
   "cell_type": "code",
   "execution_count": null,
   "id": "08f176e1",
   "metadata": {},
   "outputs": [],
   "source": [
    "plog.close()\n",
    "\n",
    "with CheckpointFile(\"Final_State.h5\", \"w\") as final_checkpoint:\n",
    "    final_checkpoint.save_mesh(mesh)\n",
    "    final_checkpoint.save_function(T, name=\"Temperature\")\n",
    "    final_checkpoint.save_function(z, name=\"Stokes\")"
   ]
  },
  {
   "cell_type": "markdown",
   "id": "a246b6f1",
   "metadata": {},
   "source": [
    "We can visualise the final temperature field using Firedrake's\n",
    "built-in plotting functionality."
   ]
  },
  {
   "cell_type": "code",
   "execution_count": null,
   "id": "bc518d8a",
   "metadata": {
    "tags": [
     "active-ipynb"
    ]
   },
   "outputs": [],
   "source": [
    "fig, axes = plt.subplots()\n",
    "collection = tripcolor(T, axes=axes, cmap='coolwarm')\n",
    "fig.colorbar(collection);"
   ]
  }
 ],
 "metadata": {
  "jupytext": {
   "cell_metadata_filter": "tags,-all",
   "main_language": "python",
   "notebook_metadata_filter": "-all"
  }
 },
 "nbformat": 4,
 "nbformat_minor": 5
}

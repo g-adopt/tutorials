{
 "cells": [
  {
   "cell_type": "markdown",
   "metadata": {},
   "source": [
    "# Strong (Dirichlet) boundary conditions"
   ]
  },
  {
   "cell_type": "markdown",
   "metadata": {
    "collapsed": true
   },
   "source": [
    "Let's move on from the Helmholtz problem to Poisson:\n",
    "\n",
    "$$-\\nabla^2u = f$$\n",
    "\n",
    "for some known function $f$. To have a well-posed problem, we must impose Dirichlet conditions over at least part of the domain boundary:\n",
    "\n",
    "$$u(x) = g(x) \\quad \\forall x \\in \\Gamma_D,\\\\\n",
    "\\nabla u(x)\\cdot \\vec{n} = h(x) \\quad \\forall x \\in \\Gamma_N.$$\n",
    "\n",
    "As before, the Neumann condition is imposed weakly by setting the boundary integral over the relevant part of the boundary. The Dirichlet condition is imposed strongly by modifying the function space from which $u$ is drawn.\n",
    "\n",
    "Suppose $V\\ni u$ is a finite element space. Then we write:\n",
    "\n",
    "$$V_D = \\{u\\in V \\,|\\,u(x) = g \\quad \\forall x \\in \\Gamma_D\\},$$\n",
    "$$V_0 = \\{u\\in V \\,|\\,u(x) = 0 \\quad \\forall x \\in \\Gamma_D\\}.$$\n",
    "\n",
    "The weak form of the problem then becomes, find $u\\in V_D$ such that:\n",
    "\n",
    "$$\\int_\\Omega \\nabla u \\cdot \\nabla v\\, \\mathrm{d}x - \\int_{\\Gamma_N} hv\\, \\mathrm{d}s = \\int_\\Omega fv\\mathrm{d}x \\quad\\forall v\\in V_0.$$\n",
    "\n",
    "In Firedrake, the weak form is always formulated in the unmodified space $V$. The modification to the function spaces implied by the Dirichlet conditions is then imposed by supplying a [`DirichletBC` object](http://firedrakeproject.org/firedrake.html#firedrake.bcs.DirichletBC) to the solve."
   ]
  },
  {
   "cell_type": "markdown",
   "metadata": {},
   "source": [
    "As usual, we start by setting up the notebook matplotlib interaction, and importing Firedrake.  We then choose a triangulation of our domain and select an appropriate $H^1$-conforming function space."
   ]
  },
  {
   "cell_type": "code",
   "execution_count": null,
   "metadata": {},
   "outputs": [],
   "source": [
    "%matplotlib notebook\n",
    "import matplotlib.pyplot as plt\n",
    "# Load Firedrake on Colab\n",
    "try:\n",
    "    import firedrake\n",
    "except ImportError:\n",
    "    !wget \"https://fem-on-colab.github.io/releases/firedrake-install-real.sh\" -O \"/tmp/firedrake-install.sh\" && bash \"/tmp/firedrake-install.sh\"\n",
    "    import firedrake\n",
    "from firedrake import *\n",
    "mesh = UnitSquareMesh(10, 10)\n",
    "V = FunctionSpace(mesh, \"Lagrange\", 1)"
   ]
  },
  {
   "cell_type": "markdown",
   "metadata": {},
   "source": [
    "Let us specify the details of our problem.  We will solve\n",
    "\n",
    "$$ -\\nabla^2 u = f \\text{ on } \\Omega = [0, 1]\\times[0, 1], \\\\\n",
    "  u = 0 \\text{ on } \\Gamma.$$\n",
    "  \n",
    "We'll choose an $f$ such that the exact solution $u^* = \\sin(\\pi x)\\sin(\\pi y)$, which satisfies the zero Dirichlet conditions.  With a little algebra, we determine that we need\n",
    "\n",
    "$$ f = 2\\pi^2\\sin(\\pi x) \\sin(\\pi y). $$"
   ]
  },
  {
   "cell_type": "code",
   "execution_count": null,
   "metadata": {},
   "outputs": [],
   "source": [
    "x, y = SpatialCoordinate(mesh)\n",
    "u_exact = sin(pi*x)*sin(pi*y)\n",
    "f = 2*pi**2*u_exact"
   ]
  },
  {
   "cell_type": "markdown",
   "metadata": {},
   "source": [
    "As before, we'll require test and trial functions to define our problem."
   ]
  },
  {
   "cell_type": "code",
   "execution_count": null,
   "metadata": {},
   "outputs": [],
   "source": [
    "u = TrialFunction(V)\n",
    "v = TestFunction(V)\n",
    "a = dot(grad(u), grad(v))*dx\n",
    "L = f*v*dx"
   ]
  },
  {
   "cell_type": "markdown",
   "metadata": {},
   "source": [
    "Now we need to tell Firedrake how to modify the function space to take into account the Dirichlet condition.  This is done by constructing a [DirichletBC object](http://firedrakeproject.org/firedrake.html#firedrake.bcs.DirichletBC).  As usual, we can ask for help using Python's builtin documentation facilities."
   ]
  },
  {
   "cell_type": "code",
   "execution_count": null,
   "metadata": {},
   "outputs": [],
   "source": [
    "?DirichletBC"
   ]
  },
  {
   "cell_type": "markdown",
   "metadata": {},
   "source": [
    "We want to apply the zero Dirichlet condition to all exterior nodes of the space, so we need to provide the list of boundary ids that corresponds to the exterior boundary of the domain.  For the `UnitSquareMesh`, this is the set `(1, 2, 3, 4)`."
   ]
  },
  {
   "cell_type": "code",
   "execution_count": null,
   "metadata": {},
   "outputs": [],
   "source": [
    "boundary_ids = (1, 2, 3, 4)\n",
    "bcs = DirichletBC(V, 0, boundary_ids)"
   ]
  },
  {
   "cell_type": "markdown",
   "metadata": {},
   "source": [
    "We supply the boundary condition as an argument to `solve`."
   ]
  },
  {
   "cell_type": "code",
   "execution_count": null,
   "metadata": {},
   "outputs": [],
   "source": [
    "uh = Function(V)\n",
    "solve(a == L, uh, bcs=bcs, solver_parameters={\"ksp_type\": \"cg\", \"pc_type\": \"none\"})"
   ]
  },
  {
   "cell_type": "code",
   "execution_count": null,
   "metadata": {},
   "outputs": [],
   "source": [
    "# NBVAL_IGNORE_OUTPUT\n",
    "fig, axes = plt.subplots()\n",
    "collection = tripcolor(uh, axes=axes)\n",
    "fig.colorbar(collection);"
   ]
  },
  {
   "cell_type": "markdown",
   "metadata": {},
   "source": [
    "# Exercises\n",
    "\n",
    "Most of the time, we don't want to impose the same Dirichlet condition everywhere.  Instead of solving with homogeneous Dirichlet conditions everywhere, solve the following problem.\n",
    "\n",
    "Find $u$ such that\n",
    "\n",
    "$$ -\\nabla^2 u = 0 \\text{ in } \\Omega = [0, 1]\\times[0, 1], \\\\\n",
    "   u = 1 \\text{ on } \\Gamma_1, \\\\\n",
    "   u = 2 \\text{ on } \\Gamma_2, \\\\\n",
    "   \\nabla u \\cdot \\vec{n} = 0 \\text{ on } \\Gamma \\setminus (\\Gamma_1 \\cup \\Gamma_2),$$\n",
    "where $\\Gamma_1$ is the plane $y = 0$ and $\\Gamma_2$ is the plane $y = 1$.\n",
    "\n",
    "- Hint 1: To provide a zero right hand side, you'll need to write `Constant(0)*v*dx`.\n",
    "- Hint 2: Use help to remind youself of the boundary markers for meshes.\n",
    "- Hint 3: The bcs argument to `solve` can be a list of boundary conditions.\n",
    "- Hint 4: You can check your answer against the exact solution $u^* = 1 + y$."
   ]
  },
  {
   "cell_type": "code",
   "execution_count": null,
   "metadata": {},
   "outputs": [],
   "source": []
  }
 ],
 "metadata": {
  "kernelspec": {
   "display_name": "Python 3",
   "language": "python",
   "name": "python3"
  },
  "language_info": {
   "codemirror_mode": {
    "name": "ipython",
    "version": 3
   },
   "file_extension": ".py",
   "mimetype": "text/x-python",
   "name": "python",
   "nbconvert_exporter": "python",
   "pygments_lexer": "ipython3",
   "version": "3.7.4"
  }
 },
 "nbformat": 4,
 "nbformat_minor": 1
}

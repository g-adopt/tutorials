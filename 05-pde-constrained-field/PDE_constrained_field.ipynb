{
 "cells": [
  {
   "cell_type": "markdown",
   "id": "838762b0",
   "metadata": {},
   "source": [
    "PDE Constrained Optimisation with G-ADOPT - Field Values\n",
    "========================================================\n",
    "\n",
    "In this tutorial, we invert for an (unknown) initial condition, from a given final state.\n",
    "\n",
    "We will see how we can use the PDE constrained optimisation functionality of G-ADOPT to optimize\n",
    "one of the inputs to a PDE for a specified desired outcome. We will use a time-dependent\n",
    "advection-diffussion equation as our PDE and see how, for a given final state of the solution,\n",
    "we can retrieve what the initial condition should be, via an adjoint approach.\n",
    "\n",
    "To turn on the adjoint, one simply imports the gadopt.inverse module to enable all taping\n",
    "functionality from pyadjoint. The tape automatically registers all operations that form part of\n",
    "the forward model, which is used to automatically form the adjoint (backward) model."
   ]
  },
  {
   "cell_type": "code",
   "execution_count": null,
   "id": "5632432c",
   "metadata": {},
   "outputs": [],
   "source": [
    "try:\n",
    "    from gadopt import *\n",
    "    from gadopt.inverse import *\n",
    "except ImportError:\n",
    "    !wget \"https://fem-on-colab.github.io/releases/firedrake-install-real.sh\" -O \"/tmp/firedrake-install.sh\" && bash \"/tmp/firedrake-install.sh\"\n",
    "    !pip install gadopt[demos,optimisation]\n",
    "    from gadopt import *\n",
    "    from gadopt.inverse import *"
   ]
  },
  {
   "cell_type": "markdown",
   "id": "05065ceb",
   "metadata": {},
   "source": [
    "Create synthetic twin experiment with final state for a known initial condition.\n",
    "--------------------------------------------------------------------------------\n",
    "\n",
    "We first run a simple advection-diffusion model with a known initial condition. Of that model\n",
    "we only store the solution at the final timestep, which we will use in our inversion experiment\n",
    "later as the target final state.\n",
    "\n",
    "We setup the model in a form compatible with our previous examples, with a mesh, function spaces,\n",
    "a prescribed velocity field, boundary conditions etc... We utilise the `EnergySolver` of G-ADOPT to\n",
    "set up an energy equation under the Boussinesq Approximation, which is just a scalar\n",
    "advection-diffusion equation for temperature."
   ]
  },
  {
   "cell_type": "code",
   "execution_count": null,
   "id": "4a576348",
   "metadata": {
    "lines_to_next_cell": 2
   },
   "outputs": [],
   "source": [
    "mesh = UnitSquareMesh(40, 40)\n",
    "mesh.cartesian = True\n",
    "left, right, bottom, top = 1, 2, 3, 4  # Boundary IDs.\n",
    "\n",
    "V = VectorFunctionSpace(mesh, \"CG\", 2)  # Function space for velocity.\n",
    "Q = FunctionSpace(mesh, \"CG\", 1)  # Function space for the scalar (Temperature).\n",
    "T = Function(Q, name=\"Temperature\")\n",
    "T0 = Function(Q, name=\"Initial_Temperature\")  # T Initial condition which we will invert for.\n",
    "\n",
    "# Set up prescribed velocity field -- an anti-clockwise rotation around (0.5, 0.5):\n",
    "x, y = SpatialCoordinate(mesh)\n",
    "u = Function(V, name=\"Velocity\").interpolate(as_vector((-y + 0.5, x - 0.5)))\n",
    "\n",
    "# The Rayleigh number, Ra, is not actually used here, but we set a value for the diffusivity, kappa.\n",
    "approximation = BoussinesqApproximation(Ra=1, kappa=2e-2)\n",
    "delta_t = 0.1  # timestep\n",
    "energy_solver = EnergySolver(T, u, approximation, delta_t, ImplicitMidpoint)\n",
    "\n",
    "# Setup the initial condition for Temperature: a Gaussian at $(0.75, 0.5)$.\n",
    "# This will be the initial condition we will try to invert for later.\n",
    "\n",
    "x0, y0 = 0.75, 0.5\n",
    "w = 0.1\n",
    "r2 = (x - x0) ** 2 + (y - y0) ** 2\n",
    "T0.interpolate(exp(-r2 / w**2))"
   ]
  },
  {
   "cell_type": "markdown",
   "id": "aaf76781",
   "metadata": {},
   "source": [
    "We can visualise the initial temperature field using Firedrake's built-in plotting functionality."
   ]
  },
  {
   "cell_type": "code",
   "execution_count": null,
   "id": "c8b2f44c",
   "metadata": {
    "tags": [
     "active-ipynb"
    ]
   },
   "outputs": [],
   "source": [
    "import matplotlib.pyplot as plt\n",
    "fig, axes = plt.subplots()\n",
    "collection = tripcolor(T0, axes=axes, cmap='magma', vmax=0.15)\n",
    "fig.colorbar(collection);"
   ]
  },
  {
   "cell_type": "markdown",
   "id": "5f863b42",
   "metadata": {},
   "source": [
    "After setting the initial condition for T, we can next run the forward model, for a specified number of timesteps.\n",
    "Pretty simple, huh?"
   ]
  },
  {
   "cell_type": "code",
   "execution_count": null,
   "id": "84a1c1a8",
   "metadata": {},
   "outputs": [],
   "source": [
    "num_timesteps = 10\n",
    "T.project(T0)\n",
    "for timestep in range(num_timesteps):\n",
    "    energy_solver.solve()"
   ]
  },
  {
   "cell_type": "markdown",
   "id": "bef116f5",
   "metadata": {},
   "source": [
    "We can plot the final temperature solution, which you will see has been rotated whilst simultaneously diffusing."
   ]
  },
  {
   "cell_type": "code",
   "execution_count": null,
   "id": "10ee736f",
   "metadata": {
    "tags": [
     "active-ipynb"
    ]
   },
   "outputs": [],
   "source": [
    "fig, axes = plt.subplots()\n",
    "collection = tripcolor(T, axes=axes, cmap='magma', vmax=0.15)\n",
    "fig.colorbar(collection);"
   ]
  },
  {
   "cell_type": "markdown",
   "id": "1e7f64ec",
   "metadata": {},
   "source": [
    "We next save this final synthetic model state in a checkpoint file for later use:"
   ]
  },
  {
   "cell_type": "code",
   "execution_count": null,
   "id": "7996670a",
   "metadata": {},
   "outputs": [],
   "source": [
    "with CheckpointFile(\"Final_State.h5\", \"w\") as final_checkpoint:\n",
    "    final_checkpoint.save_mesh(mesh)\n",
    "    final_checkpoint.save_function(T, name=\"Temperature\")"
   ]
  },
  {
   "cell_type": "markdown",
   "id": "964c6390",
   "metadata": {},
   "source": [
    "Advection diffusion model with unknown initial condition\n",
    "--------------------------------------------------------\n",
    "\n",
    "We now start from scratch again with an advection-diffusion model with the same configuration,\n",
    "except this time we don't know the initial condition. As we want to measure for different\n",
    "initial conditions, how well the final state of the model matches the one we just saved,\n",
    "we first read back that target final state. We will also use the mesh from the checkpoint file\n",
    "to construct the model."
   ]
  },
  {
   "cell_type": "code",
   "execution_count": null,
   "id": "3d7730d6",
   "metadata": {},
   "outputs": [],
   "source": [
    "with CheckpointFile(\"Final_State.h5\", \"r\") as final_checkpoint:\n",
    "    mesh = final_checkpoint.load_mesh()\n",
    "    mesh.cartesian = True\n",
    "    T_target = final_checkpoint.load_function(mesh, name=\"Temperature\")"
   ]
  },
  {
   "cell_type": "markdown",
   "id": "7d078d3f",
   "metadata": {},
   "source": [
    "With this information stored, we now set up the model exactly as before:"
   ]
  },
  {
   "cell_type": "code",
   "execution_count": null,
   "id": "038cf3ae",
   "metadata": {},
   "outputs": [],
   "source": [
    "V = VectorFunctionSpace(mesh, \"CG\", 2)\n",
    "Q = FunctionSpace(mesh, \"CG\", 1)\n",
    "T = Function(Q, name=\"Temperature\")\n",
    "T0 = Function(Q, name=\"Initial_Temperature\")\n",
    "\n",
    "x, y = SpatialCoordinate(mesh)\n",
    "u = Function(V, name=\"Velocity\").interpolate(as_vector((-y + 0.5, x - 0.5)))\n",
    "\n",
    "approximation = BoussinesqApproximation(Ra=1, kappa=2e-2)\n",
    "delta_t = 0.1\n",
    "energy_solver = EnergySolver(T, u, approximation, delta_t, ImplicitMidpoint)\n",
    "\n",
    "# Make our solver output a little less verbose, aiding interpretation of optimisation output below:\n",
    "if \"ksp_converged_reason\" in energy_solver.solver_parameters:\n",
    "    del energy_solver.solver_parameters[\"ksp_converged_reason\"]"
   ]
  },
  {
   "cell_type": "markdown",
   "id": "cee55860",
   "metadata": {},
   "source": [
    "This time, however, we don't want to use the known initial condition. Instead we will start with\n",
    "the final state from our synthetic forward model, which will then be further rotated and diffused. After\n",
    "a specified number of timesteps we compute the mismatch between the predicted final state, and the\n",
    "checkpointed final state from our synthetic twin. This computation, the timesteps and the mismatch calculation,\n",
    "forms the forward model that we want to invert. Its adjoint will be created automatically from the tape, which\n",
    "registers all operations in the model. Since the tape was automatically started at the top when we imported\n",
    "`gadopt.inverse`, we must ensure we don't get mixed up with any operations that happened in our initial\n",
    "synthetic twin model, so we first clear everything that has already been registered from the tape."
   ]
  },
  {
   "cell_type": "code",
   "execution_count": null,
   "id": "e8bfcce3",
   "metadata": {},
   "outputs": [],
   "source": [
    "tape = get_working_tape()\n",
    "tape.clear_tape()"
   ]
  },
  {
   "cell_type": "markdown",
   "id": "77991e83",
   "metadata": {},
   "source": [
    "At this stage, we are good to specify our initial guess for temperature, from T_target (i.e. the final\n",
    "state of our synthetic forward run). We do this by interpolating T_target to T0. Note that in theory, we could\n",
    "start from an arbitrary initial condition here, provided it is bounded between 0 and 1."
   ]
  },
  {
   "cell_type": "code",
   "execution_count": null,
   "id": "d56d4e48",
   "metadata": {},
   "outputs": [],
   "source": [
    "T0.project(T_target)"
   ]
  },
  {
   "cell_type": "markdown",
   "id": "c4426b4e",
   "metadata": {},
   "source": [
    "We want to optimise this initial temperature state, T0, and so we specify this as the *control*:"
   ]
  },
  {
   "cell_type": "code",
   "execution_count": null,
   "id": "da52635f",
   "metadata": {},
   "outputs": [],
   "source": [
    "m = Control(T0)"
   ]
  },
  {
   "cell_type": "markdown",
   "id": "a7842ef9",
   "metadata": {},
   "source": [
    "Based on our guess for the initial temperature, we run the model for a specified number of timesteps:"
   ]
  },
  {
   "cell_type": "code",
   "execution_count": null,
   "id": "36a9167e",
   "metadata": {},
   "outputs": [],
   "source": [
    "T.project(T0)\n",
    "for timestep in range(num_timesteps):\n",
    "    energy_solver.solve()"
   ]
  },
  {
   "cell_type": "markdown",
   "id": "4b4cd46d",
   "metadata": {},
   "source": [
    "For good performance of optimisation algorithms, it is important to scale both the control and the\n",
    "functional values to be of order 1. Note that mathematically scaling the functional should not\n",
    "change the optimal solution. In the following lines, we define our scaled *functional* (J) to be the l2\n",
    "misfit between predicted and true final state:"
   ]
  },
  {
   "cell_type": "code",
   "execution_count": null,
   "id": "fdab00d3",
   "metadata": {},
   "outputs": [],
   "source": [
    "scaling = 1.0 / assemble(T_target**2 * dx)\n",
    "J = assemble(scaling * (T - T_target) ** 2 * dx)"
   ]
  },
  {
   "cell_type": "markdown",
   "id": "fc04497f",
   "metadata": {},
   "source": [
    "We can print the (scaled) mismatch:"
   ]
  },
  {
   "cell_type": "code",
   "execution_count": null,
   "id": "edc982d8",
   "metadata": {},
   "outputs": [],
   "source": [
    "print(f\"Mismatch functional J={J}\")"
   ]
  },
  {
   "cell_type": "markdown",
   "id": "6573f7e6",
   "metadata": {},
   "source": [
    "And plot the final temperature state (T) for comparison with the true final state (T_target)"
   ]
  },
  {
   "cell_type": "code",
   "execution_count": null,
   "id": "3e3edcf0",
   "metadata": {
    "tags": [
     "active-ipynb"
    ]
   },
   "outputs": [],
   "source": [
    "fig, axes = plt.subplots(1,2,figsize=[8,4],subplot_kw={'aspect':1.0})\n",
    "ax1 = tripcolor(T, axes=axes[0], cmap='magma', vmax=0.15)\n",
    "ax2 = tripcolor(T_target, axes=axes[1], cmap='magma', vmax=0.15)\n",
    "fig.subplots_adjust(right=0.82)\n",
    "cbar_ax = fig.add_axes([0.85, 0.15, 0.02, 0.68])\n",
    "fig.colorbar(ax2,cax=cbar_ax);"
   ]
  },
  {
   "cell_type": "markdown",
   "id": "51c24630",
   "metadata": {},
   "source": [
    "Now we have run the forward model and populated the tape with all operations required for the inverse\n",
    "model, we can define the *reduced functional* which combines the functional with the control\n",
    "specified above:"
   ]
  },
  {
   "cell_type": "code",
   "execution_count": null,
   "id": "1c2eea34",
   "metadata": {},
   "outputs": [],
   "source": [
    "reduced_functional = ReducedFunctional(J, m)"
   ]
  },
  {
   "cell_type": "markdown",
   "id": "d6675bd7",
   "metadata": {},
   "source": [
    "The reduced functional allows us to rerun the forward model for different values of the control. It\n",
    "can be used as a function that takes in any choice of the control, runs the forward model and\n",
    "computes the functional. For instance we can rerun the model again using `T_target` as the initial\n",
    "condition, i.e. re-running the exact same model we have just run:"
   ]
  },
  {
   "cell_type": "code",
   "execution_count": null,
   "id": "9c625756",
   "metadata": {},
   "outputs": [],
   "source": [
    "print(reduced_functional(T_target))"
   ]
  },
  {
   "cell_type": "markdown",
   "id": "cfc4e1f3",
   "metadata": {},
   "source": [
    "As expected it produces the same functional value. Now we can try to see what happens if we\n",
    "use the correct initial condition, exactly matching that used in our twin experiment:"
   ]
  },
  {
   "cell_type": "code",
   "execution_count": null,
   "id": "8e76cd02",
   "metadata": {},
   "outputs": [],
   "source": [
    "T0_ref = Function(Q, name=\"Reference_Initial_Temperature\")\n",
    "x0, y0 = 0.75, 0.5\n",
    "w = 0.1\n",
    "r2 = (x - x0) ** 2 + (y - y0) ** 2\n",
    "T0_ref.interpolate(exp(-r2 / w**2))"
   ]
  },
  {
   "cell_type": "markdown",
   "id": "27f07813",
   "metadata": {},
   "source": [
    "For which the functional can be printed:"
   ]
  },
  {
   "cell_type": "code",
   "execution_count": null,
   "id": "266d7374",
   "metadata": {},
   "outputs": [],
   "source": [
    "print(reduced_functional(T0_ref))"
   ]
  },
  {
   "cell_type": "markdown",
   "id": "e423afca",
   "metadata": {},
   "source": [
    "Using the \"correct\" initial condition, we reach the same final state as in our twin model, and thus\n",
    "the functional ends up being almost exactly zero (as expected!)."
   ]
  },
  {
   "cell_type": "markdown",
   "id": "401569ad",
   "metadata": {},
   "source": [
    "In addition to re-running the model by evaluating the reduced functional, we can also calculate\n",
    "its derivative. This computes the sensitivity of the model with respect to its control (the initial\n",
    "condition). Here it tells us in what locations a (small) increase in the initial condition will\n",
    "lead to an increase in the functional."
   ]
  },
  {
   "cell_type": "markdown",
   "id": "3305f0d8",
   "metadata": {},
   "source": [
    "We want to compute the derivative at the \"wrong\" initial condition T_target,\n",
    "so we first rerun the forward model with that value for the control"
   ]
  },
  {
   "cell_type": "code",
   "execution_count": null,
   "id": "d06ee21d",
   "metadata": {},
   "outputs": [],
   "source": [
    "reduced_functional(T_target)"
   ]
  },
  {
   "cell_type": "markdown",
   "id": "dbf7e3b8",
   "metadata": {},
   "source": [
    "We note that in unstructured mesh optimisation problems, it is important to work in the L2 Riesz\n",
    "representation to ensure a grid-independent result:"
   ]
  },
  {
   "cell_type": "code",
   "execution_count": null,
   "id": "86177bcf",
   "metadata": {},
   "outputs": [],
   "source": [
    "gradJ = reduced_functional.derivative(options={\"riesz_representation\": \"L2\"})"
   ]
  },
  {
   "cell_type": "code",
   "execution_count": null,
   "id": "87fd1dd8",
   "metadata": {
    "tags": [
     "active-ipynb"
    ]
   },
   "outputs": [],
   "source": [
    "fig, axes = plt.subplots()\n",
    "collection = tripcolor(gradJ, axes=axes, cmap='viridis', vmin=-30, vmax=40)\n",
    "fig.colorbar(collection);"
   ]
  },
  {
   "cell_type": "markdown",
   "id": "bfc81f7d",
   "metadata": {},
   "source": [
    "Invert for optimal initial condition using gradient-based optimisation algorithm\n",
    "--------------------------------------------------------------------------------\n",
    "\n",
    "We now have all ingredients required to run a gradient-based optimisation algorithm for the initial\n",
    "condition:\n",
    "- The ability to rerun and re-evaluate the functional for arbitrary input control values.\n",
    "- The ability to compute the derivative of the functional with respect to that control.\n",
    "\n",
    "G-ADOPT provides an interface to the [ROL optimisation library](https://trilinos.github.io/).\n",
    "For this simple problem, we perform a bounded nonlinear optimisation where the temperature is\n",
    "only permitted to lie in the range [0, 1]. This means that the optimisation problem should not search\n",
    "for solutions beyond these values."
   ]
  },
  {
   "cell_type": "markdown",
   "id": "4a7b2602",
   "metadata": {},
   "source": [
    "We therefore set lower and upper bound values for the control, which we can\n",
    "provide as functions in the same function space as the control:"
   ]
  },
  {
   "cell_type": "code",
   "execution_count": null,
   "id": "e4490f9a",
   "metadata": {},
   "outputs": [],
   "source": [
    "T_lb = Function(Q).assign(0.0)\n",
    "T_ub = Function(Q).assign(1.0)"
   ]
  },
  {
   "cell_type": "markdown",
   "id": "b6148ea6",
   "metadata": {},
   "source": [
    "Our goal is to minimise the reduced functional. As such, we next define the minimisation problem,\n",
    "passing on the bounds specified above. Here, we set the number of iterations to only 10,\n",
    "as opposed to the default 100. Note that in some scenarios, the goal might be to\n",
    "maximise (rather than minimise) the functional."
   ]
  },
  {
   "cell_type": "code",
   "execution_count": null,
   "id": "900ddc57",
   "metadata": {},
   "outputs": [],
   "source": [
    "minimisation_problem = MinimizationProblem(reduced_functional, bounds=(T_lb, T_ub))\n",
    "minimisation_parameters[\"Status Test\"][\"Iteration Limit\"] = 10"
   ]
  },
  {
   "cell_type": "code",
   "execution_count": null,
   "id": "aec01ab4",
   "metadata": {},
   "outputs": [],
   "source": [
    "# Define the LinMore Optimiser class:\n",
    "optimiser = LinMoreOptimiser(\n",
    "    minimisation_problem,\n",
    "    minimisation_parameters,\n",
    ")"
   ]
  },
  {
   "cell_type": "markdown",
   "id": "31394a53",
   "metadata": {},
   "source": [
    "For confirming simulation progress we record values of the reduced\n",
    "functional directly in order to produce a plot of the convergence, using\n",
    "a callback function:"
   ]
  },
  {
   "cell_type": "code",
   "execution_count": null,
   "id": "6c0f138a",
   "metadata": {},
   "outputs": [],
   "source": [
    "functional_values = []\n",
    "\n",
    "\n",
    "def record_value(value, *args):\n",
    "    if functional_values:\n",
    "        functional_values.append(min(value, min(functional_values)))\n",
    "    else:\n",
    "        functional_values.append(value)\n",
    "\n",
    "\n",
    "reduced_functional.eval_cb_post = record_value"
   ]
  },
  {
   "cell_type": "markdown",
   "id": "d1eadcb7",
   "metadata": {},
   "source": [
    "We next run the optimisation"
   ]
  },
  {
   "cell_type": "code",
   "execution_count": null,
   "id": "e9a444b3",
   "metadata": {},
   "outputs": [],
   "source": [
    "optimiser.run()"
   ]
  },
  {
   "cell_type": "markdown",
   "id": "9bcb2fe0",
   "metadata": {},
   "source": [
    "And we'll write the functional values to a file so that we can test them."
   ]
  },
  {
   "cell_type": "code",
   "execution_count": null,
   "id": "fc17a4d6",
   "metadata": {},
   "outputs": [],
   "source": [
    "with open(\"functional_field.txt\", \"w\") as f:\n",
    "    f.write(\"\\n\".join(str(x) for x in functional_values))"
   ]
  },
  {
   "cell_type": "markdown",
   "id": "a4e57b13",
   "metadata": {},
   "source": [
    "At this point a total number of 10 iterations are performed. Once the optimisation\n",
    "is complete, we can plot convergence, with the functional value decreasing by\n",
    "roughly two orders of magnitude:"
   ]
  },
  {
   "cell_type": "code",
   "execution_count": null,
   "id": "516f7f0b",
   "metadata": {
    "tags": [
     "active-ipynb"
    ]
   },
   "outputs": [],
   "source": [
    "plt.semilogy(functional_values)\n",
    "plt.xlabel(\"Iteration #\")\n",
    "plt.ylabel(\"Functional value\")\n",
    "plt.title(\"Convergence\")"
   ]
  },
  {
   "cell_type": "markdown",
   "id": "331ed4b1",
   "metadata": {},
   "source": [
    "And visualise the optimised initial condition. Let's plot that and compare to the reference initial condition:"
   ]
  },
  {
   "cell_type": "code",
   "execution_count": null,
   "id": "8e242013",
   "metadata": {
    "lines_to_next_cell": 2,
    "tags": [
     "active-ipynb"
    ]
   },
   "outputs": [],
   "source": [
    "fig, axes = plt.subplots(1,2,figsize=[8,4],subplot_kw={'aspect':1.0})\n",
    "ax1 = tripcolor(T0.block_variable.checkpoint, axes=axes[0], cmap='magma', vmax=0.15)\n",
    "ax2 = tripcolor(T0_ref, axes=axes[1], cmap='magma', vmax=0.15)\n",
    "fig.subplots_adjust(right=0.82)\n",
    "cbar_ax = fig.add_axes([0.85, 0.15, 0.02, 0.68])\n",
    "fig.colorbar(ax2,cax=cbar_ax);"
   ]
  },
  {
   "cell_type": "markdown",
   "id": "2de651d8",
   "metadata": {},
   "source": [
    "You can see that it has recovered the initial condition reasonably well, albeit with small\n",
    "local errors. These are reduced further if the number of optimisation iterations are increased\n",
    "from 10 to 20, for example, with the functional value dropping by another order of magnitude."
   ]
  }
 ],
 "metadata": {
  "jupytext": {
   "cell_metadata_filter": "tags,-all",
   "main_language": "python",
   "notebook_metadata_filter": "-all"
  }
 },
 "nbformat": 4,
 "nbformat_minor": 5
}

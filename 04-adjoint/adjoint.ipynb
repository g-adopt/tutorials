{
 "cells": [
  {
   "cell_type": "markdown",
   "id": "0dbd957d",
   "metadata": {},
   "source": [
    "Adjoint inverse reconstruction\n",
    "==============================\n",
    "\n",
    "Introduction\n",
    "------------\n",
    "In this tutorial, we will demonstrate how to perform an inversion to recover the initial temperature field of an\n",
    "idealised mantle convection simulation using G-ADOPT. This tutorial is published as the first synthetic experiment in\n",
    "*Ghelichkhan et al. (2024)*. The full inversion showcased in the publication involves a total number of 80 timesteps.\n",
    "For the tutorial here we start with only 5 timesteps to go through the basics.\n",
    "\n",
    "The tutorial involves a *twin experiment*, where we assess the performance of the inversion scheme by inverting the\n",
    "initial state of a synthetic reference simulation, known as the \"*Reference Twin*\". To create this reference twin, we\n",
    "run a forward mantle convection simulation and record all relevant fields (velocity and temperature) at each time step.\n",
    "\n",
    "We have pre-run this simulation by running [the forward case](../adjoint_forward), and stored model output as a\n",
    "checkpoint file on our servers.  These fields serve as benchmarks for evaluating our inverse problem's performance. To\n",
    "download the reference benchmark checkpoint file if it doesn't already exist, execute the following command:"
   ]
  },
  {
   "cell_type": "code",
   "execution_count": null,
   "id": "01f1168e",
   "metadata": {
    "tags": [
     "active-ipynb"
    ]
   },
   "outputs": [],
   "source": [
    "![ ! -f adjoint-demo-checkpoint-state.h5 ] && wget https://data.gadopt.org/demos/adjoint-demo-checkpoint-state.h5"
   ]
  },
  {
   "cell_type": "markdown",
   "id": "64011357",
   "metadata": {},
   "source": [
    "In this file, fields from the reference simulation are stored under the names \"Temperature\" and \"Velocity\".\n",
    "After importing g-adopt and the associated inverse module (gadopt.inverse - discussed further below), we can\n",
    "retrieve timestepping information from the pre-computed forward run as follows"
   ]
  },
  {
   "cell_type": "code",
   "execution_count": null,
   "id": "e27590cb",
   "metadata": {},
   "outputs": [],
   "source": [
    "try:\n",
    "    from gadopt import *\n",
    "except ImportError:\n",
    "    !wget \"https://fem-on-colab.github.io/releases/firedrake-install-real.sh\" -O \"/tmp/firedrake-install.sh\" && bash \"/tmp/firedrake-install.sh\"\n",
    "    !pip install gadopt[demos,optimisation]\n",
    "    from gadopt import *\n",
    "from gadopt.inverse import *\n",
    "\n",
    "# Open the checkpoint file and subsequently load the mesh:\n",
    "checkpoint_filename = \"adjoint-demo-checkpoint-state.h5\"\n",
    "checkpoint_file = CheckpointFile(checkpoint_filename, mode=\"r\")\n",
    "mesh = checkpoint_file.load_mesh(\"firedrake_default_extruded\")\n",
    "mesh.cartesian = True\n",
    "\n",
    "# Specify boundary markers, noting that for extruded meshes the upper and lower boundaries are tagged as\n",
    "# \"top\" and \"bottom\" respectively.\n",
    "bottom_id, top_id, left_id, right_id = \"bottom\", \"top\", 1, 2\n",
    "\n",
    "# Retrieve the timestepping information for the Velocity and Temperature functions from checkpoint file:\n",
    "temperature_timestepping_info = checkpoint_file.get_timestepping_history(mesh, \"Temperature\")\n",
    "velocity_timestepping_info = checkpoint_file.get_timestepping_history(mesh, \"Velocity\")"
   ]
  },
  {
   "cell_type": "markdown",
   "id": "0cb9b02e",
   "metadata": {},
   "source": [
    "We can check the information for each:"
   ]
  },
  {
   "cell_type": "code",
   "execution_count": null,
   "id": "e906bce0",
   "metadata": {
    "tags": [
     "active-ipynb"
    ]
   },
   "outputs": [],
   "source": [
    "print(\"Timestepping info for Temperature\", temperature_timestepping_info)\n",
    "print(\"Timestepping info for Velocity\", velocity_timestepping_info)"
   ]
  },
  {
   "cell_type": "markdown",
   "id": "327e6fa8",
   "metadata": {},
   "source": [
    "The timestepping information reveals that there are 80 time-steps (from 0 to 79) in the reference simulation,\n",
    "with the temperature field stored only at the initial (index=0) and final (index=79) timesteps, while the\n",
    "velocity field is stored at all timesteps. We can visualise the benchmark fields using Firedrake's built-in VTK\n",
    "functionality. For example, initial and final temperature fields can be loaded:"
   ]
  },
  {
   "cell_type": "code",
   "execution_count": null,
   "id": "0d38a22e",
   "metadata": {},
   "outputs": [],
   "source": [
    "# Load the final state, analagous to the present-day \"observed\" state:\n",
    "Tobs = checkpoint_file.load_function(mesh, \"Temperature\", idx=int(temperature_timestepping_info[\"index\"][-1]))\n",
    "Tobs.rename(\"Observed Temperature\")\n",
    "# Load the reference initial state - i.e. the state that we wish to recover:\n",
    "Tic_ref = checkpoint_file.load_function(mesh, \"Temperature\", idx=int(temperature_timestepping_info[\"index\"][0]))\n",
    "Tic_ref.rename(\"Reference Initial Temperature\")\n",
    "checkpoint_file.close()"
   ]
  },
  {
   "cell_type": "markdown",
   "id": "e6633089",
   "metadata": {},
   "source": [
    "These fields can be visualised using standard VTK software, such as Paraview or pyvista."
   ]
  },
  {
   "cell_type": "code",
   "execution_count": null,
   "id": "50b33f99",
   "metadata": {
    "tags": [
     "active-ipynb"
    ]
   },
   "outputs": [],
   "source": [
    "import pyvista as pv\n",
    "VTKFile(\"./visualisation_vtk.pvd\").write(Tobs, Tic_ref)\n",
    "dataset = pv.read('./visualisation_vtk.pvd')\n",
    "# Create a plotter object\n",
    "plotter = pv.Plotter()\n",
    "# Add the dataset to the plotter\n",
    "plotter.add_mesh(dataset, scalars='Observed Temperature', cmap='coolwarm')\n",
    "# Adjust the camera position\n",
    "plotter.camera_position = [(0.5, 0.5, 2.5), (0.5, 0.5, 0), (0, 1, 0)]\n",
    "# Show the plot\n",
    "plotter.show(jupyter_backend=\"static\")"
   ]
  },
  {
   "cell_type": "markdown",
   "id": "9898c804",
   "metadata": {},
   "source": [
    "The inverse code\n",
    "----------------\n",
    "\n",
    "The novelty of using the overloading approach provided by pyadjoint is that it requires\n",
    "minimal changes to our script to enable the inverse capabalities of G-ADOPT.\n",
    "To turn on the adjoint, one simply imports the inverse module (already done above) to\n",
    "enable all taping functionality from pyadjoint.\n",
    "\n",
    "Doing so will turn Firedrake's objects to overloaded types, in a way\n",
    "that any UFL operation will be annotated and added to the tape, unless\n",
    "otherwise specified.\n",
    "\n",
    "We first ensure that the tape is cleared of any previous operations, using the following code:"
   ]
  },
  {
   "cell_type": "code",
   "execution_count": null,
   "id": "f4c18001",
   "metadata": {},
   "outputs": [],
   "source": [
    "tape = get_working_tape()\n",
    "tape.clear_tape()"
   ]
  },
  {
   "cell_type": "code",
   "execution_count": null,
   "id": "07236e1e",
   "metadata": {
    "tags": [
     "active-ipynb"
    ]
   },
   "outputs": [],
   "source": [
    "# To verify the tape is empty, we can print all blocks:\n",
    "print(tape.get_blocks())"
   ]
  },
  {
   "cell_type": "markdown",
   "id": "cc8422a1",
   "metadata": {},
   "source": [
    "From here on, all user operations are specified with minimal differences relative to\n",
    "to our forward code. Under the hood, however, the tape will be populated\n",
    "by *blocks* that record their dependencies. Knowing the mesh was loaded above, we continue\n",
    "in a manner that is consistent with our most basic forward modelling tutorials."
   ]
  },
  {
   "cell_type": "code",
   "execution_count": null,
   "id": "6da7c262",
   "metadata": {},
   "outputs": [],
   "source": [
    "# Set up function spaces:\n",
    "V = VectorFunctionSpace(mesh, \"CG\", 2)  # Velocity function space (vector)\n",
    "W = FunctionSpace(mesh, \"CG\", 1)  # Pressure function space (scalar)\n",
    "Q = FunctionSpace(mesh, \"CG\", 2)  # Temperature function space (scalar)\n",
    "Z = MixedFunctionSpace([V, W])  # Mixed function space\n",
    "\n",
    "# Specify test functions and functions to hold solutions:\n",
    "z = Function(Z)  # A field over the mixed function space Z\n",
    "u, p = split(z)  # Returns symbolic UFL expression for u and p\n",
    "z.subfunctions[0].rename(\"Velocity\")\n",
    "z.subfunctions[1].rename(\"Pressure\")\n",
    "T = Function(Q, name=\"Temperature\")\n",
    "\n",
    "# Specify important constants for the problem, alongside the approximation:\n",
    "Ra = Constant(1e6)  # Rayleigh number\n",
    "approximation = BoussinesqApproximation(Ra)\n",
    "\n",
    "# Define time-stepping parameters:\n",
    "delta_t = Constant(4e-6)  # Constant time step\n",
    "timesteps = int(temperature_timestepping_info[\"index\"][-1])  # number of timesteps from forward\n",
    "\n",
    "# Nullspaces for the problem are next defined:\n",
    "Z_nullspace = create_stokes_nullspace(Z, closed=True, rotational=False)\n",
    "\n",
    "# Followed by boundary conditions, noting that all boundaries are free slip, whilst the domain is\n",
    "# heated from below (T = 1) and cooled from above (T = 0).\n",
    "stokes_bcs = {\n",
    "    bottom_id: {\"uy\": 0},\n",
    "    top_id: {\"uy\": 0},\n",
    "    left_id: {\"ux\": 0},\n",
    "    right_id: {\"ux\": 0},\n",
    "}\n",
    "temp_bcs = {\n",
    "    bottom_id: {\"T\": 1.0},\n",
    "    top_id: {\"T\": 0.0},\n",
    "}\n",
    "\n",
    "# Setup Energy and Stokes solver\n",
    "energy_solver = EnergySolver(T, u, approximation, delta_t, ImplicitMidpoint, bcs=temp_bcs)\n",
    "stokes_solver = StokesSolver(z, T, approximation, bcs=stokes_bcs,\n",
    "                             nullspace=Z_nullspace, transpose_nullspace=Z_nullspace, constant_jacobian=True)"
   ]
  },
  {
   "cell_type": "markdown",
   "id": "d95097bc",
   "metadata": {},
   "source": [
    "Define the Control Space\n",
    "------------------------\n",
    "\n",
    "In this section, we define the control space, which can be restricted to reduce the risk of encountering an\n",
    "undetermined problem. Here, we select the Q1 function space for the initial condition $T_{ic}$. We also provide an\n",
    "initial guess for the control value, which in this synthetic test is the temperature field of the reference\n",
    "simulation at the final time-step (`timesteps - 1`). In other words, our guess for the initial temperature\n",
    "is the final model state."
   ]
  },
  {
   "cell_type": "code",
   "execution_count": null,
   "id": "1d193034",
   "metadata": {},
   "outputs": [],
   "source": [
    "# Define control function space:\n",
    "Q1 = FunctionSpace(mesh, \"CG\", 1)\n",
    "\n",
    "# Create a function for the initial temperature field:\n",
    "Tic = Function(Q1, name=\"Initial Temperature\")\n",
    "\n",
    "# Project the temperature field from the reference simulation's final time-step onto the control space as our\n",
    "# initial guess:\n",
    "with CheckpointFile(checkpoint_filename, mode=\"r\") as fi:\n",
    "    Tic.project(fi.load_function(mesh, \"Temperature\", idx=timesteps - 1))"
   ]
  },
  {
   "cell_type": "code",
   "execution_count": null,
   "id": "e245ca5a",
   "metadata": {},
   "outputs": [],
   "source": [
    "# We next make pyadjoint aware of our control problem:\n",
    "control = Control(Tic)"
   ]
  },
  {
   "cell_type": "code",
   "execution_count": null,
   "id": "f427dcd8",
   "metadata": {},
   "outputs": [],
   "source": [
    "# Take our initial guess and project from Q1 to Q2, simultaneously imposing strong temperature boundary conditions.\n",
    "T.project(Tic, bcs=energy_solver.strong_bcs)"
   ]
  },
  {
   "cell_type": "markdown",
   "id": "1daa3733",
   "metadata": {},
   "source": [
    "We continue by integrating the solutions at each time-step.\n",
    "Notice that we cumulatively compute the misfit term with respect to the\n",
    "surface velocity observable."
   ]
  },
  {
   "cell_type": "code",
   "execution_count": null,
   "id": "e1d6d6e2",
   "metadata": {},
   "outputs": [],
   "source": [
    "u_misfit = 0.0\n",
    "\n",
    "# Next populate the tape by running the forward simulation. ** NOTE ** for the purpose of this tutorial, we only\n",
    "# invert for a total of 5 time-steps. This makes it tractable to run this within a tutorial session. To run for\n",
    "# the simulation's full duration, change the initial time-step to `0` instead of `timesteps - 5`.\n",
    "initial_timestep = timesteps - 5\n",
    "for time_idx in range(initial_timestep, timesteps):\n",
    "    stokes_solver.solve()\n",
    "    energy_solver.solve()\n",
    "    # Update the accumulated surface velocity misfit using the observed value.\n",
    "    with CheckpointFile(checkpoint_filename, mode=\"r\") as fi:\n",
    "        uobs = fi.load_function(mesh, name=\"Velocity\", idx=time_idx)\n",
    "    u_misfit += assemble(dot(u - uobs, u - uobs) * ds_t)"
   ]
  },
  {
   "cell_type": "markdown",
   "id": "c1d792a2",
   "metadata": {},
   "source": [
    "Define the Objective Functional\n",
    "-------------------------------\n",
    "\n",
    "Now that all calculations are in place, we must define *the objective functional*.\n",
    "The objective functional is our way of expressing our goal for this optimisation.\n",
    "It is composed of several terms, each representing a different aspect of the model's\n",
    "performance and regularisation.\n",
    "\n",
    "Regularisation involves imposing constraints on solutions to prevent overfitting, ensuring that the model\n",
    "generalises well to new data. In this context, we use the one-dimensional (1-D) temperature profile derived from\n",
    "the reference simulation as our regularisation constraint. This profile, referred to below as `Taverage`, helps\n",
    "stabilise the inversion process by providing a benchmark that guides the solution towards physically plausible states.\n",
    "\n",
    "The 1-D profile, `Taverage`, is also loaded from the checkpoint file"
   ]
  },
  {
   "cell_type": "code",
   "execution_count": null,
   "id": "4c9e5dee",
   "metadata": {},
   "outputs": [],
   "source": [
    "# Load the 1-D average temperature profile from checkpoint file:\n",
    "Taverage = Function(Q1, name=\"Average Temperature\")\n",
    "with CheckpointFile(checkpoint_filename, mode=\"r\") as fi:\n",
    "    Taverage.project(fi.load_function(mesh, \"Average Temperature\", idx=0))"
   ]
  },
  {
   "cell_type": "markdown",
   "id": "e1150357",
   "metadata": {},
   "source": [
    "We use `Taverage` as a part of the damping and smoothing terms in our regularisation.\n",
    "Consequently, the complete objective functional is defined mathematically as follows:\n",
    "\n",
    "Reiterating that:\n",
    "- $T_{ic}$ is the initial temperature condition.\n",
    "- $T_{\\text{average}}$ is the average temperature profile representing mantle's geotherm.\n",
    "- $T_{F}$ is the the temperature field at final time-step.\n",
    "- $T_{\\text{obs}}$ is the observed temperature field at the final time-step.\n",
    "- $u_{\\text{obs}}$ is the observed velocity field at *each time-step*.\n",
    "- $\\alpha_u$, $\\alpha_d$, $\\alpha_s$ are the three different\n",
    "  weighting terms for the velocity, damping and smoothing terms.\n",
    "\n",
    "We define the objective functional as\n",
    "$$ \\text{Objective Functional}= \\int_{\\Omega}(T - T_{\\text{obs}}) ^ 2 \\, dx \\\\\n",
    "                 +\\alpha_u\\, \\frac{D_{T_{obs}}}{N\\times D_{u_{obs}}}\\sum_{i}\\int_{\\partial \\Omega_{\\text{top}}}(u - u_{\\text{obs}}) \\cdot(u - u_{\\text{obs}}) \\, ds \\\\\n",
    "                 +\\alpha_s\\, \\frac{D_{T_{obs}}}{D_{\\text{smoothing}}}\\int_{\\Omega} \\nabla(T_{ic} - T_{\\text{average}}) \\cdot \\nabla(T_{ic} - T_{\\text{average}}) \\, dx \\\\\n",
    "                 +\\alpha_d\\, \\frac{D_{T_{obs}}}{D_{\\text{damping}}}\\int_{\\Omega}(T_{ic} - T_{\\text{average}}) ^ 2 \\, dx $$"
   ]
  },
  {
   "cell_type": "markdown",
   "id": "9edb30f6",
   "metadata": {},
   "source": [
    "With the three *normlisation terms* of:\n",
    "+ $D_{\\text{damping}} = \\int_{\\Omega} T_{\\text{average}}^2 \\, dx$,\n",
    "+ $D_{\\text{smoothing}} = \\int_{\\Omega} \\nabla T_{\\text{obs}} \\cdot \\nabla T_{\\text{obs}} \\, dx$,\n",
    "+ $D_{T_{obs}} = \\int_{\\Omega} T_{\\text{obs}} ^ 2 \\, dx$, and\n",
    "+ $D_{\\text{damping}} = \\int_{\\partial \\Omega_{\\text{top}}} u_{\\text{obs}} \\cdot u_{\\text{obs}} \\, ds$\n",
    "\n",
    "which we specify through the `objective` below:"
   ]
  },
  {
   "cell_type": "code",
   "execution_count": null,
   "id": "618d45d4",
   "metadata": {},
   "outputs": [],
   "source": [
    "# Define component terms of overall objective functional and their normalisation terms:\n",
    "damping = assemble((Tic - Taverage) ** 2 * dx)\n",
    "norm_damping = assemble(Taverage**2 * dx)\n",
    "smoothing = assemble(dot(grad(Tic - Taverage), grad(Tic - Taverage)) * dx)\n",
    "norm_smoothing = assemble(dot(grad(Tobs), grad(Tobs)) * dx)\n",
    "norm_obs = assemble(Tobs**2 * dx)\n",
    "norm_u_surface = assemble(dot(uobs, uobs) * ds_t)\n",
    "\n",
    "# Temperature misfit between final state solution and observation:\n",
    "t_misfit = assemble((T - Tobs) ** 2 * dx)\n",
    "\n",
    "# Weighting terms\n",
    "alpha_u = 1e-1\n",
    "alpha_d = 1e-2\n",
    "alpha_s = 1e-1\n",
    "\n",
    "# Define overall objective functional:\n",
    "objective = (\n",
    "    t_misfit +\n",
    "    alpha_u * (norm_obs * u_misfit / timesteps / norm_u_surface) +\n",
    "    alpha_d * (norm_obs * damping / norm_damping) +\n",
    "    alpha_s * (norm_obs * smoothing / norm_smoothing)\n",
    ")"
   ]
  },
  {
   "cell_type": "markdown",
   "id": "f6b54694",
   "metadata": {},
   "source": [
    "Define the Reduced Functional\n",
    "-----------------------------\n",
    "\n",
    "In optimisation terminology, a reduced functional is a functional that takes a given value for the control and outputs\n",
    "the value of the objective functional defined for it. It does this without explicitly depending on all intermediary\n",
    "state variables, hence the name \"reduced\".\n",
    "\n",
    "To define the reduced functional, we provide the class with an objective (which is an overloaded UFL object) and the control."
   ]
  },
  {
   "cell_type": "code",
   "execution_count": null,
   "id": "bd59d671",
   "metadata": {},
   "outputs": [],
   "source": [
    "reduced_functional = ReducedFunctional(objective, control)"
   ]
  },
  {
   "cell_type": "markdown",
   "id": "a9c7fab9",
   "metadata": {},
   "source": [
    "At this point, we have completed annotating the tape with the necessary information from running the forward simulation.\n",
    "To prevent further annotations during subsequent operations, we stop the annotation process. This ensures that no additional\n",
    "solves are unnecessarily recorded, keeping the tape focused only on the essential steps."
   ]
  },
  {
   "cell_type": "code",
   "execution_count": null,
   "id": "c27888b0",
   "metadata": {},
   "outputs": [],
   "source": [
    "pause_annotation()"
   ]
  },
  {
   "cell_type": "markdown",
   "id": "b50c59ca",
   "metadata": {},
   "source": [
    "We can print the contents of the tape at this stage to verify that it is not empty."
   ]
  },
  {
   "cell_type": "code",
   "execution_count": null,
   "id": "a95bdc30",
   "metadata": {
    "tags": [
     "active-ipynb"
    ]
   },
   "outputs": [],
   "source": [
    "print(tape.get_blocks())"
   ]
  },
  {
   "cell_type": "markdown",
   "id": "42560b28",
   "metadata": {},
   "source": [
    "Verification of Gradients: Taylor Remainder Convergence Test\n",
    "------------------------------------------------------------\n",
    "\n",
    "A fundamental tool for verifying gradients is the Taylor remainder convergence test. This test helps ensure that\n",
    "the gradients computed by our optimisation algorithm are accurate. For the reduced functional, $J(T_{ic})$, and its derivative,\n",
    "$\\frac{\\mathrm{d} J}{\\mathrm{d} T_{ic}}$, the Taylor remainder convergence test can be expressed as:\n",
    "\n",
    "$$ \\left| J(T_{ic} + h \\,\\delta T_{ic}) - J(T_{ic}) - h\\,\\frac{\\mathrm{d} J}{\\mathrm{d} T_{ic}} \\cdot \\delta T_{ic} \\right| \\longrightarrow 0 \\text{ at } O(h^2). $$\n",
    "\n",
    "The expression on the left-hand side is termed the second-order Taylor remainder. This term's convergence rate of $O(h^2)$ is a robust indicator for\n",
    "verifying the computational implementation of the gradient calculation. Essentially, if you halve the value of $h$, the magnitude\n",
    "of the second-order Taylor remainder should decrease by a factor of 4.\n",
    "\n",
    "We employ these so-called *Taylor tests* to confirm the accuracy of the determined gradients. The theoretical convergence rate is\n",
    "$O(2.0)$, and achieving this rate indicates that the gradient information is accurate down to floating-point precision.\n",
    "\n",
    "### Performing Taylor Tests\n",
    "\n",
    "In our implementation, we perform a second-order Taylor remainder test for each term of the objective functional. The test involves\n",
    "computing the functional and the associated gradient when randomly perturbing the initial temperature field, $T_{ic}$, and subsequently\n",
    "halving the perturbations at each level.\n",
    "\n",
    "Here is how you can perform a Taylor test in the code:"
   ]
  },
  {
   "cell_type": "code",
   "execution_count": null,
   "id": "e4477476",
   "metadata": {
    "tags": [
     "active-ipynb"
    ]
   },
   "outputs": [],
   "source": [
    "# Define the perturbation in the initial temperature field\n",
    "import numpy as np\n",
    "Delta_temp = Function(Tic.function_space(), name=\"Delta_Temperature\")\n",
    "Delta_temp.dat.data[:] = np.random.random(Delta_temp.dat.data.shape)\n",
    "\n",
    "# Perform the Taylor test to verify the gradients\n",
    "minconv = taylor_test(reduced_functional, Tic, Delta_temp)"
   ]
  },
  {
   "cell_type": "markdown",
   "id": "4d8961cf",
   "metadata": {},
   "source": [
    "The `taylor_test` function computes the Taylor remainder and verifies that the convergence rate is close to the theoretical value of $O(2.0)$. This ensures\n",
    "that our gradients are accurate and reliable for optimisation."
   ]
  },
  {
   "cell_type": "markdown",
   "id": "d399a072",
   "metadata": {},
   "source": [
    "Running the inversion\n",
    "---------------------\n",
    "In the final section of this tutorial, we run the optimisation method. First, we define lower and upper bounds for the optimisation problem to guide\n",
    "the optimisation method towards a more constrained solution.\n",
    "\n",
    "For this simple problem, we perform a bounded nonlinear optimisation where the temperature is only permitted to lie in the range [0, 1]. This means that the\n",
    "optimisation problem should not search for solutions beyond these values."
   ]
  },
  {
   "cell_type": "code",
   "execution_count": null,
   "id": "605333ef",
   "metadata": {},
   "outputs": [],
   "source": [
    "# Define lower and upper bounds for the temperature\n",
    "T_lb = Function(Tic.function_space(), name=\"Lower Bound Temperature\")\n",
    "T_ub = Function(Tic.function_space(), name=\"Upper Bound Temperature\")\n",
    "\n",
    "# Assign the bounds\n",
    "T_lb.assign(0.0)\n",
    "T_ub.assign(1.0)\n",
    "\n",
    "# Define the minimisation problem, with the goal to minimise the reduced functional\n",
    "# Note: in some scenarios, the goal might be to maximise (rather than minimise) the functional.\n",
    "minimisation_problem = MinimizationProblem(reduced_functional, bounds=(T_lb, T_ub))"
   ]
  },
  {
   "cell_type": "markdown",
   "id": "58e5ac33",
   "metadata": {},
   "source": [
    "Using the Lin-Moré Optimiser\n",
    "----------------------------\n",
    "\n",
    "In this tutorial, we employ the trust region method of Lin and Moré (1999) implemented in ROL (Rapid Optimization Library).\n",
    "Lin-Moré is a truncated Newton method, which involves the repeated application of an iterative algorithm to approximately\n",
    "solve Newton’s equations (Dembo and Steihaug, 1983).\n",
    "\n",
    "Lin-Moré effectively handles provided bound constraints by ensuring that variables remain within their specified bounds.\n",
    "During each iteration, variables are classified into \"active\" and \"inactive\" sets. Variables at their bounds that do not\n",
    "allow descent are considered active and are fixed during the iteration. The remaining variables, which can change without\n",
    "violating the bounds, are inactive. These properties make the algorithm robust and efficient for solving bound-constrained\n",
    "optimisation problems.\n",
    "\n",
    "For our solution of the optimisation problem we use the pre-defined paramters set in gadopt by using `minimsation_parameters`.\n",
    "Here, we set the number of iterations to only 10, as opposed to the default 100. We also adjust the step-length for this problem,\n",
    "by setting it to a lower value than our default."
   ]
  },
  {
   "cell_type": "code",
   "execution_count": null,
   "id": "0639573e",
   "metadata": {},
   "outputs": [],
   "source": [
    "minimisation_parameters[\"Status Test\"][\"Iteration Limit\"] = 10\n",
    "minimisation_parameters[\"Step\"][\"Trust Region\"][\"Initial Radius\"] = 1e-2"
   ]
  },
  {
   "cell_type": "markdown",
   "id": "3c6167b2",
   "metadata": {},
   "source": [
    "A notable feature of this optimisation approach in ROL is its checkpointing capability. For every iteration,\n",
    "all information necessary to restart the optimisation from that iteration is saved in the specified `checkpoint_dir`."
   ]
  },
  {
   "cell_type": "code",
   "execution_count": null,
   "id": "ab9fbed3",
   "metadata": {},
   "outputs": [],
   "source": [
    "# Define the LinMore Optimiser class with checkpointing capability:\n",
    "optimiser = LinMoreOptimiser(\n",
    "    minimisation_problem,\n",
    "    minimisation_parameters,\n",
    "    checkpoint_dir=\"optimisation_checkpoint\",\n",
    ")"
   ]
  },
  {
   "cell_type": "markdown",
   "id": "cfb8a8df",
   "metadata": {},
   "source": [
    "For sake of book-keeping the simulation, we have also implemented a user-defined way of\n",
    "recording information that might be used to check the optimisation performance. This\n",
    "callback function will be executed at the end of each iteration. Here, we write out\n",
    "the control field, i.e., the reconstructed intial temperature field, at the end of\n",
    "each iteration. To access the last value of *an overloaded object* we should access the\n",
    "`.block_variable.checkpoint` method as below.\n",
    "\n",
    "For the sake of this demo, we also record the values of the reduced\n",
    "functional directly in order to produce a plot of the convergence."
   ]
  },
  {
   "cell_type": "code",
   "execution_count": null,
   "id": "2ca87526",
   "metadata": {},
   "outputs": [],
   "source": [
    "solutions_vtk = VTKFile(\"solutions.pvd\")\n",
    "solution_container = Function(Tic.function_space(), name=\"Solutions\")\n",
    "functional_values = []\n",
    "\n",
    "\n",
    "def callback():\n",
    "    solution_container.assign(Tic.block_variable.checkpoint)\n",
    "    solutions_vtk.write(solution_container)\n",
    "    final_temperature_misfit = assemble(\n",
    "        (T.block_variable.checkpoint - Tobs) ** 2 * dx\n",
    "    )\n",
    "    log(f\"Terminal Temperature Misfit: {final_temperature_misfit}\")\n",
    "\n",
    "\n",
    "def record_value(value, *args):\n",
    "    functional_values.append(value)\n",
    "\n",
    "\n",
    "optimiser.add_callback(callback)\n",
    "reduced_functional.eval_cb_post = record_value\n",
    "\n",
    "# If it existed, we could restore the optimisation from last checkpoint:\n",
    "# optimiser.restore()\n",
    "\n",
    "# Run the optimisation\n",
    "optimiser.run()"
   ]
  },
  {
   "cell_type": "markdown",
   "id": "5b8ab8a6",
   "metadata": {},
   "source": [
    "At this point a total number of 10 iterations are performed. For the example\n",
    "case here with 5 timesteps this should result an adequete reduction\n",
    "in the objective functional. Now we can look at the solution\n",
    "visually. For the actual simulation with 80 time-steps, this solution\n",
    "could be compared to `Tic_ref` as the \"true solution\"."
   ]
  },
  {
   "cell_type": "code",
   "execution_count": null,
   "id": "02334baf",
   "metadata": {
    "tags": [
     "active-ipynb"
    ]
   },
   "outputs": [],
   "source": [
    "import pyvista as pv\n",
    "VTKFile(\"./solution.pvd\").write(optimiser.rol_solver.rolvector.dat[0])\n",
    "dataset = pv.read('./solution.pvd')\n",
    "# Create a plotter object\n",
    "plotter = pv.Plotter()\n",
    "# Add the dataset to the plotter\n",
    "plotter.add_mesh(dataset, scalars=dataset[0].array_names[0], cmap='coolwarm')\n",
    "plotter.add_text(\"Solution after 10 iterations\", font_size=10)\n",
    "# Adjust the camera position\n",
    "plotter.camera_position = [(0.5, 0.5, 2.5), (0.5, 0.5, 0), (0, 1, 0)]\n",
    "# Show the plot\n",
    "plotter.show(jupyter_backend=\"static\")"
   ]
  },
  {
   "cell_type": "code",
   "execution_count": null,
   "id": "e094c1de",
   "metadata": {
    "tags": [
     "active-ipynb"
    ]
   },
   "outputs": [],
   "source": [
    "import matplotlib.pyplot as plt\n",
    "plt.plot(functional_values)\n",
    "plt.xlabel(\"Optimisation iteration\")\n",
    "plt.ylabel(\"Reduced functional\")\n",
    "plt.title(\"Optimisation convergence\")"
   ]
  }
 ],
 "metadata": {
  "jupytext": {
   "cell_metadata_filter": "tags,-all",
   "main_language": "python",
   "notebook_metadata_filter": "-all"
  }
 },
 "nbformat": 4,
 "nbformat_minor": 5
}

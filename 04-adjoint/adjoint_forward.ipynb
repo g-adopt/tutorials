{
 "cells": [
  {
   "cell_type": "markdown",
   "id": "39bec5ed",
   "metadata": {},
   "source": [
    "Generating reference fields for adjoint inversion\n",
    "=================================================\n",
    "\n",
    "This tutorial explains how to run the forward portion of the adjoint test case to generate the reference final\n",
    "condition and synthetic forcing (surface velocity observations).\n",
    "\n",
    "We will follow a similar structure to the base demo, focusing on generating the necessary fields for the adjoint\n",
    "inversion. Let's get started."
   ]
  },
  {
   "cell_type": "markdown",
   "id": "b6906817",
   "metadata": {},
   "source": [
    "Setting Up the Domain\n",
    "---------------------\n",
    "First, we define the domain extents and discretisation."
   ]
  },
  {
   "cell_type": "code",
   "execution_count": null,
   "id": "36a553bf",
   "metadata": {},
   "outputs": [],
   "source": [
    "try:\n",
    "    from gadopt import *\n",
    "except ImportError:\n",
    "    !wget \"https://fem-on-colab.github.io/releases/firedrake-install-real.sh\" -O \"/tmp/firedrake-install.sh\" && bash \"/tmp/firedrake-install.sh\"\n",
    "    !pip install gadopt[demos]\n",
    "    from gadopt import *\n",
    "x_max = 1.0\n",
    "y_max = 1.0\n",
    "disc_n = 150"
   ]
  },
  {
   "cell_type": "markdown",
   "id": "dbf562f7",
   "metadata": {},
   "source": [
    "We create a 1D interval mesh and extrude it along the y-axis to form a 2D mesh. This mesh will serve as the basis for\n",
    "our simulation."
   ]
  },
  {
   "cell_type": "code",
   "execution_count": null,
   "id": "ee83f455",
   "metadata": {},
   "outputs": [],
   "source": [
    "mesh1d = IntervalMesh(disc_n, length_or_left=0.0, right=x_max)\n",
    "mesh = ExtrudedMesh(\n",
    "    mesh1d, layers=disc_n, layer_height=y_max / disc_n, extrusion_type=\"uniform\"\n",
    ")\n",
    "mesh.cartesian = True\n",
    "bottom_id, top_id, left_id, right_id = \"bottom\", \"top\", 1, 2"
   ]
  },
  {
   "cell_type": "markdown",
   "id": "6f325e90",
   "metadata": {},
   "source": [
    "Defining Function Spaces\n",
    "------------------------\n",
    "We set up the function spaces for velocity (Q2), pressure (Q1), and temperature (Q2). These function spaces will be\n",
    "used to define the solution fields for our simulation."
   ]
  },
  {
   "cell_type": "code",
   "execution_count": null,
   "id": "b4a746c9",
   "metadata": {},
   "outputs": [],
   "source": [
    "V = VectorFunctionSpace(mesh, \"CG\", 2)  # Velocity function space (vector)\n",
    "W = FunctionSpace(mesh, \"CG\", 1)  # Pressure function space (scalar)\n",
    "Q = FunctionSpace(mesh, \"CG\", 2)  # Temperature function space (scalar)\n",
    "Q1 = FunctionSpace(mesh, \"CG\", 1)  # Average temperature function space (scalar, P1)\n",
    "Z = MixedFunctionSpace([V, W])  # Mixed function space for Stokes problem."
   ]
  },
  {
   "cell_type": "markdown",
   "id": "8d00b378",
   "metadata": {},
   "source": [
    "We also specify functions to hold our solution: a mixed velocity-pressure function, and the initial temperature field\n",
    "which represents a synthetic mantle temperature distribution."
   ]
  },
  {
   "cell_type": "code",
   "execution_count": null,
   "id": "983988b5",
   "metadata": {},
   "outputs": [],
   "source": [
    "z = Function(Z)\n",
    "u, p = z.subfunctions\n",
    "u.rename(\"Velocity\")\n",
    "p.rename(\"Pressure\")\n",
    "\n",
    "T = Function(Q, name=\"Temperature\")"
   ]
  },
  {
   "cell_type": "markdown",
   "id": "84134468",
   "metadata": {},
   "source": [
    "For the initial temperature field we use a mathematical expression:\n",
    "\n",
    "$$ T(x, y) = 0.5 \\left( \\text{erf}\\left((1 - y) \\cdot 3.0\\right) + \\text{erf}\\left(-y \\cdot 3.0\\right) + 1 \\right) + 0.1 \\exp \\left( -0.5 \\left( \\frac{(x - 0.5)^2 + (y - 0.2)^2}{0.1^2} \\right) \\right)$$\n",
    "\n",
    "The first two term of this equation represent the 1-D radial profile, with to error functions that represent the\n",
    "thermal boundary layers, and a Gaussian anomaly close to the mantle. This initial state is chosen, such that after 80\n",
    "time steps we would have a temperature field representing a plume-like structure in the domain."
   ]
  },
  {
   "cell_type": "code",
   "execution_count": null,
   "id": "4438a083",
   "metadata": {},
   "outputs": [],
   "source": [
    "X = SpatialCoordinate(mesh)\n",
    "T.interpolate(\n",
    "    0.5 * (erf((1 - X[1]) * 3.0) + erf(-X[1] * 3.0) + 1) +\n",
    "    0.1 * exp(-0.5 * ((X - as_vector((0.5, 0.2))) / Constant(0.1)) ** 2)\n",
    ")"
   ]
  },
  {
   "cell_type": "markdown",
   "id": "8027ec8c",
   "metadata": {},
   "source": [
    "Calculating the Layer Average\n",
    "------------------------------\n",
    "We calculate the layer average of the initial state. This average\n",
    "temperature will serve as a regularisation constraint in the\n",
    "inversion process."
   ]
  },
  {
   "cell_type": "code",
   "execution_count": null,
   "id": "a15eb3e5",
   "metadata": {},
   "outputs": [],
   "source": [
    "Taverage = Function(Q1, name=\"Average Temperature\")\n",
    "averager = LayerAveraging(\n",
    "    mesh, np.linspace(0, 1.0, 150 * 2), quad_degree=6\n",
    ")\n",
    "averager.extrapolate_layer_average(Taverage, averager.get_layer_average(T))"
   ]
  },
  {
   "cell_type": "markdown",
   "id": "27fab3c7",
   "metadata": {},
   "source": [
    "Checkpointing of fields\n",
    "-----------------------\n",
    "We checkpoint the velocity field and temperature initially and finally to capture the essential states of our\n",
    "simulation. This allows us to retrieve these states later using the indices and timestepping history, which are\n",
    "crucial for the adjoint inversion process. By saving the initial state, we can compare it against the final state to\n",
    "see how the system evolved, which is analogous to how seismic tomography uses initial models to interpret Earth's\n",
    "interior after simulation."
   ]
  },
  {
   "cell_type": "code",
   "execution_count": null,
   "id": "df0c0edb",
   "metadata": {},
   "outputs": [],
   "source": [
    "checkpoint_file = CheckpointFile(\"adjoint-demo-checkpoint-state.h5\", \"w\")\n",
    "checkpoint_file.save_mesh(mesh)\n",
    "checkpoint_file.save_function(Taverage, name=\"Average Temperature\", idx=0)\n",
    "checkpoint_file.save_function(T, name=\"Temperature\", idx=0)"
   ]
  },
  {
   "cell_type": "markdown",
   "id": "6cf9bd98",
   "metadata": {},
   "source": [
    "Physical Setup\n",
    "--------------\n",
    "We define the Rayleigh number and physical approximation for the Boussinesq approximation. This sets up the basic\n",
    "physical parameters for our simulation."
   ]
  },
  {
   "cell_type": "code",
   "execution_count": null,
   "id": "45717905",
   "metadata": {},
   "outputs": [],
   "source": [
    "Ra = Constant(1e6)\n",
    "approximation = BoussinesqApproximation(Ra)\n",
    "\n",
    "delta_t = Constant(4e-6)\n",
    "timesteps = 80"
   ]
  },
  {
   "cell_type": "markdown",
   "id": "e8ca6b0a",
   "metadata": {},
   "source": [
    "Boundary Conditions\n",
    "-------------------\n",
    "We specify the boundary conditions for the Stokes and temperature problems. These conditions are crucial for ensuring\n",
    "the physical realism of our simulation. A higher temperature is imposed on the bottom boundary than the top, setting\n",
    "up a convective circulation. Because our simulation takes place in a closed box, we eliminate the constant pressure\n",
    "nullspace."
   ]
  },
  {
   "cell_type": "code",
   "execution_count": null,
   "id": "f306964e",
   "metadata": {},
   "outputs": [],
   "source": [
    "stokes_bcs = {\n",
    "    bottom_id: {\"uy\": 0},\n",
    "    top_id: {\"uy\": 0},\n",
    "    left_id: {\"ux\": 0},\n",
    "    right_id: {\"ux\": 0},\n",
    "}\n",
    "temp_bcs = {\n",
    "    bottom_id: {\"T\": 1.0},\n",
    "    top_id: {\"T\": 0.0},\n",
    "}\n",
    "\n",
    "Z_nullspace = create_stokes_nullspace(Z, closed=True, rotational=False)"
   ]
  },
  {
   "cell_type": "markdown",
   "id": "f557e53b",
   "metadata": {},
   "source": [
    "Solvers\n",
    "-------\n",
    "We set up solvers for the energy and Stokes systems. These solvers will be used to advance the simulation in time and\n",
    "solve the governing equations."
   ]
  },
  {
   "cell_type": "code",
   "execution_count": null,
   "id": "5bc0d954",
   "metadata": {},
   "outputs": [],
   "source": [
    "energy_solver = EnergySolver(\n",
    "    T, u, approximation, delta_t, ImplicitMidpoint, bcs=temp_bcs\n",
    ")\n",
    "\n",
    "stokes_solver = StokesSolver(\n",
    "    z,\n",
    "    T,\n",
    "    approximation,\n",
    "    bcs=stokes_bcs,\n",
    "    nullspace=Z_nullspace,\n",
    "    transpose_nullspace=Z_nullspace,\n",
    "    constant_jacobian=True,\n",
    ")"
   ]
  },
  {
   "cell_type": "markdown",
   "id": "d3020815",
   "metadata": {},
   "source": [
    "Time Loop\n",
    "---------\n",
    "We perform the time loop to solve the forward problem. During this loop, we solve the Stokes and energy systems, save\n",
    "the velocity field for later use, and periodically output the results."
   ]
  },
  {
   "cell_type": "code",
   "execution_count": null,
   "id": "5a46313e",
   "metadata": {},
   "outputs": [],
   "source": [
    "for timestep in range(0, timesteps):\n",
    "    stokes_solver.solve()\n",
    "    energy_solver.solve()\n",
    "\n",
    "    # Store the velocity field for use in the adjoint problem.\n",
    "    checkpoint_file.save_function(u, name=\"Velocity\", idx=timestep, timestepping_info={\"index\": float(timestep), \"delta_t\": float(delta_t)})\n",
    "\n",
    "# Save the final temperature field to the checkpoint file.\n",
    "checkpoint_file.save_function(T, name=\"Temperature\", idx=timesteps - 1)\n",
    "checkpoint_file.close()"
   ]
  },
  {
   "cell_type": "markdown",
   "id": "24d136ee",
   "metadata": {},
   "source": [
    "This concludes the forward simulation to generate reference fields for the adjoint inversion. The final temperature\n",
    "field, after being convected forward for 80 timesteps, serves as the reference temperature field, analogous to a\n",
    "seismic tomography image, which allows us to study plume formation and other mantle dynamics features."
   ]
  }
 ],
 "metadata": {
  "jupytext": {
   "cell_metadata_filter": "-all",
   "main_language": "python",
   "notebook_metadata_filter": "-all"
  }
 },
 "nbformat": 4,
 "nbformat_minor": 5
}

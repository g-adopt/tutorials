{
 "cells": [
  {
   "cell_type": "markdown",
   "id": "685d362c",
   "metadata": {},
   "source": [
    "Visco-plastic 2-D mantle convection problem in a square box\n",
    "===========================================================\n",
    "\n",
    "To illustrate the changes necessary to incorporate a visco-plastic rheology, which is\n",
    "more representative of deformation within Earth's mantle and lithosphere, we examine a case\n",
    "from Tosi et al. (2015), a benchmark study intended to form a straightforward extension to\n",
    "Blankenbach et al. (1989) - the example that was considered in our first tutorial. Aside\n",
    "from the viscosity and reference Rayleigh Number ($Ra_{0}=10^2$), all other aspects of this\n",
    "case are identical to that first tutorial.\n",
    "\n",
    "The viscosity field, $\\mu$, is calculated as the harmonic mean between a linear component,\n",
    "$\\mu_{\\text{lin}}$, and a nonlinear, plastic component, $\\mu_{\\text{plast}}$, which is dependent\n",
    "on the strain-rate, as follows:\n",
    "\n",
    "$$    \\mu(T,z,\\dot \\epsilon) = 2 \\Biggl(\\frac{1}{\\mu_{\\text{lin}(T,z)}} + \\frac{1}{\\mu_{\\text{plast}(\\dot\\epsilon)}} \\Biggr)^{-1}. $$\n",
    "\n",
    "The linear part is given by an Arrhenius law (the so-called Frank-Kamenetskii approximation):\n",
    "\n",
    "$$ \\mu_{\\text{lin}(T,z)} = \\exp(-\\gamma_{T}T + \\gamma_{z}z),$$\n",
    "\n",
    "where $\\gamma_{T}=\\ln(\\Delta\\mu_T)$ and $\\gamma_{z}=\\ln(\\Delta\\mu_z)$ are parameters controlling the total\n",
    "viscosity contrast due to temperature and depth, respectively. The nonlinear component is given by:\n",
    "\n",
    "$$ \\mu_{\\text{plast}}(\\dot\\epsilon) = \\mu^{\\star} + \\frac{\\sigma_{y}}{\\sqrt{\\dot\\epsilon : \\dot\\epsilon}} $$\n",
    "\n",
    "where $\\mu^\\star$ is a constant representing the effective viscosity at high stresses and $\\sigma_{y}$ is the yield stress.\n",
    "The denominator of the second term represents the second invariant of the strain-rate tensor.\n",
    "The visco-plastic flow law leads to linear viscous deformation at low stresses and plastic deformation\n",
    "at stresses that exceed $\\sigma_{y}$, with the decrease in viscosity limited by the choice of $\\mu^\\star$.\n",
    "\n",
    "This example\n",
    "------------\n",
    "\n",
    "In this example, we simulate incompressible convection, for a material with a rheology\n",
    "like that described above. We specify $Ra_{0}=10^2$.\n",
    "The model is heated from below (T = 1.0), cooled from the top (T=0)\n",
    "in an enclosed 2-D Cartesian box (i.e. free-slip mechanical boundary\n",
    "conditions on all boundaries).\n",
    "\n",
    "As with all examples, the first step is to import the gadopt module, which\n",
    "provides access to Firedrake and associated functionality."
   ]
  },
  {
   "cell_type": "code",
   "execution_count": null,
   "id": "5e84c2b2",
   "metadata": {},
   "outputs": [],
   "source": [
    "try:\n",
    "    from gadopt import *\n",
    "except ImportError:\n",
    "    !wget \"https://fem-on-colab.github.io/releases/firedrake-install-real.sh\" -O \"/tmp/firedrake-install.sh\" && bash \"/tmp/firedrake-install.sh\"\n",
    "    !pip install gadopt[demos]\n",
    "    from gadopt import *"
   ]
  },
  {
   "cell_type": "markdown",
   "id": "a775f570",
   "metadata": {},
   "source": [
    "We next set up the mesh, function spaces, and specify functions to hold our solutions,\n",
    "identically to our previous tutorials."
   ]
  },
  {
   "cell_type": "code",
   "execution_count": null,
   "id": "7e04e60c",
   "metadata": {},
   "outputs": [],
   "source": [
    "nx, ny = 40, 40  # Number of cells in x and y directions.\n",
    "mesh = UnitSquareMesh(nx, ny, quadrilateral=True)  # Square mesh generated via firedrake\n",
    "mesh.cartesian = True\n",
    "left_id, right_id, bottom_id, top_id = 1, 2, 3, 4  # Boundary IDs\n",
    "\n",
    "V = VectorFunctionSpace(mesh, \"CG\", 2)  # Velocity function space (vector)\n",
    "W = FunctionSpace(mesh, \"CG\", 1)  # Pressure function space (scalar)\n",
    "Q = FunctionSpace(mesh, \"CG\", 2)  # Temperature function space (scalar)\n",
    "Z = MixedFunctionSpace([V, W])  # Mixed function space.\n",
    "\n",
    "z = Function(Z)  # A field over the mixed function space Z.\n",
    "u, p = split(z)  # Returns symbolic UFL expression for u and p\n",
    "z.subfunctions[0].rename(\"Velocity\")\n",
    "z.subfunctions[1].rename(\"Pressure\")"
   ]
  },
  {
   "cell_type": "markdown",
   "id": "26a33a93",
   "metadata": {},
   "source": [
    "We next provide the important constants for this problem, which includes those associated\n",
    "with our rheological formulation, and define our approximation. Given that viscosity\n",
    "depends on temperature here, we setup and initialise our temperature earlier than in the previous tutorials."
   ]
  },
  {
   "cell_type": "code",
   "execution_count": null,
   "id": "8194c7f5",
   "metadata": {},
   "outputs": [],
   "source": [
    "\n",
    "X = SpatialCoordinate(mesh)\n",
    "T = Function(Q, name=\"Temperature\")\n",
    "T.interpolate((1.0-X[1]) + (0.05*cos(pi*X[0])*sin(pi*X[1])))\n",
    "\n",
    "gamma_T, gamma_Z = Constant(ln(10**5)), Constant(ln(10))  # temperature and depth sensitivity of viscosity\n",
    "mu_star, sigma_y = Constant(0.001), Constant(1.0)\n",
    "epsilon = sym(grad(u))  # Strain-rate\n",
    "epsii = sqrt(inner(epsilon, epsilon) + 1e-10)  # 2nd invariant (with tolerance to ensure stability)\n",
    "mu_lin = exp(-gamma_T*T + gamma_Z*(1 - X[1]))  # linear component of rheological formulation\n",
    "mu_plast = mu_star + (sigma_y / epsii)  # plastic component of rheological formulation\n",
    "mu = (2. * mu_lin * mu_plast) / (mu_lin + mu_plast)  # harmonic mean\n",
    "\n",
    "# Now that we have defined our expression for the viscosity field\n",
    "# we can pass this to our approximation.\n",
    "\n",
    "Ra = Constant(100)  # Rayleigh number\n",
    "approximation = BoussinesqApproximation(Ra, mu=mu)"
   ]
  },
  {
   "cell_type": "markdown",
   "id": "5ba304db",
   "metadata": {},
   "source": [
    "As with the previous examples, we set up a *Timestep Adaptor*,\n",
    "for controlling the time-step length (via a CFL\n",
    "criterion) as the simulation advances in time. For the latter,\n",
    "we specify the initial time, initial timestep $\\Delta t$, and number of\n",
    "timesteps. Given the low Ra, a steady-state tolerance is also specified,\n",
    "allowing the simulation to exit when a steady-state has been achieved.\n",
    "The steady-state tolerance specified here is tight, and can be increased\n",
    "to speed up the simulation, as required."
   ]
  },
  {
   "cell_type": "code",
   "execution_count": null,
   "id": "5baa8e21",
   "metadata": {},
   "outputs": [],
   "source": [
    "time = 0.0  # Initial time\n",
    "delta_t = Constant(1e-6)  # Initial time-step\n",
    "timesteps = 20000  # Maximum number of timesteps\n",
    "t_adapt = TimestepAdaptor(delta_t, u, V, maximum_timestep=0.1, increase_tolerance=1.5)\n",
    "steady_state_tolerance = 1e-9  # Used to determine if solution has reached a steady state."
   ]
  },
  {
   "cell_type": "markdown",
   "id": "987426f9",
   "metadata": {},
   "source": [
    "This problem has a constant pressure nullspace, handled identically to our\n",
    "previous tutorials."
   ]
  },
  {
   "cell_type": "code",
   "execution_count": null,
   "id": "9ded6fbe",
   "metadata": {},
   "outputs": [],
   "source": [
    "Z_nullspace = create_stokes_nullspace(Z, closed=True, rotational=False)"
   ]
  },
  {
   "cell_type": "markdown",
   "id": "f6405d65",
   "metadata": {},
   "source": [
    "Boundary conditions are next specified."
   ]
  },
  {
   "cell_type": "code",
   "execution_count": null,
   "id": "ab4b020d",
   "metadata": {},
   "outputs": [],
   "source": [
    "stokes_bcs = {\n",
    "    bottom_id: {'uy': 0},\n",
    "    top_id: {'uy': 0},\n",
    "    left_id: {'ux': 0},\n",
    "    right_id: {'ux': 0},\n",
    "}\n",
    "\n",
    "temp_bcs = {\n",
    "    bottom_id: {'T': 1.0},\n",
    "    top_id: {'T': 0.0},\n",
    "}"
   ]
  },
  {
   "cell_type": "markdown",
   "id": "2be303e9",
   "metadata": {},
   "source": [
    "We next set up our output, in VTK format. To do so, we create the output file\n",
    "and specify the output_frequency in timesteps.\n",
    "We also open a file for logging and calculate our diagnostic outputs."
   ]
  },
  {
   "cell_type": "code",
   "execution_count": null,
   "id": "8255e042",
   "metadata": {},
   "outputs": [],
   "source": [
    "output_file = VTKFile(\"output.pvd\")\n",
    "output_frequency = 50\n",
    "\n",
    "plog = ParameterLog('params.log', mesh)\n",
    "plog.log_str(\"timestep time dt maxchange u_rms u_rms_surf ux_max nu_top nu_base energy avg_t\")\n",
    "\n",
    "gd = GeodynamicalDiagnostics(z, T, bottom_id, top_id)"
   ]
  },
  {
   "cell_type": "markdown",
   "id": "d83fe042",
   "metadata": {},
   "source": [
    "We can now setup and solve the variational problem, for both the energy and Stokes equations,\n",
    "passing in the approximation configured above. Note that given viscosity varies with both\n",
    "space and time, we can no longer specify the keyword constant_jacobian = True. We also make\n",
    "the solver aware of this spatial and temporal variation using the mu keyword. The latter is\n",
    "particularly relevant for iterative solvers and preconditioners that can make use of this\n",
    "information to improve convergence."
   ]
  },
  {
   "cell_type": "code",
   "execution_count": null,
   "id": "2fe97ca5",
   "metadata": {},
   "outputs": [],
   "source": [
    "energy_solver = EnergySolver(T, u, approximation, delta_t, ImplicitMidpoint, bcs=temp_bcs)\n",
    "\n",
    "stokes_solver = StokesSolver(z, T, approximation, bcs=stokes_bcs,\n",
    "                             nullspace=Z_nullspace, transpose_nullspace=Z_nullspace)"
   ]
  },
  {
   "cell_type": "markdown",
   "id": "72b522bb",
   "metadata": {},
   "source": [
    "Next, we initiate the time loop, which runs until a steady-state solution has been attained."
   ]
  },
  {
   "cell_type": "code",
   "execution_count": null,
   "id": "892c3a73",
   "metadata": {},
   "outputs": [],
   "source": [
    "for timestep in range(0, timesteps):\n",
    "\n",
    "    # Write output:\n",
    "    if timestep % output_frequency == 0:\n",
    "        output_file.write(*z.subfunctions, T)\n",
    "\n",
    "    dt = t_adapt.update_timestep()\n",
    "    time += dt\n",
    "\n",
    "    # Solve Stokes sytem:\n",
    "    stokes_solver.solve()\n",
    "\n",
    "    # Temperature system:\n",
    "    energy_solver.solve()\n",
    "\n",
    "    # Compute diagnostics:\n",
    "    energy_conservation = abs(abs(gd.Nu_top()) - abs(gd.Nu_bottom()))\n",
    "\n",
    "    # Calculate L2-norm of change in temperature:\n",
    "    maxchange = sqrt(assemble((T - energy_solver.T_old)**2 * dx))\n",
    "\n",
    "    # Log diagnostics:\n",
    "    plog.log_str(f\"{timestep} {time} {float(delta_t)} {maxchange} \"\n",
    "                 f\"{gd.u_rms()} {gd.u_rms_top()} {gd.ux_max(top_id)} {gd.Nu_top()} \"\n",
    "                 f\"{gd.Nu_bottom()} {energy_conservation} {gd.T_avg()} \")\n",
    "\n",
    "    # Leave if steady-state has been achieved:\n",
    "    if maxchange < steady_state_tolerance:\n",
    "        log(\"Steady-state achieved -- exiting time-step loop\")\n",
    "        break"
   ]
  },
  {
   "cell_type": "markdown",
   "id": "de577b84",
   "metadata": {},
   "source": [
    "At the end of the simulation, once a steady-state has been achieved, we close our logging file\n",
    "and checkpoint steady state temperature and Stokes solution fields to disk. These can later be\n",
    "used to restart a simulation, if required."
   ]
  },
  {
   "cell_type": "code",
   "execution_count": null,
   "id": "69a708fa",
   "metadata": {},
   "outputs": [],
   "source": [
    "plog.close()\n",
    "\n",
    "with CheckpointFile(\"Final_State.h5\", \"w\") as final_checkpoint:\n",
    "    final_checkpoint.save_mesh(mesh)\n",
    "    final_checkpoint.save_function(T, name=\"Temperature\")\n",
    "    final_checkpoint.save_function(z, name=\"Stokes\")"
   ]
  },
  {
   "cell_type": "markdown",
   "id": "3d7f39c1",
   "metadata": {},
   "source": [
    "We can visualise the final temperature field using Firedrake's\n",
    "built-in plotting functionality."
   ]
  },
  {
   "cell_type": "code",
   "execution_count": null,
   "id": "560e9d51",
   "metadata": {
    "tags": [
     "active-ipynb"
    ]
   },
   "outputs": [],
   "source": [
    "import matplotlib.pyplot as plt\n",
    "fig, axes = plt.subplots()\n",
    "collection = tripcolor(T, axes=axes, cmap='coolwarm')\n",
    "fig.colorbar(collection);"
   ]
  },
  {
   "cell_type": "markdown",
   "id": "d68f6656",
   "metadata": {},
   "source": [
    "The same can be done for the viscosity field, although that must\n",
    "first be interpolated onto a function space, as the viscosity $\\\\mu$ is currently only specified in UFL."
   ]
  },
  {
   "cell_type": "code",
   "execution_count": null,
   "id": "c833372f",
   "metadata": {
    "tags": [
     "active-ipynb"
    ]
   },
   "outputs": [],
   "source": [
    "mu_field = Function(W, name=\"Viscosity\")\n",
    "mu_field.interpolate(mu)\n",
    "fig, axes = plt.subplots()\n",
    "collection = tripcolor(mu_field, axes=axes, cmap='coolwarm')\n",
    "fig.colorbar(collection);"
   ]
  }
 ],
 "metadata": {
  "jupytext": {
   "cell_metadata_filter": "tags,-all",
   "main_language": "python",
   "notebook_metadata_filter": "-all"
  }
 },
 "nbformat": 4,
 "nbformat_minor": 5
}

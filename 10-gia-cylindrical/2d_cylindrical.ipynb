{
 "cells": [
  {
   "cell_type": "markdown",
   "id": "e4f4675f",
   "metadata": {},
   "source": [
    "Idealised 2-D viscoelastic loading problem in an annulus\n",
    "=======================================================\n",
    "\n",
    "In this tutorial, we examine an idealised 2-D loading problem in an annulus domain.\n",
    "\n",
    "This example focusses on differences between running simulations in a 2-D annulus and 2-D Cartesian domain. These can be summarised as follows:\n",
    "1. The geometry of the problem - i.e. the computational mesh.\n",
    "2. The radial direction of gravity (as opposed to the vertical direction in a Cartesian domain).\n",
    "3. Solving a problem with laterally varying viscosity.\n",
    "4. Accounting for a (rotational) velocity nullspace."
   ]
  },
  {
   "cell_type": "markdown",
   "id": "57cab3f1",
   "metadata": {},
   "source": [
    "This example\n",
    "-------------\n",
    "Let's get started!\n",
    "The first step is to import the gadopt module, which\n",
    "provides access to Firedrake and associated functionality."
   ]
  },
  {
   "cell_type": "code",
   "execution_count": null,
   "id": "f0720589",
   "metadata": {},
   "outputs": [],
   "source": [
    "try:\n",
    "    from gadopt import *\n",
    "    from gadopt.utility import step_func, vertical_component\n",
    "except ImportError:\n",
    "    !wget \"https://fem-on-colab.github.io/releases/firedrake-install-real.sh\" -O \"/tmp/firedrake-install.sh\" && bash \"/tmp/firedrake-install.sh\"\n",
    "    !pip install gadopt[demos]\n",
    "    from gadopt import *\n",
    "    from gadopt.utility import step_func, vertical_component"
   ]
  },
  {
   "cell_type": "markdown",
   "id": "413a2c33",
   "metadata": {},
   "source": [
    "We generate a circular manifold mesh (with 180 elements) and extrude in the radial direction,\n",
    "using the optional keyword argument `extrusion_type`, forming 32 layers. To better represent the\n",
    "curvature of the domain and ensure accuracy of our quadratic representation of incremental displacement, we\n",
    "approximate the curved cylindrical shell domain quadratically, using the optional keyword argument `degree`$=2$.\n",
    "\n",
    "As this problem is not formulated in a Cartesian geometry we set the `mesh.cartesian`\n",
    "attribute to `False`. This ensures the correct configuration of a radially inward vertical direction."
   ]
  },
  {
   "cell_type": "code",
   "execution_count": null,
   "id": "3f89a537",
   "metadata": {},
   "outputs": [],
   "source": [
    "# Set up geometry:\n",
    "rmin = 3480e3\n",
    "rmax = 6371e3\n",
    "D = rmax-rmin\n",
    "nz = 32\n",
    "ncells = 180\n",
    "dz = D / nz\n",
    "\n",
    "# Construct a circle mesh and then extrude into a cylinder:\n",
    "surface_mesh = CircleManifoldMesh(ncells, radius=rmin, degree=2, name='surface_mesh')\n",
    "mesh = ExtrudedMesh(surface_mesh, layers=nz, layer_height=dz, extrusion_type='radial')\n",
    "\n",
    "bottom_id, top_id = \"bottom\", \"top\"\n",
    "mesh.cartesian = False"
   ]
  },
  {
   "cell_type": "markdown",
   "id": "e08f48bb",
   "metadata": {},
   "source": [
    "We next set up the function spaces, and specify functions to hold our solutions."
   ]
  },
  {
   "cell_type": "code",
   "execution_count": null,
   "id": "1af1cb2f",
   "metadata": {},
   "outputs": [],
   "source": [
    "# Set up function spaces - currently using the bilinear Q2Q1 element pair:\n",
    "V = VectorFunctionSpace(mesh, \"Q\", 2)  # (Incremental) Displacement function space (vector)\n",
    "W = FunctionSpace(mesh, \"Q\", 1)  # Pressure function space (scalar)\n",
    "S = TensorFunctionSpace(mesh, \"DQ\", 2)  # (Discontinuous) Stress tensor function space (tensor)\n",
    "R = FunctionSpace(mesh, \"R\", 0)  # Real function space (for constants)\n",
    "\n",
    "Z = MixedFunctionSpace([V, W])  # Mixed function space.\n",
    "\n",
    "z = Function(Z)  # A field over the mixed function space Z.\n",
    "u, p = split(z)  # Returns symbolic UFL expression for u and p\n",
    "z.subfunctions[0].rename(\"Incremental Displacement\")\n",
    "z.subfunctions[1].rename(\"Pressure\")\n",
    "\n",
    "displacement = Function(V, name=\"displacement\").assign(0)\n",
    "stress_old = Function(S, name=\"stress_old\").assign(0)"
   ]
  },
  {
   "cell_type": "markdown",
   "id": "fbc05adc",
   "metadata": {},
   "source": [
    "We can output function space information, for example the number of degrees\n",
    "of freedom (DOF)."
   ]
  },
  {
   "cell_type": "code",
   "execution_count": null,
   "id": "3eaba5b5",
   "metadata": {},
   "outputs": [],
   "source": [
    "# Output function space information:\n",
    "log(\"Number of Incremental Displacement DOF:\", V.dim())\n",
    "log(\"Number of Pressure DOF:\", W.dim())\n",
    "log(\"Number of Velocity and Pressure DOF:\", V.dim()+W.dim())"
   ]
  },
  {
   "cell_type": "markdown",
   "id": "67a98dd1",
   "metadata": {},
   "source": [
    "We can now visualise the resulting mesh."
   ]
  },
  {
   "cell_type": "code",
   "execution_count": null,
   "id": "976984b9",
   "metadata": {
    "tags": [
     "active-ipynb"
    ]
   },
   "outputs": [],
   "source": [
    "import pyvista as pv\n",
    "pv.set_jupyter_backend(\"static\")\n",
    "pv.global_theme.notebook = True\n",
    "pv.start_xvfb()\n",
    "import matplotlib.pyplot as plt\n",
    "\n",
    "VTKFile(\"mesh.pvd\").write(Function(V))\n",
    "mesh_data = pv.read(\"mesh/mesh_0.vtu\")\n",
    "edges = mesh_data.extract_all_edges()\n",
    "plotter = pv.Plotter(notebook=True)\n",
    "plotter.add_mesh(edges, color=\"black\")\n",
    "plotter.camera_position = \"xy\"\n",
    "plotter.show(jupyter_backend=\"static\", interactive=False)"
   ]
  },
  {
   "cell_type": "markdown",
   "id": "c14a11c8",
   "metadata": {},
   "source": [
    "Let's start initialising some parameters. First of all let's get the (symbolic) spatial coordinates of the mesh"
   ]
  },
  {
   "cell_type": "code",
   "execution_count": null,
   "id": "f74eec07",
   "metadata": {},
   "outputs": [],
   "source": [
    "X = SpatialCoordinate(mesh)"
   ]
  },
  {
   "cell_type": "markdown",
   "id": "58a8397b",
   "metadata": {
    "lines_to_next_cell": 2
   },
   "source": [
    "Now we can set up the background profiles for the material properties. In this case the density and shear modulus vary in the vertical direction. We will approximate the series of layers using a smooth tanh function with a width of 40 km."
   ]
  },
  {
   "cell_type": "code",
   "execution_count": null,
   "id": "3f469325",
   "metadata": {},
   "outputs": [],
   "source": [
    "# layer properties from spada et al 2011\n",
    "radius_values = [6371e3, 6301e3, 5951e3, 5701e3]\n",
    "density_values = [3037, 3438, 3871, 4978]\n",
    "shear_modulus_values = [0.50605e11, 0.70363e11, 1.05490e11, 2.28340e11]\n",
    "viscosity_values = [2, -2, -2, -1.698970004]  # viscosity = 1e23 * 10**viscosity_values\n",
    "# N.b. that we have modified the viscosity of the Lithosphere viscosity from\n",
    "# Spada et al 2011 because we are using coarse grid resolution\n",
    "\n",
    "\n",
    "def initialise_background_field(field, background_values, vertical_tanh_width=40e3):\n",
    "    profile = background_values[0]\n",
    "    sharpness = 1 / vertical_tanh_width\n",
    "    depth = sqrt(X[0]**2 + X[1]**2)-radius_values[0]\n",
    "    for i in range(1, len(background_values)):\n",
    "        centre = radius_values[i] - radius_values[0]\n",
    "        mag = background_values[i] - background_values[i-1]\n",
    "        profile += step_func(depth, centre, mag, increasing=False, sharpness=sharpness)\n",
    "\n",
    "    field.interpolate(profile)\n",
    "\n",
    "\n",
    "density = Function(W, name=\"density\")\n",
    "initialise_background_field(density, density_values)\n",
    "\n",
    "shear_modulus = Function(W, name=\"shear modulus\")\n",
    "initialise_background_field(shear_modulus, shear_modulus_values)"
   ]
  },
  {
   "cell_type": "markdown",
   "id": "0c1db673",
   "metadata": {},
   "source": [
    "Let's have a quick look at the density field using pyvista."
   ]
  },
  {
   "cell_type": "code",
   "execution_count": null,
   "id": "c4ddb222",
   "metadata": {
    "tags": [
     "active-ipynb"
    ]
   },
   "outputs": [],
   "source": [
    "# Read the PVD file\n",
    "density_file = VTKFile('density.pvd').write(density)\n",
    "reader = pv.get_reader(\"density.pvd\")\n",
    "data = reader.read()[0]  # MultiBlock mesh with only 1 block\n",
    "\n",
    "# Create a plotter object\n",
    "plotter = pv.Plotter(shape=(1, 1), border=False, notebook=True, off_screen=False)\n",
    "\n",
    "# Make a colour map\n",
    "boring_cmap = plt.get_cmap(\"viridis\", 25)\n",
    "# Add the warped displacement field to the frame\n",
    "plotter.add_mesh(\n",
    "    data,\n",
    "    component=None,\n",
    "    lighting=False,\n",
    "    show_edges=False,\n",
    "    cmap=boring_cmap,\n",
    "    scalar_bar_args={\n",
    "        \"title\": 'Density (kg / m^3)',\n",
    "        \"position_x\": 0.8,\n",
    "        \"position_y\": 0.2,\n",
    "        \"vertical\": True,\n",
    "        \"title_font_size\": 20,\n",
    "        \"label_font_size\": 16,\n",
    "        \"fmt\": \"%.0f\",\n",
    "        \"font_family\": \"arial\",\n",
    "    }\n",
    ")\n",
    "plotter.camera_position = 'xy'\n",
    "plotter.show(jupyter_backend=\"static\", interactive=False)\n",
    "# Closes and finalizes movie\n",
    "plotter.close()"
   ]
  },
  {
   "cell_type": "markdown",
   "id": "3903a8e3",
   "metadata": {},
   "source": [
    "Next let's initialise the viscosity field. In this tutorial we are going to make things a bit more interesting by using a laterally varying viscosity field. We'll put some regions of low viscosity near the South Pole (inspired by West Antarctica) as well as in the lower mantle. We've also put some relatively higher patches of mantle in the northern hemisphere to represent a downgoing slab."
   ]
  },
  {
   "cell_type": "code",
   "execution_count": null,
   "id": "3ea30391",
   "metadata": {},
   "outputs": [],
   "source": [
    "def bivariate_gaussian(x, y, mu_x, mu_y, sigma_x, sigma_y, rho, normalised_area=False):\n",
    "    arg = ((x-mu_x)/sigma_x)**2 - 2*rho*((x-mu_x)/sigma_x)*((y-mu_y)/sigma_y) + ((y-mu_y)/sigma_y)**2\n",
    "    numerator = exp(-1/(2*(1-rho**2))*arg)\n",
    "    if normalised_area:\n",
    "        denominator = 2*pi*sigma_x*sigma_y*(1-rho**2)**0.5\n",
    "    else:\n",
    "        denominator = 1\n",
    "    return numerator / denominator\n",
    "\n",
    "\n",
    "def setup_heterogenous_viscosity(viscosity):\n",
    "    heterogenous_viscosity_field = Function(viscosity.function_space(), name='viscosity')\n",
    "    antarctica_x, antarctica_y = -2e6, -5.5e6\n",
    "\n",
    "    low_viscosity_antarctica = bivariate_gaussian(X[0], X[1], antarctica_x, antarctica_y, 1.5e6, 0.5e6, -0.4)\n",
    "    heterogenous_viscosity_field.interpolate(-3*low_viscosity_antarctica + viscosity * (1-low_viscosity_antarctica))\n",
    "\n",
    "    llsvp1_x, llsvp1_y = 3.5e6, 0\n",
    "    llsvp1 = bivariate_gaussian(X[0], X[1], llsvp1_x, llsvp1_y, 0.75e6, 1e6, 0)\n",
    "    heterogenous_viscosity_field.interpolate(-3*llsvp1 + heterogenous_viscosity_field * (1-llsvp1))\n",
    "\n",
    "    llsvp2_x, llsvp2_y = -3.5e6, 0\n",
    "    llsvp2 = bivariate_gaussian(X[0], X[1], llsvp2_x, llsvp2_y, 0.75e6, 1e6, 0)\n",
    "    heterogenous_viscosity_field.interpolate(-3*llsvp2 + heterogenous_viscosity_field * (1-llsvp2))\n",
    "\n",
    "    slab_x, slab_y = 3e6, 4.5e6\n",
    "    slab = bivariate_gaussian(X[0], X[1], slab_x, slab_y, 0.7e6, 0.35e6, 0.7)\n",
    "    heterogenous_viscosity_field.interpolate(-1*slab + heterogenous_viscosity_field * (1-slab))\n",
    "\n",
    "    high_viscosity_craton_x, high_viscosity_craton_y = 0, 6.2e6\n",
    "    high_viscosity_craton = bivariate_gaussian(X[0], X[1], high_viscosity_craton_x, high_viscosity_craton_y, 1.5e6, 0.5e6, 0.2)\n",
    "    heterogenous_viscosity_field.interpolate(-1*high_viscosity_craton + heterogenous_viscosity_field * (1-high_viscosity_craton))\n",
    "\n",
    "    return heterogenous_viscosity_field\n",
    "\n",
    "\n",
    "normalised_viscosity = Function(W, name=\"Normalised viscosity\")\n",
    "initialise_background_field(normalised_viscosity, viscosity_values)\n",
    "normalised_viscosity = setup_heterogenous_viscosity(normalised_viscosity)\n",
    "\n",
    "viscosity = Function(normalised_viscosity, name=\"viscosity\").interpolate(1e23*10**normalised_viscosity)\n"
   ]
  },
  {
   "cell_type": "markdown",
   "id": "d95b8ce4",
   "metadata": {},
   "source": [
    "Now let's plot the normalised viscosity viscosity field in log space (we have divided the viscosity by 1x10$^{23}$ Pa s). Although we are using a fairly coarse mesh we are able to capture the key features of the viscosity field."
   ]
  },
  {
   "cell_type": "code",
   "execution_count": null,
   "id": "e44c1ef8",
   "metadata": {
    "tags": [
     "active-ipynb"
    ]
   },
   "outputs": [],
   "source": [
    "# Read the PVD file\n",
    "visc_file = VTKFile('viscosity.pvd').write(normalised_viscosity)\n",
    "reader = pv.get_reader(\"viscosity.pvd\")\n",
    "data = reader.read()[0]  # MultiBlock mesh with only 1 block\n",
    "\n",
    "# Create a plotter object\n",
    "plotter = pv.Plotter(shape=(1, 1), border=False, notebook=True, off_screen=False)\n",
    "\n",
    "# Make a colour map\n",
    "boring_cmap = plt.get_cmap(\"inferno_r\", 25)\n",
    "# Add the warped displacement field to the frame\n",
    "plotter.add_mesh(\n",
    "    data,\n",
    "    component=None,\n",
    "    lighting=False,\n",
    "    show_edges=False,\n",
    "    cmap=boring_cmap,\n",
    "    scalar_bar_args={\n",
    "        \"title\": 'Normalised viscosity',\n",
    "        \"position_x\": 0.8,\n",
    "        \"position_y\": 0.2,\n",
    "        \"vertical\": True,\n",
    "        \"title_font_size\": 20,\n",
    "        \"label_font_size\": 16,\n",
    "        \"fmt\": \"%.0f\",\n",
    "        \"font_family\": \"arial\",\n",
    "    }\n",
    ")\n",
    "plotter.camera_position = 'xy'\n",
    "plotter.show(jupyter_backend=\"static\", interactive=False)\n",
    "# Closes and finalizes movie\n",
    "plotter.close()"
   ]
  },
  {
   "cell_type": "markdown",
   "id": "2b6a295a",
   "metadata": {},
   "source": [
    "Now let's setup the ice load. For this tutorial we will have two synthetic ice sheets. Let's put one a larger one over the South Pole, with a total horizontal extent of 40 $^\\circ$ and a maximum thickness of 2 km, and a smaller one offset from the North Pole with a width of 20 $^\\circ$ and a maximum thickness of 1 km. To simplify things let's keep the ice load fixed in time."
   ]
  },
  {
   "cell_type": "code",
   "execution_count": null,
   "id": "d60c6e06",
   "metadata": {
    "lines_to_next_cell": 2
   },
   "outputs": [],
   "source": [
    "rho_ice = 931\n",
    "g = 9.8125\n",
    "Hice1 = 1000\n",
    "Hice2 = 2000\n",
    "year_in_seconds = Constant(3600 * 24 * 365.25)\n",
    "# Disc ice load but with a smooth transition given by a tanh profile\n",
    "disc_halfwidth1 = (2*pi/360) * 10  # Disk half width in radians\n",
    "disc_halfwidth2 = (2*pi/360) * 20  # Disk half width in radians\n",
    "surface_dx = 200*1e3\n",
    "ncells = 2*pi*radius_values[0] / surface_dx\n",
    "surface_resolution_radians = 2*pi / ncells\n",
    "colatitude = atan2(X[0], X[1])\n",
    "disc1_centre = (2*pi/360) * 25  # centre of disc1\n",
    "disc2_centre = pi  # centre of disc2\n",
    "disc1 = 0.5*(1-tanh((abs(colatitude-disc1_centre) - disc_halfwidth1) / (2*surface_resolution_radians)))\n",
    "disc2 = 0.5*(1-tanh((abs(abs(colatitude)-disc2_centre) - disc_halfwidth2) / (2*surface_resolution_radians)))\n",
    "ice_load = rho_ice * g * (Hice1 * disc1 + Hice2 * disc2)"
   ]
  },
  {
   "cell_type": "markdown",
   "id": "7042be93",
   "metadata": {},
   "source": [
    "Let's visualise the ice thickness using pyvista, by plotting a ring outside our synthetic Earth."
   ]
  },
  {
   "cell_type": "code",
   "execution_count": null,
   "id": "d3e2aa05",
   "metadata": {
    "tags": [
     "active-ipynb"
    ]
   },
   "outputs": [],
   "source": [
    "def make_ice_ring(reader):\n",
    "    data = reader.read()[0]\n",
    "\n",
    "    normal = [0, 0, 1]\n",
    "    polar = [rmax-dz/2, 0, 0]\n",
    "    center = [0, 0, 0]\n",
    "    angle = 360.0\n",
    "    res = 10000\n",
    "    arc = pv.CircularArcFromNormal(center, res, normal, polar, angle)\n",
    "\n",
    "    arc_data = arc.sample(data)\n",
    "\n",
    "    # Stretch line by 20%\n",
    "    transform_matrix = np.array(\n",
    "        [\n",
    "            [1.2, 0, 0, 0],\n",
    "            [0, 1.2, 0, 0],\n",
    "            [0, 0, 1.2, 0],\n",
    "            [0, 0, 0, 1],\n",
    "        ]\n",
    "    )\n",
    "    return arc_data.transform(transform_matrix)\n",
    "\n",
    "\n",
    "def plot_ice_ring(plotter, ice_ring, scalar=\"Ice thickness\"):\n",
    "    ice_cmap = plt.get_cmap(\"Blues\", 25)\n",
    "\n",
    "    plotter.add_mesh(\n",
    "        ice_ring,\n",
    "        scalars=scalar,\n",
    "        line_width=10,\n",
    "        cmap=ice_cmap,\n",
    "        clim=[0, 2000],\n",
    "        scalar_bar_args={\n",
    "            \"title\": 'Ice thickness (m)',\n",
    "            \"position_x\": 0.05,\n",
    "            \"position_y\": 0.3,\n",
    "            \"vertical\": True,\n",
    "            \"title_font_size\": 20,\n",
    "            \"label_font_size\": 16,\n",
    "            \"fmt\": \"%.0f\",\n",
    "            \"font_family\": \"arial\",\n",
    "        }\n",
    "    )\n",
    "\n",
    "\n",
    "# Write ice thicknesss .pvd file\n",
    "ice_thickness = Function(W, name=\"Ice thickness\").interpolate(Hice1 * disc1 + Hice2 * disc2)\n",
    "zero_ice_thickness = Function(W, name=\"zero\").assign(0)  # Used for plotting later\n",
    "ice_thickness_file = VTKFile('ice.pvd').write(ice_thickness, zero_ice_thickness)\n",
    "\n",
    "ice_reader = pv.get_reader(\"ice.pvd\")\n",
    "ice_ring = make_ice_ring(ice_reader)\n",
    "\n",
    "reader = pv.get_reader(\"viscosity.pvd\")\n",
    "data = reader.read()[0]  # MultiBlock mesh with only 1 block\n",
    "\n",
    "# Create a plotter object\n",
    "plotter = pv.Plotter(shape=(1, 1), border=False, notebook=True, off_screen=False)\n",
    "\n",
    "# Make a colour map\n",
    "boring_cmap = plt.get_cmap(\"inferno_r\", 25)\n",
    "# Add the warped displacement field to the frame\n",
    "plotter.add_mesh(\n",
    "    data,\n",
    "    component=None,\n",
    "    scalars=None,\n",
    "    lighting=False,\n",
    "    show_edges=False,\n",
    "    cmap=boring_cmap,\n",
    "    scalar_bar_args={\n",
    "        \"title\": 'Normalised viscosity',\n",
    "        \"position_x\": 0.8,\n",
    "        \"position_y\": 0.3,\n",
    "        \"vertical\": True,\n",
    "        \"title_font_size\": 20,\n",
    "        \"label_font_size\": 16,\n",
    "        \"fmt\": \"%.0f\",\n",
    "        \"font_family\": \"arial\",\n",
    "    }\n",
    ")\n",
    "\n",
    "plot_ice_ring(plotter, ice_ring)\n",
    "\n",
    "plotter.camera_position = 'xy'\n",
    "plotter.show(jupyter_backend=\"static\", interactive=False)\n",
    "# Closes and finalizes movie\n",
    "plotter.close()"
   ]
  },
  {
   "cell_type": "markdown",
   "id": "62466ebb",
   "metadata": {},
   "source": [
    "Let's setup the timestepping parameters with a timestep of 250 years and an output frequency of 1000 years."
   ]
  },
  {
   "cell_type": "code",
   "execution_count": null,
   "id": "73acfd5d",
   "metadata": {},
   "outputs": [],
   "source": [
    "# Timestepping parameters\n",
    "Tstart = 0\n",
    "time = Function(R).assign(Tstart * year_in_seconds)\n",
    "\n",
    "dt_years = 250\n",
    "dt = Constant(dt_years * year_in_seconds)\n",
    "Tend_years = 10e3\n",
    "Tend = Constant(Tend_years * year_in_seconds)\n",
    "dt_out_years = 1e3\n",
    "dt_out = Constant(dt_out_years * year_in_seconds)\n",
    "\n",
    "max_timesteps = round((Tend - Tstart * year_in_seconds) / dt)\n",
    "log(\"max timesteps: \", max_timesteps)\n",
    "\n",
    "output_frequency = round(dt_out / dt)\n",
    "log(\"output_frequency:\", output_frequency)\n",
    "log(f\"dt: {float(dt / year_in_seconds)} years\")\n",
    "log(f\"Simulation start time: {Tstart} years\")"
   ]
  },
  {
   "cell_type": "markdown",
   "id": "7ec1e079",
   "metadata": {},
   "source": [
    "We can now define the boundary conditions to be used in this simulation.  Let's set the bottom and side boundaries to be free slip with no normal flow $\\textbf{u} \\cdot \\textbf{n} =0$. By passing the string `ux` and `uy`, G-ADOPT knows to specify these as Strong Dirichlet boundary conditions.\n",
    "\n",
    "For the top surface we need to specify a normal stress, i.e. the weight of the ice load, as well as indicating this is a free surface.\n",
    "\n",
    "The `delta_rho_fs` option accounts for the density contrast across the free surface whether there is ice or air above a particular region of the mantle."
   ]
  },
  {
   "cell_type": "code",
   "execution_count": null,
   "id": "74e7542b",
   "metadata": {
    "lines_to_next_cell": 2
   },
   "outputs": [],
   "source": [
    "# Setup boundary conditions\n",
    "exterior_density = rho_ice * (disc1+disc2)\n",
    "stokes_bcs = {top_id: {'normal_stress': ice_load, 'free_surface': {'delta_rho_fs': density - exterior_density}},\n",
    "              bottom_id: {'un': 0}\n",
    "              }"
   ]
  },
  {
   "cell_type": "markdown",
   "id": "3bce4df2",
   "metadata": {
    "lines_to_next_cell": 2
   },
   "source": [
    "We also need to specify a G-ADOPT approximation which sets up the various parameters and fields needed for the viscoelastic loading problem."
   ]
  },
  {
   "cell_type": "code",
   "execution_count": null,
   "id": "29e1adde",
   "metadata": {},
   "outputs": [],
   "source": [
    "approximation = SmallDisplacementViscoelasticApproximation(density, shear_modulus, viscosity, g=g)"
   ]
  },
  {
   "cell_type": "markdown",
   "id": "7c9264d6",
   "metadata": {},
   "source": [
    "As noted above, with a free-slip boundary condition on both boundaries, one can add an arbitrary rotation\n",
    "of the form $(-y, x)=r\\hat{\\mathbf{\\theta}}$ to the velocity solution. These lead to null-modes (eigenvectors) for the linear system, rendering the resulting matrix singular.\n",
    "In preconditioned Krylov methods these null-modes must be subtracted from the approximate solution at every iteration. We do that below,\n",
    "setting up a nullspace object, specifying the `rotational` keyword argument to be True. Note that we do not include a pressure nullspace as the top surface of the model is open."
   ]
  },
  {
   "cell_type": "code",
   "execution_count": null,
   "id": "4a0d9ff1",
   "metadata": {},
   "outputs": [],
   "source": [
    "Z_nullspace = create_stokes_nullspace(Z, closed=False, rotational=True)"
   ]
  },
  {
   "cell_type": "markdown",
   "id": "b357f63f",
   "metadata": {},
   "source": [
    "Given the increased computational expense (typically requiring more degrees of freedom) in a 2-D annulus domain, G-ADOPT defaults to iterative\n",
    "solver parameters. As noted in our previous 3-D Cartesian tutorial, G-ADOPT's iterative solver setup is configured to use the GAMG preconditioner\n",
    "for the velocity block of the Stokes system, to which we must provide near-nullspace information, which, in 2-D, consists of two rotational and two\n",
    "translational modes."
   ]
  },
  {
   "cell_type": "code",
   "execution_count": null,
   "id": "91136beb",
   "metadata": {},
   "outputs": [],
   "source": [
    "Z_near_nullspace = create_stokes_nullspace(Z, closed=False, rotational=True, translations=[0, 1])"
   ]
  },
  {
   "cell_type": "markdown",
   "id": "cbde8d1e",
   "metadata": {},
   "source": [
    "We finally come to solving the variational problem, with solver\n",
    "objects for the Stokes system created. We pass in the solution fields `z` and various fields needed for the solve along with the approximation, timestep and boundary conditions.\n"
   ]
  },
  {
   "cell_type": "code",
   "execution_count": null,
   "id": "95f0a0e5",
   "metadata": {},
   "outputs": [],
   "source": [
    "stokes_solver = ViscoelasticStokesSolver(z, stress_old, displacement, approximation,\n",
    "                                         dt, bcs=stokes_bcs, constant_jacobian=True,\n",
    "                                         nullspace=Z_nullspace, transpose_nullspace=Z_nullspace,\n",
    "                                         near_nullspace=Z_near_nullspace)"
   ]
  },
  {
   "cell_type": "markdown",
   "id": "2c0193ba",
   "metadata": {},
   "source": [
    "We next set up our output, in VTK format. This format can be read by programs like pyvista and Paraview."
   ]
  },
  {
   "cell_type": "code",
   "execution_count": null,
   "id": "a4a48bea",
   "metadata": {},
   "outputs": [],
   "source": [
    "# Create a velocity function for plotting\n",
    "velocity = Function(V, name=\"velocity\")\n",
    "velocity.interpolate(z.subfunctions[0]/dt)\n",
    "# Create output file\n",
    "output_file = VTKFile(\"output.pvd\")\n",
    "output_file.write(*z.subfunctions, displacement, velocity)\n",
    "\n",
    "plog = ParameterLog(\"params.log\", mesh)\n",
    "plog.log_str(\n",
    "    \"timestep time dt u_rms u_rms_surf ux_max disp_min disp_max\"\n",
    ")\n",
    "\n",
    "checkpoint_filename = \"viscoelastic_loading-chk.h5\"\n",
    "\n",
    "gd = GeodynamicalDiagnostics(z, density, bottom_id, top_id)\n",
    "\n",
    "# Initialise a (scalar!) function for logging vertical displacement\n",
    "U = FunctionSpace(mesh, \"CG\", 2)  # (Incremental) Displacement function space (scalar)\n",
    "vertical_displacement = Function(U, name=\"Vertical displacement\")"
   ]
  },
  {
   "cell_type": "markdown",
   "id": "0f7f113e",
   "metadata": {},
   "source": [
    "Now let's run the simulation! At each step we call `solve` to calculate the incremental displacement and pressure fields. This will update the displacement at the surface and stress values accounting for the time dependent Maxwell consitutive equation."
   ]
  },
  {
   "cell_type": "code",
   "execution_count": null,
   "id": "7758d920",
   "metadata": {},
   "outputs": [],
   "source": [
    "for timestep in range(max_timesteps+1):\n",
    "\n",
    "    stokes_solver.solve()\n",
    "\n",
    "    time.assign(time+dt)\n",
    "\n",
    "    if timestep % output_frequency == 0:\n",
    "        # First output step is after one solve i.e. roughly elastic displacement\n",
    "        # provided dt < maxwell time.\n",
    "        log(\"timestep\", timestep)\n",
    "\n",
    "        velocity.interpolate(z.subfunctions[0]/dt)\n",
    "        output_file.write(*z.subfunctions, displacement, velocity)\n",
    "\n",
    "        with CheckpointFile(checkpoint_filename, \"w\") as checkpoint:\n",
    "            checkpoint.save_function(z, name=\"Stokes\")\n",
    "            checkpoint.save_function(displacement, name=\"Displacement\")\n",
    "            checkpoint.save_function(stress_old, name=\"Deviatoric stress\")\n",
    "\n",
    "    vertical_displacement.interpolate(vertical_component(displacement))\n",
    "\n",
    "    # Log diagnostics:\n",
    "    plog.log_str(\n",
    "        f\"{timestep} {float(time)} {float(dt)} \"\n",
    "        f\"{gd.u_rms()} {gd.u_rms_top()} {gd.ux_max(top_id)} \"\n",
    "        f\"{vertical_displacement.dat.data.min()} {vertical_displacement.dat.data.max()}\"\n",
    "    )"
   ]
  },
  {
   "cell_type": "markdown",
   "id": "d4bcfe38",
   "metadata": {},
   "source": [
    "Let's use the python package *PyVista* to plot the magnitude of the displacement field through time. We will use the calculated displacement to artifically scale the mesh. We have exaggerated the stretching by a factor of 1500, **BUT...** it is important to remember this is just for ease of visualisation - the mesh is not moving in reality!"
   ]
  },
  {
   "cell_type": "code",
   "execution_count": null,
   "id": "d9c37ccc",
   "metadata": {
    "lines_to_next_cell": 0,
    "tags": [
     "active-ipynb"
    ]
   },
   "outputs": [],
   "source": [
    "import matplotlib.pyplot as plt\n",
    "import pyvista as pv\n",
    "\n",
    "# Read the PVD file\n",
    "reader = pv.get_reader(\"output.pvd\")\n",
    "data = reader.read()[0]  # MultiBlock mesh with only 1 block\n",
    "\n",
    "# Create a plotter object\n",
    "plotter = pv.Plotter(shape=(1, 1), border=False, notebook=True, off_screen=False)\n",
    "\n",
    "# Open a gif\n",
    "plotter.open_gif(\"displacement_warp.gif\")\n",
    "\n",
    "# Make a colour map\n",
    "boring_cmap = plt.get_cmap(\"inferno_r\", 25)\n",
    "\n",
    "# Fix camera in default position otherwise mesh appears to jumpy around!\n",
    "#plotter.camera_position = 'xy'\n",
    "\n",
    "# Make a list of output times (non-uniform because also\n",
    "# outputing first (quasi-elastic) solve\n",
    "times = [0, dt_years]\n",
    "for i in range(len(reader.time_values)):\n",
    "    times.append((i+1)*1000 )\n",
    "\n",
    "\n",
    "for i in range(len(reader.time_values)):\n",
    "    print(\"Step: \", i)\n",
    "    reader.set_active_time_point(i)\n",
    "    data = reader.read()[0]\n",
    "    # Artificially warp the output data in the vertical direction by the free surface height\n",
    "    # Note the mesh is not really moving!\n",
    "    warped = data.warp_by_vector(vectors=\"displacement\", factor=1500)\n",
    "    arrows = warped.glyph(orient=\"velocity\", scale=\"velocity\", factor=1e14, tolerance=0.01)\n",
    "    plotter.add_mesh(arrows, color=\"grey\", lighting=False)\n",
    "\n",
    "    # Add the warped displacement field to the frame\n",
    "    plotter.add_mesh(\n",
    "        warped,\n",
    "        scalars=\"displacement\",\n",
    "        component=None,\n",
    "        lighting=False,\n",
    "       # show_edges=True,\n",
    "        clim=[0, 600],\n",
    "        cmap=boring_cmap,\n",
    "        scalar_bar_args={\n",
    "            \"title\": 'Displacement (m)',\n",
    "            \"position_x\": 0.85,\n",
    "            \"position_y\": 0.3,\n",
    "            \"vertical\": True,\n",
    "            \"title_font_size\": 20,\n",
    "            \"label_font_size\": 16,\n",
    "            \"fmt\": \"%.0f\",\n",
    "            \"font_family\": \"arial\",\n",
    "        }\n",
    "    )\n",
    "\n",
    "\n",
    "    plotter.camera_position = [(0, 0, radius_values[0]*5),\n",
    "                                 (0.0, 0.0, 0.0),\n",
    "                                 (0.0, 1.0, 0.0)]\n",
    "\n",
    "    plotter.add_text(f\"Time: {times[i]:6} years\", name='time-label')\n",
    "\n",
    "    if i == 0:\n",
    "        plot_ice_ring(plotter, ice_ring, scalar=\"zero\")\n",
    "        for j in range(10):\n",
    "            plotter.write_frame()\n",
    "\n",
    "    plot_ice_ring(plotter, ice_ring)\n",
    "\n",
    "    # Write end frame multiple times to give a pause before gif starts again!\n",
    "    for j in range(10):\n",
    "        plotter.write_frame()\n",
    "\n",
    "    if i == len(reader.time_values)-1:\n",
    "        # Write end frame multiple times to give a pause before gif starts again!\n",
    "        for j in range(20):\n",
    "            plotter.write_frame()\n",
    "\n",
    "    plotter.clear()\n",
    "\n",
    "# Closes and finalizes movie\n",
    "plotter.close()"
   ]
  },
  {
   "cell_type": "markdown",
   "id": "acea09b3",
   "metadata": {},
   "source": [
    "Looking at the animation, we can see that the weight of the ice load deforms the mantle, sinking beneath the ice load and pushing up material away from the ice load. This forebulge grows through the simulation and by 10,000 years is close to isostatic equilibrium. As the ice load is applied instantaneously the highest velocity occurs within the first timestep and gradually decays as the simulation goes on, though there is still a small amount of deformation ongoing after 10,000 years. We can also clearly see that the lateral viscosity variations give rise to assymetrical displacement patterns. This is especially true near the South Pole, where the low viscosity region has enabled the isostatic relaxation to happen much faster than the surrounding regions."
   ]
  },
  {
   "cell_type": "markdown",
   "id": "cd73c6b5",
   "metadata": {},
   "source": [
    "![SegmentLocal](displacement_warp.gif \"segment\")"
   ]
  }
 ],
 "metadata": {
  "jupytext": {
   "cell_metadata_filter": "tags,-all",
   "main_language": "python",
   "notebook_metadata_filter": "-all"
  }
 },
 "nbformat": 4,
 "nbformat_minor": 5
}

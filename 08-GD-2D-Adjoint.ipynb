{
 "cells": [
  {
   "attachments": {},
   "cell_type": "markdown",
   "id": "a3f3a67c",
   "metadata": {},
   "source": [
    "# Inverse Schemes for Geodynamic Applications"
   ]
  },
  {
   "attachments": {},
   "cell_type": "markdown",
   "id": "d402ec41",
   "metadata": {},
   "source": [
    "## Introduction\n",
    "\n",
    "In this tutorial, we will explore the use of adjoint schemes in geodynamics. Adjoint schemes are a powerful tool for solving inverse problems, allowing us to retrieve unknown parameters or initial conditions in physical systems.\n",
    "\n",
    "The exercise involves reconstructing the initial temperature field of a single upwelling plume in an enclosed square computational domain. The problem assumes isoviscous, incompressible flow under the Boussinesq approximation, with a Rayleigh number of $Ra=10^6$."
   ]
  },
  {
   "cell_type": "markdown",
   "id": "320bcff6",
   "metadata": {},
   "source": [
    "## Setting Up Dependencies\n",
    "\n",
    "Firstly, let's make sure we have all the dependencies installed. This will set up Firedrake and other required libraries on this Google Colab environment."
   ]
  },
  {
   "cell_type": "code",
   "execution_count": null,
   "id": "60888470",
   "metadata": {},
   "outputs": [],
   "source": [
    "# This magic makes plots appear \n",
    "%matplotlib inline\n",
    "import matplotlib.pyplot as plt\n",
    "import pyvista as pv\n",
    "\n",
    "import os\n",
    "os.environ[\"GADOPT_LOGLEVEL\"] = \"WARNING\"\n",
    "\n",
    "# Load Firedrake on Colab\n",
    "try:\n",
    "    import firedrake\n",
    "except ImportError:\n",
    "    !wget \"https://github.com/g-adopt/tutorials/releases/latest/download/firedrake-install-real.sh\" -O \"/tmp/firedrake-install.sh\" && bash \"/tmp/firedrake-install.sh\"\n",
    "    import firedrake"
   ]
  },
  {
   "attachments": {},
   "cell_type": "markdown",
   "id": "1f0b78cc",
   "metadata": {},
   "source": [
    "## Problem Definition\n",
    "\n",
    "In this exercise, we aim to reconstruct the initial temperature field of a single upwelling plume within an enclosed square computational domain. The domain has free-slip boundary conditions on all sides, assumes isoviscous rheology, incompressible flow under the Boussinesq approximation, and a Rayleigh number of \\( Ra = 10^6 \\).\n",
    "\n",
    "- **Domain**: Enclosed square\n",
    "- **Boundary Conditions**: Free-slip on all sides\n",
    "- **Rheology**: Isoviscous\n",
    "- **Flow Assumptions**: Incompressible, Boussinesq approximation\n",
    "- **Rayleigh Number**: \\( $Ra = 10^6$ \\)\n",
    "\n",
    "\n",
    "The model is heated from below ($ T_C = 1 $) and cooled from above ($ T_S = 0 $). We will run the model for 80 time steps with $\\delta t = 4 \\times 10^{-6}$ to allow the temperature anomaly to form a plume that reaches the domain's top boundary.\n"
   ]
  },
  {
   "cell_type": "code",
   "execution_count": null,
   "id": "cc58f4b0",
   "metadata": {},
   "outputs": [],
   "source": [
    "# Clear the tape of any previous operations to ensure\n",
    "# the adjoint reflects the forward problem we solve here\n",
    "tape = get_working_tape()\n",
    "tape.clear_tape()\n",
    "\n",
    "# Rayleigh number\n",
    "Ra = Constant(1e6)\n",
    "\n",
    "# Time stepping parameters\n",
    "max_timesteps = 80\n",
    "delta_t = Constant(4e-6)\n",
    "\n",
    "# Boundary tags\n",
    "bottom_id, top_id, left_id, right_id = \"bottom\", \"top\", 1, 2"
   ]
  },
  {
   "attachments": {},
   "cell_type": "markdown",
   "id": "8756cf21",
   "metadata": {},
   "source": [
    "## Mesh and Function Spaces\n",
    "\n",
    "The computational domain is a unit square with 150 x 150 elements. We define function spaces for velocity, pressure, and temperature within this mesh.\n",
    "\n",
    "1. **Vector Function Space (V)**: This is used for the velocity field and employs a \\(Q2\\) discretization.\n",
    "2. **Scalar Function Space (W)**: This is used for pressure and uses a \\(Q1\\) discretization.\n",
    "3. **Mixed Function Space (Z)**: This combines the velocity and pressure function spaces.\n",
    "4. **Scalar Function Space (Q)**: This is used for the temperature field and also uses a \\(Q2\\) discretization.\n"
   ]
  },
  {
   "cell_type": "code",
   "execution_count": null,
   "id": "52ba7db0",
   "metadata": {},
   "outputs": [],
   "source": [
    "# Load the mesh\n",
    "with CheckpointFile(\"mesh.h5\", \"r\") as f:\n",
    "    mesh = f.load_mesh(\"firedrake_default_extruded\")\n",
    "\n",
    "# Define function spaces\n",
    "V = VectorFunctionSpace(mesh, \"CG\", 2)  # Velocity function space (vector)\n",
    "W = FunctionSpace(mesh, \"CG\", 1)  # Pressure function space (scalar)\n",
    "Q = FunctionSpace(mesh, \"CG\", 2)  # Temperature function space (scalar)\n",
    "Z = MixedFunctionSpace([V, W])  # Mixed function space"
   ]
  },
  {
   "attachments": {},
   "cell_type": "markdown",
   "id": "09a81882",
   "metadata": {},
   "source": [
    "## Initial Conditions and Boundary Conditions\n",
    "\n",
    "The initial temperature field is generated by a Gaussian anomaly superimposed on an average temperature profile, which we already covered in a previous tutorial (`06-GD-2D-convection.ipynb`).\n",
    "\n",
    "For velocity, free-slip boundary conditions are applied on all sides of the domain.\n",
    "\n",
    "Boundary tags are used to identify different boundaries:\n",
    "- Tag 1: Plane \\( x=0 \\) (left)\n",
    "- Tag 2: Plane \\( x=1 \\) (right)\n",
    "- Tag \"bottom\": \\( y=0 \\)\n",
    "- Tag \"top\": \\( y=1 \\)\n"
   ]
  },
  {
   "cell_type": "code",
   "execution_count": null,
   "id": "b762750c",
   "metadata": {},
   "outputs": [],
   "source": [
    "# Initialize the control variable for temperature\n",
    "Tic = Function(Q1, name=\"Initial Temperature\")\n",
    "\n",
    "# Load from checkpoint\n",
    "checkpoint_file = CheckpointFile(\"Checkpoint_State.h5\", \"r\")\n",
    "Tic.project(checkpoint_file.load_function(mesh, \"Temperature\", idx=max_timesteps - 1))\n",
    "\n",
    "# Boundary conditions\n",
    "stokes_bcs = {\n",
    "    bottom_id: {\"uy\": 0},\n",
    "    top_id: {\"uy\": 0},\n",
    "    left_id: {\"ux\": 0},\n",
    "    right_id: {\"ux\": 0},\n",
    "}\n",
    "temp_bcs = {\n",
    "    bottom_id: {\"T\": 1.0},\n",
    "    top_id: {\"T\": 0.0},\n",
    "}"
   ]
  },
  {
   "attachments": {},
   "cell_type": "markdown",
   "id": "3ded2650",
   "metadata": {},
   "source": [
    "## Solvers and Time-stepping\n",
    "\n",
    "To solve the problem, we use two main solvers:\n",
    "\n",
    "1. **Energy Solver (`energy_solver`)**: This solver handles the energy equation. It takes in the temperature field \\( T \\), velocity \\( u \\), the physical approximation, time step \\( \\delta t \\), and boundary conditions.\n",
    "\n",
    "2. **Stokes Solver (`stokes_solver`)**: This solver handles the Stokes equation for velocity and pressure. It takes in the mixed function \\( z \\) (which contains both velocity and pressure), the temperature \\( T \\), the physical approximation, and boundary conditions.\n",
    "\n",
    "The model is run for 80 time steps of \\( \\delta t = 4 \\times 10^{-6} \\) to capture the evolution of the system.\n"
   ]
  },
  {
   "cell_type": "code",
   "execution_count": null,
   "id": "39ade9fe",
   "metadata": {},
   "outputs": [],
   "source": [
    "# Enable disk checkpointing\n",
    "enable_disk_checkpointing()\n",
    "\n",
    "# Create the solvers\n",
    "energy_solver = EnergySolver(\n",
    "    T,\n",
    "    u,\n",
    "    approximation,\n",
    "    delta_t,\n",
    "    ImplicitMidpoint,\n",
    "    bcs=temp_bcs,\n",
    ")\n",
    "\n",
    "stokes_solver = StokesSolver(\n",
    "    z,\n",
    "    T,\n",
    "    approximation,\n",
    "    bcs=stokes_bcs,\n",
    "    nullspace=Z_nullspace,\n",
    "    transpose_nullspace=Z_nullspace,\n",
    ")\n",
    "\n",
    "# Time-stepping loop\n",
    "for timestep in range(0, max_timesteps):\n",
    "    stokes_solver.solve()\n",
    "    energy_solver.solve()\n",
    "    # ... (Additional code for checkpointing and misfit calculations)"
   ]
  },
  {
   "attachments": {},
   "cell_type": "markdown",
   "id": "098cf429",
   "metadata": {},
   "source": [
    "\n",
    "## Objective Functional and Optimization\n",
    "\n",
    "The objective functional is composed of several terms:\n",
    "\n",
    "1. **Temperature Misfit** ($ t_{\\text{misfit}} $): Difference between the final temperature field and observations.\n",
    "2. **Velocity Misfit** ($ u_{\\text{misfit}} $): Accumulated surface velocity misfit using observed values.\n",
    "3. **Damping Term** ($ \\text{damping} $): Damping based on the difference between the initial condition and the average temperature profile.\n",
    "4. **Smoothing Term** ($ \\text{smoothing} $): Smoothing applied to the initial condition.\n",
    "\n",
    "We then use adjoint-based optimization to minimize this functional, subject to constraints on the temperature field.\n",
    "\n"
   ]
  },
  {
   "cell_type": "code",
   "execution_count": null,
   "id": "3cad3da9",
   "metadata": {},
   "outputs": [],
   "source": [
    "# Define the objective functional components\n",
    "t_misfit = assemble((T - Tobs) ** 2 * dx)\n",
    "u_misfit = assemble(dot(u - uobs, u - uobs) * ds_t)\n",
    "damping = assemble((Tic - Taverage) ** 2 * dx)\n",
    "smoothing = assemble(dot(grad(Tic - Taverage), grad(Tic - Taverage)) * dx)\n",
    "\n",
    "# Combine into the objective functional\n",
    "objective = (\n",
    "    t_misfit +\n",
    "    alpha_u * (norm_obs * u_misfit / max_timesteps / norm_u_surface) +\n",
    "    alpha_d * (norm_obs * damping / norm_damping) +\n",
    "    alpha_s * (norm_obs * smoothing / norm_smoothing)\n",
    ")\n",
    "\n",
    "# Define the reduced functional and optimization problem\n",
    "control = Control(Tic)\n",
    "reduced_functional = ReducedFunctional(objective, control)\n",
    "\n",
    "# ... (Optimization code)"
   ]
  },
  {
   "attachments": {},
   "cell_type": "markdown",
   "id": "a40a2b27",
   "metadata": {},
   "source": [
    "## Conclusion\n",
    "\n",
    "In this workshop, we've explored the fundamentals of adjoint-based optimization in geodynamics using the G-ADOPT package and Firedrake. We set up a problem that aimed to retrieve the initial temperature field of a single upwelling plume in an enclosed square domain. \n",
    "\n",
    "Through the use of various solvers and optimization techniques, we were able to gain insights into the inversion process and the relevant geophysical parameters. \n",
    "\n",
    "### Key Takeaways\n",
    "1. Adjoint schemes provide a powerful tool for solving inverse problems in geodynamics.\n",
    "2. The choice of function spaces and solvers can significantly impact the quality of the inversion.\n",
    "3. Regularization terms like damping and smoothing are essential for a well-posed inverse problem.\n",
    "\n",
    "### Further Steps\n",
    "- Experiment with different initial conditions and boundary conditions.\n",
    "- Explore the impact of varying Rayleigh numbers on the inversion process.\n",
    "- Investigate more complex rheological models.\n",
    "\n"
   ]
  },
  {
   "cell_type": "code",
   "execution_count": null,
   "id": "49dffa4e",
   "metadata": {},
   "outputs": [
    {
     "ename": "",
     "evalue": "",
     "output_type": "error",
     "traceback": [
      "\u001b[1;31mJupyter cannot be started. Error attempting to locate Jupyter: Running cells requires notebook package.\n",
      "\u001b[1;31mRun the following command to install 'jupyter and notebook' into the Python environment. \n",
      "\u001b[1;31mCommand: 'python -m pip install jupyter notebook -U\n",
      "\u001b[1;31mor\n",
      "\u001b[1;31mconda install jupyter notebook -U'\n",
      "\u001b[1;31mClick <a href='https://aka.ms/installJupyterForVSCode'>here</a> for more info."
     ]
    }
   ],
   "source": []
  },
  {
   "cell_type": "markdown",
   "id": "a5e821d9",
   "metadata": {},
   "source": [
    "## References and Additional Resources"
   ]
  },
  {
   "cell_type": "code",
   "execution_count": null,
   "id": "1471afdc",
   "metadata": {},
   "outputs": [],
   "source": [
    "# Placeholder code"
   ]
  }
 ],
 "metadata": {
  "kernelspec": {
   "display_name": "Python 3",
   "language": "python",
   "name": "python3"
  },
  "language_info": {
   "name": "python",
   "version": "3.11.4 (main, Jun 20 2023, 17:23:00) [Clang 14.0.3 (clang-1403.0.22.14.1)]"
  },
  "vscode": {
   "interpreter": {
    "hash": "b0fa6594d8f4cbf19f97940f81e996739fb7646882a419484c72d19e05852a7e"
   }
  }
 },
 "nbformat": 4,
 "nbformat_minor": 5
}

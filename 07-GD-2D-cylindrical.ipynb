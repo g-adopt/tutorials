{
 "cells": [
  {
   "cell_type": "code",
   "execution_count": null,
   "metadata": {},
   "outputs": [],
   "source": [
    "# This magic makes plots appear \n",
    "%matplotlib inline\n",
    "import matplotlib.pyplot as plt\n",
    "import pyvista as pv\n",
    "\n",
    "import os\n",
    "os.environ[\"GADOPT_LOGLEVEL\"] = \"WARNING\"\n",
    "\n",
    "# Load Firedrake on Colab\n",
    "try:\n",
    "    import firedrake\n",
    "except ImportError:\n",
    "    !wget \"https://github.com/g-adopt/tutorials/releases/latest/download/firedrake-install-real.sh\" -O \"/tmp/firedrake-install.sh\" && bash \"/tmp/firedrake-install.sh\"\n",
    "    import firedrake"
   ]
  },
  {
   "cell_type": "markdown",
   "metadata": {},
   "source": [
    "# 2-D Cylindrical Case\n",
    "## Weak formulation\n",
    "For our reference we take another look at our weak formulation:<br>\n",
    "\n",
    "$$\\int_\\Omega (\\nabla \\vec{v})\\colon \\mu \\left[ \\nabla \\vec{u} + \\left( \\nabla \\vec{u} \\right)^T\\right] \\ dx \n",
    " - \\int_{\\Omega} \\left( \\nabla \\cdot \\vec{v}\\right)\\ p \\ dx\n",
    " - \\int_{\\Omega} Ra_0\\ T\\ \\vec{v}\\cdot\\hat{k} \\ dx = 0 \\ \\text{ for all } v\\in V,$$\n",
    "\n",
    "$$ \\int_\\Omega w \\nabla \\cdot \\vec{u} \\ dx\\ \\text{ for all } v\\in V,$$\n",
    "\n",
    "$$  \\int_\\Omega q\\frac{\\partial T}{\\partial t} \\ dx\n",
    "  + \\int_\\Omega q \\vec{u}\\cdot \\nabla T \\ dx \n",
    "  + \\int_\\Omega \\left(\\nabla q\\right) \\cdot \\left(\\kappa \\nabla T\\right) \\ dx = 0   \\text{ for all } q\\in Q.$$\n",
    "\n",
    "\n",
    "In the Cartesian examples we saw earlier are imposed through strong Dirichlet boundary conditions for velocity $\\vec{u}$. This is achieved by restricting the velocity function space $V$ to a subspace $V_0$\n",
    "of vector functions for which all components (zero-slip) or only the normal\n",
    "component (free-slip) are zero at the boundary. Since this restriction also\n",
    "applies to the test functions $\\vec{v}$, the weak form only needs to be\n",
    "satisfied for all test functions $\\vec{v}\\in V_0$ that satisfy the homogeneous boundary conditions. Therefore, the omitted boundary integral\n",
    "\\begin{equation}\n",
    "  -\\int_{\\partial\\Omega} \\vec{v}\\cdot \\left(\\mu \\left[\\nabla\\vec{u}\n",
    "    + \\left(\\nabla\\vec{u}\\right)^T\\right]\\right)\\cdot \\vec{n} ds\n",
    "\\end{equation}\n",
    "that was required to obtain the integrated by parts viscosity term, automatically vanishes for zero-slip boundary conditions as\n",
    "$\\bf v =0$ at the domain boundary, $\\partial\\Omega$. In the case of a free-slip\n",
    "boundary condition for which the tangential components of $\\vec{v}$ are\n",
    "non-zero, the boundary term does not vanish, but by omitting that term, we weakly impose a zero shear stress condition. The boundary\n",
    "term obtained by integrating the pressure gradient term by parts,\n",
    "\\begin{equation}\n",
    "  \\int_{\\partial\\Omega} \\vec{v}\\cdot\\vec{n} p ds ,\n",
    "\\end{equation}\n",
    "\n",
    "\n",
    "Note that we have integrated by parts the viscosity and pressure gradient terms in the Stokes equations, and the diffusion term in the energy equation, but have omitted the corresponding boundary terms. Our goal in this section is to examine simulations in a 2-D cylindrical domain.<br> \n",
    "\n",
    "We define our domain by the radii of the inner ($r_{\\text{min}}$) and outer ($r_{\\text{max}}$) boundaries. These are chosen such that the non--dimensional depth of the mantle,\n",
    "$z = r_{\\text{max}} - r_{\\text{min}} = 1$, and the ratio of the inner and outer radii, $f=r_{\\text{min}} / r_{\\text{max}} = 0.55$, thus approximating the ratio between the\n",
    "radii of Earth's surface and core-mantle-boundary (CMB). Specifically, we set $r_{\\text{min}} = 1.22$ and $r_{\\text{max}} = 2.22$.<br>\n",
    "\n",
    "\n"
   ]
  },
  {
   "cell_type": "code",
   "execution_count": null,
   "metadata": {},
   "outputs": [],
   "source": [
    "from gadopt import *\n",
    "import numpy as np"
   ]
  },
  {
   "cell_type": "code",
   "execution_count": null,
   "metadata": {},
   "outputs": [],
   "source": [
    "# Set up geometry:\n",
    "rmin, rmax, ncells, nlayers = 1.22, 2.22, 32, 8\n",
    "\n",
    "mesh1d = CircleManifoldMesh(ncells, radius=rmin, degree=2)\n",
    "mesh = ExtrudedMesh(mesh1d, layers=nlayers, extrusion_type='radial')\n",
    "\n",
    "bottom_id, top_id = \"bottom\", \"top\"\n",
    "n = FacetNormal(mesh)\n",
    "domain_volume = assemble(1 * dx(domain=mesh))"
   ]
  },
  {
   "cell_type": "markdown",
   "metadata": {},
   "source": [
    "### Exercise 7.1:\n",
    "- Visualise the generated mesh.\n",
    "\n",
    "- Change radial and lateral resolution and visualise the mesh again. \n"
   ]
  },
  {
   "cell_type": "code",
   "execution_count": null,
   "metadata": {
    "tags": [
     "nbval-ignore-output"
    ]
   },
   "outputs": [],
   "source": [
    "V = FunctionSpace(mesh, \"CG\", 1)\n",
    "File(\"mesh.pvd\").write(Function(V))\n",
    "mesh_data = pv.read(\"mesh_0.vtu\")\n",
    "edges = mesh_data.extract_all_edges()\n",
    "\n",
    "plotter = pv.Plotter()\n",
    "plotter.add_mesh(edges, color=\"black\")\n",
    "plotter.camera_position = \"xy\"\n",
    "\n",
    "fig = plt.figure(figsize=(10, 10))\n",
    "plt.imshow(plotter.show(interactive=False, return_img=True))\n",
    "plt.axis(\"off\");"
   ]
  },
  {
   "cell_type": "markdown",
   "metadata": {},
   "source": [
    "We now need the function spaces that are associated with this mesh. We follow the same definitions as our last exercise, and use the following definitions: \n"
   ]
  },
  {
   "cell_type": "code",
   "execution_count": null,
   "metadata": {},
   "outputs": [],
   "source": [
    "# Set up function spaces - currently using the bilinear Q2Q1 element pair:\n",
    "V = VectorFunctionSpace(mesh, \"CG\", 2)  # Velocity function space (vector)\n",
    "W = FunctionSpace(mesh, \"CG\", 1)  # Pressure function space (scalar)\n",
    "Q = FunctionSpace(mesh, \"CG\", 2)  # Temperature function space (scalar)\n",
    "Z = MixedFunctionSpace([V, W])  # Mixed function space.\n",
    "\n",
    "z = Function(Z)  # a field over the mixed function space Z.\n",
    "u, p = split(z)  # Returns symbolic UFL expression for u and p"
   ]
  },
  {
   "cell_type": "markdown",
   "metadata": {},
   "source": [
    "\n",
    "We choose the initial temperature distribution in a way so that our convection run produces 4 equidistant plumes. This initial temperature field is prescribed as:\n",
    "$$T(x,y) = (r_{\\text{max}} - r) + A\\cos(4 \\; atan2\\ (y,x))  \\sin(r-r_{\\text{min}}) \\pi)$$\n",
    "where $A=0.02$ is the amplitude of the initial perturbation. "
   ]
  },
  {
   "cell_type": "code",
   "execution_count": null,
   "metadata": {},
   "outputs": [],
   "source": [
    "# Set up temperature field and initialise:\n",
    "X = SpatialCoordinate(mesh)\n",
    "r = sqrt(X[0]**2 + X[1]**2)\n",
    "T = Function(Q, name=\"Temperature\")\n",
    "T.interpolate(rmax - r + 0.02*cos(4*atan_2(X[1], X[0])) * sin((r - rmin) * pi))"
   ]
  },
  {
   "cell_type": "code",
   "execution_count": null,
   "metadata": {
    "tags": [
     "nbval-ignore-output"
    ]
   },
   "outputs": [],
   "source": [
    "# Let's visualise the initial temperature field now\n",
    "File(\"temp.pvd\").write(T)\n",
    "temp_data = pv.read(\"temp_0.vtu\")\n",
    "plotter = pv.Plotter()\n",
    "plotter.add_mesh(temp_data)\n",
    "plotter.camera_position = \"xy\"\n",
    "\n",
    "fig = plt.figure(figsize=(10, 10))\n",
    "plt.imshow(plotter.show(interactive=False, return_img=True))\n",
    "plt.axis(\"off\");"
   ]
  },
  {
   "cell_type": "markdown",
   "metadata": {},
   "source": [
    "Next, we strategise our solutions for the energy equations. We use $\\theta$ time-stepping scheme for our enery solutions, and define our way of computing a time step consistent with a cfl condition number of 1.0."
   ]
  },
  {
   "cell_type": "code",
   "execution_count": null,
   "metadata": {},
   "outputs": [],
   "source": [
    "delta_t = Constant(1e-7)  # Initial time step\n",
    "t_adapt = TimestepAdaptor(delta_t, V, maximum_timestep=0.1, increase_tolerance=1.5)\n",
    "\n",
    "# Define time stepping parameters:\n",
    "steady_state_tolerance = 1e-7\n",
    "max_timesteps = 2000 \n",
    "time = 0.0"
   ]
  },
  {
   "cell_type": "markdown",
   "metadata": {},
   "source": [
    "## Boundary Condition: Introducting Weak Imposition of Boundary Conditions\n",
    "Boundary conditions for temperature are $T = 0$ at the surface ($r_{\\text{max}}$) and $T = 1$ at the base ($r_{\\text{min}}$).<br>\n",
    "For velocity boundary conditions we choose free‐slip velocity boundary conditions that are specified on both boundaries. We incorporate these <b>weakly</b> through the <i>Nitsche</i> approximation.\n",
    "### Weak Imposition of Boudary Conditions - Nitsche Penalty Method\n",
    "In curved domains, such as the 2-D cylindrical and 3-D spherical cases examined below, imposing free-slip boundary conditions \n",
    "is complicated by the fact that it is not straightforward to decompose the degrees of freedom of the velocity space V\n",
    "into tangential and lateral components for many finite element discretisations. For Lagrangian based discretisations we could\n",
    "define normal vectors at the Lagrangian nodes on the surface and decompose accordingly, but these normal vectors would have\n",
    "to be averaged due to the piecewise approximation of the curved surface. To avoid such complications for our examples in\n",
    "cylindrical and spherical geometries, we employ <i>a symmetric Nitsche penalty method</i>  where the velocity space\n",
    "is not restricted and, thus, retains all discrete solutions with a non-zero normal component.<br>\n",
    "\n",
    "This entails adding the following three surface integrals:\n",
    "\\begin{equation}\n",
    "  - \\int_{\\partial\\Omega} \\vec{v}\\cdot\\vec{n}~\n",
    "    \\vec{n}\\cdot \\left(\\mu \\left[\\nabla\\vec{u}\n",
    "    + \\left(\\nabla\\vec{u}\\right)^T\\right]\\right)\\cdot \\vec{n} \\ ds\n",
    "  - \\int_{\\partial\\Omega} \n",
    "    \\vec{n}\\cdot \\left(\\mu \\left[\\nabla\\vec{v}\n",
    "    + \\left(\\nabla\\vec{v}\\right)^T\\right]\\right)\\cdot \\vec{n}~\n",
    "    \\vec{u}\\cdot\\vec{n} \\ ds\n",
    "  + \\int_{\\partial\\Omega} C_{\\text{Nitsche}} \\, \\mu \\vec{v}\\cdot\\vec{n} ~ \\vec\n",
    "  u\\cdot\\vec{n} \\ ds .\n",
    "\\end{equation}\n",
    "\n",
    "\n",
    "The first of these corresponds to the normal component of stress \n",
    "associated with integration by parts of the viscosity term. The tangential\n",
    "component, as before, is omitted and weakly imposes a zero shear stress\n",
    "condition. The second term ensures symmetry of Equation \\eqref{eq:weak_mom} \n",
    "with respect to $\\vec{u}$ and $\\vec{v}$. The third term penalizes the normal\n",
    "component of $\\vec{u}$ and involves a penalty parameter $C_{\\text{Nitsche}}>0$\n",
    "that should be sufficiently large to ensure convergence.\n",
    "\n",
    "<br>\n",
    "coercivity of the bilinear form $F_{\\text{Stokes}}$ introduced in\n",
    "Lower bounds for $C_{\\text{Nitsche},f}$ on each face $f$ can be derived for simplicial \\citep{shahbazi_2005} and quadrilateral/hexahedral \\citep{hillewaert_2013} meshes\n",
    "\n",
    "Finally for the energy equation, we apply a simple $\\theta$ scheme "
   ]
  },
  {
   "cell_type": "code",
   "execution_count": null,
   "metadata": {},
   "outputs": [],
   "source": [
    "# Stokes related constants\n",
    "Ra = Constant(1e5)  # Rayleigh number\n",
    "approximation = BoussinesqApproximation(Ra)\n",
    "\n",
    "temp_bcs = {\n",
    "    bottom_id: {\"T\": 1.0},\n",
    "    top_id: {\"T\": 0.0},\n",
    "}\n",
    "\n",
    "stokes_bcs = {\n",
    "    bottom_id: {\"un\": 0},\n",
    "    top_id: {\"un\": 0},\n",
    "}"
   ]
  },
  {
   "cell_type": "markdown",
   "metadata": {},
   "source": [
    "### Nullspaces and near-nullspaces \n",
    "With a free-slip boundary condition on both boundaries, one can add an arbitrary rotation of the form $(-y, x)=r\\hat{\\mathbf{\\theta}}$ to the velocity solution (i.e. this case incorporates a velocity nullspace, as well as a pressure nullspace). These lead to null-modes (eigenvectors) for the linear system, rendering the resulting matrix singular. In preconditioned Krylov methods these null-modes must be subtracted from the approximate solution at every iteration.\n",
    "\n",
    "By using the GAMG preconditioner, we must provide near-nullspace information for the GAMG preconditioner, consisting of three rotational (`x_rotV`, `y_rotV`, `z_rotV`) and three translational (`nns_x`, `nns_y`, `nns_z`) modes (see GMD paper for details). \n",
    "\n",
    "We now update the Stokes problem to account for additional boundary conditions, and the Stokes solver to include the near nullspace options defined above, in addition to the optional `appctx` keyword argument that passes the viscosity through to our `MassInvPC` Schur complement preconditioner. Energy solver options are also updated relative to our base case, using the dictionary that is created before.\n"
   ]
  },
  {
   "cell_type": "code",
   "execution_count": null,
   "metadata": {},
   "outputs": [],
   "source": [
    "Z_nullspace = create_stokes_nullspace(Z, closed=True, rotational=True)\n",
    "Z_near_nullspace = create_stokes_nullspace(Z, closed=False, rotational=True, translations=[0, 1])\n",
    "\n",
    "energy_solver = EnergySolver(T, u, approximation, delta_t, ImplicitMidpoint, bcs=temp_bcs)\n",
    "stokes_solver = StokesSolver(z, T, approximation, bcs=stokes_bcs,\n",
    "                             cartesian=False,\n",
    "                             nullspace=Z_nullspace, transpose_nullspace=Z_nullspace,\n",
    "                             near_nullspace=Z_near_nullspace)"
   ]
  },
  {
   "cell_type": "markdown",
   "metadata": {},
   "source": [
    "### Main time stepping\n",
    "We can now initiate the time-loop, with the Stokes system solved seperately. These `solve` calls once again convert symbolic mathematics into computation. In the time loop, set here to run until we reach a steady-state (see `maxchange`), we compute the RMS velocity and surface Nusselt number for diagnostic purposes, and print these results every 50 timesteps. "
   ]
  },
  {
   "cell_type": "code",
   "execution_count": null,
   "metadata": {},
   "outputs": [],
   "source": [
    "for timestep in range(0, max_timesteps):\n",
    "    dt = t_adapt.update_timestep(u)\n",
    "    time += dt\n",
    "\n",
    "    # Solve Stokes sytem:\n",
    "    stokes_solver.solve()\n",
    "\n",
    "    # Temperature system:\n",
    "    energy_solver.solve()\n",
    "\n",
    "    # Compute diagnostics:\n",
    "    u_rms = sqrt(assemble(dot(u, u) * dx)) * sqrt(1./domain_volume)\n",
    "    f_ratio = rmin/rmax\n",
    "    top_scaling = -1.3290170684486309  # log(f_ratio) / (1.- f_ratio)\n",
    "    bot_scaling = -0.7303607313096079  # (f_ratio * log(f_ratio)) / (1.- f_ratio)\n",
    "    nusselt_number_top = (assemble(dot(grad(T), n) * ds_t) / assemble(1 * ds_t(domain=mesh))) * top_scaling\n",
    "    nusselt_number_base = (assemble(dot(grad(T), n) * ds_b) / assemble(1 * ds_b(domain=mesh))) * bot_scaling\n",
    "    energy_conservation = abs(abs(nusselt_number_top) - abs(nusselt_number_base))\n",
    "    average_temperature = assemble(T * dx) / domain_volume\n",
    "\n",
    "    # Calculate L2-norm of change in temperature:\n",
    "    maxchange = sqrt(assemble((T - energy_solver.T_old)**2 * dx))\n",
    "\n",
    "    if timestep % 100 == 0 or maxchange < steady_state_tolerance:\n",
    "        print(f\"{u_rms=}, Nu_t={nusselt_number_top}, Nu_b={nusselt_number_base}, {maxchange=}\")\n",
    "\n",
    "    # Leave if steady-state has been achieved:\n",
    "    if maxchange < steady_state_tolerance:\n",
    "        log(\"Steady-state achieved -- exiting time-step loop\")\n",
    "        break"
   ]
  },
  {
   "cell_type": "code",
   "execution_count": null,
   "metadata": {
    "tags": [
     "nbval-ignore-output"
    ]
   },
   "outputs": [],
   "source": [
    "# Let's visualise the initial temperature field now\n",
    "File(\"temp.pvd\").write(T)\n",
    "temp_data = pv.read(\"temp_0.vtu\")\n",
    "plotter = pv.Plotter()\n",
    "plotter.add_mesh(temp_data)\n",
    "plotter.camera_position = \"xy\"\n",
    "\n",
    "fig = plt.figure(figsize=(10, 10))\n",
    "plt.imshow(plotter.show(interactive=False, return_img=True))\n",
    "plt.axis(\"off\");"
   ]
  },
  {
   "cell_type": "markdown",
   "metadata": {},
   "source": [
    "### Exercise 7.2\n",
    "- Change the top boundary conditions from free-slip to no-slip (zero velocity) in the following script. The appropriate boundary condition can be set by using `DirichletBC`. Notice the change in `nullspaces` for this problem. "
   ]
  }
 ],
 "metadata": {
  "interpreter": {
   "hash": "2834c7709b7175be062475c9c8d239d84f48b92a4db284519cf4bc00989e411b"
  },
  "language_info": {
   "codemirror_mode": {
    "name": "ipython",
    "version": 3
   },
   "file_extension": ".py",
   "mimetype": "text/x-python",
   "name": "python",
   "nbconvert_exporter": "python",
   "pygments_lexer": "ipython3",
   "version": "3.11.4"
  }
 },
 "nbformat": 4,
 "nbformat_minor": 4
}

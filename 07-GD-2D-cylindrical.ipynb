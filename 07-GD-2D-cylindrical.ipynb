{
 "cells": [
  {
   "cell_type": "code",
   "execution_count": null,
   "metadata": {},
   "outputs": [],
   "source": [
    "# This magic makes plots appear \n",
    "%matplotlib inline\n",
    "import matplotlib.pyplot as plt\n",
    "\n",
    "import os\n",
    "os.environ[\"GADOPT_LOGLEVEL\"] = \"WARNING\"\n",
    "\n",
    "# Load Firedrake on Colab\n",
    "try:\n",
    "    import firedrake\n",
    "except ImportError:\n",
    "    !wget \"https://github.com/g-adopt/tutorials/releases/latest/download/firedrake-install-real.sh\" -O \"/tmp/firedrake-install.sh\" && bash \"/tmp/firedrake-install.sh\"\n",
    "    import firedrake"
   ]
  },
  {
   "cell_type": "markdown",
   "metadata": {},
   "source": [
    "# 2-D Annulus Case\n",
    "## Weak formulation\n",
    "As outlined in the previous tutorial, the weak formulation of the equations governing mantle dynamics are:<br>\n",
    "\n",
    "$$\\int_\\Omega (\\nabla \\vec{v})\\colon \\mu \\left[ \\nabla \\vec{u} + \\left( \\nabla \\vec{u} \\right)^T\\right] \\ dx \n",
    " - \\int_{\\Omega} \\left( \\nabla \\cdot \\vec{v}\\right)\\ p \\ dx\n",
    " - \\int_{\\Omega} Ra_0\\ T\\ \\vec{v}\\cdot\\hat{k} \\ dx = 0 \\ \\text{ for all } v\\in V,$$\n",
    "\n",
    "$$ \\int_\\Omega w \\nabla \\cdot \\vec{u} \\ dx\\ \\text{ for all } v\\in V,$$\n",
    "\n",
    "$$  \\int_\\Omega q\\frac{\\partial T}{\\partial t} \\ dx\n",
    "  + \\int_\\Omega q \\vec{u}\\cdot \\nabla T \\ dx \n",
    "  + \\int_\\Omega \\left(\\nabla q\\right) \\cdot \\left(\\kappa \\nabla T\\right) \\ dx = 0   \\text{ for all } q\\in Q.$$\n",
    "\n",
    "This example analyses mantle flow, subject to these same governing equations, in a 2-D annulus domain. We define our domain by the radii of the inner ($r_{\\text{min}}$) and outer ($r_{\\text{max}}$) boundaries. \n",
    "These are chosen such that the non--dimensional depth of the mantle, $z = r_{\\text{max}} - r_{\\text{min}} = 1$, and the ratio of the inner and outer radii, $f=r_{\\text{min}} / r_{\\text{max}} = 0.55$, \n",
    "thus approximating the ratio between the radii of Earth's surface and core-mantle-boundary (CMB). Specifically, we set $r_{\\text{min}} = 1.22$ and $r_{\\text{max}} = 2.22$.<br>\n",
    "\n",
    "This example focusses on differences between running simulations in a 2-D annulus and 2-D Cartesian domain. These can be summarised as follows:\n",
    "\\begin{enumerate}\n",
    "\\item The geometry of the problem - i.e. the computational mesh. \n",
    "\\item The radial direction of gravity (as opposed to the vertical direction in a Cartesian domain)\n",
    "\\item Initialisation of the temperature field.\n",
    "\\item With free-slip boundary conditions on both boundaries, this case incorporates a velocity nullspace, as well as a pressure nullspace.\n",
    "\\end{enumerate}"
   ]
  },
  {
   "cell_type": "code",
   "execution_count": null,
   "metadata": {},
   "outputs": [],
   "source": [
    "from gadopt import *\n",
    "import numpy as np\n",
    "import pyvista as pv # Used for plotting vtk output"
   ]
  },
  {
   "cell_type": "markdown",
   "metadata": {},
   "source": [
    "We first need a mesh. We generate a circular manifold mesh (with 32 elements in this example) and extrude in the radial direction, using the optional keyword argument `extrusion\\_type`, forming 8 layers. To better represent the curvature of the domain and ensure accuracy of our quadratic representation of velocity, we approximate the curved cylindrical shell domain quadratically, using the optional keyword argument `degree`$=2$."
   ]
  },
  {
   "cell_type": "code",
   "execution_count": null,
   "metadata": {},
   "outputs": [],
   "source": [
    "# Set up geometry:\n",
    "rmin, rmax, ncells, nlayers = 1.22, 2.22, 32, 8\n",
    "\n",
    "mesh1d = CircleManifoldMesh(ncells, radius=rmin, degree=2)\n",
    "mesh = ExtrudedMesh(mesh1d, layers=nlayers, extrusion_type='radial')\n",
    "\n",
    "bottom_id, top_id = \"bottom\", \"top\"\n",
    "n = FacetNormal(mesh)\n",
    "domain_volume = assemble(1 * dx(domain=mesh))"
   ]
  },
  {
   "cell_type": "markdown",
   "metadata": {},
   "source": [
    "### Exercise 7.1:\n",
    "- Visualise the generated mesh.\n",
    "\n",
    "- Change the number of radial layers (nlayers) and the lateral resolution (ncells) and visualise the mesh again."
   ]
  },
  {
   "cell_type": "code",
   "execution_count": null,
   "metadata": {
    "tags": [
     "nbval-ignore-output"
    ]
   },
   "outputs": [],
   "source": [
    "V = FunctionSpace(mesh, \"CG\", 1)\n",
    "File(\"mesh.pvd\").write(Function(V))\n",
    "mesh_data = pv.read(\"mesh_0.vtu\")\n",
    "edges = mesh_data.extract_all_edges()\n",
    "\n",
    "plotter = pv.Plotter(notebook=True)\n",
    "plotter.add_mesh(edges, color=\"black\")\n",
    "plotter.camera_position = \"xy\"\n",
    "\n",
    "plotter.show(jupyter_backend=\"static\", interactive=False)"
   ]
  },
  {
   "cell_type": "markdown",
   "metadata": {},
   "source": [
    "We now need the function spaces associated with this mesh, test functions and functions to hold our solutions. We follow the same definitions as our previous tutorial, using the bilinear Q2Q1 element pair for velocity and pressure and Q2 discretisation for temperature:"
   ]
  },
  {
   "cell_type": "code",
   "execution_count": null,
   "metadata": {},
   "outputs": [],
   "source": [
    "V = VectorFunctionSpace(mesh, \"CG\", degree=2)  # Velocity function space (vector)\n",
    "W = FunctionSpace(mesh, \"CG\", degree=1)  # Pressure function space (scalar)\n",
    "Q = FunctionSpace(mesh, \"CG\", degree=2)  # Temperature function space (scalar)\n",
    "Z = MixedFunctionSpace([V, W])  # Mixed function space\n",
    "v, w = TestFunctions(Z)\n",
    "q = TestFunction(Q)\n",
    "z = Function(Z)  # a field over the mixed function space Z.\n",
    "u, p = split(z)  # returns symbolic UFL expression for u and p\n",
    "T = Function(Q, name=\"Temperature\")"
   ]
  },
  {
   "cell_type": "markdown",
   "metadata": {},
   "source": [
    "\n",
    "We choose the initial temperature distribution to trigger upwelling of 4 equidistant plumes. This initial temperature field is prescribed as:\n",
    "$$T(x,y) = (r_{\\text{max}} - r) + A\\cos(4 \\; atan2\\ (y,x))  \\sin(r-r_{\\text{min}}) \\pi)$$\n",
    "\n",
    "where $A=0.02$ is the amplitude of the initial perturbation. "
   ]
  },
  {
   "cell_type": "code",
   "execution_count": null,
   "metadata": {},
   "outputs": [],
   "source": [
    "# Set up temperature field and initialise:\n",
    "X = SpatialCoordinate(mesh)\n",
    "r = sqrt(X[0]**2 + X[1]**2)\n",
    "T.interpolate(rmax - r + 0.02*cos(4*atan_2(X[1], X[0])) * sin((r - rmin) * pi))"
   ]
  },
  {
   "cell_type": "markdown",
   "metadata": {},
   "source": [
    "We can now visualise this initial temperature field:"
   ]
  },
  {
   "cell_type": "code",
   "execution_count": null,
   "metadata": {
    "tags": [
     "nbval-ignore-output"
    ]
   },
   "outputs": [],
   "source": [
    "File(\"temp.pvd\").write(T)\n",
    "temp_data = pv.read(\"temp_0.vtu\")\n",
    "plotter = pv.Plotter(notebook=True)\n",
    "plotter.add_mesh(temp_data)\n",
    "plotter.camera_position = \"xy\"\n",
    "\n",
    "plotter.show(jupyter_backend=\"static\", interactive=False)"
   ]
  },
  {
   "cell_type": "markdown",
   "metadata": {},
   "source": [
    "The Rayleigh number for this problem is defined in addition to the initial timestep $\\Delta t$. The viscosity and thermal diffusivity are left at their default values (both = 1). \n",
    "These constants are used to create an *Approximation* representing the physical setup of the problem (options include Boussinesq, Extended Boussinesq, Truncated Anelastic Liquid \n",
    "and Anelastic Liquid), and a *Timestep Adaptor*, for controlling the time-step length (via a CFL criterion) as the simulation advances in time. "
   ]
  },
  {
   "cell_type": "code",
   "execution_count": null,
   "metadata": {},
   "outputs": [],
   "source": [
    "Ra, delta_t = Constant(1e5), Constant(1e-6)\n",
    "\n",
    "approximation = BoussinesqApproximation(Ra)\n",
    "t_adapt = TimestepAdaptor(delta_t, V, maximum_timestep=0.1, increase_tolerance=1.5)"
   ]
  },
  {
   "cell_type": "markdown",
   "metadata": {},
   "source": [
    "Boundary conditions for temperature are set to $T = 0$ at the surface ($r_{\\text{max}}$) and $T = 1$ at the base ($r_{\\text{min}}$).\n",
    "For velocity, we specify free‐slip conditions on both boundaries. We incorporate these <b>weakly</b> through the <i>Nitsche</i> approximation.\n",
    "This illustrates a key advantage of the G-ADOPT framework: the user only specifies that the normal component of velocity is zero and all required changes are handled under the hood. "
   ]
  },
  {
   "cell_type": "code",
   "execution_count": null,
   "metadata": {},
   "outputs": [],
   "source": [
    "temp_bcs = {\n",
    "    bottom_id: {\"T\": 1.0},\n",
    "    top_id: {\"T\": 0.0},\n",
    "}\n",
    "\n",
    "stokes_bcs = {\n",
    "    bottom_id: {\"un\": 0},\n",
    "    top_id: {\"un\": 0},\n",
    "}"
   ]
  },
  {
   "cell_type": "markdown",
   "metadata": {},
   "source": [
    "As noted above, with a free-slip boundary condition on both boundaries, one can add an arbitrary rotation of the form $(-y, x)=r\\hat{\\mathbf{\\theta}}$ to the velocity solution (i.e. this case incorporates a velocity nullspace, as well as a pressure nullspace). These lead to null-modes (eigenvectors) for the linear system, rendering the resulting matrix singular. In preconditioned Krylov methods these null-modes must be subtracted from the approximate solution at every iteration. We do that below, setting up a nullspace object as we did in the previous tutorial, albeit speciying the `rotational` keyword argument to be True. Once again, this removes the requirement for a user to configure these options, further simplifying the task of setting up a (valid) geodynamical simulation. \n",
    "\n",
    "Given the increased computational expense (typically requiring more degrees of freedom) in a 2-D annulus domain, the G-ADOPT library defaults to iterative solver parameters (in 2-D Cartesian domains, the framework defaults to direct solver parameters). Our iterative solver setup is configured to use the GAMG preconditioner for the velocity block of the Stokes system, to which we must provide near-nullspace information, which consists of three rotational (`x_rotV`, `y_rotV`, `z_rotV`) and three translational (`nns_x`, `nns_y`, `nns_z`) modes (see Davies et al. (GMD, 2022) for details). "
   ]
  },
  {
   "cell_type": "code",
   "execution_count": null,
   "metadata": {},
   "outputs": [],
   "source": [
    "Z_nullspace = create_stokes_nullspace(Z, closed=True, rotational=True)\n",
    "Z_near_nullspace = create_stokes_nullspace(Z, closed=False, rotational=True, translations=[0, 1])"
   ]
  },
  {
   "cell_type": "markdown",
   "metadata": {},
   "source": [
    "We next come to solving the variational problem, with solver objects for the energy and Stokes systems created. For the energy system we pass in the solution field T, velocity u, the physical approximation, time step, temporal discretisation approach \n",
    "(i.e. implicit middle point, being equivalent to a Crank Nicholson scheme) and boundary conditions. For the Stokes system, we pass in the solution fields z, Temperature, the physical approximation, boundary condition, the nullspace and near nullspace objects. We also set the\n",
    "optional cartesian keyword argument to False, which ensures that the unit vector, $\\hat{\\vec{k}}$, points radially, in the direction opposite to gravity. Solution of the two variational problems is undertaken by PETSc. "
   ]
  },
  {
   "cell_type": "code",
   "execution_count": null,
   "metadata": {},
   "outputs": [],
   "source": [
    "energy_solver = EnergySolver(T, u, approximation, delta_t, ImplicitMidpoint, bcs=temp_bcs)\n",
    "stokes_solver = StokesSolver(z, T, approximation, bcs=stokes_bcs,\n",
    "                             cartesian=False,\n",
    "                             nullspace=Z_nullspace, transpose_nullspace=Z_nullspace,\n",
    "                             near_nullspace=Z_near_nullspace)"
   ]
  },
  {
   "cell_type": "markdown",
   "metadata": {},
   "source": [
    "We can now initiate the time-loop, with the Stokes and energy systems solved seperately. These `solve` calls once again convert symbolic mathematics into computation. In the time loop, set here to run for 2000 time-steps, we compute the RMS velocity and surface Nusselt number (using definitions from Jarvis, 1993) for diagnostic purposes, and print these results every 50 timesteps."
   ]
  },
  {
   "cell_type": "code",
   "execution_count": null,
   "metadata": {},
   "outputs": [],
   "source": [
    "no_timesteps = 2000\n",
    "time = 0\n",
    "\n",
    "for timestep in range(0, no_timesteps):\n",
    "    dt = t_adapt.update_timestep(u)\n",
    "    time += dt\n",
    "\n",
    "    stokes_solver.solve()\n",
    "    energy_solver.solve()\n",
    "\n",
    "    # Compute diagnostics:\n",
    "    u_rms = sqrt(assemble(dot(u, u) * dx)) * sqrt(1./domain_volume)\n",
    "    f_ratio = rmin/rmax\n",
    "    top_scaling = -1.3290170684486309  # log(f_ratio) / (1.- f_ratio)\n",
    "    bot_scaling = -0.7303607313096079  # (f_ratio * log(f_ratio)) / (1.- f_ratio)\n",
    "    nusselt_number_top = (assemble(dot(grad(T), n) * ds_t) / assemble(1 * ds_t(domain=mesh))) * top_scaling\n",
    "    nusselt_number_base = (assemble(dot(grad(T), n) * ds_b) / assemble(1 * ds_b(domain=mesh))) * bot_scaling\n",
    "\n",
    "    if timestep % 50 == 0:\n",
    "        print(f\"{u_rms=}, Nu_t={nusselt_number_top}, Nu_b={nusselt_number_base}, {maxchange=}\")"
   ]
  },
  {
   "cell_type": "markdown",
   "metadata": {},
   "source": [
    "We can now visualise the final temperature field:"
   ]
  },
  {
   "cell_type": "code",
   "execution_count": null,
   "metadata": {
    "tags": [
     "nbval-ignore-output"
    ]
   },
   "outputs": [],
   "source": [
    "File(\"temp.pvd\").write(T)\n",
    "temp_data = pv.read(\"temp_0.vtu\")\n",
    "plotter = pv.Plotter(notebook=True)\n",
    "plotter.add_mesh(temp_data)\n",
    "plotter.camera_position = \"xy\"\n",
    "\n",
    "plotter.show(jupyter_backend=\"static\", interactive=False)"
   ]
  },
  {
   "cell_type": "markdown",
   "metadata": {},
   "source": [
    "### Exercise 7.2\n",
    "- Change the top boundary conditions from free-slip to no-slip (zero velocity). Note that with zero-slip boundary conditions on each boundary, there is no velocity `nullspace` for this problem. "
   ]
  }
 ],
 "metadata": {
  "interpreter": {
   "hash": "2834c7709b7175be062475c9c8d239d84f48b92a4db284519cf4bc00989e411b"
  },
  "language_info": {
   "codemirror_mode": {
    "name": "ipython",
    "version": 3
   },
   "file_extension": ".py",
   "mimetype": "text/x-python",
   "name": "python",
   "nbconvert_exporter": "python",
   "pygments_lexer": "ipython3",
   "version": "3.11.4"
  }
 },
 "nbformat": 4,
 "nbformat_minor": 4
}

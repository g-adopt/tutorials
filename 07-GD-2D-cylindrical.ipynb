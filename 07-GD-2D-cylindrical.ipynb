{
 "cells": [
  {
   "cell_type": "code",
   "execution_count": null,
   "metadata": {},
   "outputs": [],
   "source": [
    "# This magic makes plots appear \n",
    "%matplotlib notebook\n",
    "%matplotlib inline\n",
    "import numpy as np\n",
    "# Load Firedrake on Colab\n",
    "try:\n",
    "    import firedrake\n",
    "except ImportError:\n",
    "    !wget \"https://fem-on-colab.github.io/releases/firedrake-install-real.sh\" -O \"/tmp/firedrake-install.sh\" && bash \"/tmp/firedrake-install.sh\"\n",
    "    import firedrake\n",
    "from firedrake.petsc import PETSc\n",
    "import matplotlib.pyplot as plt"
   ]
  },
  {
   "cell_type": "markdown",
   "metadata": {},
   "source": [
    "# 2-D Cylindrical Case\n",
    "We next examine simulations in a 2-D cylindrical domain.<br> \n",
    "\n",
    "We define our domain by the radii of the inner ($r_{\\text{min}}$) and outer ($r_{\\text{max}}$) boundaries. These are chosen such that the non--dimensional depth of the mantle,\n",
    "$z = r_{\\text{max}} - r_{\\text{min}} = 1$, and the ratio of the inner and outer radii, $f=r_{\\text{min}} / r_{\\text{max}} = 0.55$, thus approximating the ratio between the\n",
    "radii of Earth's surface and core-mantle-boundary (CMB). Specifically, we set $r_{\\text{min}} = 1.22$ and $r_{\\text{max}} = 2.22$.<br>\n",
    "\n",
    "\n"
   ]
  },
  {
   "cell_type": "code",
   "execution_count": null,
   "metadata": {},
   "outputs": [],
   "source": [
    "from firedrake import *\n",
    "from mpi4py import MPI\n",
    "# Quadrature degree for our integrals:\n",
    "dx = dx(degree=6)\n",
    "\n",
    "# Set up geometry:\n",
    "rmin, rmax, ncells, nlayers = 1.22, 2.22, 32, 8\n",
    "\n",
    "# Function to generate a cylindrical mesh\n",
    "# cylinder_mesh is replacing the following \n",
    "#mesh1d = CircleManifoldMesh(ncells, radius=rmin, degree=2)\n",
    "#mesh = ExtrudedMesh(mesh1d, layers=nlayers, extrusion_type='radial')\n",
    "def cylinder_mesh(rmin, rmax, ncells, nlayers):\n",
    "    cmesh = CylinderMesh(ncells, nlayers, quadrilateral=True)\n",
    "    coord_fs = VectorFunctionSpace(cmesh, FiniteElement(\"Q\", 'quadrilateral', 1, variant=\"equispaced\"), dim=2)\n",
    "    new_coords = Function(coord_fs)\n",
    "    new_coords.dat.data[:] = cmesh.coordinates.dat.data[:,:2] * (rmin + cmesh.coordinates.dat.data[:,2][:,np.newaxis] * (rmax-rmin))\n",
    "    mesh = Mesh(new_coords)\n",
    "    new_coords2 = Function(VectorFunctionSpace(mesh, \"CG\", 2))\n",
    "    new_coords2.interpolate(SpatialCoordinate(mesh))\n",
    "    x, y = SpatialCoordinate(mesh)\n",
    "    rlin = interpolate(sqrt(x**2 + y**2), FunctionSpace(mesh, \"CG\", 1))\n",
    "    new_coords2.interpolate(new_coords2/sqrt(new_coords2[0]**2 + new_coords2[1]**2) * rlin)\n",
    "    return Mesh(new_coords2)\n",
    "\n",
    "\n",
    "# generating mesh\n",
    "mesh = cylinder_mesh(rmin, rmax, ncells, nlayers)\n",
    "bottom_id, top_id = 1, 2 # the ids for the bottom surface and the top one \n",
    "n = FacetNormal(mesh)  # Normals, required for Nusselt number calculation\n",
    "domain_volume = assemble(1*dx(domain=mesh))  # Required for diagnostics (e.g. RMS velocity)\n",
    "top_surface = assemble(Constant(1, domain=mesh)*ds(1))\n",
    "bottom_surface = assemble(Constant(1, domain=mesh)*ds(2))"
   ]
  },
  {
   "cell_type": "markdown",
   "metadata": {},
   "source": [
    "### Exercise 7.1:\n",
    "- Visualise the generated mesh.\n",
    "\n",
    "- Change radial and lateral resolution and visualise the mesh again. \n"
   ]
  },
  {
   "cell_type": "code",
   "execution_count": null,
   "metadata": {},
   "outputs": [],
   "source": []
  },
  {
   "cell_type": "markdown",
   "metadata": {},
   "source": [
    "We now need the function spaces that are associated with this mesh. We follow the same definitions as our last exercise, and use the following definitions: \n"
   ]
  },
  {
   "cell_type": "code",
   "execution_count": null,
   "metadata": {},
   "outputs": [],
   "source": [
    "# Set up function spaces - currently using the bilinear Q2Q1 element pair:\n",
    "V = VectorFunctionSpace(mesh, \"CG\", 2)  # Velocity function space (vector)\n",
    "W = FunctionSpace(mesh, \"CG\", 1)  # Pressure function space (scalar)\n",
    "Q = FunctionSpace(mesh, \"CG\", 2)  # Temperature function space (scalar)\n",
    "Z = MixedFunctionSpace([V, W])  # Mixed function space.\n",
    "# Test functions and functions to hold solutions:\n",
    "v, w = TestFunctions(Z)\n",
    "q = TestFunction(Q)\n",
    "z = Function(Z)  # a field over the mixed function space Z.\n",
    "u, p = split(z)  # Returns symbolic UFL expression for u and p"
   ]
  },
  {
   "cell_type": "markdown",
   "metadata": {},
   "source": [
    "\n",
    "We choose the initial temperature distribution in a way so that our convection run produces 4 equidistant plumes. This initial temperature field is prescribed as:\n",
    "$$T(x,y) = (r_{\\text{max}} - r) + A\\cos(4 \\; atan2\\ (y,x))  \\sin(r-r_{\\text{min}}) \\pi)$$\n",
    "where $A=0.02$ is the amplitude of the initial perturbation. "
   ]
  },
  {
   "cell_type": "code",
   "execution_count": null,
   "metadata": {},
   "outputs": [],
   "source": [
    "# Set up temperature field and initialise:\n",
    "X = SpatialCoordinate(mesh)\n",
    "r = sqrt(X[0]**2 + X[1]**2)\n",
    "Told, Tnew = Function(Q, name=\"OldTemp\"), Function(Q, name=\"NewTemp\");\n",
    "pi = 3.141592653589793238\n",
    "Told.interpolate(rmax - r + 0.02*cos(4*atan_2(X[1], X[0])) * sin((r - rmin) * pi))\n",
    "Tnew.assign(Told)"
   ]
  },
  {
   "cell_type": "code",
   "execution_count": null,
   "metadata": {},
   "outputs": [],
   "source": [
    "# Let's visualise the initial temperature field now\n",
    "# NBVAL_IGNORE_OUTPUT\n",
    "fig, axes = plt.subplots()\n",
    "collection = tripcolor(Tnew, axes=axes, cmap='coolwarm')\n",
    "fig.colorbar(collection);"
   ]
  },
  {
   "cell_type": "markdown",
   "metadata": {},
   "source": [
    "Next, we strategise our solutions for the energy equations. We use $\\theta$ time-stepping scheme for our enery solutions, and define our way of computing a time step consistent with a cfl condition number of 1.0."
   ]
  },
  {
   "cell_type": "code",
   "execution_count": null,
   "metadata": {},
   "outputs": [],
   "source": [
    "# Temporal discretisation - Using a Crank-Nicholson scheme where theta = 0.5:\n",
    "Ttheta = 0.5*Tnew + (1 - 0.5)*Told\n",
    "\n",
    "# Define time stepping parameters:\n",
    "steady_state_tolerance = 1e-9\n",
    "max_timesteps = 2000 \n",
    "target_cfl_no = 1.0\n",
    "maximum_timestep = 0.1\n",
    "increase_tolerance = 1.5\n",
    "time = 0.0\n",
    "\n",
    "# Timestepping - CFL related stuff:\n",
    "ref_vel = Function(V, name=\"Reference_Velocity\")\n",
    "\n",
    "def compute_timestep(u, current_delta_t):\n",
    "    \"\"\"Return the timestep, based upon the CFL criterion\"\"\"\n",
    "\n",
    "    ref_vel.interpolate(dot(JacobianInverse(mesh), u))\n",
    "    ts_min = 1. / mesh.comm.allreduce(ref_vel.dat.data.max(), MPI.MAX)\n",
    "    # Grab (smallest) maximum permitted on all cores:\n",
    "    ts_max = min(float(current_delta_t) * increase_tolerance, maximum_timestep)\n",
    "    # Compute timestep:\n",
    "    tstep = min(ts_min * target_cfl_no, ts_max)\n",
    "    return tstep"
   ]
  },
  {
   "cell_type": "markdown",
   "metadata": {},
   "source": [
    "### Setting Solve Parameters - An iterative approach\n",
    "Although direct solves provide robust performance in small problems, in 3-D and large problems, the computational (CPU and memory) requirements quickly become intractable. PETSc's `fieldsplit pc_type` provides a class of preconditioners for mixed problems that allows one to apply different preconditioners to different blocks of the system. Here we configure the Schur complement approach (see GMD paper for more info) \n",
    "    \n",
    "The `fieldsplit_0` entries configure solver options for the first of these blocks, the $K$ matrix. The linear systems associated with this matrix are solved using a combination of the Conjugate Gradient method (`cg`, line 10) and an algebraic multigrid preconditioner (`gamg`, line 15). We also specify two options (`gamg_threshold` and `gamg_square_graph`) that control the aggregation method (coarsening strategy) in the GAMG preconditioner, which balance the multigrid effectiveness (convergence rate) with coarse grid complexity (cost per iteration).<br>\n",
    "\n",
    "`fieldsplit_1` contains solver options for the Schur complement solve. Here we approxmiate the Schur complement matrix with a mass matrix scaled by viscosity, which is implementd in `MassInvPC`, with the viscosity provided through the option `apptcx` (Line 29 of a few cells below).\n",
    "\n",
    " Specification of the matrix type `matfree` (line 3) for the combined system ensures that we do not explicitly assemble its associated sparse matrix, instead computing the matrix-vector multiplications required by the Krylov iterations as they arise. Again, for preconditioning in the $K$-matrix solve we need access to matrix values, which is achieved using `AssembledPC`. This explicitly assembles the $K$-matrix by extracting relevant terms from the `F_Stokes` form.\n",
    "\n",
    "Finally, the energy solve is performed through a combination of the GMRES (`gmres`) Krylov method and SSOR preconditioning (lines 27). For all iterative solves we specify a convergence criterion based on the relative reduction of the preconditioned residual (`ksp_rtol`)."
   ]
  },
  {
   "cell_type": "code",
   "execution_count": null,
   "metadata": {},
   "outputs": [],
   "source": [
    "# Stokes Equation Solver Parameters:\n",
    "stokes_solver_parameters = {\n",
    "    \"mat_type\": \"matfree\",\n",
    "    \"snes_type\": \"ksponly\",\n",
    "    \"ksp_type\": \"preonly\",\n",
    "    \"pc_type\": \"fieldsplit\",\n",
    "    \"pc_fieldsplit_type\": \"schur\",\n",
    "    \"pc_fieldsplit_schur_type\": \"full\",\n",
    "    \"fieldsplit_0\": {\n",
    "        \"ksp_type\": \"cg\",\n",
    "        \"ksp_rtol\": 1e-5,\n",
    "        #\"ksp_converged_reason\": None,\n",
    "        \"pc_type\": \"python\",\n",
    "        \"pc_python_type\": \"firedrake.AssembledPC\",\n",
    "        \"assembled_pc_type\": \"gamg\",\n",
    "        \"assembled_pc_gamg_threshold\": 0.01,\n",
    "        \"assembled_pc_gamg_square_graph\": 100,\n",
    "    },\n",
    "    \"fieldsplit_1\": {\n",
    "        \"ksp_type\": \"fgmres\",\n",
    "        \"ksp_rtol\": 1e-4,\n",
    "        #\"ksp_converged_reason\": None,\n",
    "        \"pc_type\": \"python\",\n",
    "        \"pc_python_type\": \"firedrake.MassInvPC\",\n",
    "        \"Mp_ksp_rtol\": 1e-5,\n",
    "        \"Mp_ksp_type\": \"cg\",\n",
    "        \"Mp_pc_type\": \"sor\",\n",
    "    }\n",
    "}\n",
    "\n",
    "# Energy Equation Solver Parameters:\n",
    "energy_solver_parameters = {\n",
    "    \"mat_type\": \"aij\",\n",
    "    \"snes_type\": \"ksponly\",\n",
    "    \"ksp_type\": \"gmres\",\n",
    "    \"ksp_rtol\": 1e-5,\n",
    "    #\"ksp_converged_reason\": None,\n",
    "    \"pc_type\": \"sor\",\n",
    "}"
   ]
  },
  {
   "cell_type": "markdown",
   "metadata": {},
   "source": [
    "## Boundary Condition: Introducting Weak Imposition of Boundary Conditions\n",
    "Boundary conditions for temperature are $T = 0$ at the surface ($r_{\\text{max}}$) and $T = 1$ at the base ($r_{\\text{min}}$).<br>\n",
    "For velocity boundary conditions we choose free‐slip velocity boundary conditions that are specified on both boundaries. We incorporate these <b>weakly</b> through the <i>Nitsche</i> approximation.\n",
    "### Weak Imposition of Boudary Conditions - Nitsche Penalty Method\n",
    "In curved domains, such as the 2-D cylindrical and 3-D spherical cases examined below, imposing free-slip boundary conditions \n",
    "is complicated by the fact that it is not straightforward to decompose the degrees of freedom of the velocity space V\n",
    "into tangential and lateral components for many finite element discretisations. For Lagrangian based discretisations we could\n",
    "define normal vectors at the Lagrangian nodes on the surface and decompose accordingly, but these normal vectors would have\n",
    "to be averaged due to the piecewise approximation of the curved surface. To avoid such complications for our examples in\n",
    "cylindrical and spherical geometries, we employ <i>a symmetric Nitsche penalty method</i>  where the velocity space\n",
    "is not restricted and, thus, retains all discrete solutions with a non-zero normal component.<br>\n",
    "\n",
    "This entails adding the following three surface integrals:\n",
    "\\begin{equation}\n",
    "  - \\int_{\\partial\\Omega} \\vec{v}\\cdot\\vec{n}~\n",
    "    \\vec{n}\\cdot \\left(\\mu \\left[\\nabla\\vec{u}\n",
    "    + \\left(\\nabla\\vec{u}\\right)^T\\right]\\right)\\cdot \\vec{n} \\ ds\n",
    "  - \\int_{\\partial\\Omega} \n",
    "    \\vec{n}\\cdot \\left(\\mu \\left[\\nabla\\vec{v}\n",
    "    + \\left(\\nabla\\vec{v}\\right)^T\\right]\\right)\\cdot \\vec{n}~\n",
    "    \\vec{u}\\cdot\\vec{n} \\ ds\n",
    "  + \\int_{\\partial\\Omega} C_{\\text{Nitsche}} \\, \\mu \\vec{v}\\cdot\\vec{n} ~ \\vec\n",
    "  u\\cdot\\vec{n} \\ ds .\n",
    "\\end{equation}\n",
    "\n",
    "\n",
    "The first of these corresponds to the normal component of stress \n",
    "associated with integration by parts of the viscosity term. The tangential\n",
    "component, as before, is omitted and weakly imposes a zero shear stress\n",
    "condition. The second term ensures symmetry of Equation \\eqref{eq:weak_mom} \n",
    "with respect to $\\vec{u}$ and $\\vec{v}$. The third term penalizes the normal\n",
    "component of $\\vec{u}$ and involves a penalty parameter $C_{\\text{Nitsche}}>0$\n",
    "that should be sufficiently large to ensure convergence.\n",
    "\n",
    "<br>\n",
    "coercivity of the bilinear form $F_{\\text{Stokes}}$ introduced in\n",
    "Lower bounds for $C_{\\text{Nitsche},f}$ on each face $f$ can be derived for simplicial \\citep{shahbazi_2005} and quadrilateral/hexahedral \\citep{hillewaert_2013} meshes\n",
    "\n",
    "Finally for the energy equation, we apply a simple $\\theta$ scheme "
   ]
  },
  {
   "cell_type": "code",
   "execution_count": null,
   "metadata": {},
   "outputs": [],
   "source": [
    "\n",
    "# Stokes related constants (note that since these are included in UFL, they are wrapped inside Constant):\n",
    "Ra = Constant(1e5)  # Rayleigh number\n",
    "mu = Constant(1.0)  # Viscosity\n",
    "k = as_vector((X[0], X[1])) / r\n",
    "C_ip = Constant(100.0)  # Fudge factor for interior penalty term used in weak imposition of BCs\n",
    "p_ip = 2  # Maximum polynomial degree of the _gradient_ of velocity\n",
    "\n",
    "# Temperature equation related constants:\n",
    "delta_t = Constant(1e-7)  # Initial time-step\n",
    "kappa = Constant(1.0)  # Thermal diffusivity\n",
    "\n",
    "# Stokes equations in UFL form:\n",
    "def stress(u):\n",
    "    return 2 * mu * sym(grad(u))\n",
    "# EXCERSIE 7.2 & 7.3\n",
    "F_stokes = inner(grad(v), stress(u)) * dx - div(v) * p * dx + dot(n, v) * p * (ds(top_id)+ds(bottom_id)) - (dot(v, k) * Ra * Ttheta) * dx\n",
    "F_stokes += -w * div(u) * dx + w * dot(n, u) * (ds(top_id)+ds(bottom_id))  # Continuity equation\n",
    "\n",
    "# nitsche free-slip BCs\n",
    "F_stokes += -dot(v, n) * dot(dot(n, stress(u)), n) * (ds(top_id)+ds(bottom_id))\n",
    "F_stokes += -dot(u, n) * dot(dot(n, stress(v)), n) * (ds(top_id)+ds(bottom_id))\n",
    "F_stokes += C_ip * mu * (p_ip + 1)**2 * FacetArea(mesh) / CellVolume(mesh) * dot(u, n) * dot(v, n) * (ds(top_id)+ds(bottom_id))\n",
    "\n",
    "# Energy equation in UFL form:\n",
    "F_energy = q * (Tnew - Told) / delta_t * dx + q * dot(u, grad(Ttheta)) * dx + dot(grad(q), kappa * grad(Ttheta)) * dx\n",
    "\n",
    "# Temperature boundary conditions\n",
    "bctb, bctt = DirichletBC(Q, 1.0, bottom_id), DirichletBC(Q, 0.0, top_id)\n",
    "#bcvt = DirichletBC(Z.sub(0), Constant((0,0)), top_id)\n"
   ]
  },
  {
   "cell_type": "markdown",
   "metadata": {},
   "source": [
    "### Nullspaces and near-nullspaces \n",
    "With a free-slip boundary condition on both boundaries, one can add an arbitrary rotation of the form $(-y, x)=r\\hat{\\mathbf{\\theta}}$ to the velocity solution (i.e. this case incorporates a velocity nullspace, as well as a pressure nullspace). These lead to null-modes (eigenvectors) for the linear system, rendering the resulting matrix singular. In preconditioned Krylov methods these null-modes must be subtracted from the approximate solution at every iteration.\n",
    "\n",
    "By using the GAMG preconditioner, we must provide near-nullspace information for the GAMG preconditioner, consisting of three rotational (`x_rotV`, `y_rotV`, `z_rotV`) and three translational (`nns_x`, `nns_y`, `nns_z`) modes (see GMD paper for details). \n",
    "\n",
    "We now update the Stokes problem to account for additional boundary conditions, and the Stokes solver to include the near nullspace options defined above, in addition to the optional `appctx` keyword argument that passes the viscosity through to our `MassInvPC` Schur complement preconditioner. Energy solver options are also updated relative to our base case, using the dictionary that is created before.\n"
   ]
  },
  {
   "cell_type": "code",
   "execution_count": null,
   "metadata": {},
   "outputs": [],
   "source": [
    "\n",
    "# Nullspaces and near-nullspaces:\n",
    "x_rotV = Function(V).interpolate(as_vector((-X[1], X[0])))\n",
    "V_nullspace = VectorSpaceBasis([x_rotV])\n",
    "V_nullspace.orthonormalize()\n",
    "p_nullspace = VectorSpaceBasis(constant=True)  # Constant nullspace for pressure n\n",
    "Z_nullspace = MixedVectorSpaceBasis(Z, [Z.sub(0), p_nullspace])  # Setting mixed nullspace\n",
    "\n",
    "# Generating near_nullspaces for GAMG:\n",
    "nns_x = Function(V).interpolate(Constant([1., 0.]))\n",
    "nns_y = Function(V).interpolate(Constant([0., 1.]))\n",
    "V_near_nullspace = VectorSpaceBasis([nns_x, nns_y, x_rotV])\n",
    "V_near_nullspace.orthonormalize()\n",
    "Z_near_nullspace = MixedVectorSpaceBasis(Z, [V_near_nullspace, Z.sub(1)])\n",
    "\n",
    "# To access functions with their appropriate names\n",
    "u, p = z.split()  # Do this first to extract individual velocity and pressure fields.\n",
    "# Next rename for output:\n",
    "u.rename(\"Velocity\")\n",
    "p.rename(\"Pressure\")\n",
    "\n",
    "# Setup problem and solver objects so we can reuse (cache) solver setup\n",
    "#stokes_problem = NonlinearVariationalProblem(F_stokes, z) #, bcs=[bcvt]) # velocity BC's handled through Nitsche\n",
    "stokes_problem = NonlinearVariationalProblem(F_stokes, z, bcs=[bcvt]) # velocity BC's handled through Nitsche\n",
    "stokes_solver = NonlinearVariationalSolver(\n",
    "    stokes_problem,\n",
    "    solver_parameters=stokes_solver_parameters,\n",
    "    appctx={\"mu\": mu},\n",
    "    nullspace=Z_nullspace,\n",
    "    transpose_nullspace=Z_nullspace,\n",
    "    near_nullspace=Z_near_nullspace\n",
    ")\n",
    "energy_problem = NonlinearVariationalProblem(F_energy, Tnew, bcs=[bctb, bctt])\n",
    "energy_solver = NonlinearVariationalSolver(energy_problem, solver_parameters=energy_solver_parameters)\n"
   ]
  },
  {
   "cell_type": "markdown",
   "metadata": {},
   "source": [
    "### Main time stepping\n",
    "We can now initiate the time-loop, with the Stokes system solved seperately. These `solve` calls once again convert symbolic mathematics into computation. In the time loop, set here to run until we reach a steady-state (see `maxchange`), we compute the RMS velocity and surface Nusselt number for diagnostic purposes, and print these results every 50 timesteps. "
   ]
  },
  {
   "cell_type": "code",
   "execution_count": null,
   "metadata": {},
   "outputs": [],
   "source": [
    "# Now perform the time loop:\n",
    "for timestep in range(0, max_timesteps):\n",
    "\n",
    "    current_delta_t = delta_t\n",
    "    if timestep != 0:\n",
    "        delta_t.assign(compute_timestep(u, current_delta_t))  # Compute adaptive time-step\n",
    "    time += float(delta_t)\n",
    "\n",
    "    # Solve Stokes sytem:\n",
    "    stokes_solver.solve()\n",
    "\n",
    "    # Temperature system:\n",
    "    energy_solver.solve()\n",
    "\n",
    "    # Compute diagnostics:\n",
    "    u_rms = sqrt(assemble(dot(u, u) * dx)) * sqrt(1./domain_volume)\n",
    "    f_ratio = rmin/rmax\n",
    "    top_scaling = -1.3290170684486309  # log(f_ratio) / (1.- f_ratio)\n",
    "    bot_scaling = -0.7303607313096079  # (f_ratio * log(f_ratio)) / (1.- f_ratio)\n",
    "    nusselt_number_top = (assemble(dot(grad(Tnew), n) * ds(top_id)) / assemble(Constant(1.0, domain=mesh)*ds(top_id))) * top_scaling\n",
    "    nusselt_number_base = (assemble(dot(grad(Tnew), n) * ds(bottom_id)) / assemble(Constant(1.0, domain=mesh)*ds(bottom_id))) * bot_scaling\n",
    "    energy_conservation = abs(abs(nusselt_number_top) - abs(nusselt_number_base))\n",
    "    average_temperature = assemble(Tnew * dx) / domain_volume\n",
    "\n",
    "    # Calculate L2-norm of change in temperature:\n",
    "    maxchange = sqrt(assemble((Tnew - Told)**2 * dx))\n",
    "\n",
    "    if timestep % 100 == 0 or maxchange < steady_state_tolerance:\n",
    "        PETSc.Sys.Print(f\"u_rms={u_rms}, Nu_t={nusselt_number_top}, Nu_b={nusselt_number_base}, maxchange={maxchange}\")\n",
    "\n",
    "    # Leave if steady-state has been achieved:\n",
    "    if maxchange < steady_state_tolerance:\n",
    "        log(\"Steady-state achieved -- exiting time-step loop\")\n",
    "        break\n",
    "\n",
    "    # Set Told = Tnew - assign the values of Tnew to Told\n",
    "    Told.assign(Tnew)"
   ]
  },
  {
   "cell_type": "code",
   "execution_count": null,
   "metadata": {},
   "outputs": [],
   "source": [
    "# Let's visualise the initial temperature field now\n",
    "# NBVAL_IGNORE_OUTPUT\n",
    "fig, axes = plt.subplots()\n",
    "collection = tripcolor(Tnew, axes=axes, cmap='coolwarm')\n",
    "fig.colorbar(collection);"
   ]
  },
  {
   "cell_type": "markdown",
   "metadata": {},
   "source": [
    "### Exercise 7.2\n",
    "- Change the top boundary conditions from free-slip to no-slip (zero velocity) in the following script. The appropriate boundary condition can be set by using `DirichletBC`. Notice the change in `nullspaces` for this problem. "
   ]
  }
 ],
 "metadata": {
  "interpreter": {
   "hash": "2834c7709b7175be062475c9c8d239d84f48b92a4db284519cf4bc00989e411b"
  },
  "kernelspec": {
   "display_name": "Python 3.9.12 ('firedrake')",
   "language": "python",
   "name": "python3"
  },
  "language_info": {
   "codemirror_mode": {
    "name": "ipython",
    "version": 3
   },
   "file_extension": ".py",
   "mimetype": "text/x-python",
   "name": "python",
   "nbconvert_exporter": "python",
   "pygments_lexer": "ipython3",
   "version": "3.9.12"
  },
  "orig_nbformat": 4
 },
 "nbformat": 4,
 "nbformat_minor": 2
}

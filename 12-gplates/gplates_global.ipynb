{
 "cells": [
  {
   "cell_type": "markdown",
   "id": "d93ae9c0",
   "metadata": {},
   "source": [
    "Global mantle convection simulation with sequentially imposed GPlates surface velocities\n",
    "========================================================================================\n",
    "\n",
    "In this tutorial, we transition from our idealised 3-D spherical\n",
    "shell geometry simulation to a scenario where surface velocities\n",
    "from a plate reconstruction model are used as the top-surface\n",
    "velocity boundary condition.  This type of simulation has been\n",
    "extensively used over recent decades to study the spatial and\n",
    "temporal evolution of mantle flow.  This tutorial builds on the\n",
    "*idealised 3-D spherical shell geometry simulation* and a user\n",
    "should follow that tutorial prior to this.\n",
    "\n",
    "This example focuses on:\n",
    "1. How to import GPlates functionalities into G-ADOPT. For being\n",
    "   able to import gadopt.gplates module you need to have a working\n",
    "   pyGPlates.  For more information on how to build pyGPlates see\n",
    "   [EarthByte's\n",
    "   page](https://www.earthbyte.org/category/resources/software-workflows/pygplates/).\n",
    "2. How to set prescribed boundary conditions.\n",
    "3. How to configure nullspaces in a setup where there are\n",
    "   constraints on tangential velocities at the surface.\n",
    "4. How to load a 1-D radial profile from a file (here, to prescribe\n",
    "   a spherically symmetric viscosity)\n",
    "\n",
    "Aside from these aspects, the case closely follows the previous 3-D\n",
    "spherical example.\n",
    "\n",
    "Let's begin with the usual import of G-ADOPT, set up of the mesh,\n",
    "function spaces, functions to hold our solutions, material\n",
    "properties, approximations and initial conditions:\n",
    "\n",
    "Note that sometimes we get a confusing `SyntaxWarning` during the\n",
    "set up. This is due to the pyGPlates module itself, but doesn't\n",
    "affect any functionality and is safe to ignore."
   ]
  },
  {
   "cell_type": "code",
   "execution_count": null,
   "id": "710fd054",
   "metadata": {},
   "outputs": [],
   "source": [
    "![ ! -f Muller_etal_2022_SE_1Ga_Opt_PlateMotionModel_v1.2.zip ] && wget https://earthbyte.org/webdav/ftp/Data_Collections/Muller_etal_2022_SE/Muller_etal_2022_SE_1Ga_Opt_PlateMotionModel_v1.2.zip && unzip Muller_etal_2022_SE_1Ga_Opt_PlateMotionModel_v1.2.zip\n",
    "![ ! -f mu2_radial.rad ] && wget https://raw.githubusercontent.com/g-adopt/g-adopt/refs/heads/master/demos/mantle_convection/gplates_global/mu2_radial.rad\n",
    "\n",
    "try:\n",
    "    from gadopt import *\n",
    "except ImportError:\n",
    "    !wget \"https://fem-on-colab.github.io/releases/firedrake-install-release-real.sh\" -O \"/tmp/firedrake-install.sh\" && bash \"/tmp/firedrake-install.sh\"\n",
    "    !pip install gadopt[demos] pygplates\n",
    "    from gadopt import *"
   ]
  },
  {
   "cell_type": "code",
   "execution_count": null,
   "id": "102023a3",
   "metadata": {},
   "outputs": [],
   "source": [
    "from gadopt.gplates import *\n",
    "import scipy.special\n",
    "import math\n",
    "rmin, rmax, ref_level, nlayers = 1.208, 2.208, 4, 8\n",
    "\n",
    "mesh2d = CubedSphereMesh(rmin, refinement_level=ref_level, degree=2)\n",
    "mesh = ExtrudedMesh(mesh2d, layers=nlayers, extrusion_type=\"radial\")\n",
    "mesh.cartesian = False\n",
    "bottom_id, top_id = \"bottom\", \"top\"\n",
    "domain_volume = assemble(1*dx(domain=mesh))  # Required for a diagnostic calculation.\n",
    "\n",
    "V = VectorFunctionSpace(mesh, \"CG\", 2)  # Velocity function space (vector)\n",
    "W = FunctionSpace(mesh, \"CG\", 1)  # Pressure function space (scalar)\n",
    "Q = FunctionSpace(mesh, \"CG\", 2)  # Temperature function space (scalar)\n",
    "Z = MixedFunctionSpace([V, W])  # Mixed function space.\n",
    "\n",
    "z = Function(Z)  # A field over the mixed function space Z.\n",
    "u, p = split(z)  # Returns symbolic UFL expression for u and p\n",
    "z.subfunctions[0].rename(\"Velocity\")\n",
    "z.subfunctions[1].rename(\"Pressure\")\n",
    "\n",
    "time = 0.0  # Initial time\n",
    "delta_t = Constant(1e-6)  # Initial time-step\n",
    "timesteps = 5  # Maximum number of timesteps\n",
    "t_adapt = TimestepAdaptor(delta_t, u, V, maximum_timestep=0.1, increase_tolerance=1.5)\n",
    "\n",
    "T = Function(Q, name=\"Temperature\")\n",
    "T_avg = Function(Q, name=\"Layer_Averaged_Temp\")\n",
    "T_dev = Function(Q, name=\"Temperature_Deviation\")\n",
    "\n",
    "X = SpatialCoordinate(mesh)\n",
    "r = sqrt(X[0]**2 + X[1]**2 + X[2]**2)\n",
    "theta = atan2(X[1], X[0])  # Theta (longitude - different symbol to Zhong)\n",
    "phi = atan2(sqrt(X[0]**2+X[1]**2), X[2])  # Phi (co-latitude - different symbol to Zhong)\n",
    "\n",
    "conductive_term = rmin*(rmax - r) / (r*(rmax - rmin))\n",
    "l, m, eps_c, eps_s = 3, 2, 0.01, 0.01\n",
    "Plm = Function(Q, name=\"P_lm\")\n",
    "cos_phi = Function(Q, name=\"cos_phi\").interpolate(cos(phi))\n",
    "Plm.dat.data[:] = scipy.special.lpmv(m, l, cos_phi.dat.data_ro)  # Evaluate P_lm node-wise using scipy lpmv\n",
    "Plm.assign(Plm*math.sqrt(((2*l+1)*math.factorial(l-m))/(2*math.pi*math.factorial(l+m))))\n",
    "if m == 0:\n",
    "    Plm.assign(Plm/math.sqrt(2))\n",
    "T.interpolate(conductive_term +\n",
    "              (eps_c*cos(m*theta) + eps_s*sin(m*theta)) * Plm * sin(pi*(r - rmin)/(rmax-rmin)))\n",
    "\n",
    "averager = LayerAveraging(mesh, quad_degree=6)\n",
    "averager.extrapolate_layer_average(T_avg, averager.get_layer_average(T))"
   ]
  },
  {
   "cell_type": "markdown",
   "id": "5336b1fb",
   "metadata": {},
   "source": [
    "## Loading a 1-D Axisymmetric Profile for Viscosity\n",
    "\n",
    "Earth's physical properties are primarily characterised by\n",
    "spherically symmetric (depth-dependent) features influenced\n",
    "predominantly by hydrostatic pressure variations. Here, we load a\n",
    "1-D viscosity profile, as utilised by Ghelichkhan et al. (2021) in\n",
    "*Geophysical Journal International* to model Earth's evolution\n",
    "during the Cenozoic era. We first set up our viscosity function\n",
    "space. The 1-D profile data is located in the file\n",
    "`./mu2_radial.rad`, and we will use interpolation functionalities\n",
    "provided by G-ADOPT to populate the viscosity field.\n",
    "\n",
    "This expression generates a warning from TSFC, the Two-Stage Form\n",
    "Compiler. The underlying interpolation routine on a non-Cartesian\n",
    "geometry hits an edge case in the form optimisation, but this can\n",
    "safely be ignored."
   ]
  },
  {
   "cell_type": "code",
   "execution_count": null,
   "id": "f945acdf",
   "metadata": {},
   "outputs": [],
   "source": [
    "mu = Function(Q, name=\"Viscosity\")\n",
    "interpolate_1d_profile(function=mu, one_d_filename=\"mu2_radial.rad\")"
   ]
  },
  {
   "cell_type": "markdown",
   "id": "a98ca241",
   "metadata": {},
   "source": [
    "Now that we have the viscosity profile we can pass this to our\n",
    "approximation."
   ]
  },
  {
   "cell_type": "code",
   "execution_count": null,
   "id": "d6182746",
   "metadata": {},
   "outputs": [],
   "source": [
    "Ra = Constant(7e3)  # Rayleigh number\n",
    "approximation = BoussinesqApproximation(Ra, mu=mu)"
   ]
  },
  {
   "cell_type": "markdown",
   "id": "38864fce",
   "metadata": {},
   "source": [
    "## Nullspaces:\n",
    "\n",
    "Our idealised 3-D spherical case had free-slip velocity boundary\n",
    "conditions at both top and bottom surfaces.  With those boundary\n",
    "conditions, the velocity component of the Stokes equation entails\n",
    "three rotational nullspaces in all three rotational directions. In\n",
    "the example considered herein, we impose the surface velocity as\n",
    "prescribed by a plate tectonic reconstructions and, hence, there is\n",
    "no longer a rotational nullspace. Accordingly, we set the\n",
    "`rotational` argument to `False` when creating the Z_nullspace\n",
    "object."
   ]
  },
  {
   "cell_type": "code",
   "execution_count": null,
   "id": "114c72bb",
   "metadata": {},
   "outputs": [],
   "source": [
    "Z_nullspace = create_stokes_nullspace(Z, closed=True, rotational=False)\n",
    "Z_near_nullspace = create_stokes_nullspace(Z, closed=False, rotational=True, translations=[0, 1, 2])"
   ]
  },
  {
   "cell_type": "markdown",
   "id": "87022c6e",
   "metadata": {},
   "source": [
    "Notice that near nullspaces remain consistent with the idealised 3-D\n",
    "spherical example, as they are a key aspect of our preconditioning\n",
    "approach.\n",
    "\n",
    "## pyGPlates interface in G-ADOPT\n",
    "\n",
    "Next, we define the surface velocities. All GPlates functionalities\n",
    "are accessible through the module `gadopt.gplates`. We will use the\n",
    "interface provided by G-ADOPT for pyGPlates. Similar to pyGPlates,\n",
    "the G-ADOPT interface requires specific files for loading and\n",
    "processing surface velocities from a reconstruction model. For this\n",
    "tutorial, we will use the study published by Muller et al., 2022.\n",
    "The files can be downloaded from EarthByte's server at:\n",
    "https://earthbyte.org/webdav/ftp/Data_Collections/Muller_etal_2022_SE/Muller_etal_2022_SE_1Ga_Opt_PlateMotionModel_v1.2.zip\n",
    "Download and unzip this file into the current\n",
    "directory. Below, we verify the required paths in this directory and\n",
    "ensure they exist:"
   ]
  },
  {
   "cell_type": "code",
   "execution_count": null,
   "id": "010ee7eb",
   "metadata": {},
   "outputs": [],
   "source": [
    "muller_2022_files = ensure_reconstruction(\"Muller 2022 SE v1.2\", \".\")"
   ]
  },
  {
   "cell_type": "code",
   "execution_count": null,
   "id": "6fa40e0d",
   "metadata": {
    "tags": [
     "active-ipynb"
    ]
   },
   "outputs": [],
   "source": [
    "# These are the files that needs to be passed on to pyGPlates\n",
    "print(muller_2022_files)"
   ]
  },
  {
   "cell_type": "markdown",
   "id": "b0f2163b",
   "metadata": {},
   "source": [
    "To generate a pyGplatesConnector in G-ADOPT, you need to provide the\n",
    "necessary rotation and topology files.  These files describe the\n",
    "plate polygons and their association with the Euler rotation poles\n",
    "at each stage of the reconstruction.  Additionally, you need to\n",
    "specify the oldest available age in the model, which for the\n",
    "reconstruction considered here is a billion years.  There are\n",
    "optional arguments with default values that can affect how the\n",
    "surface velocities are reconstructed.  `nseeds` is the number of\n",
    "points on a sphere used to initially load the plate reconstruction\n",
    "data, and `nneighbours` is the number of nearest points used to\n",
    "interpolate from the seed points to our 3-D mesh.  A lower `nseeds *\n",
    "1/nneighbours` ratio results in a smoother velocity representation\n",
    "at each age, and vice versa.  This is especially useful for\n",
    "simulations on coarser grids. Given that this tutorial considers a\n",
    "Rayleigh number several orders of magnitude lower than Earth's\n",
    "mantle, we also scale plate velocities using an optional\n",
    "scaling_factor."
   ]
  },
  {
   "cell_type": "code",
   "execution_count": null,
   "id": "40f2eca8",
   "metadata": {},
   "outputs": [],
   "source": [
    "plate_reconstruction_model = pyGplatesConnector(\n",
    "    rotation_filenames=muller_2022_files[\"rotation_filenames\"],\n",
    "    topology_filenames=muller_2022_files[\"topology_filenames\"],\n",
    "    oldest_age=1000,\n",
    "    nseeds=1e5,\n",
    "    nneighbours=4,\n",
    "    delta_t=0.9,\n",
    "    scaling_factor=1000.\n",
    ")"
   ]
  },
  {
   "cell_type": "markdown",
   "id": "caeae33b",
   "metadata": {},
   "source": [
    "A plate reconstruction model includes an essential feature for\n",
    "simulations of Earth's mantle in which the distribution of\n",
    "heterogeneity is principally dictated by plate boundaries.This\n",
    "feature depends on the imported data through the plate\n",
    "reconstruction and allows for conversions between *time*\n",
    "(non-dimensional time here) and geologic *age*. To achieve this, you\n",
    "can use `age2ndtime` and `ndtime2age`.\n",
    "\n",
    "For example, the starting time (zero time) and present-day time (zero age) are:"
   ]
  },
  {
   "cell_type": "code",
   "execution_count": null,
   "id": "1cd42cb8",
   "metadata": {
    "tags": [
     "active-ipynb"
    ]
   },
   "outputs": [],
   "source": [
    "log(f\"Oldest age is {plate_reconstruction_model.ndtime2age(0.0)}\")\n",
    "log(f\"non-dimensionalised present-day time: {plate_reconstruction_model.age2ndtime(0.0)}\")"
   ]
  },
  {
   "cell_type": "markdown",
   "id": "ad4b760d",
   "metadata": {},
   "source": [
    "With the plate reconstruction model loaded using\n",
    "`pyGplatesConnector``, we can now generate the velocity field.  This\n",
    "is done using `GplatesVelocityFunction`. For all practical purposes,\n",
    "it behaves as a UFL-compatible Function. However, defining it\n",
    "requires two additional arguments. One is the `gplates_connector`,\n",
    "which we defined above, and the second is the subdomain marker of\n",
    "the top boundary in the mesh. Other arguments are identical to a\n",
    "Firedrake Function, meaning at minimum a FunctionSpace should be\n",
    "provided for the Function, which here is `V`, and optionally a name\n",
    "for the function."
   ]
  },
  {
   "cell_type": "code",
   "execution_count": null,
   "id": "5ecbb119",
   "metadata": {},
   "outputs": [],
   "source": [
    "# Top velocity boundary condition\n",
    "gplates_velocities = GplatesVelocityFunction(\n",
    "    V,\n",
    "    gplates_connector=plate_reconstruction_model,\n",
    "    top_boundary_marker=top_id,\n",
    "    name=\"GPlates_Velocity\"\n",
    ")"
   ]
  },
  {
   "cell_type": "markdown",
   "id": "bc25ffcf",
   "metadata": {},
   "source": [
    "Once this is defined, we can use\n",
    "`gplates_velocities.update_plate_reconstruction(time)` to update the\n",
    "velocity function to a new time. Note that time is\n",
    "non-dimensional. Since `GplatesVelocityFunction` is a Firedrake\n",
    "function for all purposes, it can be easily viewed using VTK\n",
    "functionalities in Firedrake."
   ]
  },
  {
   "cell_type": "code",
   "execution_count": null,
   "id": "9eaa1565",
   "metadata": {
    "tags": [
     "active-ipynb"
    ]
   },
   "outputs": [],
   "source": [
    "vtk_file = VTKFile(\"gplates_velocity.pvd\")\n",
    "for mytime in [200, 100, 0]:\n",
    "    gplates_velocities.update_plate_reconstruction(ndtime=plate_reconstruction_model.age2ndtime(mytime))\n",
    "    vtk_file.write(gplates_velocities)\n",
    "\n",
    "import pyvista as pv\n",
    "pv.set_jupyter_backend(\"static\")\n",
    "pv.global_theme.notebook = True\n",
    "pv.start_xvfb()\n",
    "import os\n",
    "dataset = pv.read(\"gplates_velocity/gplates_velocity_0.vtu\")\n",
    "\n",
    "# Create a plotter object\n",
    "plotter = pv.Plotter()\n",
    "# Whether our plot should be interactive or not\n",
    "backend = None\n",
    "if os.environ.get(\"GADOPT_RENDER\", \"false\").lower() == \"true\":\n",
    "    backend = \"static\"\n",
    "# Add the dataset to the plotter\n",
    "plotter.add_mesh(dataset, scalars=\"GPlates_Velocity\", cmap=\"coolwarm\")\n",
    "glyphs = dataset.glyph(orient=\"GPlates_Velocity\", scale=1, factor=1e-4)\n",
    "# Add glyphs to the plotter\n",
    "plotter.add_mesh(glyphs, color=\"black\", opacity=0.2)\n",
    "# Adjust the camera position\n",
    "plotter.camera_position = [(10.0, 10.0, 10.0), (0.0, 0.0, 0), (0, 1, 0)]\n",
    "# Show the plot\n",
    "plotter.show(jupyter_backend=backend)"
   ]
  },
  {
   "cell_type": "markdown",
   "id": "787c7811",
   "metadata": {},
   "source": [
    "And last but not least, we need to inform our solver of our choice\n",
    "of boundary conditions. This is done by adding it to the\n",
    "`stokes_bcs` dictionary. From there to the end of the simulation,\n",
    "everything works seamlessly by updating `gplates_velocities` via a\n",
    "call to `gplates_velocities.update_plate_reconstruction(time)`\n",
    "within the time loop."
   ]
  },
  {
   "cell_type": "code",
   "execution_count": null,
   "id": "d21eeb5f",
   "metadata": {},
   "outputs": [],
   "source": [
    "stokes_bcs = {\n",
    "    bottom_id: {'un': 0},\n",
    "    top_id: {'u': gplates_velocities},\n",
    "}\n",
    "\n",
    "temp_bcs = {\n",
    "    bottom_id: {'T': 1.0},\n",
    "    top_id: {'T': 0.0},\n",
    "}\n",
    "\n",
    "output_file = VTKFile(\"output.pvd\")\n",
    "output_frequency = 1\n",
    "\n",
    "plog = ParameterLog(\"params.log\", mesh)\n",
    "plog.log_str(\"timestep time age dt maxchange u_rms u_rms_top nu_top nu_base energy avg_t\")\n",
    "\n",
    "gd = GeodynamicalDiagnostics(z, T, bottom_id, top_id, quad_degree=6)\n",
    "\n",
    "energy_solver = EnergySolver(T, u, approximation, delta_t, ImplicitMidpoint, bcs=temp_bcs)\n",
    "\n",
    "stokes_solver = StokesSolver(z, T, approximation, bcs=stokes_bcs,\n",
    "                             constant_jacobian=True,\n",
    "                             nullspace=Z_nullspace, transpose_nullspace=Z_nullspace,\n",
    "                             near_nullspace=Z_near_nullspace)"
   ]
  },
  {
   "cell_type": "markdown",
   "id": "e27b283f",
   "metadata": {},
   "source": [
    "Before we begin with the time-stepping, we need to know when to\n",
    "stop, which is when we arrive at the present-day.  To achieve this,\n",
    "we define `presentday_ndtime` which tells us when the simulation\n",
    "should end.  Note that this tutorial terminates after reaching a\n",
    "specified number of timesteps, prior to reaching the present-day."
   ]
  },
  {
   "cell_type": "code",
   "execution_count": null,
   "id": "3db7fcb3",
   "metadata": {},
   "outputs": [],
   "source": [
    "presentday_ndtime = plate_reconstruction_model.age2ndtime(0.0)\n",
    "\n",
    "for timestep in range(0, timesteps):\n",
    "\n",
    "    # Write output:\n",
    "    if timestep % output_frequency == 0:\n",
    "        # Compute radially averaged temperature profile as simulation evolves.\n",
    "        averager.extrapolate_layer_average(T_avg, averager.get_layer_average(T))\n",
    "        # Compute deviation from layer average\n",
    "        T_dev.assign(T-T_avg)\n",
    "        # Output fields, including viscosity\n",
    "        output_file.write(*z.subfunctions, T, T_dev, mu)\n",
    "\n",
    "    if timestep != 0:\n",
    "        dt = t_adapt.update_timestep()\n",
    "    else:\n",
    "        dt = float(delta_t)\n",
    "    time += dt\n",
    "\n",
    "    # Update plate velocities:\n",
    "    gplates_velocities.update_plate_reconstruction(time)\n",
    "\n",
    "    # Solve Stokes sytem:\n",
    "    stokes_solver.solve()\n",
    "\n",
    "    # Temperature system:\n",
    "    energy_solver.solve()\n",
    "\n",
    "    # Compute diagnostics:\n",
    "    nusselt_number_top = gd.Nu_top() * (rmax*(rmin-rmax)/rmin) * -1.\n",
    "    nusselt_number_base = gd.Nu_bottom() * (rmin*(rmax-rmin)/rmax)\n",
    "    energy_conservation = abs(abs(nusselt_number_top) - abs(nusselt_number_base))\n",
    "\n",
    "    # Calculate L2-norm of change in temperature:\n",
    "    maxchange = sqrt(assemble((T - energy_solver.T_old)**2 * dx))\n",
    "\n",
    "    # Log diagnostics:\n",
    "    plog.log_str(f\"{timestep} {time} {plate_reconstruction_model.ndtime2age(time)} {float(delta_t)} \"\n",
    "                 f\"{maxchange} {gd.u_rms()} {gd.u_rms_top()} \"\n",
    "                 f\"{nusselt_number_top} {nusselt_number_base} \"\n",
    "                 f\"{energy_conservation} {gd.T_avg()} \")\n",
    "\n",
    "    # Do not go over present-day\n",
    "    if time > presentday_ndtime:\n",
    "        break"
   ]
  },
  {
   "cell_type": "markdown",
   "id": "38caddf3",
   "metadata": {},
   "source": [
    "At the end of the simulation, once a steady-state has been achieved,\n",
    "we close our logging file and checkpoint steady state temperature\n",
    "and Stokes solution fields to disk. These can later be used to\n",
    "restart a simulation, if required."
   ]
  },
  {
   "cell_type": "code",
   "execution_count": null,
   "id": "72be09b6",
   "metadata": {},
   "outputs": [],
   "source": [
    "plog.close()\n",
    "\n",
    "with CheckpointFile(\"Final_State.h5\", \"w\") as final_checkpoint:\n",
    "    final_checkpoint.save_mesh(mesh)\n",
    "    final_checkpoint.save_function(T, name=\"Temperature\")\n",
    "    final_checkpoint.save_function(z, name=\"Stokes\")"
   ]
  }
 ],
 "metadata": {
  "jupytext": {
   "cell_metadata_filter": "tags,-all",
   "main_language": "python",
   "notebook_metadata_filter": "-all"
  }
 },
 "nbformat": 4,
 "nbformat_minor": 5
}

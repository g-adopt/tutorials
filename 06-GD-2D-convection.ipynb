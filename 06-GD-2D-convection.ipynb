{
 "cells": [
  {
   "cell_type": "markdown",
   "metadata": {},
   "source": [
    "# 2 Dimensional mantle convection problem in a square box\n",
    "We change our focus to the slow creeping motion of Earth’s mantle \n",
    "over geological timescales.<br>\n",
    "\n",
    "## Governing Equations - Strong Formulation\n",
    "The equations governing mantle convection\n",
    "are derived from the conservation laws of mass, momentum and energy.\n",
    "The simplest mathematical formulation assumes incompressibility and\n",
    "the Boussinesq approximation (McKenzie et al., 1973), under which the\n",
    "non–dimensional momentum and continuity equations are given by:<br>\n",
    "\n",
    "$$\\nabla \\cdot \\mathbb{\\sigma} + Ra_0 \\ T \\ \\hat{k} = 0,$$\n",
    "$$\\nabla \\cdot \\vec{u} = 0$$\n",
    "\n",
    "where $\\sigma$ is the stress tensor, $\\vec{u}$ is the velocity and T temperature. $\\hat{k}$ is the unit vector in the direction opposite to gravity and\n",
    "$Ra_0$ denotes the Rayleigh number, a dimensionless number that quantifies the vigor of convection:\n",
    "\n",
    "$$Ra0 = \\frac{\\rho_0 \\alpha \\Delta T g d^3}{\\mu_0 \\kappa}$$\n",
    "\n",
    "Here, $\\rho_0$ denotes reference density, $\\alpha$ the thermal expansion \n",
    "coefficient, $\\Delta T$ the characteristic temperature change across the\n",
    "domain, $g$ the gravitational acceleration, $d$ the characteristic length,\n",
    "$\\mu_0$ the reference dynamic viscosity and $\\kappa$ the thermal\n",
    "diffusivity. <br>\n",
    "\n",
    "## Governing Equations - Weak Formulation<br>\n",
    "\n",
    "For the derivation of the finite element discretisation of Equations above, we start by writing these in their weak form.\n",
    "We select appropriate function spaces V, W, and Q that contain, respectively, the solution fields for velocity u, pressure p, and\n",
    "temperature T , and also contain the test functions v, w and q. The weak form is then obtained by multiplying these equations\n",
    "with the test functions and integrating over the domain $\\Omega$ to have \n",
    "\n",
    "$$\\int_\\Omega (\\nabla \\vec{v})\\colon \\mu \\left[ \\nabla \\vec{u} + \\left( \\nabla \\vec{u} \\right)^T\\right] \\ dx \n",
    " - \\int_{\\Omega} \\left( \\nabla \\cdot \\vec{v}\\right)\\ p \\ dx\n",
    " - \\int_{\\Omega} Ra_0\\ T\\ \\vec{v}\\cdot\\hat{k} \\ dx = 0 \\ \\text{ for all } v\\in V,$$\n",
    "\n",
    "$$ \\int_\\Omega w \\nabla \\cdot \\vec{u} \\ dx\\ \\text{ for all } v\\in V,$$\n",
    "\n",
    "$$  \\int_\\Omega q\\frac{\\partial T}{\\partial t} \\ dx\n",
    "  + \\int_\\Omega q \\vec{u}\\cdot \\nabla T \\ dx \n",
    "  + \\int_\\Omega \\left(\\nabla q\\right) \\cdot \\left(\\kappa \\nabla T\\right) \\ dx = 0   \\text{ for all } q\\in Q.$$\n",
    " \n",
    "\n",
    "Finite element discretisation proceeds by restricting these function spaces to \n",
    "finite-dimensional subspaces. These are typically constructed by dividing the domain\n",
    "into cells or elements, and restricting to piecewise polynomial subspaces with\n",
    "various continuity requirements between cells\n",
    "\n",
    "## Do we need to say something about BConditions?\n",
    "\n",
    "\n",
    "## Implementation\n",
    "\n"
   ]
  },
  {
   "cell_type": "code",
   "execution_count": null,
   "metadata": {},
   "outputs": [],
   "source": [
    "%matplotlib notebook\n",
    "import matplotlib.pyplot as plt\n",
    "# Load Firedrake on Colab\n",
    "try:\n",
    "    import firedrake\n",
    "except ImportError:\n",
    "    !wget \"https://fem-on-colab.github.io/releases/firedrake-install-real.sh\" -O \"/tmp/firedrake-install.sh\" && bash \"/tmp/firedrake-install.sh\"\n",
    "    import firedrake"
   ]
  },
  {
   "cell_type": "markdown",
   "metadata": {},
   "source": [
    "We next need a mesh: for simple domains such as the unit square, \n",
    "Firedrake provides built-in meshing functions. As such, the following code \n",
    "defines the mesh, with 40 quadrilateral elements in x and y directions. "
   ]
  },
  {
   "cell_type": "code",
   "execution_count": 5,
   "metadata": {},
   "outputs": [],
   "source": [
    "# Mesh - use a built in meshing function:\n",
    "mesh = UnitSquareMesh(40, 40, quadrilateral=True)\n",
    "left, right, bottom, top = 1, 2, 3, 4  # Boundary IDs"
   ]
  },
  {
   "cell_type": "markdown",
   "metadata": {},
   "source": [
    "We also need function spaces, which is achieved by associating the mesh with \n",
    "the relevant finite element: V , W and Q are symbolic variables\n",
    "representing function spaces. They also contain the function space’s \n",
    "computational implementation, recording the association of degrees of freedom\n",
    "with the mesh and pointing to the finite element basis. <br><br>\n",
    "\n",
    "Function spaces can be combined in the natural way to create mixed function spaces,\n",
    "as we do on line 5 of the following code, combining the velocity and pressure\n",
    "function spaces to form a function space for the mixed Stokes problem, Z.\n"
   ]
  },
  {
   "cell_type": "code",
   "execution_count": 6,
   "metadata": {},
   "outputs": [],
   "source": [
    "# Function spaces:\n",
    "V = VectorFunctionSpace(mesh, family=\"CG\", degree=2)  # Velocity function space (vector)\n",
    "W = FunctionSpace(mesh, family=\"CG\", degree=1)  # Pressure function space (scalar)\n",
    "Q = FunctionSpace(mesh, family=\"CG\", degree=2)  # Temperature function space (scalar)\n",
    "Z = MixedFunctionSpace([V, W])  # Mixed function space"
   ]
  },
  {
   "cell_type": "markdown",
   "metadata": {},
   "source": [
    "Test functions, v, w and q are subsequently defined and we also specify functions to hold our solutions: z in the mixed function space, noting that a symbolic representation of the two parts – velocity and pressure – is obtained with\n",
    "split, and Told and Tnew, required for the Crank-Nicolson scheme used for temporal discretisation in our energy equation, where $T_\\theta$  is defined."
   ]
  },
  {
   "cell_type": "code",
   "execution_count": 7,
   "metadata": {},
   "outputs": [],
   "source": [
    "# Test functions and functions to hold solutions:\n",
    "v, w = TestFunctions(Z)\n",
    "q = TestFunction(Q)\n",
    "z = Function(Z)\n",
    "u, p = split(z)  # Returns symbolic UFL expression for u and p\n",
    "Told, Tnew = Function(Q, name=\"OldTemp\"), Function(Q, name=\"NewTemp\")\n",
    "Ttheta = 0.5 * Tnew + 0.5 * Told  # Temporal discretisation through Crank-Nicholson"
   ]
  },
  {
   "cell_type": "markdown",
   "metadata": {},
   "source": [
    "Mantle convection is an initial condition problem. For our first try, we assume the initial temperature distribution to be prescribed by<br> \n",
    "\n",
    "$T(x,y) = (1-y) + 0.05\\ cos(\\pi x)\\ sin(\\pi y)$ <br>\n",
    "\n",
    "In the following code, we first obtain symbolic expressions for coordinates in the physical mesh and subsequently use these to initialize the old temperature field. "
   ]
  },
  {
   "cell_type": "code",
   "execution_count": 8,
   "metadata": {},
   "outputs": [
    {
     "data": {
      "text/plain": [
       "Coefficient(WithGeometry(FunctionSpace(<firedrake.mesh.MeshTopology object at 0x1064ae7f0>, FiniteElement('Q', quadrilateral, 2), name=None), Mesh(VectorElement(FiniteElement('Q', quadrilateral, 1), dim=2), 1)), 6)"
      ]
     },
     "execution_count": 8,
     "metadata": {},
     "output_type": "execute_result"
    }
   ],
   "source": [
    "# Initialise temperature field:\n",
    "X = SpatialCoordinate(mesh)\n",
    "Told.interpolate(1.0 - X[1] + 0.05 * cos(pi * X[0]) * sin(pi * X[1]))\n",
    "Tnew.assign(Told)"
   ]
  },
  {
   "cell_type": "markdown",
   "metadata": {},
   "source": [
    "### Exercise 6.1 \n",
    "<ul>\n",
    "  <li>Visualise Told and show how it looks like.</li>\n",
    "</ul>\n"
   ]
  },
  {
   "cell_type": "code",
   "execution_count": null,
   "metadata": {},
   "outputs": [],
   "source": [
    "# \n",
    "import matplotlib.pyplot as plt\n",
    "fig, axes = plt.subplots()\n",
    "collection = tripcolor(Told, axes=axes, cmap='coolwarm')\n",
    "fig.colorbar(collection);"
   ]
  },
  {
   "cell_type": "markdown",
   "metadata": {},
   "source": [
    "Next, we initialize Tnew with the values of Told, via the assign\n",
    "function. Important constants in this problem (Rayleigh Number, Ra; viscosity, μ; thermal diffusivity, κ), in addition to the\n",
    "constant timestep $\\Delta t$ and unit vector $\\hat{k}$, are defined next. We note that viscosity could also be a Function, if we\n",
    "wanted spatial variation."
   ]
  },
  {
   "cell_type": "code",
   "execution_count": null,
   "metadata": {},
   "outputs": [],
   "source": [
    "# Important constants:\n",
    "Ra, mu, kappa, delta_t = Constant(1e4), Constant(1.0), Constant(1.0), Constant(1e-6)\n",
    "k = Constant((0, 1))  # Unit vector (in direction opposite to gravity)"
   ]
  },
  {
   "cell_type": "markdown",
   "metadata": {},
   "source": [
    "We are now in a position to define the variational problems expressed in our weak formulation above.\n",
    "We maintain the more general nonlinear residual form $F_{Stokes}(v, u) = 0$ and $F_{energy}(q, T)$ = 0, to allow\n",
    "for straightforward extension to nonlinear problems later. Here we provide the symbolic expressions for $F_{Stokes}$ and $F_{Energy}$ in the UFL: the resemblance to the mathematical formulation is immediately apparent. "
   ]
  },
  {
   "cell_type": "code",
   "execution_count": null,
   "metadata": {},
   "outputs": [],
   "source": [
    "# Stokes equations in UFL form:\n",
    "stress = 2 * mu * sym(grad(u))\n",
    "F_stokes = inner(grad(v), stress) * dx - div(v) * p * dx - (dot(v, k) * Ra * Ttheta) * dx\n",
    "F_stokes += -w * div(u) * dx  # Continuity equation\n",
    "# Energy equation in UFL form:\n",
    "F_energy = q * (Tnew - Told) / delta_t * dx + q * dot(u, grad(Ttheta)) * dx + dot(grad(q), kappa * grad(Ttheta)) * dx"
   ]
  },
  {
   "cell_type": "markdown",
   "metadata": {},
   "source": [
    "We specify strong Dirichlet boundary conditions for velocity (bcvx, bcvy) and temperature\n",
    "(bctb, bctt). A Dirichlet boundary condition is created by constructing a Python\n",
    "`DirichletBC` object, where the user must provide the\n",
    "function space the condition applies to, the value, and the part of the mesh at\n",
    "which it applies. \n",
    "The latter uses integer mesh markers which are commonly used by\n",
    "mesh generation software to tag entities of meshes.<br>\n",
    "Boundaries are automatically tagged by the built-in meshes supported by Firedrake. For the `UnitSquareMesh` being used here, tag `1` corresponds to the plane $x=0$; `2` to $x=1$; `3` to $y=0$; and `4` to $y=1$. Note how boundary conditions are being applied to the velocity part of the\n",
    "mixed finite element space $Z$, indicated by `Z.sub(0)`. Within `Z.sub(0)` we can further subdivide into `Z.sub(0).sub(0)` and `Z.sub(0).sub(1)` to apply boundary conditions to the $x$ and $y$ components of the velocity field only. To apply conditions to the pressure space, we would use `Z.sub(1)`."
   ]
  },
  {
   "cell_type": "code",
   "execution_count": null,
   "metadata": {},
   "outputs": [],
   "source": [
    "\n",
    "# Set up boundary conditions and deal with nullspaces:\n",
    "bcvx, bcvy = DirichletBC(Z.sub(0).sub(0), 0, sub_domain=(left, right)), DirichletBC(Z.sub(0).sub(1), 0, sub_domain=(bottom, top))\n",
    "bctb, bctt = DirichletBC(Q, 1.0, sub_domain=bottom), DirichletBC(Q, 0.0, sub_domain=top)"
   ]
  },
  {
   "cell_type": "markdown",
   "metadata": {},
   "source": [
    "This problem has a constant pressure nullspace and we must\n",
    "ensure that our solver removes this space. To do so, we build a nullspace\n",
    "object, which will subsequently be passed to the solver, and PETSc will seek a solution in the space orthogonal to the provided nullspace. "
   ]
  },
  {
   "cell_type": "code",
   "execution_count": null,
   "metadata": {},
   "outputs": [],
   "source": [
    "p_nullspace = MixedVectorSpaceBasis(Z, [Z.sub(0), VectorSpaceBasis(constant=True)])"
   ]
  },
  {
   "cell_type": "markdown",
   "metadata": {},
   "source": [
    "We finally come to solving the variational problem, with problems and solver\n",
    "objects created next. We pass in the residual functions\n",
    "$F_{\\text{Stokes}}$ and $F_{\\text{Energy}}$, solution fields (z, $T_{\\text{new}}$), boundary conditions and, for the Stokes system, the nullspace object. Solution of the two variational problems is undertaken by the PETSc guided by the solver parameters specified as below.<br> "
   ]
  },
  {
   "cell_type": "markdown",
   "metadata": {},
   "source": [
    "Since we do not actually need a nonlinear solver for this case, we choose the `ksponly` \n",
    "method, indicating that only a single linear solve needs to be performed. The linear \n",
    "solvers are configured through PETSc's Krylov Subspace (KSP) interface, where we can\n",
    "request a direct solver by choosing the `preonly` KSP method, in combination with `lu` \n",
    "as the <i>preconditioner</i> <b>(PC)</b> type. The specific implementation \n",
    "of the LU-decomposition based direct solver is selected as the MUMPS library. \n",
    "Notice that the solution process is fully programmable, enabling the creation of sophisticated solvers by \n",
    "combining multiple layers of Krylov methods and preconditioners.<br>"
   ]
  },
  {
   "cell_type": "code",
   "execution_count": null,
   "metadata": {},
   "outputs": [],
   "source": [
    "\n",
    "# Solver dictionary:\n",
    "solver_parameters = {\n",
    "    \"mat_type\": \"aij\",\n",
    "    \"snes_type\": \"ksponly\",\n",
    "    \"ksp_type\": \"preonly\",\n",
    "    \"pc_type\": \"lu\",\n",
    "    \"pc_factor_mat_solver_type\": \"mumps\",\n",
    "}\n",
    "\n",
    "# Setup problem and solver objects so we can reuse (cache) solver setup\n",
    "stokes_problem = NonlinearVariationalProblem(F_stokes, z, bcs=[bcvx, bcvy])\n",
    "stokes_solver = NonlinearVariationalSolver(stokes_problem, solver_parameters=solver_parameters, nullspace=p_nullspace, transpose_nullspace=p_nullspace)\n",
    "energy_problem = NonlinearVariationalProblem(F_energy, Tnew, bcs=[bctb, bctt])\n",
    "energy_solver = NonlinearVariationalSolver(energy_problem, solver_parameters=solver_parameters)"
   ]
  },
  {
   "cell_type": "markdown",
   "metadata": {},
   "source": [
    "We can now initiate the time-loop, with the Stokes system solved on line 16 and\n",
    "the energy equation on line 17. These `solve` calls once again convert symbolic mathematics into computation. "
   ]
  },
  {
   "cell_type": "code",
   "execution_count": null,
   "metadata": {},
   "outputs": [],
   "source": [
    "# Timestepping aspects\n",
    "no_timesteps, target_cfl_no = 2000, 1.0\n",
    "ref_u = Function(V, name=\"Reference_Velocity\")\n",
    "\n",
    "def compute_timestep(u):\n",
    "    \"\"\"Return the timestep, using CFL criterion\"\"\"\n",
    "\n",
    "    tstep = (1. / ref_u.interpolate(dot(JacobianInverse(mesh), u)).dat.data.max()) * target_cfl_no\n",
    "    return tstep\n",
    "\n",
    "for timestep in range(0, no_timesteps):\n",
    "    if timestep > 0:\n",
    "        delta_t.assign(compute_timestep(u))\n",
    "    stokes_solver.solve()\n",
    "    energy_solver.solve()\n",
    "    vrms = sqrt(assemble(dot(u, u) * dx)) * sqrt(1./assemble(1.*dx(domain=mesh)))\n",
    "    nu_top = -1. * assemble(dot(grad(Tnew), FacetNormal(mesh)) * ds(top))\n",
    "    Told.assign(Tnew)i"
   ]
  }
 ],
 "metadata": {
  "interpreter": {
   "hash": "2834c7709b7175be062475c9c8d239d84f48b92a4db284519cf4bc00989e411b"
  },
  "kernelspec": {
   "display_name": "Python 3.9.12 ('firedrake')",
   "language": "python",
   "name": "python3"
  },
  "language_info": {
   "codemirror_mode": {
    "name": "ipython",
    "version": 3
   },
   "file_extension": ".py",
   "mimetype": "text/x-python",
   "name": "python",
   "nbconvert_exporter": "python",
   "pygments_lexer": "ipython3",
   "version": "3.9.12"
  },
  "orig_nbformat": 4
 },
 "nbformat": 4,
 "nbformat_minor": 2
}

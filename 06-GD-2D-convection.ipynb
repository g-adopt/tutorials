{
 "cells": [
  {
   "cell_type": "markdown",
   "metadata": {},
   "source": [
    "# 2 Dimensional mantle convection problem in a square box\n",
    "We change our focus to the slow creeping motion of Earth’s mantle \n",
    "over geological timescales.<br>\n",
    "\n",
    "## Governing Equations - Strong Formulation\n",
    "The equations governing mantle convection\n",
    "are derived from the conservation laws of mass, momentum and energy.\n",
    "The simplest mathematical formulation assumes incompressibility and\n",
    "the Boussinesq approximation (McKenzie et al., 1973), under which the\n",
    "non–dimensional momentum and continuity equations are given by:<br>\n",
    "\n",
    "$$\\nabla \\cdot \\mathbb{\\sigma} + Ra_0 \\ T \\ \\hat{k} = 0,$$\n",
    "$$\\nabla \\cdot \\vec{u} = 0$$\n",
    "\n",
    "where $\\sigma$ is the stress tensor, $\\vec{u}$ is the velocity and T temperature. $\\hat{k}$ is the unit vector in the direction opposite to gravity and\n",
    "$Ra_0$ denotes the Rayleigh number, a dimensionless number that quantifies the vigor of convection:\n",
    "\n",
    "$$Ra0 = \\frac{\\rho_0 \\alpha \\Delta T g d^3}{\\mu_0 \\kappa}$$\n",
    "\n",
    "Here, $\\rho_0$ denotes reference density, $\\alpha$ the thermal expansion \n",
    "coefficient, $\\Delta T$ the characteristic temperature change across the\n",
    "domain, $g$ the gravitational acceleration, $d$ the characteristic length,\n",
    "$\\mu_0$ the reference dynamic viscosity and $\\kappa$ the thermal\n",
    "diffusivity. <br>\n",
    "\n",
    "## Governing Equations - Weak Formulation<br>\n",
    "\n",
    "For the derivation of the finite element discretisation of Equations above, we start by writing these in their weak form.\n",
    "We select appropriate function spaces V, W, and Q that contain, respectively, the solution fields for velocity u, pressure p, and\n",
    "temperature T , and also contain the test functions v, w and q. The weak form is then obtained by multiplying these equations\n",
    "with the test functions and integrating over the domain $\\Omega$.\n",
    "\n",
    "$$\\int_\\Omega (\\nabla v)\\colon \\mu \\left[ \\nabla u + \\left( \\nabla u \\right)^T\\right] \\ dx \n",
    " - \\int_{\\Omega} \\left( \\nabla \\cdot v\\right)\\ p \\ dx\n",
    " - \\int_{\\Omega} Ra_0\\ T\\ v\\cdot\\hat{k} \\ dx = 0 \\text{ For all } v\\in V$$\n",
    "\n",
    "## Implementation\n",
    "\n"
   ]
  },
  {
   "cell_type": "code",
   "execution_count": 1,
   "metadata": {},
   "outputs": [],
   "source": [
    "from firedrake import *"
   ]
  },
  {
   "cell_type": "markdown",
   "metadata": {},
   "source": [
    "We next need a mesh: for simple domains such as the unit square, \n",
    "Firedrake provides built-in meshing functions. As such, the following code \n",
    "defines the mesh, with 40 quadrilateral elements in x and y directions. "
   ]
  },
  {
   "cell_type": "code",
   "execution_count": null,
   "metadata": {},
   "outputs": [],
   "source": [
    "# Mesh - use a built in meshing function:\n",
    "mesh = UnitSquareMesh(40, 40, quadrilateral=True)\n",
    "left, right, bottom, top = 1, 2, 3, 4  # Boundary IDs"
   ]
  },
  {
   "cell_type": "markdown",
   "metadata": {},
   "source": [
    "We also need function spaces, which is achieved by associating the mesh with \n",
    "the relevant finite element: V , W and Q are symbolic variables\n",
    "representing function spaces. They also contain the function space’s \n",
    "computational implementation, recording the association of degrees of freedom\n",
    "with the mesh and pointing to the finite element basis. <br><br>\n",
    "\n",
    "Function spaces can be combined in the natural way to create mixed function spaces,\n",
    "as we do on line 5 of the following code, combining the velocity and pressure\n",
    "function spaces to form a function space for the mixed Stokes problem, Z.\n"
   ]
  },
  {
   "cell_type": "code",
   "execution_count": null,
   "metadata": {},
   "outputs": [],
   "source": [
    "# Function spaces:\n",
    "V = VectorFunctionSpace(mesh, family=\"CG\", degree=2)  # Velocity function space (vector)\n",
    "W = FunctionSpace(mesh, family=\"CG\", degree=1)  # Pressure function space (scalar)\n",
    "Q = FunctionSpace(mesh, family=\"CG\", degree=2)  # Temperature function space (scalar)\n",
    "Z = MixedFunctionSpace([V, W])  # Mixed function space"
   ]
  },
  {
   "cell_type": "markdown",
   "metadata": {},
   "source": [
    "Test functions, v, w and q are subsequently defined and we also specify functions to hold our solutions: z in the mixed function space, noting that a symbolic representation of the two parts – velocity and pressure – is obtained with\n",
    "split, and Told and Tnew, required for the Crank-Nicolson scheme used for temporal discretisation in our energy equation, where $T_\\theta$  is defined."
   ]
  },
  {
   "cell_type": "code",
   "execution_count": null,
   "metadata": {},
   "outputs": [],
   "source": [
    "# Test functions and functions to hold solutions:\n",
    "v, w = TestFunctions(Z)\n",
    "q = TestFunction(Q)\n",
    "z = Function(Z)\n",
    "u, p = split(z)  # Returns symbolic UFL expression for u and p\n",
    "Told, Tnew = Function(Q, name=\"OldTemp\"), Function(Q, name=\"NewTemp\")\n",
    "Ttheta = 0.5 * Tnew + 0.5 * Told  # Temporal discretisation through Crank-Nicholson"
   ]
  },
  {
   "cell_type": "markdown",
   "metadata": {},
   "source": [
    "Mantle convection is an initial condition problem. For our first try, we assume the initial temperature distribution to be prescribed by<br> \n",
    "\n",
    "$T(x,y) = (1-y) + 0.05\\ cos(\\pi x)\\ sin(\\pi y)$ <br>\n",
    "\n",
    "In the following code, we first obtain symbolic expressions for coordinates in the physical mesh and subsequently use these to initialize the old temperature field. "
   ]
  },
  {
   "cell_type": "code",
   "execution_count": null,
   "metadata": {},
   "outputs": [],
   "source": [
    "# Initialise temperature field:\n",
    "X = SpatialCoordinate(mesh)\n",
    "Told.interpolate(1.0 - X[1] + 0.05 * cos(pi * X[0]) * sin(pi * X[1]))\n",
    "Tnew.assign(Told)"
   ]
  },
  {
   "cell_type": "markdown",
   "metadata": {},
   "source": [
    "### Exercise 6.1 \n",
    "Visualise Told and show how it looks like."
   ]
  },
  {
   "cell_type": "code",
   "execution_count": null,
   "metadata": {},
   "outputs": [],
   "source": []
  },
  {
   "cell_type": "markdown",
   "metadata": {},
   "source": [
    "Next, we initialize Tnew with the values of Told, via the assign\n",
    "function. Important constants in this problem (Rayleigh Number, Ra; viscosity, μ; thermal diffusivity, κ), in addition to the\n",
    "constant timestep $\\Delta t$ and unit vector $\\hat{k}$, are defined next. We note that viscosity could also be a Function, if we\n",
    "wanted spatial variation."
   ]
  },
  {
   "cell_type": "code",
   "execution_count": null,
   "metadata": {},
   "outputs": [],
   "source": [
    "# Important constants:\n",
    "Ra, mu, kappa, delta_t = Constant(1e4), Constant(1.0), Constant(1.0), Constant(1e-6)\n",
    "k = Constant((0, 1))  # Unit vector (in direction opposite to gravity)"
   ]
  },
  {
   "cell_type": "markdown",
   "metadata": {},
   "source": [
    "We are now in a position to define the variational problems expressed in Equations (25) and (19). Although in this test case\n",
    "the problems are linear, we maintain the more general nonlinear residual form FStokes(v, u) = 0 and Fenergy(q, T ) = 0, to allow\n",
    "for straightforward extension to nonlinear problems below. The symbolic expressions for FStokes and FEnergy in the UFL are\n",
    "given on lines 33-37: the resemblance to the mathematical formulation is immediately apparent. Integration over the domain is390\n",
    "indicated by multiplication with dx.\n",
    "14\n"
   ]
  },
  {
   "cell_type": "code",
   "execution_count": null,
   "metadata": {},
   "outputs": [],
   "source": [
    "# Stokes equations in UFL form:\n",
    "stress = 2 * mu * sym(grad(u))\n",
    "F_stokes = inner(grad(v), stress) * dx - div(v) * p * dx - (dot(v, k) * Ra * Ttheta) * dx\n",
    "F_stokes += -w * div(u) * dx  # Continuity equation\n",
    "# Energy equation in UFL form:\n",
    "F_energy = q * (Tnew - Told) / delta_t * dx + q * dot(u, grad(Ttheta)) * dx + dot(grad(q), kappa * grad(Ttheta)) * dx"
   ]
  },
  {
   "cell_type": "code",
   "execution_count": null,
   "metadata": {},
   "outputs": [],
   "source": [
    "\n",
    "# Set up boundary conditions and deal with nullspaces:\n",
    "bcvx, bcvy = DirichletBC(Z.sub(0).sub(0), 0, sub_domain=(left, right)), DirichletBC(Z.sub(0).sub(1), 0, sub_domain=(bottom, top))\n",
    "bctb, bctt = DirichletBC(Q, 1.0, sub_domain=bottom), DirichletBC(Q, 0.0, sub_domain=top)"
   ]
  },
  {
   "cell_type": "code",
   "execution_count": null,
   "metadata": {},
   "outputs": [],
   "source": [
    "p_nullspace = MixedVectorSpaceBasis(Z, [Z.sub(0), VectorSpaceBasis(constant=True)])"
   ]
  },
  {
   "cell_type": "code",
   "execution_count": null,
   "metadata": {},
   "outputs": [],
   "source": [
    "# Initialise output:\n",
    "output_file = File('output.pvd')  # Create output file\n",
    "u, p = z.split()\n",
    "u.rename(\"Velocity\"), p.rename(\"Pressure\")"
   ]
  },
  {
   "cell_type": "code",
   "execution_count": null,
   "metadata": {},
   "outputs": [],
   "source": [
    "\n",
    "# Solver dictionary:\n",
    "solver_parameters = {\n",
    "    \"mat_type\": \"aij\",\n",
    "    \"snes_type\": \"ksponly\",\n",
    "    \"ksp_type\": \"preonly\",\n",
    "    \"pc_type\": \"lu\",\n",
    "    \"pc_factor_mat_solver_type\": \"mumps\",\n",
    "}\n"
   ]
  },
  {
   "cell_type": "code",
   "execution_count": null,
   "metadata": {},
   "outputs": [],
   "source": [
    "\n",
    "# Setup problem and solver objects so we can reuse (cache) solver setup\n",
    "stokes_problem = NonlinearVariationalProblem(F_stokes, z, bcs=[bcvx, bcvy])\n",
    "stokes_solver = NonlinearVariationalSolver(stokes_problem, solver_parameters=solver_parameters, nullspace=p_nullspace, transpose_nullspace=p_nullspace)\n",
    "energy_problem = NonlinearVariationalProblem(F_energy, Tnew, bcs=[bctb, bctt])\n",
    "energy_solver = NonlinearVariationalSolver(energy_problem, solver_parameters=solver_parameters)"
   ]
  },
  {
   "cell_type": "code",
   "execution_count": null,
   "metadata": {},
   "outputs": [],
   "source": [
    "# Timestepping aspects\n",
    "no_timesteps, target_cfl_no = 2000, 1.0\n",
    "ref_u = Function(V, name=\"Reference_Velocity\")"
   ]
  },
  {
   "cell_type": "code",
   "execution_count": null,
   "metadata": {},
   "outputs": [],
   "source": [
    "\n",
    "def compute_timestep(u):\n",
    "    \"\"\"Return the timestep, using CFL criterion\"\"\"\n",
    "    tstep = (1. / ref_u.interpolate(dot(JacobianInverse(mesh), u)).dat.data.max()) * target_cfl_no\n",
    "    return tstep"
   ]
  },
  {
   "cell_type": "code",
   "execution_count": null,
   "metadata": {},
   "outputs": [],
   "source": [
    "\n",
    "for timestep in range(0, no_timesteps):\n",
    "    if timestep > 0:\n",
    "        delta_t.assign(compute_timestep(u))\n",
    "    if timestep % 10 == 0:\n",
    "        output_file.write(u, p, Tnew)\n",
    "    stokes_solver.solve()\n",
    "    energy_solver.solve()\n",
    "    vrms = sqrt(assemble(dot(u, u) * dx)) * sqrt(1./assemble(1.*dx(domain=mesh)))\n",
    "    nu_top = -1. * assemble(dot(grad(Tnew), FacetNormal(mesh)) * ds(top))\n",
    "    Told.assign(Tnew)i"
   ]
  }
 ],
 "metadata": {
  "interpreter": {
   "hash": "2834c7709b7175be062475c9c8d239d84f48b92a4db284519cf4bc00989e411b"
  },
  "kernelspec": {
   "display_name": "Python 3.9.12 ('firedrake')",
   "language": "python",
   "name": "python3"
  },
  "language_info": {
   "name": "python",
   "version": "3.9.12"
  },
  "orig_nbformat": 4
 },
 "nbformat": 4,
 "nbformat_minor": 2
}

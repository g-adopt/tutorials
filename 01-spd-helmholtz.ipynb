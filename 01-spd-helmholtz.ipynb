{
 "cells": [
  {
   "cell_type": "code",
   "execution_count": null,
   "metadata": {},
   "outputs": [],
   "source": [
    "# This magic makes plots appear in the browser\n",
    "%matplotlib notebook\n",
    "import matplotlib.pyplot as plt\n",
    "\n",
    "# Load Firedrake on Colab\n",
    "try:\n",
    "    import firedrake\n",
    "except ImportError:\n",
    "    !wget \"https://fem-on-colab.github.io/releases/firedrake-install-real.sh\" -O \"/tmp/firedrake-install.sh\" && bash \"/tmp/firedrake-install.sh\"\n",
    "    import firedrake"
   ]
  },
  {
   "cell_type": "markdown",
   "metadata": {},
   "source": [
    "# The positive-definite Helmholtz equation"
   ]
  },
  {
   "cell_type": "markdown",
   "metadata": {},
   "source": [
    "We start by considering the symmetric positive definite \"Helmholtz\" problem on a unit square domain $\\Omega$ with boundary $\\Gamma$. We seek to find the solution $u \\in V$, where $V$ is some finite element space, satisfying the boundary value problem:"
   ]
  },
  {
   "cell_type": "markdown",
   "metadata": {},
   "source": [
    "$$ -\\nabla^2 u + u = f \\text{ on } \\Omega = [0, 1] \\times [0, 1], \\\\\n",
    "\\nabla u \\cdot \\vec{n} = 0 \\text{ on } \\Gamma, $$"
   ]
  },
  {
   "cell_type": "markdown",
   "metadata": {},
   "source": [
    "where $\\vec{n}$ is the outward-pointing unit normal to $\\Gamma$ and $f \\in V$ is a known source function.  Note that the Laplacian and mass terms have opposite signs, which makes this equation much more benign than the symmetric, indefinite operator $(\\nabla^2 + I)$.\n",
    "\n",
    "Now, we write the problem in its variational form by multiplying by a test function $v \\in V$ and integrating by parts over the domain $\\Omega$:"
   ]
  },
  {
   "cell_type": "markdown",
   "metadata": {
    "collapsed": true
   },
   "source": [
    "$$ \\int_\\Omega \\nabla u\\cdot\\nabla v  + uv\\ \\mathrm{d}x = \\int_\\Omega\n",
    "vf\\ \\mathrm{d}x + \\underbrace{\\int_\\Gamma v \\nabla u \\cdot \\vec{n}\\, \\mathrm{d} s}_{=0}. $$"
   ]
  },
  {
   "cell_type": "markdown",
   "metadata": {},
   "source": [
    "Note that the boundary condition has been enforced weakly by removing the surface integral term resulting from the integration by parts."
   ]
  },
  {
   "cell_type": "markdown",
   "metadata": {},
   "source": [
    "We will now proceed to solve this problem using an $H^1$ conforming method. The full finite element problem reads as follows: find $u \\in V$ such that:"
   ]
  },
  {
   "cell_type": "markdown",
   "metadata": {},
   "source": [
    "$$ \\int_\\Omega \\nabla u\\cdot\\nabla v  + uv\\ \\mathrm{d}x = \\int_\\Omega\n",
    "vf\\ \\mathrm{d}x, \\text{ for all } v \\in V. $$"
   ]
  },
  {
   "cell_type": "markdown",
   "metadata": {},
   "source": [
    "We can choose the source function $f$, so lets take it to be:"
   ]
  },
  {
   "cell_type": "markdown",
   "metadata": {},
   "source": [
    "$$ f(x, y) = (1.0 + 8.0\\pi^2)\\cos(2\\pi x)\\cos(2\\pi y). $$"
   ]
  },
  {
   "cell_type": "markdown",
   "metadata": {},
   "source": [
    "This conveniently yields the analytical solution:"
   ]
  },
  {
   "cell_type": "markdown",
   "metadata": {},
   "source": [
    "$$ u(x, y) = \\cos(2\\pi x)\\cos(2\\pi y). $$"
   ]
  },
  {
   "cell_type": "markdown",
   "metadata": {},
   "source": [
    "However, we wish to employ this as an example for the finite element method, so lets go ahead and produce a numerical solution. First, we need our domain $\\Omega$. Firedrake can read meshes from a number of popular mesh generators.  In addition, it provides utility functions to create many \"standard\" meshes in one, two, and three dimensions.  For a complete list of provided meshes, we can peruse the [online Firedrake documentation](http://firedrakeproject.org/firedrake.html#module-firedrake.utility_meshes).  Unsurprisingly, amongst them is a `UnitSquareMesh`."
   ]
  },
  {
   "cell_type": "markdown",
   "metadata": {},
   "source": [
    "To start, we must make Firedrake available in the notebook.  It is available as a normal Python package, named `firedrake`.  To save on typing, we will import all of the public API into the current namespace"
   ]
  },
  {
   "cell_type": "code",
   "execution_count": null,
   "metadata": {},
   "outputs": [],
   "source": [
    "from firedrake import *"
   ]
  },
  {
   "cell_type": "markdown",
   "metadata": {},
   "source": [
    "Now we want to define our mesh.  We already know that `UnitSquareMesh` will give us an appropriate mesh of the domain $\\Omega$, but what are the arguments to the constructor?  The user-facing API is usually well-documented, and we can access this information via Python using the builtin `help` command:"
   ]
  },
  {
   "cell_type": "code",
   "execution_count": null,
   "metadata": {},
   "outputs": [],
   "source": [
    "help(UnitSquareMesh)"
   ]
  },
  {
   "cell_type": "code",
   "execution_count": null,
   "metadata": {},
   "outputs": [],
   "source": [
    "# In the notebook, we can also use a special \"?\" magic to pop up a help box\n",
    "?UnitSquareMesh"
   ]
  },
  {
   "cell_type": "markdown",
   "metadata": {},
   "source": [
    "We'll get to what some of the other arguments mean later, but right now we see that the first two allow us to specify the number of cells in the x-, and y-directions respectively."
   ]
  },
  {
   "cell_type": "code",
   "execution_count": null,
   "metadata": {},
   "outputs": [],
   "source": [
    "mesh = UnitSquareMesh(10, 10)"
   ]
  },
  {
   "cell_type": "markdown",
   "metadata": {},
   "source": [
    "What does this mesh look like?  Firedrake has some built in plotting of meshes and functions, using matplotlib (that's why we had the magic matplotlib line at the top of this notebook).\n",
    "The built-in plotting functions correspond with those from matplotlib, like [tripcolor](https://matplotlib.org/api/_as_gen/matplotlib.pyplot.tripcolor.html#matplotlib.pyplot.tripcolor), [tricontour](https://matplotlib.org/api/_as_gen/matplotlib.pyplot.tricontour.html#matplotlib.pyplot.tricontour), [tricontourf](https://matplotlib.org/api/_as_gen/matplotlib.pyplot.tricontourf.html#matplotlib.pyplot.tricontourf).\n",
    "For this plot, we'll also add a legend that will show us what the numeric ID is of each boundary segment.\n",
    "Visualizing the mesh with a legend is helpful when you have to apply boundary conditions to part of a mesh and forget how the segments are numbered."
   ]
  },
  {
   "cell_type": "code",
   "execution_count": null,
   "metadata": {},
   "outputs": [],
   "source": [
    "# NBVAL_IGNORE_OUTPUT\n",
    "# We test the output of the notebooks with out continuous integration system to\n",
    "# make sure they run.\n",
    "# Unfortunately we can't compare the plots from run to run, so the above line\n",
    "# indicates that the output of this cell should be ignored for the purposes\n",
    "# of testing.\n",
    "\n",
    "fig, axes = plt.subplots()\n",
    "triplot(mesh, axes=axes)\n",
    "axes.legend();"
   ]
  },
  {
   "cell_type": "markdown",
   "metadata": {},
   "source": [
    "Having selected a discretisation of our domain $\\Omega$, we need to decide on the finite-dimensional function space $V_h \\subset V$ in which we’d like to solve the problem. Since we are using an $H^1$ conforming method, the space of continuous piecewise defined polynomials of a fixed degree will be appropriate. As an example, let us use the space of piecewise linear polynomials that are continuous between elements:"
   ]
  },
  {
   "cell_type": "code",
   "execution_count": null,
   "metadata": {},
   "outputs": [],
   "source": [
    "V = FunctionSpace(mesh, \"Lagrange\", 1)"
   ]
  },
  {
   "cell_type": "markdown",
   "metadata": {},
   "source": [
    "We now define the problem.  We'll create the _symbolic_ objects that correspond to test and trial spaces, and the linear and bilinear forms in our problem."
   ]
  },
  {
   "cell_type": "code",
   "execution_count": null,
   "metadata": {},
   "outputs": [],
   "source": [
    "u = TrialFunction(V)\n",
    "v = TestFunction(V)"
   ]
  },
  {
   "cell_type": "markdown",
   "metadata": {},
   "source": [
    "For the right hand side forcing, we'll use a UFL expression, incorporating information about the $x$ and $y$ coordinates.  We make a symbolic representation of the coordinates in our mesh (these will be evaluated when we actually do the calculation)."
   ]
  },
  {
   "cell_type": "code",
   "execution_count": null,
   "metadata": {},
   "outputs": [],
   "source": [
    "x, y = SpatialCoordinate(mesh)\n",
    "f = (1 + 8*pi*pi)*cos(2*pi*x)*cos(2*pi*y)"
   ]
  },
  {
   "cell_type": "markdown",
   "metadata": {},
   "source": [
    "We can now define the bilinear and linear forms for the left and right hand sides of our equation respectively in UFL:"
   ]
  },
  {
   "cell_type": "code",
   "execution_count": null,
   "metadata": {},
   "outputs": [],
   "source": [
    "a = (dot(grad(v), grad(u)) + v * u) * dx\n",
    "L = f * v * dx"
   ]
  },
  {
   "cell_type": "markdown",
   "metadata": {},
   "source": [
    "Finally we are now ready to solve the equation. We define $u_h$ to be a function holding the solution:"
   ]
  },
  {
   "cell_type": "code",
   "execution_count": null,
   "metadata": {},
   "outputs": [],
   "source": [
    "uh = Function(V)"
   ]
  },
  {
   "cell_type": "markdown",
   "metadata": {},
   "source": [
    "Since we know that the Helmholtz equation defines a symmetric problem, we instruct PETSc to employ the conjugate gradient method. We do not consider preconditioning, for now."
   ]
  },
  {
   "cell_type": "code",
   "execution_count": null,
   "metadata": {},
   "outputs": [],
   "source": [
    "solve(a == L, uh, solver_parameters={'ksp_type': 'cg', 'pc_type': 'none'})"
   ]
  },
  {
   "cell_type": "markdown",
   "metadata": {},
   "source": [
    "Let's have a look at the solution.\n",
    "You can use all the same arguments as for the matplotlib tripcolor function for things like changing the colormap, the min and max values, and so forth."
   ]
  },
  {
   "cell_type": "code",
   "execution_count": null,
   "metadata": {},
   "outputs": [],
   "source": [
    "# NBVAL_IGNORE_OUTPUT\n",
    "fig, axes = plt.subplots()\n",
    "collection = tripcolor(uh, axes=axes, cmap='coolwarm')\n",
    "fig.colorbar(collection);"
   ]
  },
  {
   "cell_type": "markdown",
   "metadata": {},
   "source": [
    "Since we chose a forcing function for which we know the exact solution, we can compute the difference between the approximate solution and the exact solution interpolated to the space of the approximate solution.  Remember, that the exact solution $u^* = \\cos(2\\pi x)\\cos(2\\pi y)$."
   ]
  },
  {
   "cell_type": "code",
   "execution_count": null,
   "metadata": {},
   "outputs": [],
   "source": [
    "u_exact = cos(2*pi*x)*cos(2*pi*y)"
   ]
  },
  {
   "cell_type": "code",
   "execution_count": null,
   "metadata": {},
   "outputs": [],
   "source": [
    "# NBVAL_IGNORE_OUTPUT\n",
    "difference = assemble(interpolate(u_exact, V) - uh)\n",
    "fig, axes = plt.subplots()\n",
    "collection = tripcolor(difference, axes=axes, cmap='coolwarm')\n",
    "fig.colorbar(collection);"
   ]
  },
  {
   "cell_type": "markdown",
   "metadata": {},
   "source": [
    "# Exercises\n",
    "\n",
    "## Exercise 1: \n",
    "\n",
    "### 1a: use a higher approximation degree\n",
    "\n",
    "Solve the same problem, only this time, use a piecewise quadratic approximation space.\n",
    "\n",
    "- Hint: check the help for `FunctionSpace` to see how to specify the degree.\n",
    "\n",
    "### 1b: use a quadrilateral mesh\n",
    "\n",
    "Solve the same problem, but using quadrilateral, rather than triangular, cells.\n",
    "\n",
    "- Hint 1: check the help for `UnitSquareMesh` to see how to make a quadrilateral mesh\n",
    "- Hint 2: To specify a piecewise continuous space on quadrilaterals, use the family name `\"Q\"`."
   ]
  },
  {
   "cell_type": "code",
   "execution_count": null,
   "metadata": {},
   "outputs": [],
   "source": []
  },
  {
   "cell_type": "markdown",
   "metadata": {},
   "source": [
    "## Exercise 2: convergence of the method\n",
    "For solutions with sufficient smoothness (like the choice we have here), this method with a piecewise linear approximation space should converge in the $L_2$ error with rate $\\mathcal{O}(h^{-2})$, where $h$ is the typical mesh spacing.  Confirm this for the example in question by computing the $L_2$ error in the solution for a sequence of finer and finer meshes.\n",
    "\n",
    "- Hint 1: You can compute errors using [errornorm](http://firedrakeproject.org/firedrake.html#firedrake.norms.errornorm)\n",
    "- Hint 2: If the error is $\\mathcal{O}(h^{-2})$ then $\\log_2 (e_H/e_h) \\approx 2$.\n",
    "  The Python module `math` contains an implementation of `log`.\n",
    "  \n",
    "### What works better?  Mesh refinement, or increasing the approximation degree?\n",
    "\n",
    "Instead of (or as well as!) refining the mesh, we can increase the degree of the approximating polynomial space.\n",
    "\n",
    "To help, here's the complete problem setup."
   ]
  },
  {
   "cell_type": "code",
   "execution_count": null,
   "metadata": {},
   "outputs": [],
   "source": [
    "mesh = UnitSquareMesh(10, 10)\n",
    "V = FunctionSpace(mesh, \"Lagrange\", 1)\n",
    "u = TrialFunction(V)\n",
    "v = TestFunction(V)\n",
    "x, y = SpatialCoordinate(mesh)\n",
    "f = (1 + 8*pi*pi)*cos(2*pi*x)*cos(2*pi*y)\n",
    "a = (dot(grad(v), grad(u)) + v * u) * dx\n",
    "L = f * v * dx\n",
    "\n",
    "uh = Function(V)\n",
    "solve(a == L, uh, solver_parameters={'ksp_type': 'cg',\n",
    "                                     'pc_type': 'none'})\n",
    "\n",
    "u_exact = cos(2*pi*x)*cos(2*pi*y)"
   ]
  },
  {
   "cell_type": "code",
   "execution_count": null,
   "metadata": {},
   "outputs": [],
   "source": []
  },
  {
   "cell_type": "markdown",
   "metadata": {},
   "source": [
    "# Part II: inhomogeneous Neuman conditions\n",
    "\n",
    "Let us recall again the statement of our problem.  We seek $u \\in V$ satisfying\n",
    "\n",
    "$$ -\\nabla^2 u + u = f \\text{ on } \\Omega = [0, 1] \\times [0, 1], \\\\\n",
    "\\nabla u \\cdot \\vec{n} = 0 \\text{ on } \\Gamma. $$\n",
    "\n",
    "However, we will not always want to constrain the normal derivative on the boundary to be zero.  Let's consider the modification:\n",
    "\n",
    "$$ -\\nabla^2 u + u = f \\text{ on } \\Omega = [0, 1] \\times [0, 1], \\\\\n",
    "\\nabla u \\cdot \\vec{n} = g = 1 \\text{ on } \\Gamma_1, \\\\\n",
    "\\nabla u \\cdot \\vec{n} = 0 \\text{ on } \\Gamma \\setminus \\Gamma_1,$$\n",
    "\n",
    "where $\\Gamma_1$ is the boundary $x = 0$."
   ]
  },
  {
   "cell_type": "markdown",
   "metadata": {
    "collapsed": true
   },
   "source": [
    "As previously, we introduce a test function $v \\in V$, multiply and integrate.  After integrating by parts, we obtain\n",
    "\n",
    "$$ \\int_\\Omega \\nabla u\\cdot\\nabla v  + uv\\ \\mathrm{d}x = \\int_\\Omega\n",
    "vf\\ \\mathrm{d}x + \\underbrace{\\int_{\\Gamma\\setminus \\Gamma_1} v \\nabla u \\cdot \\vec{n}\\, \\mathrm{d} s}_{=0} + \\int_{\\Gamma_1} v \\nabla u \\cdot \\vec{n}\\,\\mathrm{d} s.$$\n",
    "\n",
    "The first surface integral over $\\Gamma \\setminus \\Gamma_1$ vanishes, since $\\nabla u \\cdot \\vec{n} = 0$.  The second, however, does not.  Substituting the boundary value we obtain\n",
    "\n",
    "$$ \\int_\\Omega \\nabla u\\cdot\\nabla v  + uv\\ \\mathrm{d}x = \\int_\\Omega\n",
    "vf\\ \\mathrm{d}x + \\int_{\\Gamma_1} v g\\,\\mathrm{d} s.$$\n",
    "\n",
    "We see that the linear form for the right hand side has gained an integral over part of the boundary (some of its *exterior* facets).  We've already seen how to express integrals over the cells of the domain, using `dx`.  Unsurprisingly, we can also write integrals over the boundary, for which we use the `ds` measure.\n",
    "\n",
    "There's one final wrinkle, just as `dx` integrates over all the cells in the mesh, `ds` integrates over all the exterior facets of the mesh.  Firedrake uses *mesh markers* to select which parts of the mesh the integral measure should integrate over.  These are integers (or tuples thereof) that have some meaning for the mesh.  Most external mesh generators will have some way of marking meshes in this way.  For the utility meshes, the docstring indicates which markers correspond to which parts of the mesh.  So let's look:"
   ]
  },
  {
   "cell_type": "code",
   "execution_count": null,
   "metadata": {},
   "outputs": [],
   "source": [
    "?UnitSquareMesh"
   ]
  },
  {
   "cell_type": "markdown",
   "metadata": {},
   "source": [
    "Recall that we want to specify a non-zero boundary value when $x = 0$.  This corresponds to the mesh marker `1`.  Our full problem specification is now"
   ]
  },
  {
   "cell_type": "code",
   "execution_count": null,
   "metadata": {},
   "outputs": [],
   "source": [
    "mesh = UnitSquareMesh(10, 10)\n",
    "V = FunctionSpace(mesh, \"Lagrange\", 1)\n",
    "u = TrialFunction(V)\n",
    "v = TestFunction(V)\n",
    "x, y = SpatialCoordinate(mesh)\n",
    "f = (1 + 8*pi*pi)*cos(2*pi*x)*cos(2*pi*y)\n",
    "a = (dot(grad(v), grad(u)) + v * u) * dx"
   ]
  },
  {
   "cell_type": "markdown",
   "metadata": {},
   "source": [
    "Up to now, everything is as before.  We now define the right hand side.  A bare `ds` would integrate over all exterior facets, we select the facets corresponding to $x = 0$ by specifying the appropriate mesh marker."
   ]
  },
  {
   "cell_type": "code",
   "execution_count": null,
   "metadata": {},
   "outputs": [],
   "source": [
    "g = Constant(1)\n",
    "L = f*v*dx + g*v*ds(1)"
   ]
  },
  {
   "cell_type": "markdown",
   "metadata": {},
   "source": [
    "Now to solve the problem"
   ]
  },
  {
   "cell_type": "code",
   "execution_count": null,
   "metadata": {},
   "outputs": [],
   "source": [
    "uh = Function(V)\n",
    "solve(a == L, uh, solver_parameters={'ksp_type': 'cg', 'pc_type': 'none'})"
   ]
  },
  {
   "cell_type": "markdown",
   "metadata": {},
   "source": [
    "Now plot your solution."
   ]
  },
  {
   "cell_type": "code",
   "execution_count": null,
   "metadata": {},
   "outputs": [],
   "source": []
  }
 ],
 "metadata": {
  "kernelspec": {
   "display_name": "Python 3",
   "language": "python",
   "name": "python3"
  },
  "language_info": {
   "codemirror_mode": {
    "name": "ipython",
    "version": 3
   },
   "file_extension": ".py",
   "mimetype": "text/x-python",
   "name": "python",
   "nbconvert_exporter": "python",
   "pygments_lexer": "ipython3",
   "version": "3.10.2"
  }
 },
 "nbformat": 4,
 "nbformat_minor": 1
}

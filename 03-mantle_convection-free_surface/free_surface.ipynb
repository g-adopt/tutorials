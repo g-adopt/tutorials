{
 "cells": [
  {
   "cell_type": "markdown",
   "id": "e6d73fc1",
   "metadata": {},
   "source": [
    "Idealised 2-D mantle convection with a free surface\n",
    "=======================================================\n",
    "\n",
    "In this tutorial we show how to include a free surface boundary condition\n",
    "by modifying the 2-D case presented in our first tutorial.\n",
    "\n",
    "Free Surface\n",
    "------------\n",
    "In the base case and other tutorials so far we have assumed that the top surface of the model is free-slip, i.e. the flow is free to move tangentially, but there is no normal flow across the top surface of the model. For a free surface we relax that condition so that the surface is able to deform.\n",
    "\n",
    "Mathematically, the boundary conditions for a free surface can be written as\n",
    "\\begin{equation}\n",
    "    \\textbf{u} \\cdot \\textbf{n}  = \\dfrac{\\partial \\eta}{\\partial t}  \\textbf{n}  \\cdot \\boldsymbol{\\hat{r}},\n",
    "\\end{equation}\n",
    "\\begin{equation}\n",
    "      \\textbf{n} \\cdot \\boldsymbol{\\sigma}  = \\textbf{0},\n",
    "\\end{equation}\n",
    "where $\\textbf{u}$ is the velocity vector, $\\textbf{n}$ is the unit normal, $\\eta$ is the free surface height, $\\boldsymbol{\\hat{r}}$ is the radial unit vector and $\\boldsymbol{\\sigma}$ is the full stress tensor. The first equation states that the velocity of the free surface is just the normal velocity at the surface and the second equation states there is no stress acting at the free surface.\n",
    "\n",
    "One way to implement the zero stress condition at the free surface is just to move the mesh based on the velocity calculated in the domain. This is a Lagrangian formulation.  There are a few downsides to this. Firstly, it can be expensive to continually update the mesh geometry at each timestep. We also have to reformulate our equations in terms of a moving reference frame accounting for the mesh velocity.\n",
    "\n",
    "If we subtract off the hydrostatic pressure from the full stress tensor and define this as $\\boldsymbol{\\sigma }'$, then the new stress boundary condition becomes\n",
    "\\begin{equation}\n",
    "      \\textbf{n} \\cdot \\boldsymbol{\\sigma }' \\cdot \\textbf{n}  = - \\Delta\\rho_{fs} g \\eta,\n",
    "\\end{equation}\n",
    "where $\\Delta \\rho_{fs}$ is the density contrast across the free surface and $g$ is gravity. Provided that deviations in the free surface are small, we can linearise the effect of the free surface by just applying the additional stress at the reference level $z = z_0$, instead of at the top of the free surface $z = \\eta$. This means we can keep the mesh fixed in time and we do not have to change to a Lagrangian formulation.\n",
    "\n",
    "A possibly more important consideration though, is that if we couple the free surface to the Stokes equations explicitly in time, there will always be a lag between the interior dynamics pushing the free surface up and the stabilising feedback due to deviations of the free surface from the reference level. If we take timesteps that are too long then the simulation becomes unstable. This timestep limitation is based on a characteristic relaxation time scale\n",
    "\\begin{equation}\n",
    "\\tau = \\dfrac{2 k \\mu}{\\Delta \\rho_{fs} g},\n",
    "\\end{equation}\n",
    "where $k$ is a wavenumber, $\\mu$ is the viscosity, $\\Delta \\rho_{fs}$ is the density contrast across the free surface and $g$ is gravity.\n",
    "\n",
    "Note that long wavelengths decay fastest, so it is the longest waves that dictate the maximum stable timestep for an explicit free surface implementation. Usually, the timestep is controlled by an advection CFL condition calculated from the energy equation, however, a stable free surface timestep might be much lower than this estimate. This means that a free surface simulation with explicit timestepping may be an order of magnitude slower than an equivalent free-slip simulation.\n",
    "\n",
    "A way around this problem is to solve for the free surface height implicitly, i.e. at the same time as the velocity and pressure during the Stokes solve. By coupling the solution of velocity, pressure and the free surface together, there is no longer a timestep constraint. The decay of the (long) wavelengths with decay times shorter than the timestep are effectively damped by numerical diffusion. The upshot is we can take longer timesteps, so the simulation time is similar to a free-slip simulation, whilst being able to investigate time dependent short wavelength changes of the free surface. We have implemented the second order $\\theta$ timestepping method from Kramer et al. (2012) and we point the reader to this paper for a longer discussion of the different approaches and their implementation.\n",
    "\n",
    "### References\n",
    "*Kramer, S. C., Wilson, C. R., & Davies, D. R. (2012).* ***An implicit free surface algorithm for geodynamical simulations.*** *Physics of the Earth and Planetary Interiors, 194, 25-37.*\n"
   ]
  },
  {
   "cell_type": "markdown",
   "id": "51d0d96c",
   "metadata": {},
   "source": [
    "This example\n",
    "------------\n",
    "\n",
    "We are going to extend the basic mantle dynamics problem from Blankenbach et al.\n",
    "(1989) to include a free surface on the top.\n",
    "\n",
    "As with all examples, the first step is to import the gadopt module, which\n",
    "provides access to Firedrake and associated functionality."
   ]
  },
  {
   "cell_type": "code",
   "execution_count": null,
   "id": "be49741f",
   "metadata": {},
   "outputs": [],
   "source": [
    "try:\n",
    "    from gadopt import *\n",
    "except ImportError:\n",
    "    !wget \"https://fem-on-colab.github.io/releases/firedrake-install-real.sh\" -O \"/tmp/firedrake-install.sh\" && bash \"/tmp/firedrake-install.sh\"\n",
    "    !pip install gadopt[demos]\n",
    "    from gadopt import *"
   ]
  },
  {
   "cell_type": "markdown",
   "id": "b2eb68e9",
   "metadata": {},
   "source": [
    "For Google Colab specifically, we'll also set up plotting with PyVista."
   ]
  },
  {
   "cell_type": "code",
   "execution_count": null,
   "id": "bcfbd75f",
   "metadata": {},
   "outputs": [],
   "source": [
    "import pyvista as pv\n",
    "pv.set_jupyter_backend(\"static\")\n",
    "pv.global_theme.notebook = True\n",
    "py.start_xvfb()"
   ]
  },
  {
   "cell_type": "code",
   "execution_count": null,
   "id": "7cdee133",
   "metadata": {},
   "outputs": [],
   "source": [
    "# Next we define a mesh using the same geometry and grid resolution as the\n",
    "# first tutorial.\n",
    "\n",
    "nx, ny = 40, 40  # Number of cells in x and y directions.\n",
    "mesh = UnitSquareMesh(nx, ny, quadrilateral=True)  # Square mesh generated via firedrake\n",
    "mesh.cartesian = True\n",
    "left_id, right_id, bottom_id, top_id = 1, 2, 3, 4  # Boundary IDs"
   ]
  },
  {
   "cell_type": "markdown",
   "id": "ebd3ef97",
   "metadata": {},
   "source": [
    "Now we set up the function spaces. As before we use Q2 and Q1 for the velocity\n",
    "and pressure fields, along with Q2 for the temperature field. The key difference\n",
    "is that we now have an additional variable to solve for: the free surface height, $\\eta$!\n",
    "\n",
    "Since we are solving for $\\eta$ at the new timestep implicitly, i.e. at the same time as\n",
    "solving for velocity and pressure, we need to expand the mixed function space to include\n",
    "the free surface function space. Since the free surface height acts as a\n",
    "boundary condition on the pressure we will use Q1 to discretise the free surface."
   ]
  },
  {
   "cell_type": "code",
   "execution_count": null,
   "id": "5a7610fb",
   "metadata": {},
   "outputs": [],
   "source": [
    "V = VectorFunctionSpace(mesh, \"CG\", 2)  # Velocity function space (vector)\n",
    "W = FunctionSpace(mesh, \"CG\", 1)  # Pressure and free surface function space (scalar)\n",
    "Q = FunctionSpace(mesh, \"CG\", 2)  # Temperature function space (scalar)\n",
    "Z = MixedFunctionSpace([V, W, W])  # Mixed function space for velocity, pressure and eta."
   ]
  },
  {
   "cell_type": "code",
   "execution_count": null,
   "id": "75f1ab81",
   "metadata": {},
   "outputs": [],
   "source": [
    "z = Function(Z)  # A field over the mixed function space Z.\n",
    "u, p, eta = split(z)  # Returns symbolic UFL expression for u, p and eta\n",
    "z.subfunctions[0].rename(\"Velocity\")\n",
    "z.subfunctions[1].rename(\"Pressure\")\n",
    "z.subfunctions[2].rename(\"eta\")"
   ]
  },
  {
   "cell_type": "markdown",
   "id": "f5371840",
   "metadata": {},
   "source": [
    "As with the base case we specify the Boussinesq approximation and the Rayleigh\n",
    "number for the simulation."
   ]
  },
  {
   "cell_type": "code",
   "execution_count": null,
   "id": "8d3be648",
   "metadata": {},
   "outputs": [],
   "source": [
    "Ra = Constant(1e4)  # Rayleigh number\n",
    "approximation = BoussinesqApproximation(Ra)"
   ]
  },
  {
   "cell_type": "markdown",
   "id": "5ee68739",
   "metadata": {},
   "source": [
    "We also specify a timestep adaptor as before."
   ]
  },
  {
   "cell_type": "code",
   "execution_count": null,
   "id": "883f835b",
   "metadata": {},
   "outputs": [],
   "source": [
    "time = 0.0  # Initial time\n",
    "delta_t = Constant(1e-6)  # Initial time-step\n",
    "timesteps = 20000  # Maximum number of timesteps\n",
    "t_adapt = TimestepAdaptor(delta_t, u, V, maximum_timestep=0.1, increase_tolerance=1.5)\n",
    "steady_state_tolerance = 1e-9"
   ]
  },
  {
   "cell_type": "markdown",
   "id": "dfd43779",
   "metadata": {},
   "source": [
    "We set up the initial conditions for the temperature field."
   ]
  },
  {
   "cell_type": "code",
   "execution_count": null,
   "id": "08c16313",
   "metadata": {},
   "outputs": [],
   "source": [
    "X = SpatialCoordinate(mesh)\n",
    "T = Function(Q, name=\"Temperature\")\n",
    "T.interpolate((1.0 - X[1]) + (0.05 * cos(pi * X[0]) * sin(pi * X[1])))"
   ]
  },
  {
   "cell_type": "markdown",
   "id": "e35f49eb",
   "metadata": {},
   "source": [
    "As we are applying a free surface boundary condition on the top surface\n",
    "there is now a constraint on pressure. This means the solution for pressure\n",
    "does not contain a nullspace, so we can skip the step of creating a nullspace object."
   ]
  },
  {
   "cell_type": "markdown",
   "id": "75e1a727",
   "metadata": {},
   "source": [
    "Next we define the boundary conditions. As before we set no normal flow\n",
    "on the bottom and sides of the box using strong Dirichlet boundary conditions.\n",
    "\n",
    "However, on the top of the box we specify a free surface using a keyword argument.\n",
    "Since this is a nondimensional simulation we specify a free surface Rayleigh number,\n",
    "$$Ra_{FS} = Ra B_{fs}, $$\n",
    "where the Rayleigh number is given by\n",
    "$$Ra = \\frac{\\rho_0 \\alpha \\Delta T gd^3}{\\mu \\kappa} $$\n",
    "where $\\rho_0$ is the reference density, $\\alpha$ is the thermal expansion coefficient, $\\Delta T$ is a characteristic change in temperature across the mantle, $g$ is gravitational acceleration, $d$ is the characteristic length scale used during non dimensionalisation, $\\mu$ is the Dynamic viscosity and $\\kappa$ is the thermal diffusivity.\n",
    "\n",
    "The free surface buoyancy number is given by\n",
    "$$B_{fs} = \\frac{\\Delta \\rho_{0FS}}{\\rho_0 \\alpha \\Delta T} ,$$\n",
    "where $\\Delta \\rho_{0FS} = \\rho_0 - \\rho_{ext}$, i.e. the density difference between the reference density and the exterior density.\n",
    "\n",
    "Simplifying,\n",
    "$$Ra_{FS} = \\frac{\\Delta \\rho_{0FS}gd^3}{\\mu \\kappa},$$\n",
    "\n",
    "Typically, when the exterior density is negligbile compared with the interior density (i.e. air vs rock!) and with $\\alpha$ = 3x10$^{-5}$ K$^{-1}$ and $\\Delta T$ = 3000 K, $B_{fs}$ is about 10. For dimensional simulations you can specify the density contrast across the free surface with *delta_rho_fs* through the free surface dictionary, as well as providing $\\rho_0$ and $g$ through the approximation object in the usual way."
   ]
  },
  {
   "cell_type": "code",
   "execution_count": null,
   "id": "b9ef0fac",
   "metadata": {},
   "outputs": [],
   "source": [
    "Bfs = 10.  # Free surface buoyancy number\n",
    "\n",
    "stokes_bcs = {\n",
    "    bottom_id: {\"uy\": 0},\n",
    "    top_id: {\"free_surface\": {\"RaFS\": Ra*Bfs}},\n",
    "    left_id: {\"ux\": 0},\n",
    "    right_id: {\"ux\": 0},\n",
    "}\n",
    "\n",
    "temp_bcs = {\n",
    "    bottom_id: {\"T\": 1.0},\n",
    "    top_id: {\"T\": 0.0},\n",
    "}"
   ]
  },
  {
   "cell_type": "markdown",
   "id": "7fb912e8",
   "metadata": {},
   "source": [
    "Let's setup some output files."
   ]
  },
  {
   "cell_type": "code",
   "execution_count": null,
   "id": "76878290",
   "metadata": {},
   "outputs": [],
   "source": [
    "output_file = VTKFile(\"output.pvd\")\n",
    "output_frequency = 10\n",
    "\n",
    "plog = ParameterLog(\"params.log\", mesh)\n",
    "plog.log_str(\n",
    "    \"timestep time dt maxchange u_rms u_rms_surf ux_max nu_top nu_base energy avg_t eta_min eta_max\"\n",
    ")\n",
    "\n",
    "gd = GeodynamicalDiagnostics(z, T, bottom_id, top_id)"
   ]
  },
  {
   "cell_type": "markdown",
   "id": "b7d9df60",
   "metadata": {},
   "source": [
    "Now let's setup the solver objects.\n",
    "\n",
    "First of all, as the Stokes equation now includes a time dependent\n",
    "boundary condition we need to pass the timestep to the Stokes solver.\n",
    "\n",
    "Also it is important to make sure that the *constant_jacobian* option is switched to *False* if the\n",
    "free surface is used in combination with adaptive timestepping! For the base case we\n",
    "can make the simulation a bit faster by only building the Stokes block matrix associated\n",
    "with the LHS of the Stokes equations at the first timestep, because none of the prefactors\n",
    "change in time. However, the timestep appears on the LHS of the equations when the free\n",
    "surface is activated, so we need to reassamble this block matrix at each timestep if we use an adapative timestepping method."
   ]
  },
  {
   "cell_type": "code",
   "execution_count": null,
   "id": "602d64dc",
   "metadata": {},
   "outputs": [],
   "source": [
    "energy_solver = EnergySolver(\n",
    "    T, u, approximation, delta_t, ImplicitMidpoint, bcs=temp_bcs\n",
    ")\n",
    "\n",
    "stokes_solver = StokesSolver(\n",
    "    z, T, approximation, bcs=stokes_bcs, constant_jacobian=False, free_surface_dt=delta_t\n",
    ")\n"
   ]
  },
  {
   "cell_type": "markdown",
   "id": "1adef7f2",
   "metadata": {},
   "source": [
    "Now let's run the simulation!"
   ]
  },
  {
   "cell_type": "code",
   "execution_count": null,
   "id": "d4629b5c",
   "metadata": {},
   "outputs": [],
   "source": [
    "for timestep in range(0, timesteps):\n",
    "    # Write output:\n",
    "    if timestep % output_frequency == 0:\n",
    "        output_file.write(*z.subfunctions, T)\n",
    "\n",
    "    dt = t_adapt.update_timestep()\n",
    "    time += dt\n",
    "\n",
    "    # Solve Stokes sytem:\n",
    "    stokes_solver.solve()\n",
    "\n",
    "    # Temperature system:\n",
    "    energy_solver.solve()\n",
    "\n",
    "    # Compute diagnostics:\n",
    "    energy_conservation = abs(abs(gd.Nu_top()) - abs(gd.Nu_bottom()))\n",
    "\n",
    "    # Calculate L2-norm of change in temperature:\n",
    "    maxchange = sqrt(assemble((T - energy_solver.T_old) ** 2 * dx))\n",
    "\n",
    "    # Log diagnostics:\n",
    "    plog.log_str(\n",
    "        f\"{timestep} {time} {float(delta_t)} {maxchange} \"\n",
    "        f\"{gd.u_rms()} {gd.u_rms_top()} {gd.ux_max(top_id)} {gd.Nu_top()} \"\n",
    "        f\"{gd.Nu_bottom()} {energy_conservation} {gd.T_avg()} \"\n",
    "        f\"{z.subfunctions[2].dat.data.min()} {z.subfunctions[2].dat.data.max()}\"\n",
    "    )\n",
    "\n",
    "    # Leave if steady-state has been achieved:\n",
    "    if maxchange < steady_state_tolerance:\n",
    "        log(\"Steady-state achieved -- exiting time-step loop\")\n",
    "        break"
   ]
  },
  {
   "cell_type": "markdown",
   "id": "adca7a31",
   "metadata": {},
   "source": [
    "At the end of the simulation, once a steady-state has been achieved, we close our logging file\n",
    "and checkpoint steady state temperature and Stokes solution fields to disk. These can later be\n",
    "used to restart a simulation, if required."
   ]
  },
  {
   "cell_type": "code",
   "execution_count": null,
   "id": "41d1d2e2",
   "metadata": {},
   "outputs": [],
   "source": [
    "plog.close()\n",
    "\n",
    "with CheckpointFile(\"Final_State.h5\", \"w\") as final_checkpoint:\n",
    "    final_checkpoint.save_mesh(mesh)\n",
    "    final_checkpoint.save_function(T, name=\"Temperature\")\n",
    "    final_checkpoint.save_function(z, name=\"Stokes\")"
   ]
  },
  {
   "cell_type": "markdown",
   "id": "b1ec8439",
   "metadata": {},
   "source": [
    "Let's use the python package **PyVista** to plot the temperature field through time. We will use the calculated free surface height to artifically scale the mesh in the vertical direction. We have exaggerated the vertical stretching by a factor of 1.5, **BUT...** it is important to remember this is just for ease of visualisation - the mesh is not moving in reality!"
   ]
  },
  {
   "cell_type": "code",
   "execution_count": null,
   "id": "2c0cdd30",
   "metadata": {
    "tags": [
     "active-ipynb"
    ]
   },
   "outputs": [],
   "source": [
    "import matplotlib.pyplot as plt\n",
    "import pyvista as pv\n",
    "\n",
    "# Read the PVD file\n",
    "reader = pv.get_reader(\"output.pvd\")\n",
    "data = reader.read()[0]  # MultiBlock mesh with only 1 block\n",
    "\n",
    "# Create a plotter object\n",
    "plotter = pv.Plotter(shape=(1, 1), border=False, notebook=True, off_screen=False)\n",
    "\n",
    "# Open a gif\n",
    "plotter.open_gif(\"temperature_warp.gif\")\n",
    "\n",
    "# Make a colour map\n",
    "boring_cmap = plt.get_cmap(\"coolwarm\", 25)\n",
    "\n",
    "for i in range(len(reader.time_values)):\n",
    "    reader.set_active_time_point(i)\n",
    "    data = reader.read()[0]\n",
    "\n",
    "    # Artificially warp the output data in the vertical direction by the free surface height\n",
    "    warped = data.warp_by_scalar(scalars=\"eta\", normal=(0, 1, 0), factor=1.5)\n",
    "\n",
    "    # Add the warped temperature field to the frame\n",
    "    plotter.add_mesh(\n",
    "        warped,\n",
    "        scalars=\"Temperature\",\n",
    "        lighting=False,\n",
    "        show_edges=False,\n",
    "        clim=[0, 1],\n",
    "        cmap=boring_cmap,\n",
    "        scalar_bar_args={\"position_x\": 0.2, \"position_y\": 0.05}\n",
    "    )\n",
    "    arrows = data.glyph(orient=\"Velocity\", scale=\"Velocity\", factor=0.001, tolerance=0.05)\n",
    "    plotter.add_mesh(arrows, color=\"black\")\n",
    "    # Centre camera on xy plane and write frame\n",
    "    plotter.camera_position = \"xy\"\n",
    "    plotter.write_frame()\n",
    "    plotter.clear()\n",
    "\n",
    "# Closes and finalizes movie\n",
    "plotter.close()"
   ]
  },
  {
   "cell_type": "markdown",
   "id": "92eec610",
   "metadata": {},
   "source": [
    "![SegmentLocal](temperature_warp.gif \"segment\")"
   ]
  },
  {
   "cell_type": "markdown",
   "id": "01fb9c3b",
   "metadata": {},
   "source": [
    "As before with the base case, the buoyancy differences due to the starting temperature configuration drives an overturning flow. You should see that the temperature field at the final time is very similar to the base case result - in fact they are the same!\n",
    "\n",
    "Given this problem reaches a steady state adding a free surface should not change that behaviour, it will just change how the simulation reaches that steady state. We can see that the free surface has been pushed up above regions of hotter mantle, where thermal convection is driving positive vertical flow and is sinking where there is colder mantle below, which all makes intuitive sense.\n",
    "\n"
   ]
  },
  {
   "cell_type": "markdown",
   "id": "5fc9680f",
   "metadata": {},
   "source": [
    "We can even verify that the stress exerted by the deviation of the free surface from the reference state is the same as the when calculating dynamic topography from a free-slip simulation. As a recap the free surface normal boundary condition is\n",
    "\n",
    "\\begin{equation}\n",
    "      \\textbf{n} \\cdot \\boldsymbol{\\sigma }' \\cdot \\textbf{n}  = - \\Delta\\rho_{FS} g \\eta.\n",
    "\\end{equation}\n",
    "\n",
    "In 2D, on the top surface, this simplifies to\n",
    "\\begin{equation}\n",
    "     -p'  + 2\\mu \\frac{\\partial v}{\\partial y }  = - \\Delta\\rho_{FS} g \\eta.\n",
    "\\end{equation}\n",
    "\n",
    "For a nondimensional simulation this simplifies to\n",
    "\\begin{equation}\n",
    "     -p_{\\star}'  + 2 \\frac{\\partial v_{\\star}}{\\partial y_{\\star} }  = - Ra_{FS} \\eta_{\\star}+ Ra T_{\\star}   \\eta_{\\star},\n",
    "\\end{equation}\n",
    "where $\\star$ indicates a nondimensional variable. Rearranging, our expected dynamic topography at steady state would be\n",
    "\\begin{equation}\n",
    "     \\eta_{\\star} = \\dfrac{-p_{\\star}'  + 2 \\frac{\\partial v_{\\star}}{\\partial y_{\\star} }}{ Ra T_{\\star}- Ra_{FS} }.\n",
    "\\end{equation}"
   ]
  },
  {
   "cell_type": "markdown",
   "id": "17e3afa8",
   "metadata": {},
   "source": [
    "First let's load the final state from the base case and calculate the expected dynamic topography with the code below."
   ]
  },
  {
   "cell_type": "code",
   "execution_count": null,
   "id": "362160bc",
   "metadata": {
    "tags": [
     "active-ipynb"
    ]
   },
   "outputs": [],
   "source": [
    "# load velocity and pressure from final state of the base case run (from a simulation we saved earlier!).\n",
    "with CheckpointFile(\"../base_case/Final_State.h5\", \"r\") as f:\n",
    "    mesh_base = f.load_mesh()\n",
    "    z_base = f.load_function(mesh_base, \"Stokes\")\n",
    "    T_base = f.load_function(mesh_base, \"Temperature\")\n",
    "\n",
    "# Create a P1 functionspace on the mesh used for the base case simulation\n",
    "W_base = FunctionSpace(mesh_base, \"CG\", 1)\n",
    "\n",
    "# Store the dynamic topography calculated from the stress on the top\n",
    "# surface after running the base case to steady state\n",
    "eta_base_steady = Function(W_base, name=\"final_eta_base\")\n",
    "eta_base_steady.interpolate((-z_base.subfunctions[1] + 2 * Dx(z_base.subfunctions[0][1], 1))/(Ra*T_base-Ra*10))\n",
    "\n",
    "# project out the constant associated with the pressure nullspace for the base case as all boundaries are closed\n",
    "coef = assemble(eta_base_steady * ds(top_id))/assemble(Constant(1.0)*ds(top_id, domain=mesh_base))\n",
    "eta_base_steady.project(eta_base_steady - coef)\n",
    "\n",
    "# Interpolate the base case dynamic topography field onto the original mesh for plotting\n",
    "eta_steady_original = assemble(interpolate(eta_base_steady, W))\n",
    "eta_steady_original.rename(\"final_eta_base\")\n",
    "\n",
    "# Write out combined eta and base case dynamic topography file\n",
    "combined_eta_file = VTKFile(\"combined_eta.pvd\")\n",
    "combined_eta_file.write(z.subfunctions[2], eta_steady_original)\n",
    "\n",
    "# Read combined eta file\n",
    "eta_reader = pv.get_reader(\"combined_eta.pvd\")\n",
    "data_eta = eta_reader.read()[0]\n",
    "\n",
    "# Sample the combined eta file along the top surface of the mesh\n",
    "a = [0, 1, 0]  # Top left corner of domain\n",
    "b = [1, 1, 0]  # Top right corner of domain\n",
    "data_eta_array = data_eta.sample_over_line(\n",
    "    a,\n",
    "    b,\n",
    "    resolution=100)\n",
    "\n",
    "# Plot the final free surface height with the dynamic topo calculated from running base case to steady state\n",
    "plt.figure()\n",
    "x = np.linspace(0,1,num=101)\n",
    "plt.plot(x, data_eta_array[\"eta\"], label=\"Free surface simulation\")\n",
    "plt.plot(x, data_eta_array[\"final_eta_base\"], label=\"Dynamic topography running base case to steady state\")\n",
    "plt.xlabel(\"x\")\n",
    "plt.ylabel(\"Nondimensional free surface height\")\n",
    "plt.legend()\n",
    "plt.show()"
   ]
  },
  {
   "cell_type": "markdown",
   "id": "987db8e1",
   "metadata": {},
   "source": [
    "As you can see this matches the final free surface height that our example converges towards.\n",
    "\n",
    "A final point for this tutorial is that more rigorous tests check the order of convergence to an analytical solution as the timestep or gridsize are refined. The interested reader can take a look at the free surface test directory where we have confirmed this behaviour for a number of test cases (including top and bottom free surfaces) from Kramer et al. (2012)."
   ]
  }
 ],
 "metadata": {
  "jupytext": {
   "cell_metadata_filter": "tags,-all",
   "main_language": "python",
   "notebook_metadata_filter": "-all"
  }
 },
 "nbformat": 4,
 "nbformat_minor": 5
}

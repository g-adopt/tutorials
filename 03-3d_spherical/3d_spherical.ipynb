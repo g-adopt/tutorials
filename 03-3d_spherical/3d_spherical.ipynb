{
 "cells": [
  {
   "cell_type": "markdown",
   "id": "4f41d9c1",
   "metadata": {},
   "source": [
    "Idealised 3-D spherical mantle convection.\n",
    "==========================================\n",
    "\n",
    "In this tutorial, we analyse a case in a 3-D spherical shell geometry.  We examine a well-known isoviscous community benchmark case,\n",
    "at a Rayleigh number of $Ra = 7 \\times 10^{3}$, with free-slip velocity boundary conditions at both boundaries. Temperature boundary conditions are set to 1\n",
    "at the base of the domain ($r_{\\text{min}} = 1.22$) and 0 at the surface ($r_{\\text{max}}=2.22$), with the initial temperature\n",
    "distribution approximating a conductive profile with superimposed perturbations triggering tetrahedral symmetry at spherical harmonic\n",
    "degree $l=3$ and order $m=2$ (for further details, see Zhong et al. 2008, or Davies et al. 2022).\n",
    "\n",
    "This example focusses on differences between running simulations in a 2-D annulus and a 3-D sphere. These are\n",
    "1. The geometry of the problem - i.e. the computational mesh.\n",
    "2. Initialisation of the temperature field in a different domain.\n",
    "\n",
    "The first step is to import the gadopt module, which\n",
    "provides access to Firedrake and associated functionality.\n",
    "We also import scipy.special and math, required to generate our initial condition for temperature."
   ]
  },
  {
   "cell_type": "code",
   "execution_count": null,
   "id": "5c2abdd8",
   "metadata": {},
   "outputs": [],
   "source": [
    "try:\n",
    "    from gadopt import *\n",
    "except ImportError:\n",
    "    !wget \"https://fem-on-colab.github.io/releases/firedrake-install-real.sh\" -O \"/tmp/firedrake-install.sh\" && bash \"/tmp/firedrake-install.sh\"\n",
    "    !pip install gadopt[demos]\n",
    "    from gadopt import *\n",
    "import scipy.special\n",
    "import math"
   ]
  },
  {
   "cell_type": "markdown",
   "id": "07f2f9a1",
   "metadata": {},
   "source": [
    "We next set up the mesh, function spaces, and specify functions to hold our solutions,\n",
    "as with our previous tutorials. For the mesh, we use Firedrake's built-in *CubedSphereMesh* and extrude it radially through\n",
    "8 layers, forming hexahedral elements. As with our cylindrical shell example, we approximate the curved spherical domain quadratically,\n",
    "using the optional keyword argument *degree$=2$*.\n",
    "Because this problem is not formulated in a Cartesian geometry, we set the `mesh.cartesian`\n",
    "attribute to False. This ensures the correct configuration of a radially inward vertical direction."
   ]
  },
  {
   "cell_type": "code",
   "execution_count": null,
   "id": "64809180",
   "metadata": {},
   "outputs": [],
   "source": [
    "rmin, rmax, ref_level, nlayers = 1.208, 2.208, 4, 8\n",
    "\n",
    "mesh2d = CubedSphereMesh(rmin, refinement_level=ref_level, degree=2)\n",
    "mesh = ExtrudedMesh(mesh2d, layers=nlayers, extrusion_type='radial')\n",
    "mesh.cartesian = False\n",
    "bottom_id, top_id = \"bottom\", \"top\"\n",
    "domain_volume = assemble(1*dx(domain=mesh))  # Required for a diagnostic calculation.\n",
    "\n",
    "V = VectorFunctionSpace(mesh, \"CG\", 2)  # Velocity function space (vector)\n",
    "W = FunctionSpace(mesh, \"CG\", 1)  # Pressure function space (scalar)\n",
    "Q = FunctionSpace(mesh, \"CG\", 2)  # Temperature function space (scalar)\n",
    "Z = MixedFunctionSpace([V, W])  # Mixed function space.\n",
    "\n",
    "z = Function(Z)  # A field over the mixed function space Z.\n",
    "u, p = split(z)  # Returns symbolic UFL expression for u and p\n",
    "z.subfunctions[0].rename(\"Velocity\")\n",
    "z.subfunctions[1].rename(\"Pressure\")"
   ]
  },
  {
   "cell_type": "markdown",
   "id": "c985f2b4",
   "metadata": {},
   "source": [
    "We next specify the important constants for this problem, and set up the approximation."
   ]
  },
  {
   "cell_type": "code",
   "execution_count": null,
   "id": "4ad7d47b",
   "metadata": {},
   "outputs": [],
   "source": [
    "Ra = Constant(7e3)  # Rayleigh number\n",
    "approximation = BoussinesqApproximation(Ra)"
   ]
  },
  {
   "cell_type": "markdown",
   "id": "b5e63b93",
   "metadata": {},
   "source": [
    "As with the previous examples, we set up a *Timestep Adaptor*,\n",
    "for controlling the time-step length (via a CFL\n",
    "criterion) as the simulation advances in time. For the latter,\n",
    "we specify the initial time, initial timestep $\\Delta t$, and number of\n",
    "timesteps. Given the low Rayleigh number, a steady-state tolerance is also specified,\n",
    "allowing the simulation to exit when a steady-state has been achieved."
   ]
  },
  {
   "cell_type": "code",
   "execution_count": null,
   "id": "3c4a6cab",
   "metadata": {},
   "outputs": [],
   "source": [
    "time = 0.0  # Initial time\n",
    "delta_t = Constant(1e-6)  # Initial time-step\n",
    "timesteps = 20  # Maximum number of timesteps\n",
    "t_adapt = TimestepAdaptor(delta_t, u, V, maximum_timestep=0.1, increase_tolerance=1.5)\n",
    "steady_state_tolerance = 1e-6  # Used to determine if solution has reached a steady state."
   ]
  },
  {
   "cell_type": "markdown",
   "id": "277469dc",
   "metadata": {},
   "source": [
    "We next set up and initialise our Temperature field, and also specify two fields for computing\n",
    "lateral deviations from a radial layer average."
   ]
  },
  {
   "cell_type": "code",
   "execution_count": null,
   "id": "9f1d923f",
   "metadata": {},
   "outputs": [],
   "source": [
    "X = SpatialCoordinate(mesh)\n",
    "r = sqrt(X[0]**2 + X[1]**2 + X[2]**2)\n",
    "theta = atan2(X[1], X[0])  # Theta (longitude - different symbol to Zhong)\n",
    "phi = atan2(sqrt(X[0]**2+X[1]**2), X[2])  # Phi (co-latitude - different symbol to Zhong)\n",
    "\n",
    "conductive_term = rmin*(rmax - r) / (r*(rmax - rmin))\n",
    "l, m, eps_c, eps_s = 3, 2, 0.01, 0.01\n",
    "Plm = Function(Q, name=\"P_lm\")\n",
    "cos_phi = Function(Q).interpolate(cos(phi))\n",
    "Plm.dat.data[:] = scipy.special.lpmv(m, l, cos_phi.dat.data_ro)  # Evaluate P_lm node-wise using scipy lpmv\n",
    "Plm.assign(Plm*math.sqrt(((2*l+1)*math.factorial(l-m))/(2*math.pi*math.factorial(l+m))))\n",
    "if m == 0:\n",
    "    Plm.assign(Plm/math.sqrt(2))\n",
    "\n",
    "T = (\n",
    "    Function(Q, name=\"Temperature\")\n",
    "    .interpolate(\n",
    "        conductive_term +\n",
    "        (eps_c*cos(m*theta) + eps_s*sin(m*theta)) * Plm * sin(pi*(r - rmin)/(rmax-rmin))\n",
    "    )\n",
    ")\n",
    "\n",
    "T_avg = Function(Q, name=\"Layer_Averaged_Temp\")\n",
    "T_dev = Function(Q, name=\"Temperature_Deviation\")"
   ]
  },
  {
   "cell_type": "markdown",
   "id": "97a57841",
   "metadata": {},
   "source": [
    "Compute layer average for initial temperature field, using the LayerAveraging functionality provided by G-ADOPT."
   ]
  },
  {
   "cell_type": "code",
   "execution_count": null,
   "id": "51355e59",
   "metadata": {},
   "outputs": [],
   "source": [
    "averager = LayerAveraging(mesh, quad_degree=6)\n",
    "averager.extrapolate_layer_average(T_avg, averager.get_layer_average(T))"
   ]
  },
  {
   "cell_type": "markdown",
   "id": "c3779c82",
   "metadata": {},
   "source": [
    "Nullspaces and near-nullspace objects are next set up,"
   ]
  },
  {
   "cell_type": "code",
   "execution_count": null,
   "id": "58fa69bd",
   "metadata": {},
   "outputs": [],
   "source": [
    "Z_nullspace = create_stokes_nullspace(Z, closed=True, rotational=True)\n",
    "Z_near_nullspace = create_stokes_nullspace(Z, closed=False, rotational=True, translations=[0, 1, 2])"
   ]
  },
  {
   "cell_type": "markdown",
   "id": "acf4f915",
   "metadata": {},
   "source": [
    "Followed by boundary conditions for velocity and temperature."
   ]
  },
  {
   "cell_type": "code",
   "execution_count": null,
   "id": "c5bf9b05",
   "metadata": {},
   "outputs": [],
   "source": [
    "stokes_bcs = {\n",
    "    bottom_id: {'un': 0},\n",
    "    top_id: {'un': 0},\n",
    "}\n",
    "\n",
    "temp_bcs = {\n",
    "    bottom_id: {'T': 1.0},\n",
    "    top_id: {'T': 0.0},\n",
    "}"
   ]
  },
  {
   "cell_type": "markdown",
   "id": "0d36f2c7",
   "metadata": {},
   "source": [
    "We next setup our output, in VTK format.\n",
    "We also open a file for logging and set up our diagnostic outputs."
   ]
  },
  {
   "cell_type": "code",
   "execution_count": null,
   "id": "9ff1b062",
   "metadata": {},
   "outputs": [],
   "source": [
    "output_file = VTKFile(\"output.pvd\")\n",
    "output_frequency = 1\n",
    "\n",
    "plog = ParameterLog('params.log', mesh)\n",
    "plog.log_str(\"timestep time dt maxchange u_rms nu_top nu_base energy avg_t t_dev_avg\")\n",
    "\n",
    "gd = GeodynamicalDiagnostics(z, T, bottom_id, top_id, quad_degree=6)"
   ]
  },
  {
   "cell_type": "markdown",
   "id": "3ab103f2",
   "metadata": {},
   "source": [
    "We can now setup and solve the variational problem, for both the energy and Stokes equations,\n",
    "passing in the approximation, nullspace and near-nullspace information configured above."
   ]
  },
  {
   "cell_type": "code",
   "execution_count": null,
   "id": "888383da",
   "metadata": {},
   "outputs": [],
   "source": [
    "energy_solver = EnergySolver(T, u, approximation, delta_t, ImplicitMidpoint, bcs=temp_bcs)\n",
    "\n",
    "stokes_solver = StokesSolver(z, T, approximation, bcs=stokes_bcs,\n",
    "                             constant_jacobian=True,\n",
    "                             nullspace=Z_nullspace, transpose_nullspace=Z_nullspace,\n",
    "                             near_nullspace=Z_near_nullspace)"
   ]
  },
  {
   "cell_type": "markdown",
   "id": "fb58ee0a",
   "metadata": {},
   "source": [
    "We now initiate the time loop, which runs until a steady-state solution has been attained."
   ]
  },
  {
   "cell_type": "code",
   "execution_count": null,
   "id": "1156cbf6",
   "metadata": {},
   "outputs": [],
   "source": [
    "for timestep in range(0, timesteps):\n",
    "\n",
    "    # Write output:\n",
    "    if timestep % output_frequency == 0:\n",
    "        # Compute radially averaged temperature profile as simulation evolves.\n",
    "        averager.extrapolate_layer_average(T_avg, averager.get_layer_average(T))\n",
    "        # Compute deviation from layer average\n",
    "        T_dev.assign(T-T_avg)\n",
    "        output_file.write(*z.subfunctions, T, T_dev)\n",
    "\n",
    "    if timestep != 0:\n",
    "        dt = t_adapt.update_timestep()\n",
    "    else:\n",
    "        dt = float(delta_t)\n",
    "    time += dt\n",
    "\n",
    "    # Solve Stokes sytem:\n",
    "    stokes_solver.solve()\n",
    "\n",
    "    # Temperature system:\n",
    "    energy_solver.solve()\n",
    "\n",
    "    # Compute diagnostics:\n",
    "    nusselt_number_top = gd.Nu_top() * (rmax*(rmin-rmax)/rmin) * -1.\n",
    "    nusselt_number_base = gd.Nu_bottom() * (rmin*(rmax-rmin)/rmax)\n",
    "    energy_conservation = abs(abs(nusselt_number_top) - abs(nusselt_number_base))\n",
    "    T_dev_avg = assemble(T_dev * dx) / domain_volume\n",
    "\n",
    "    # Calculate L2-norm of change in temperature:\n",
    "    maxchange = sqrt(assemble((T - energy_solver.T_old)**2 * dx))\n",
    "\n",
    "    # Log diagnostics:\n",
    "    plog.log_str(f\"{timestep} {time} {float(delta_t)} {maxchange} {gd.u_rms()} \"\n",
    "                 f\"{nusselt_number_top} {nusselt_number_base} \"\n",
    "                 f\"{energy_conservation} {gd.T_avg()} {T_dev_avg} \")\n",
    "\n",
    "    # Leave if steady-state has been achieved:\n",
    "    if maxchange < steady_state_tolerance:\n",
    "        log(\"Steady-state achieved -- exiting time-step loop\")\n",
    "        break"
   ]
  },
  {
   "cell_type": "markdown",
   "id": "260749f2",
   "metadata": {},
   "source": [
    "At the end of the simulation, once a steady-state has been achieved, we close our logging file\n",
    "and checkpoint steady state temperature and Stokes solution fields to disk. These can later be\n",
    "used to restart a simulation, if required."
   ]
  },
  {
   "cell_type": "code",
   "execution_count": null,
   "id": "6c7f4224",
   "metadata": {},
   "outputs": [],
   "source": [
    "plog.close()\n",
    "\n",
    "with CheckpointFile(\"Final_State.h5\", \"w\") as final_checkpoint:\n",
    "    final_checkpoint.save_mesh(mesh)\n",
    "    final_checkpoint.save_function(T, name=\"Temperature\")\n",
    "    final_checkpoint.save_function(z, name=\"Stokes\")"
   ]
  }
 ],
 "metadata": {
  "jupytext": {
   "cell_metadata_filter": "-all",
   "main_language": "python",
   "notebook_metadata_filter": "-all"
  }
 },
 "nbformat": 4,
 "nbformat_minor": 5
}
